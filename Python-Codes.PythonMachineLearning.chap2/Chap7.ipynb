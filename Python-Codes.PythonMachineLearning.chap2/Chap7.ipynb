{
 "cells": [
  {
   "cell_type": "code",
   "execution_count": 1,
   "metadata": {},
   "outputs": [],
   "source": [
    "import warnings\n",
    "warnings.filterwarnings('ignore')"
   ]
  },
  {
   "cell_type": "code",
   "execution_count": 2,
   "metadata": {},
   "outputs": [],
   "source": [
    "from sklearn import datasets \n",
    "from sklearn.model_selection import train_test_split\n",
    "from sklearn.preprocessing import LabelEncoder \n",
    "from sklearn.preprocessing import StandardScaler \n"
   ]
  },
  {
   "cell_type": "code",
   "execution_count": 3,
   "metadata": {},
   "outputs": [],
   "source": [
    "iris = datasets.load_iris() \n",
    "X,y = iris.data[50:,[1,2]] , iris.target[50:] \n",
    "le = LabelEncoder() \n",
    "y = le.fit_transform(y)"
   ]
  },
  {
   "cell_type": "code",
   "execution_count": 4,
   "metadata": {},
   "outputs": [],
   "source": [
    "X_train , X_test , y_train , y_test = train_test_split(X,y,test_size=0.5,random_state=1,stratify=y)"
   ]
  },
  {
   "cell_type": "code",
   "execution_count": 5,
   "metadata": {},
   "outputs": [],
   "source": [
    "#Train on 3 different classifiers \n",
    "from sklearn.model_selection import cross_val_score \n",
    "from sklearn.linear_model import LogisticRegression\n",
    "from sklearn.tree import DecisionTreeClassifier \n",
    "from sklearn.neighbors import KNeighborsClassifier\n",
    "from sklearn.pipeline import Pipeline \n",
    "import numpy as np"
   ]
  },
  {
   "cell_type": "code",
   "execution_count": 10,
   "metadata": {},
   "outputs": [],
   "source": [
    "clf1 = LogisticRegression(penalty='l2',C=0.001,random_state=1)\n",
    "clf2 = DecisionTreeClassifier(max_depth=1,criterion='entropy',random_state=0) \n",
    "clf3 = KNeighborsClassifier(n_neighbors=1,p=2,metric='minkowski')"
   ]
  },
  {
   "cell_type": "code",
   "execution_count": 22,
   "metadata": {},
   "outputs": [
    {
     "name": "stdout",
     "output_type": "stream",
     "text": [
      "10 fold cross validation :\n",
      "\n",
      "ROC AUC : 0.87 (+/- 0.17)[Logistic Regression]\n",
      "ROC AUC : 0.89 (+/- 0.16)[Decision Tree]\n",
      "ROC AUC : 0.88 (+/- 0.15)[KNN]\n"
     ]
    }
   ],
   "source": [
    "pipe1 = Pipeline([('sc',StandardScaler()),('clf',clf1)])\n",
    "pipe3 = Pipeline([('sc',StandardScaler()),('clf',clf3)]) \n",
    "\n",
    "clf_labels = ['Logistic Regression','Decision Tree','KNN'] \n",
    "print('10 fold cross validation :\\n')\n",
    "for clf , label in zip([pipe1,clf2, pipe3],clf_labels):\n",
    "    scores = cross_val_score(estimator=clf,X=X_train,y=y_train,cv=10,scoring='roc_auc')\n",
    "    print(\"ROC AUC : %0.2f (+/- %0.2f)[%s]\" %(scores.mean(),scores.std(),label))"
   ]
  },
  {
   "cell_type": "code",
   "execution_count": 20,
   "metadata": {},
   "outputs": [],
   "source": [
    "import sys\n",
    "from MLAlgo.Ensemble import MajorityVoteClassifier \n"
   ]
  },
  {
   "cell_type": "code",
   "execution_count": 21,
   "metadata": {},
   "outputs": [
    {
     "name": "stdout",
     "output_type": "stream",
     "text": [
      "ROC AUC : 0.87 (+/- 0.17)[Logistic Regression]\n",
      "ROC AUC : 0.89 (+/- 0.16)[Decision Tree]\n",
      "ROC AUC : 0.88 (+/- 0.15)[KNN]\n",
      "ROC AUC : 0.94 (+/- 0.13)[majority voting]\n"
     ]
    }
   ],
   "source": [
    "mv_clf = MajorityVoteClassifier(classifiers=[pipe1,clf2,pipe3]) \n",
    "clf_labels += ['majority voting'] \n",
    "all_clf = [pipe1,clf2 , pipe3,mv_clf]\n",
    "for clf , label in zip(all_clf,clf_labels):\n",
    "    scores = cross_val_score(estimator=clf,X=X_train,y=y_train,cv=10,scoring='roc_auc')\n",
    "    print(\"ROC AUC : %0.2f (+/- %0.2f)[%s]\" %(scores.mean(),scores.std(),label))"
   ]
  },
  {
   "cell_type": "code",
   "execution_count": null,
   "metadata": {},
   "outputs": [],
   "source": []
  }
 ],
 "metadata": {
  "kernelspec": {
   "display_name": "Python 3",
   "language": "python",
   "name": "python3"
  },
  "language_info": {
   "codemirror_mode": {
    "name": "ipython",
    "version": 3
   },
   "file_extension": ".py",
   "mimetype": "text/x-python",
   "name": "python",
   "nbconvert_exporter": "python",
   "pygments_lexer": "ipython3",
   "version": "3.6.8"
  }
 },
 "nbformat": 4,
 "nbformat_minor": 2
}
