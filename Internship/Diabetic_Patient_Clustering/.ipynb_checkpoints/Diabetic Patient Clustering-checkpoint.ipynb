{
 "cells": [
  {
   "cell_type": "markdown",
   "metadata": {},
   "source": [
    "### Sections"
   ]
  },
  {
   "cell_type": "markdown",
   "metadata": {},
   "source": [
    "- [Loading patientLabelNPI.csv](#Loading-patientLabelNPI.csv)\n",
    "- [Loading diabetes_all_claims](#Loading-diabetes_all_claims)\n",
    "- [Merging diabetes_all_claim and patient_Label_npi](#Merging-diabetes_all_claim-and-patient_Label_npi)\n",
    "- [Loading CCS_Codes Description](#Loading-CCS_Codes-Description)\n",
    "- [Making summary of CCS_codes for 9K diabetic patients](#Making-summary-of-CCS_codes-for-9K-diabetic-patients)\n",
    "- [Clustering](#Performing-Clustering-Using-Cosine-Similarity)\n",
    "- [Performance evaluation measures on finalised clusters](#Performance-evaluation-measures-on-finalised-clusters)\n",
    "- [Grouping to see patients in each comm-cluster combination](#Grouping-to-see-patients-in-each-comm-cluster-combination)\n",
    "- [Adding Gender ,Pcal,Average Age information to community cluster](#Adding-Gender-,-Pcal-,-Average-Age-information-to-community-cluster)\n",
    "- [Defining NPI Communities](#Defining-NPI-Communities)\n",
    "- [Adding PQI measurement euid-npi-cluster](#Adding-PQI-measurement-euid-npi-cluster)"
   ]
  },
  {
   "cell_type": "markdown",
   "metadata": {},
   "source": [
    "# Loading patientLabelNPI.csv"
   ]
  },
  {
   "cell_type": "markdown",
   "metadata": {},
   "source": [
    "PatientLabelNPI has the mapping new_euid - comm_npi"
   ]
  },
  {
   "cell_type": "code",
   "execution_count": 2,
   "metadata": {
    "collapsed": true
   },
   "outputs": [],
   "source": [
    "import pandas as pd  \n",
    "import numpy as np \n",
    "import math"
   ]
  },
  {
   "cell_type": "code",
   "execution_count": 3,
   "metadata": {
    "collapsed": false
   },
   "outputs": [],
   "source": [
    "cols=['new_euid','comm_npi']\n",
    "type ={'new_euid':'str','comm_npi':'int64'}\n",
    "patient_label_npi=pd.read_csv(\"../../Data/Diabetic_Patient_Clustering/patientLabelNPI.csv\",usecols=cols,dtype=type)"
   ]
  },
  {
   "cell_type": "code",
   "execution_count": 4,
   "metadata": {
    "collapsed": false
   },
   "outputs": [
    {
     "data": {
      "text/html": [
       "<div>\n",
       "<table border=\"1\" class=\"dataframe\">\n",
       "  <thead>\n",
       "    <tr style=\"text-align: right;\">\n",
       "      <th></th>\n",
       "      <th>new_euid</th>\n",
       "      <th>comm_npi</th>\n",
       "    </tr>\n",
       "  </thead>\n",
       "  <tbody>\n",
       "    <tr>\n",
       "      <th>0</th>\n",
       "      <td>44470</td>\n",
       "      <td>1</td>\n",
       "    </tr>\n",
       "    <tr>\n",
       "      <th>1</th>\n",
       "      <td>498737</td>\n",
       "      <td>6</td>\n",
       "    </tr>\n",
       "    <tr>\n",
       "      <th>2</th>\n",
       "      <td>33055</td>\n",
       "      <td>1</td>\n",
       "    </tr>\n",
       "    <tr>\n",
       "      <th>3</th>\n",
       "      <td>187443</td>\n",
       "      <td>6</td>\n",
       "    </tr>\n",
       "    <tr>\n",
       "      <th>4</th>\n",
       "      <td>118528</td>\n",
       "      <td>1</td>\n",
       "    </tr>\n",
       "  </tbody>\n",
       "</table>\n",
       "</div>"
      ],
      "text/plain": [
       "  new_euid  comm_npi\n",
       "0    44470         1\n",
       "1   498737         6\n",
       "2    33055         1\n",
       "3   187443         6\n",
       "4   118528         1"
      ]
     },
     "execution_count": 4,
     "metadata": {},
     "output_type": "execute_result"
    }
   ],
   "source": [
    "patient_label_npi.head()"
   ]
  },
  {
   "cell_type": "code",
   "execution_count": 5,
   "metadata": {
    "collapsed": false
   },
   "outputs": [
    {
     "data": {
      "text/plain": [
       "comm_npi\n",
       "1    2947\n",
       "2    1882\n",
       "3    2144\n",
       "4     386\n",
       "5     842\n",
       "6     754\n",
       "Name: new_euid, dtype: int64"
      ]
     },
     "execution_count": 5,
     "metadata": {},
     "output_type": "execute_result"
    }
   ],
   "source": [
    "patient_label_npi.groupby(['comm_npi']).new_euid.nunique()"
   ]
  },
  {
   "cell_type": "code",
   "execution_count": 6,
   "metadata": {
    "collapsed": false
   },
   "outputs": [
    {
     "data": {
      "text/plain": [
       "(8955, 2)"
      ]
     },
     "execution_count": 6,
     "metadata": {},
     "output_type": "execute_result"
    }
   ],
   "source": [
    "patient_label_npi.shape "
   ]
  },
  {
   "cell_type": "code",
   "execution_count": 7,
   "metadata": {
    "collapsed": false
   },
   "outputs": [
    {
     "data": {
      "text/plain": [
       "8955"
      ]
     },
     "execution_count": 7,
     "metadata": {},
     "output_type": "execute_result"
    }
   ],
   "source": [
    "#unique patients in patient_Label_npi\n",
    "len(patient_label_npi['new_euid'].unique()) "
   ]
  },
  {
   "cell_type": "code",
   "execution_count": 8,
   "metadata": {
    "collapsed": false
   },
   "outputs": [
    {
     "data": {
      "text/html": [
       "<div>\n",
       "<table border=\"1\" class=\"dataframe\">\n",
       "  <thead>\n",
       "    <tr style=\"text-align: right;\">\n",
       "      <th></th>\n",
       "      <th>new_euid</th>\n",
       "    </tr>\n",
       "    <tr>\n",
       "      <th>new_euid</th>\n",
       "      <th></th>\n",
       "    </tr>\n",
       "  </thead>\n",
       "  <tbody>\n",
       "    <tr>\n",
       "      <th>2</th>\n",
       "      <td>2</td>\n",
       "    </tr>\n",
       "    <tr>\n",
       "      <th>3</th>\n",
       "      <td>20</td>\n",
       "    </tr>\n",
       "    <tr>\n",
       "      <th>4</th>\n",
       "      <td>338</td>\n",
       "    </tr>\n",
       "    <tr>\n",
       "      <th>5</th>\n",
       "      <td>1192</td>\n",
       "    </tr>\n",
       "    <tr>\n",
       "      <th>6</th>\n",
       "      <td>7403</td>\n",
       "    </tr>\n",
       "  </tbody>\n",
       "</table>\n",
       "</div>"
      ],
      "text/plain": [
       "          new_euid\n",
       "new_euid          \n",
       "2                2\n",
       "3               20\n",
       "4              338\n",
       "5             1192\n",
       "6             7403"
      ]
     },
     "execution_count": 8,
     "metadata": {},
     "output_type": "execute_result"
    }
   ],
   "source": [
    "#checking distinct euid length\n",
    "patient_label_npi.groupby(patient_label_npi['new_euid'].str.len()).agg({'new_euid':np.size}) "
   ]
  },
  {
   "cell_type": "code",
   "execution_count": 9,
   "metadata": {
    "collapsed": false
   },
   "outputs": [
    {
     "data": {
      "text/plain": [
       "(0, 1)"
      ]
     },
     "execution_count": 9,
     "metadata": {},
     "output_type": "execute_result"
    }
   ],
   "source": [
    "#checking if a patient (euid) is in more than one community\n",
    "tmp=pd.DataFrame(patient_label_npi.groupby(['new_euid']).comm_npi.nunique())\n",
    "tmp[tmp['comm_npi']>1].shape  \n",
    "#No such patients "
   ]
  },
  {
   "cell_type": "markdown",
   "metadata": {},
   "source": [
    "# Loading diabetes_all_claims"
   ]
  },
  {
   "cell_type": "markdown",
   "metadata": {},
   "source": [
    "diabetes_all_claims has mapping new_euid - ccs codes"
   ]
  },
  {
   "cell_type": "code",
   "execution_count": 10,
   "metadata": {
    "collapsed": false
   },
   "outputs": [],
   "source": [
    "cols=['new_euid','cli_dx1_ccs','cli_dx2_ccs','cli_dx3_ccs','cli_dx4_ccs'] \n",
    "type={'new_euid':'str','cli_dx1_ccs':'str','cli_dx2_ccs':'str','cli_dx3_ccs':'str','cli_dx4_ccs':'str'}\n",
    "diabetes_all_claims=pd.read_csv(\"../../Data/Diabetic_Patient_Clustering/diabetes_all_claims.csv\",usecols=cols,dtype=type)"
   ]
  },
  {
   "cell_type": "code",
   "execution_count": 11,
   "metadata": {
    "collapsed": false
   },
   "outputs": [
    {
     "data": {
      "text/html": [
       "<div>\n",
       "<table border=\"1\" class=\"dataframe\">\n",
       "  <thead>\n",
       "    <tr style=\"text-align: right;\">\n",
       "      <th></th>\n",
       "      <th>new_euid</th>\n",
       "      <th>cli_dx1_ccs</th>\n",
       "      <th>cli_dx2_ccs</th>\n",
       "      <th>cli_dx3_ccs</th>\n",
       "      <th>cli_dx4_ccs</th>\n",
       "    </tr>\n",
       "  </thead>\n",
       "  <tbody>\n",
       "    <tr>\n",
       "      <th>0</th>\n",
       "      <td>0604865</td>\n",
       "      <td>NaN</td>\n",
       "      <td>NaN</td>\n",
       "      <td>NaN</td>\n",
       "      <td>NaN</td>\n",
       "    </tr>\n",
       "    <tr>\n",
       "      <th>1</th>\n",
       "      <td>0604865</td>\n",
       "      <td>NaN</td>\n",
       "      <td>NaN</td>\n",
       "      <td>NaN</td>\n",
       "      <td>NaN</td>\n",
       "    </tr>\n",
       "    <tr>\n",
       "      <th>2</th>\n",
       "      <td>0604865</td>\n",
       "      <td>NaN</td>\n",
       "      <td>NaN</td>\n",
       "      <td>NaN</td>\n",
       "      <td>NaN</td>\n",
       "    </tr>\n",
       "    <tr>\n",
       "      <th>3</th>\n",
       "      <td>0604865</td>\n",
       "      <td>NaN</td>\n",
       "      <td>NaN</td>\n",
       "      <td>NaN</td>\n",
       "      <td>NaN</td>\n",
       "    </tr>\n",
       "    <tr>\n",
       "      <th>4</th>\n",
       "      <td>0604865</td>\n",
       "      <td>NaN</td>\n",
       "      <td>NaN</td>\n",
       "      <td>NaN</td>\n",
       "      <td>NaN</td>\n",
       "    </tr>\n",
       "  </tbody>\n",
       "</table>\n",
       "</div>"
      ],
      "text/plain": [
       "  new_euid cli_dx1_ccs cli_dx2_ccs cli_dx3_ccs cli_dx4_ccs\n",
       "0  0604865         NaN         NaN         NaN         NaN\n",
       "1  0604865         NaN         NaN         NaN         NaN\n",
       "2  0604865         NaN         NaN         NaN         NaN\n",
       "3  0604865         NaN         NaN         NaN         NaN\n",
       "4  0604865         NaN         NaN         NaN         NaN"
      ]
     },
     "execution_count": 11,
     "metadata": {},
     "output_type": "execute_result"
    }
   ],
   "source": [
    "diabetes_all_claims.head() "
   ]
  },
  {
   "cell_type": "code",
   "execution_count": 12,
   "metadata": {
    "collapsed": false
   },
   "outputs": [
    {
     "data": {
      "text/plain": [
       "(790086, 5)"
      ]
     },
     "execution_count": 12,
     "metadata": {},
     "output_type": "execute_result"
    }
   ],
   "source": [
    "#Total Observation\n",
    "diabetes_all_claims.shape"
   ]
  },
  {
   "cell_type": "code",
   "execution_count": 13,
   "metadata": {
    "collapsed": false
   },
   "outputs": [
    {
     "data": {
      "text/plain": [
       "9843"
      ]
     },
     "execution_count": 13,
     "metadata": {},
     "output_type": "execute_result"
    }
   ],
   "source": [
    "#Total unique patients\n",
    "len(diabetes_all_claims['new_euid'].unique()) "
   ]
  },
  {
   "cell_type": "code",
   "execution_count": 14,
   "metadata": {
    "collapsed": false
   },
   "outputs": [
    {
     "data": {
      "text/plain": [
       "new_euid            0\n",
       "cli_dx1_ccs    292966\n",
       "cli_dx2_ccs    617053\n",
       "cli_dx3_ccs    684626\n",
       "cli_dx4_ccs    729090\n",
       "dtype: int64"
      ]
     },
     "execution_count": 14,
     "metadata": {},
     "output_type": "execute_result"
    }
   ],
   "source": [
    "#null observation\n",
    "diabetes_all_claims.isnull().sum() "
   ]
  },
  {
   "cell_type": "code",
   "execution_count": 15,
   "metadata": {
    "collapsed": false
   },
   "outputs": [
    {
     "data": {
      "text/html": [
       "<div>\n",
       "<table border=\"1\" class=\"dataframe\">\n",
       "  <thead>\n",
       "    <tr style=\"text-align: right;\">\n",
       "      <th></th>\n",
       "      <th>new_euid</th>\n",
       "    </tr>\n",
       "    <tr>\n",
       "      <th>new_euid</th>\n",
       "      <th></th>\n",
       "    </tr>\n",
       "  </thead>\n",
       "  <tbody>\n",
       "    <tr>\n",
       "      <th>7</th>\n",
       "      <td>790086</td>\n",
       "    </tr>\n",
       "  </tbody>\n",
       "</table>\n",
       "</div>"
      ],
      "text/plain": [
       "          new_euid\n",
       "new_euid          \n",
       "7           790086"
      ]
     },
     "execution_count": 15,
     "metadata": {},
     "output_type": "execute_result"
    }
   ],
   "source": [
    "#checking size of new_euid length\n",
    "diabetes_all_claims.groupby(diabetes_all_claims['new_euid'].str.len()).agg({'new_euid':np.size}) "
   ]
  },
  {
   "cell_type": "code",
   "execution_count": 16,
   "metadata": {
    "collapsed": true
   },
   "outputs": [],
   "source": [
    "#stripping front 0\n",
    "diabetes_all_claims['new_euid']=diabetes_all_claims['new_euid'].map(lambda x:str(x).lstrip('0'))"
   ]
  },
  {
   "cell_type": "code",
   "execution_count": 17,
   "metadata": {
    "collapsed": false
   },
   "outputs": [
    {
     "data": {
      "text/html": [
       "<div>\n",
       "<table border=\"1\" class=\"dataframe\">\n",
       "  <thead>\n",
       "    <tr style=\"text-align: right;\">\n",
       "      <th></th>\n",
       "      <th>new_euid</th>\n",
       "    </tr>\n",
       "    <tr>\n",
       "      <th>new_euid</th>\n",
       "      <th></th>\n",
       "    </tr>\n",
       "  </thead>\n",
       "  <tbody>\n",
       "    <tr>\n",
       "      <th>2</th>\n",
       "      <td>187</td>\n",
       "    </tr>\n",
       "    <tr>\n",
       "      <th>3</th>\n",
       "      <td>1649</td>\n",
       "    </tr>\n",
       "    <tr>\n",
       "      <th>4</th>\n",
       "      <td>32212</td>\n",
       "    </tr>\n",
       "    <tr>\n",
       "      <th>5</th>\n",
       "      <td>106727</td>\n",
       "    </tr>\n",
       "    <tr>\n",
       "      <th>6</th>\n",
       "      <td>649311</td>\n",
       "    </tr>\n",
       "  </tbody>\n",
       "</table>\n",
       "</div>"
      ],
      "text/plain": [
       "          new_euid\n",
       "new_euid          \n",
       "2              187\n",
       "3             1649\n",
       "4            32212\n",
       "5           106727\n",
       "6           649311"
      ]
     },
     "execution_count": 17,
     "metadata": {},
     "output_type": "execute_result"
    }
   ],
   "source": [
    "#checking size of new_euid length after stripping front 0\n",
    "diabetes_all_claims.groupby(diabetes_all_claims['new_euid'].str.len()).agg({'new_euid':np.size}) "
   ]
  },
  {
   "cell_type": "markdown",
   "metadata": {},
   "source": [
    "# Merging diabetes_all_claim and patient_Label_npi"
   ]
  },
  {
   "cell_type": "markdown",
   "metadata": {},
   "source": [
    "merging both of these files to get the mapping new_euid-comm_npi-ccs codes"
   ]
  },
  {
   "cell_type": "code",
   "execution_count": 18,
   "metadata": {
    "collapsed": true
   },
   "outputs": [],
   "source": [
    "diabetic_patients_comm_ccs=pd.merge(patient_label_npi,diabetes_all_claims) "
   ]
  },
  {
   "cell_type": "code",
   "execution_count": 19,
   "metadata": {
    "collapsed": false
   },
   "outputs": [
    {
     "data": {
      "text/html": [
       "<div>\n",
       "<table border=\"1\" class=\"dataframe\">\n",
       "  <thead>\n",
       "    <tr style=\"text-align: right;\">\n",
       "      <th></th>\n",
       "      <th>new_euid</th>\n",
       "      <th>comm_npi</th>\n",
       "      <th>cli_dx1_ccs</th>\n",
       "      <th>cli_dx2_ccs</th>\n",
       "      <th>cli_dx3_ccs</th>\n",
       "      <th>cli_dx4_ccs</th>\n",
       "    </tr>\n",
       "  </thead>\n",
       "  <tbody>\n",
       "    <tr>\n",
       "      <th>0</th>\n",
       "      <td>44470</td>\n",
       "      <td>1</td>\n",
       "      <td>NaN</td>\n",
       "      <td>NaN</td>\n",
       "      <td>NaN</td>\n",
       "      <td>NaN</td>\n",
       "    </tr>\n",
       "    <tr>\n",
       "      <th>1</th>\n",
       "      <td>44470</td>\n",
       "      <td>1</td>\n",
       "      <td>NaN</td>\n",
       "      <td>NaN</td>\n",
       "      <td>NaN</td>\n",
       "      <td>NaN</td>\n",
       "    </tr>\n",
       "    <tr>\n",
       "      <th>2</th>\n",
       "      <td>44470</td>\n",
       "      <td>1</td>\n",
       "      <td>NaN</td>\n",
       "      <td>NaN</td>\n",
       "      <td>NaN</td>\n",
       "      <td>NaN</td>\n",
       "    </tr>\n",
       "    <tr>\n",
       "      <th>3</th>\n",
       "      <td>44470</td>\n",
       "      <td>1</td>\n",
       "      <td>NaN</td>\n",
       "      <td>NaN</td>\n",
       "      <td>NaN</td>\n",
       "      <td>NaN</td>\n",
       "    </tr>\n",
       "    <tr>\n",
       "      <th>4</th>\n",
       "      <td>44470</td>\n",
       "      <td>1</td>\n",
       "      <td>NaN</td>\n",
       "      <td>NaN</td>\n",
       "      <td>NaN</td>\n",
       "      <td>NaN</td>\n",
       "    </tr>\n",
       "  </tbody>\n",
       "</table>\n",
       "</div>"
      ],
      "text/plain": [
       "  new_euid  comm_npi cli_dx1_ccs cli_dx2_ccs cli_dx3_ccs cli_dx4_ccs\n",
       "0    44470         1         NaN         NaN         NaN         NaN\n",
       "1    44470         1         NaN         NaN         NaN         NaN\n",
       "2    44470         1         NaN         NaN         NaN         NaN\n",
       "3    44470         1         NaN         NaN         NaN         NaN\n",
       "4    44470         1         NaN         NaN         NaN         NaN"
      ]
     },
     "execution_count": 19,
     "metadata": {},
     "output_type": "execute_result"
    }
   ],
   "source": [
    "diabetic_patients_comm_ccs.head() "
   ]
  },
  {
   "cell_type": "code",
   "execution_count": 20,
   "metadata": {
    "collapsed": false
   },
   "outputs": [
    {
     "data": {
      "text/plain": [
       "8955"
      ]
     },
     "execution_count": 20,
     "metadata": {},
     "output_type": "execute_result"
    }
   ],
   "source": [
    "#unique diabetic patients after merging\n",
    "len(diabetic_patients_comm_ccs['new_euid'].unique()) "
   ]
  },
  {
   "cell_type": "code",
   "execution_count": 21,
   "metadata": {
    "collapsed": false
   },
   "outputs": [
    {
     "data": {
      "text/plain": [
       "new_euid            0\n",
       "comm_npi            0\n",
       "cli_dx1_ccs    268736\n",
       "cli_dx2_ccs    569704\n",
       "cli_dx3_ccs    632085\n",
       "cli_dx4_ccs    673294\n",
       "dtype: int64"
      ]
     },
     "execution_count": 21,
     "metadata": {},
     "output_type": "execute_result"
    }
   ],
   "source": [
    "#check on null\n",
    "diabetic_patients_comm_ccs.isnull().sum() "
   ]
  },
  {
   "cell_type": "code",
   "execution_count": 39,
   "metadata": {
    "collapsed": false
   },
   "outputs": [],
   "source": [
    "#checking unique values within ccs_code\n",
    "# df=diabetic_patients_comm_ccs\n",
    "# cols=df.columns.tolist()\n",
    "# cols=cols[2:]\n",
    "# for col in cols:\n",
    "#     print(diabetic_patients_comm_ccs[col].unique()) ; "
   ]
  },
  {
   "cell_type": "code",
   "execution_count": 22,
   "metadata": {
    "collapsed": false
   },
   "outputs": [],
   "source": [
    "#filling NA's as 0\n",
    "diabetic_patients_comm_ccs=diabetic_patients_comm_ccs.fillna(0)"
   ]
  },
  {
   "cell_type": "code",
   "execution_count": 23,
   "metadata": {
    "collapsed": false
   },
   "outputs": [
    {
     "data": {
      "text/plain": [
       "new_euid       0\n",
       "comm_npi       0\n",
       "cli_dx1_ccs    0\n",
       "cli_dx2_ccs    0\n",
       "cli_dx3_ccs    0\n",
       "cli_dx4_ccs    0\n",
       "dtype: int64"
      ]
     },
     "execution_count": 23,
     "metadata": {},
     "output_type": "execute_result"
    }
   ],
   "source": [
    "#checking null count after filling NA's as 0\n",
    "diabetic_patients_comm_ccs.isnull().sum()"
   ]
  },
  {
   "cell_type": "code",
   "execution_count": 24,
   "metadata": {
    "collapsed": false
   },
   "outputs": [
    {
     "data": {
      "text/html": [
       "<div>\n",
       "<table border=\"1\" class=\"dataframe\">\n",
       "  <thead>\n",
       "    <tr style=\"text-align: right;\">\n",
       "      <th></th>\n",
       "      <th>new_euid</th>\n",
       "      <th>comm_npi</th>\n",
       "      <th>cli_dx1_ccs</th>\n",
       "      <th>cli_dx2_ccs</th>\n",
       "      <th>cli_dx3_ccs</th>\n",
       "      <th>cli_dx4_ccs</th>\n",
       "    </tr>\n",
       "  </thead>\n",
       "  <tbody>\n",
       "    <tr>\n",
       "      <th>0</th>\n",
       "      <td>44470</td>\n",
       "      <td>1</td>\n",
       "      <td>0</td>\n",
       "      <td>0</td>\n",
       "      <td>0</td>\n",
       "      <td>0</td>\n",
       "    </tr>\n",
       "    <tr>\n",
       "      <th>1</th>\n",
       "      <td>44470</td>\n",
       "      <td>1</td>\n",
       "      <td>0</td>\n",
       "      <td>0</td>\n",
       "      <td>0</td>\n",
       "      <td>0</td>\n",
       "    </tr>\n",
       "    <tr>\n",
       "      <th>2</th>\n",
       "      <td>44470</td>\n",
       "      <td>1</td>\n",
       "      <td>0</td>\n",
       "      <td>0</td>\n",
       "      <td>0</td>\n",
       "      <td>0</td>\n",
       "    </tr>\n",
       "    <tr>\n",
       "      <th>3</th>\n",
       "      <td>44470</td>\n",
       "      <td>1</td>\n",
       "      <td>0</td>\n",
       "      <td>0</td>\n",
       "      <td>0</td>\n",
       "      <td>0</td>\n",
       "    </tr>\n",
       "    <tr>\n",
       "      <th>4</th>\n",
       "      <td>44470</td>\n",
       "      <td>1</td>\n",
       "      <td>0</td>\n",
       "      <td>0</td>\n",
       "      <td>0</td>\n",
       "      <td>0</td>\n",
       "    </tr>\n",
       "  </tbody>\n",
       "</table>\n",
       "</div>"
      ],
      "text/plain": [
       "  new_euid  comm_npi cli_dx1_ccs cli_dx2_ccs cli_dx3_ccs cli_dx4_ccs\n",
       "0    44470         1           0           0           0           0\n",
       "1    44470         1           0           0           0           0\n",
       "2    44470         1           0           0           0           0\n",
       "3    44470         1           0           0           0           0\n",
       "4    44470         1           0           0           0           0"
      ]
     },
     "execution_count": 24,
     "metadata": {},
     "output_type": "execute_result"
    }
   ],
   "source": [
    "#checking head\n",
    "diabetic_patients_comm_ccs.head() "
   ]
  },
  {
   "cell_type": "code",
   "execution_count": 25,
   "metadata": {
    "collapsed": true
   },
   "outputs": [],
   "source": [
    "del diabetic_patients_comm_ccs['comm_npi']"
   ]
  },
  {
   "cell_type": "markdown",
   "metadata": {},
   "source": [
    "# Loading CCS_Codes Description"
   ]
  },
  {
   "cell_type": "code",
   "execution_count": 26,
   "metadata": {
    "collapsed": true
   },
   "outputs": [],
   "source": [
    "ccs_codes=pd.read_csv('../../Data/ccs_code.csv')  #reading ccs code\n",
    "\n",
    "#Adding 'CCS' ahead of CCS code number\n",
    "ccs_codes['ccs_code']= \"CCS\"+ ccs_codes.START.map(str) #Adding CCS Codes \n"
   ]
  },
  {
   "cell_type": "code",
   "execution_count": 27,
   "metadata": {
    "collapsed": false
   },
   "outputs": [
    {
     "data": {
      "text/html": [
       "<div>\n",
       "<table border=\"1\" class=\"dataframe\">\n",
       "  <thead>\n",
       "    <tr style=\"text-align: right;\">\n",
       "      <th></th>\n",
       "      <th>START</th>\n",
       "      <th>LABEL</th>\n",
       "      <th>ccs_code</th>\n",
       "    </tr>\n",
       "  </thead>\n",
       "  <tbody>\n",
       "    <tr>\n",
       "      <th>0</th>\n",
       "      <td>1</td>\n",
       "      <td>Tuberculosis</td>\n",
       "      <td>CCS1</td>\n",
       "    </tr>\n",
       "    <tr>\n",
       "      <th>1</th>\n",
       "      <td>10</td>\n",
       "      <td>Immuniz/scrn</td>\n",
       "      <td>CCS10</td>\n",
       "    </tr>\n",
       "    <tr>\n",
       "      <th>2</th>\n",
       "      <td>100</td>\n",
       "      <td>Acute MI</td>\n",
       "      <td>CCS100</td>\n",
       "    </tr>\n",
       "    <tr>\n",
       "      <th>3</th>\n",
       "      <td>101</td>\n",
       "      <td>Coron athero</td>\n",
       "      <td>CCS101</td>\n",
       "    </tr>\n",
       "    <tr>\n",
       "      <th>4</th>\n",
       "      <td>102</td>\n",
       "      <td>Chest pain</td>\n",
       "      <td>CCS102</td>\n",
       "    </tr>\n",
       "  </tbody>\n",
       "</table>\n",
       "</div>"
      ],
      "text/plain": [
       "   START         LABEL ccs_code\n",
       "0      1  Tuberculosis     CCS1\n",
       "1     10  Immuniz/scrn    CCS10\n",
       "2    100      Acute MI   CCS100\n",
       "3    101  Coron athero   CCS101\n",
       "4    102    Chest pain   CCS102"
      ]
     },
     "execution_count": 27,
     "metadata": {},
     "output_type": "execute_result"
    }
   ],
   "source": [
    "ccs_codes.head() "
   ]
  },
  {
   "cell_type": "markdown",
   "metadata": {},
   "source": [
    "Making Binary Matrix with new-euid and each of 283 CCS codes as column"
   ]
  },
  {
   "cell_type": "code",
   "execution_count": 28,
   "metadata": {
    "collapsed": false
   },
   "outputs": [
    {
     "data": {
      "text/html": [
       "<div>\n",
       "<table border=\"1\" class=\"dataframe\">\n",
       "  <thead>\n",
       "    <tr style=\"text-align: right;\">\n",
       "      <th></th>\n",
       "      <th>new_euid</th>\n",
       "      <th>CCS1</th>\n",
       "      <th>CCS10</th>\n",
       "      <th>CCS100</th>\n",
       "      <th>CCS101</th>\n",
       "      <th>CCS102</th>\n",
       "      <th>CCS103</th>\n",
       "      <th>CCS104</th>\n",
       "      <th>CCS105</th>\n",
       "      <th>CCS106</th>\n",
       "      <th>...</th>\n",
       "      <th>CCS90</th>\n",
       "      <th>CCS91</th>\n",
       "      <th>CCS92</th>\n",
       "      <th>CCS93</th>\n",
       "      <th>CCS94</th>\n",
       "      <th>CCS95</th>\n",
       "      <th>CCS96</th>\n",
       "      <th>CCS97</th>\n",
       "      <th>CCS98</th>\n",
       "      <th>CCS99</th>\n",
       "    </tr>\n",
       "  </thead>\n",
       "  <tbody>\n",
       "    <tr>\n",
       "      <th>0</th>\n",
       "      <td>NaN</td>\n",
       "      <td>NaN</td>\n",
       "      <td>NaN</td>\n",
       "      <td>NaN</td>\n",
       "      <td>NaN</td>\n",
       "      <td>NaN</td>\n",
       "      <td>NaN</td>\n",
       "      <td>NaN</td>\n",
       "      <td>NaN</td>\n",
       "      <td>NaN</td>\n",
       "      <td>...</td>\n",
       "      <td>NaN</td>\n",
       "      <td>NaN</td>\n",
       "      <td>NaN</td>\n",
       "      <td>NaN</td>\n",
       "      <td>NaN</td>\n",
       "      <td>NaN</td>\n",
       "      <td>NaN</td>\n",
       "      <td>NaN</td>\n",
       "      <td>NaN</td>\n",
       "      <td>NaN</td>\n",
       "    </tr>\n",
       "    <tr>\n",
       "      <th>1</th>\n",
       "      <td>NaN</td>\n",
       "      <td>NaN</td>\n",
       "      <td>NaN</td>\n",
       "      <td>NaN</td>\n",
       "      <td>NaN</td>\n",
       "      <td>NaN</td>\n",
       "      <td>NaN</td>\n",
       "      <td>NaN</td>\n",
       "      <td>NaN</td>\n",
       "      <td>NaN</td>\n",
       "      <td>...</td>\n",
       "      <td>NaN</td>\n",
       "      <td>NaN</td>\n",
       "      <td>NaN</td>\n",
       "      <td>NaN</td>\n",
       "      <td>NaN</td>\n",
       "      <td>NaN</td>\n",
       "      <td>NaN</td>\n",
       "      <td>NaN</td>\n",
       "      <td>NaN</td>\n",
       "      <td>NaN</td>\n",
       "    </tr>\n",
       "    <tr>\n",
       "      <th>2</th>\n",
       "      <td>NaN</td>\n",
       "      <td>NaN</td>\n",
       "      <td>NaN</td>\n",
       "      <td>NaN</td>\n",
       "      <td>NaN</td>\n",
       "      <td>NaN</td>\n",
       "      <td>NaN</td>\n",
       "      <td>NaN</td>\n",
       "      <td>NaN</td>\n",
       "      <td>NaN</td>\n",
       "      <td>...</td>\n",
       "      <td>NaN</td>\n",
       "      <td>NaN</td>\n",
       "      <td>NaN</td>\n",
       "      <td>NaN</td>\n",
       "      <td>NaN</td>\n",
       "      <td>NaN</td>\n",
       "      <td>NaN</td>\n",
       "      <td>NaN</td>\n",
       "      <td>NaN</td>\n",
       "      <td>NaN</td>\n",
       "    </tr>\n",
       "    <tr>\n",
       "      <th>3</th>\n",
       "      <td>NaN</td>\n",
       "      <td>NaN</td>\n",
       "      <td>NaN</td>\n",
       "      <td>NaN</td>\n",
       "      <td>NaN</td>\n",
       "      <td>NaN</td>\n",
       "      <td>NaN</td>\n",
       "      <td>NaN</td>\n",
       "      <td>NaN</td>\n",
       "      <td>NaN</td>\n",
       "      <td>...</td>\n",
       "      <td>NaN</td>\n",
       "      <td>NaN</td>\n",
       "      <td>NaN</td>\n",
       "      <td>NaN</td>\n",
       "      <td>NaN</td>\n",
       "      <td>NaN</td>\n",
       "      <td>NaN</td>\n",
       "      <td>NaN</td>\n",
       "      <td>NaN</td>\n",
       "      <td>NaN</td>\n",
       "    </tr>\n",
       "    <tr>\n",
       "      <th>4</th>\n",
       "      <td>NaN</td>\n",
       "      <td>NaN</td>\n",
       "      <td>NaN</td>\n",
       "      <td>NaN</td>\n",
       "      <td>NaN</td>\n",
       "      <td>NaN</td>\n",
       "      <td>NaN</td>\n",
       "      <td>NaN</td>\n",
       "      <td>NaN</td>\n",
       "      <td>NaN</td>\n",
       "      <td>...</td>\n",
       "      <td>NaN</td>\n",
       "      <td>NaN</td>\n",
       "      <td>NaN</td>\n",
       "      <td>NaN</td>\n",
       "      <td>NaN</td>\n",
       "      <td>NaN</td>\n",
       "      <td>NaN</td>\n",
       "      <td>NaN</td>\n",
       "      <td>NaN</td>\n",
       "      <td>NaN</td>\n",
       "    </tr>\n",
       "  </tbody>\n",
       "</table>\n",
       "<p>5 rows × 284 columns</p>\n",
       "</div>"
      ],
      "text/plain": [
       "  new_euid CCS1 CCS10 CCS100 CCS101 CCS102 CCS103 CCS104 CCS105 CCS106  ...   \\\n",
       "0      NaN  NaN   NaN    NaN    NaN    NaN    NaN    NaN    NaN    NaN  ...    \n",
       "1      NaN  NaN   NaN    NaN    NaN    NaN    NaN    NaN    NaN    NaN  ...    \n",
       "2      NaN  NaN   NaN    NaN    NaN    NaN    NaN    NaN    NaN    NaN  ...    \n",
       "3      NaN  NaN   NaN    NaN    NaN    NaN    NaN    NaN    NaN    NaN  ...    \n",
       "4      NaN  NaN   NaN    NaN    NaN    NaN    NaN    NaN    NaN    NaN  ...    \n",
       "\n",
       "  CCS90 CCS91 CCS92 CCS93 CCS94 CCS95 CCS96 CCS97 CCS98 CCS99  \n",
       "0   NaN   NaN   NaN   NaN   NaN   NaN   NaN   NaN   NaN   NaN  \n",
       "1   NaN   NaN   NaN   NaN   NaN   NaN   NaN   NaN   NaN   NaN  \n",
       "2   NaN   NaN   NaN   NaN   NaN   NaN   NaN   NaN   NaN   NaN  \n",
       "3   NaN   NaN   NaN   NaN   NaN   NaN   NaN   NaN   NaN   NaN  \n",
       "4   NaN   NaN   NaN   NaN   NaN   NaN   NaN   NaN   NaN   NaN  \n",
       "\n",
       "[5 rows x 284 columns]"
      ]
     },
     "execution_count": 28,
     "metadata": {},
     "output_type": "execute_result"
    }
   ],
   "source": [
    "cols=list(ccs_codes['ccs_code'])\n",
    "cols.insert(0,'new_euid') \n",
    "diabetic_patients_binary=pd.DataFrame(columns=cols,index=diabetic_patients_comm_ccs.index) \n",
    "diabetic_patients_binary.head()  "
   ]
  },
  {
   "cell_type": "code",
   "execution_count": 29,
   "metadata": {
    "collapsed": true
   },
   "outputs": [],
   "source": [
    "##Code to fill up binary Matrix as per each patients ccs_codes \n",
    "for index,row in diabetic_patients_comm_ccs.iterrows(): \n",
    "    if(row['cli_dx1_ccs'] !=0): \n",
    "        col=\"CCS\" +str(row['cli_dx1_ccs'])\n",
    "        diabetic_patients_binary.loc[index][col]=1 \n",
    "        diabetic_patients_binary.loc[index]['new_euid']=row['new_euid']\n",
    "    if(row['cli_dx2_ccs'] !=0): \n",
    "        col=\"CCS\" +str(row['cli_dx2_ccs'])\n",
    "        diabetic_patients_binary.loc[index][col]=1 \n",
    "        diabetic_patients_binary.loc[index]['new_euid']=row['new_euid']\n",
    "    if(row['cli_dx3_ccs'] !=0): \n",
    "        col=\"CCS\" +str(row['cli_dx3_ccs']) \n",
    "        diabetic_patients_binary.loc[index][col]=1 \n",
    "        diabetic_patients_binary.loc[index]['new_euid']=row['new_euid']   \n",
    "    if(row['cli_dx4_ccs'] !=0): \n",
    "        col=\"CCS\" +str(row['cli_dx4_ccs']) \n",
    "        diabetic_patients_binary.loc[index][col]=1 \n",
    "        diabetic_patients_binary.loc[index]['new_euid']=row['new_euid'] \n",
    "    \n",
    "    "
   ]
  },
  {
   "cell_type": "code",
   "execution_count": 30,
   "metadata": {
    "collapsed": false
   },
   "outputs": [
    {
     "name": "stdout",
     "output_type": "stream",
     "text": [
      "(729492, 284)\n",
      "(729492, 5)\n"
     ]
    }
   ],
   "source": [
    "print(diabetic_patients_binary.shape)  \n",
    "print(diabetic_patients_comm_ccs.shape)"
   ]
  },
  {
   "cell_type": "code",
   "execution_count": 31,
   "metadata": {
    "collapsed": false
   },
   "outputs": [
    {
     "name": "stdout",
     "output_type": "stream",
     "text": [
      "(8956, 283)\n"
     ]
    }
   ],
   "source": [
    "#filling NA's as 0\n",
    "diabetic_patients_binary=diabetic_patients_binary.fillna(0) \n",
    "\n",
    "#Grouping by each patients\n",
    "diabetic_patients_binary=diabetic_patients_binary.groupby(['new_euid']).sum()\n",
    "print(diabetic_patients_binary.shape)  "
   ]
  },
  {
   "cell_type": "code",
   "execution_count": 32,
   "metadata": {
    "collapsed": false
   },
   "outputs": [
    {
     "data": {
      "text/html": [
       "<div>\n",
       "<table border=\"1\" class=\"dataframe\">\n",
       "  <thead>\n",
       "    <tr style=\"text-align: right;\">\n",
       "      <th></th>\n",
       "      <th>CCS1</th>\n",
       "      <th>CCS10</th>\n",
       "      <th>CCS100</th>\n",
       "      <th>CCS101</th>\n",
       "      <th>CCS102</th>\n",
       "      <th>CCS103</th>\n",
       "      <th>CCS104</th>\n",
       "      <th>CCS105</th>\n",
       "      <th>CCS106</th>\n",
       "      <th>CCS107</th>\n",
       "      <th>...</th>\n",
       "      <th>CCS90</th>\n",
       "      <th>CCS91</th>\n",
       "      <th>CCS92</th>\n",
       "      <th>CCS93</th>\n",
       "      <th>CCS94</th>\n",
       "      <th>CCS95</th>\n",
       "      <th>CCS96</th>\n",
       "      <th>CCS97</th>\n",
       "      <th>CCS98</th>\n",
       "      <th>CCS99</th>\n",
       "    </tr>\n",
       "    <tr>\n",
       "      <th>new_euid</th>\n",
       "      <th></th>\n",
       "      <th></th>\n",
       "      <th></th>\n",
       "      <th></th>\n",
       "      <th></th>\n",
       "      <th></th>\n",
       "      <th></th>\n",
       "      <th></th>\n",
       "      <th></th>\n",
       "      <th></th>\n",
       "      <th></th>\n",
       "      <th></th>\n",
       "      <th></th>\n",
       "      <th></th>\n",
       "      <th></th>\n",
       "      <th></th>\n",
       "      <th></th>\n",
       "      <th></th>\n",
       "      <th></th>\n",
       "      <th></th>\n",
       "      <th></th>\n",
       "    </tr>\n",
       "  </thead>\n",
       "  <tbody>\n",
       "    <tr>\n",
       "      <th>0</th>\n",
       "      <td>0</td>\n",
       "      <td>0</td>\n",
       "      <td>0</td>\n",
       "      <td>0</td>\n",
       "      <td>0</td>\n",
       "      <td>0</td>\n",
       "      <td>0</td>\n",
       "      <td>0</td>\n",
       "      <td>0</td>\n",
       "      <td>0</td>\n",
       "      <td>...</td>\n",
       "      <td>0</td>\n",
       "      <td>0</td>\n",
       "      <td>0</td>\n",
       "      <td>0</td>\n",
       "      <td>0</td>\n",
       "      <td>0</td>\n",
       "      <td>0</td>\n",
       "      <td>0</td>\n",
       "      <td>0</td>\n",
       "      <td>0</td>\n",
       "    </tr>\n",
       "    <tr>\n",
       "      <th>100114</th>\n",
       "      <td>0</td>\n",
       "      <td>0</td>\n",
       "      <td>0</td>\n",
       "      <td>0</td>\n",
       "      <td>0</td>\n",
       "      <td>0</td>\n",
       "      <td>0</td>\n",
       "      <td>0</td>\n",
       "      <td>0</td>\n",
       "      <td>0</td>\n",
       "      <td>...</td>\n",
       "      <td>0</td>\n",
       "      <td>2</td>\n",
       "      <td>0</td>\n",
       "      <td>0</td>\n",
       "      <td>0</td>\n",
       "      <td>3</td>\n",
       "      <td>0</td>\n",
       "      <td>0</td>\n",
       "      <td>3</td>\n",
       "      <td>0</td>\n",
       "    </tr>\n",
       "    <tr>\n",
       "      <th>10013</th>\n",
       "      <td>0</td>\n",
       "      <td>0</td>\n",
       "      <td>0</td>\n",
       "      <td>0</td>\n",
       "      <td>0</td>\n",
       "      <td>0</td>\n",
       "      <td>0</td>\n",
       "      <td>0</td>\n",
       "      <td>0</td>\n",
       "      <td>0</td>\n",
       "      <td>...</td>\n",
       "      <td>0</td>\n",
       "      <td>0</td>\n",
       "      <td>0</td>\n",
       "      <td>0</td>\n",
       "      <td>0</td>\n",
       "      <td>0</td>\n",
       "      <td>0</td>\n",
       "      <td>0</td>\n",
       "      <td>1</td>\n",
       "      <td>0</td>\n",
       "    </tr>\n",
       "    <tr>\n",
       "      <th>10014</th>\n",
       "      <td>0</td>\n",
       "      <td>0</td>\n",
       "      <td>15</td>\n",
       "      <td>30</td>\n",
       "      <td>15</td>\n",
       "      <td>1</td>\n",
       "      <td>0</td>\n",
       "      <td>3</td>\n",
       "      <td>25</td>\n",
       "      <td>0</td>\n",
       "      <td>...</td>\n",
       "      <td>0</td>\n",
       "      <td>0</td>\n",
       "      <td>0</td>\n",
       "      <td>0</td>\n",
       "      <td>0</td>\n",
       "      <td>32</td>\n",
       "      <td>10</td>\n",
       "      <td>4</td>\n",
       "      <td>5</td>\n",
       "      <td>0</td>\n",
       "    </tr>\n",
       "    <tr>\n",
       "      <th>100397</th>\n",
       "      <td>0</td>\n",
       "      <td>0</td>\n",
       "      <td>0</td>\n",
       "      <td>0</td>\n",
       "      <td>0</td>\n",
       "      <td>0</td>\n",
       "      <td>0</td>\n",
       "      <td>0</td>\n",
       "      <td>0</td>\n",
       "      <td>0</td>\n",
       "      <td>...</td>\n",
       "      <td>0</td>\n",
       "      <td>0</td>\n",
       "      <td>0</td>\n",
       "      <td>0</td>\n",
       "      <td>0</td>\n",
       "      <td>1</td>\n",
       "      <td>0</td>\n",
       "      <td>0</td>\n",
       "      <td>0</td>\n",
       "      <td>0</td>\n",
       "    </tr>\n",
       "  </tbody>\n",
       "</table>\n",
       "<p>5 rows × 283 columns</p>\n",
       "</div>"
      ],
      "text/plain": [
       "          CCS1  CCS10  CCS100  CCS101  CCS102  CCS103  CCS104  CCS105  CCS106  \\\n",
       "new_euid                                                                        \n",
       "0            0      0       0       0       0       0       0       0       0   \n",
       "100114       0      0       0       0       0       0       0       0       0   \n",
       "10013        0      0       0       0       0       0       0       0       0   \n",
       "10014        0      0      15      30      15       1       0       3      25   \n",
       "100397       0      0       0       0       0       0       0       0       0   \n",
       "\n",
       "          CCS107  ...    CCS90  CCS91  CCS92  CCS93  CCS94  CCS95  CCS96  \\\n",
       "new_euid          ...                                                      \n",
       "0              0  ...        0      0      0      0      0      0      0   \n",
       "100114         0  ...        0      2      0      0      0      3      0   \n",
       "10013          0  ...        0      0      0      0      0      0      0   \n",
       "10014          0  ...        0      0      0      0      0     32     10   \n",
       "100397         0  ...        0      0      0      0      0      1      0   \n",
       "\n",
       "          CCS97  CCS98  CCS99  \n",
       "new_euid                       \n",
       "0             0      0      0  \n",
       "100114        0      3      0  \n",
       "10013         0      1      0  \n",
       "10014         4      5      0  \n",
       "100397        0      0      0  \n",
       "\n",
       "[5 rows x 283 columns]"
      ]
     },
     "execution_count": 32,
     "metadata": {},
     "output_type": "execute_result"
    }
   ],
   "source": [
    "diabetic_patients_binary.head() "
   ]
  },
  {
   "cell_type": "code",
   "execution_count": 33,
   "metadata": {
    "collapsed": false
   },
   "outputs": [
    {
     "data": {
      "text/html": [
       "<div>\n",
       "<table border=\"1\" class=\"dataframe\">\n",
       "  <thead>\n",
       "    <tr style=\"text-align: right;\">\n",
       "      <th></th>\n",
       "      <th>CCS1</th>\n",
       "      <th>CCS10</th>\n",
       "      <th>CCS100</th>\n",
       "      <th>CCS101</th>\n",
       "      <th>CCS102</th>\n",
       "      <th>CCS103</th>\n",
       "      <th>CCS104</th>\n",
       "      <th>CCS105</th>\n",
       "      <th>CCS106</th>\n",
       "      <th>CCS107</th>\n",
       "      <th>...</th>\n",
       "      <th>CCS90</th>\n",
       "      <th>CCS91</th>\n",
       "      <th>CCS92</th>\n",
       "      <th>CCS93</th>\n",
       "      <th>CCS94</th>\n",
       "      <th>CCS95</th>\n",
       "      <th>CCS96</th>\n",
       "      <th>CCS97</th>\n",
       "      <th>CCS98</th>\n",
       "      <th>CCS99</th>\n",
       "    </tr>\n",
       "    <tr>\n",
       "      <th>new_euid</th>\n",
       "      <th></th>\n",
       "      <th></th>\n",
       "      <th></th>\n",
       "      <th></th>\n",
       "      <th></th>\n",
       "      <th></th>\n",
       "      <th></th>\n",
       "      <th></th>\n",
       "      <th></th>\n",
       "      <th></th>\n",
       "      <th></th>\n",
       "      <th></th>\n",
       "      <th></th>\n",
       "      <th></th>\n",
       "      <th></th>\n",
       "      <th></th>\n",
       "      <th></th>\n",
       "      <th></th>\n",
       "      <th></th>\n",
       "      <th></th>\n",
       "      <th></th>\n",
       "    </tr>\n",
       "  </thead>\n",
       "  <tbody>\n",
       "    <tr>\n",
       "      <th>0</th>\n",
       "      <td>0</td>\n",
       "      <td>0</td>\n",
       "      <td>0</td>\n",
       "      <td>0</td>\n",
       "      <td>0</td>\n",
       "      <td>0</td>\n",
       "      <td>0</td>\n",
       "      <td>0</td>\n",
       "      <td>0</td>\n",
       "      <td>0</td>\n",
       "      <td>...</td>\n",
       "      <td>0</td>\n",
       "      <td>0</td>\n",
       "      <td>0</td>\n",
       "      <td>0</td>\n",
       "      <td>0</td>\n",
       "      <td>0</td>\n",
       "      <td>0</td>\n",
       "      <td>0</td>\n",
       "      <td>0</td>\n",
       "      <td>0</td>\n",
       "    </tr>\n",
       "    <tr>\n",
       "      <th>100114</th>\n",
       "      <td>0</td>\n",
       "      <td>0</td>\n",
       "      <td>0</td>\n",
       "      <td>0</td>\n",
       "      <td>0</td>\n",
       "      <td>0</td>\n",
       "      <td>0</td>\n",
       "      <td>0</td>\n",
       "      <td>0</td>\n",
       "      <td>0</td>\n",
       "      <td>...</td>\n",
       "      <td>0</td>\n",
       "      <td>1</td>\n",
       "      <td>0</td>\n",
       "      <td>0</td>\n",
       "      <td>0</td>\n",
       "      <td>1</td>\n",
       "      <td>0</td>\n",
       "      <td>0</td>\n",
       "      <td>1</td>\n",
       "      <td>0</td>\n",
       "    </tr>\n",
       "    <tr>\n",
       "      <th>10013</th>\n",
       "      <td>0</td>\n",
       "      <td>0</td>\n",
       "      <td>0</td>\n",
       "      <td>0</td>\n",
       "      <td>0</td>\n",
       "      <td>0</td>\n",
       "      <td>0</td>\n",
       "      <td>0</td>\n",
       "      <td>0</td>\n",
       "      <td>0</td>\n",
       "      <td>...</td>\n",
       "      <td>0</td>\n",
       "      <td>0</td>\n",
       "      <td>0</td>\n",
       "      <td>0</td>\n",
       "      <td>0</td>\n",
       "      <td>0</td>\n",
       "      <td>0</td>\n",
       "      <td>0</td>\n",
       "      <td>1</td>\n",
       "      <td>0</td>\n",
       "    </tr>\n",
       "    <tr>\n",
       "      <th>10014</th>\n",
       "      <td>0</td>\n",
       "      <td>0</td>\n",
       "      <td>1</td>\n",
       "      <td>1</td>\n",
       "      <td>1</td>\n",
       "      <td>1</td>\n",
       "      <td>0</td>\n",
       "      <td>1</td>\n",
       "      <td>1</td>\n",
       "      <td>0</td>\n",
       "      <td>...</td>\n",
       "      <td>0</td>\n",
       "      <td>0</td>\n",
       "      <td>0</td>\n",
       "      <td>0</td>\n",
       "      <td>0</td>\n",
       "      <td>1</td>\n",
       "      <td>1</td>\n",
       "      <td>1</td>\n",
       "      <td>1</td>\n",
       "      <td>0</td>\n",
       "    </tr>\n",
       "    <tr>\n",
       "      <th>100397</th>\n",
       "      <td>0</td>\n",
       "      <td>0</td>\n",
       "      <td>0</td>\n",
       "      <td>0</td>\n",
       "      <td>0</td>\n",
       "      <td>0</td>\n",
       "      <td>0</td>\n",
       "      <td>0</td>\n",
       "      <td>0</td>\n",
       "      <td>0</td>\n",
       "      <td>...</td>\n",
       "      <td>0</td>\n",
       "      <td>0</td>\n",
       "      <td>0</td>\n",
       "      <td>0</td>\n",
       "      <td>0</td>\n",
       "      <td>1</td>\n",
       "      <td>0</td>\n",
       "      <td>0</td>\n",
       "      <td>0</td>\n",
       "      <td>0</td>\n",
       "    </tr>\n",
       "  </tbody>\n",
       "</table>\n",
       "<p>5 rows × 283 columns</p>\n",
       "</div>"
      ],
      "text/plain": [
       "          CCS1  CCS10  CCS100  CCS101  CCS102  CCS103  CCS104  CCS105  CCS106  \\\n",
       "new_euid                                                                        \n",
       "0            0      0       0       0       0       0       0       0       0   \n",
       "100114       0      0       0       0       0       0       0       0       0   \n",
       "10013        0      0       0       0       0       0       0       0       0   \n",
       "10014        0      0       1       1       1       1       0       1       1   \n",
       "100397       0      0       0       0       0       0       0       0       0   \n",
       "\n",
       "          CCS107  ...    CCS90  CCS91  CCS92  CCS93  CCS94  CCS95  CCS96  \\\n",
       "new_euid          ...                                                      \n",
       "0              0  ...        0      0      0      0      0      0      0   \n",
       "100114         0  ...        0      1      0      0      0      1      0   \n",
       "10013          0  ...        0      0      0      0      0      0      0   \n",
       "10014          0  ...        0      0      0      0      0      1      1   \n",
       "100397         0  ...        0      0      0      0      0      1      0   \n",
       "\n",
       "          CCS97  CCS98  CCS99  \n",
       "new_euid                       \n",
       "0             0      0      0  \n",
       "100114        0      1      0  \n",
       "10013         0      1      0  \n",
       "10014         1      1      0  \n",
       "100397        0      0      0  \n",
       "\n",
       "[5 rows x 283 columns]"
      ]
     },
     "execution_count": 33,
     "metadata": {},
     "output_type": "execute_result"
    }
   ],
   "source": [
    "## changing all values greater >1 =1\n",
    "def f1(x):\n",
    "    if x>=1:\n",
    "        return 1\n",
    "    else:\n",
    "        return 0\n",
    "\n",
    "diabetic_patients_binary=diabetic_patients_binary.applymap(f1)\n",
    "diabetic_patients_binary.head()  "
   ]
  },
  {
   "cell_type": "markdown",
   "metadata": {},
   "source": [
    "Caveat: After converting to binary we are losing the information how many times a particular ccs for a particular patient was claimed"
   ]
  },
  {
   "cell_type": "code",
   "execution_count": 34,
   "metadata": {
    "collapsed": false
   },
   "outputs": [
    {
     "name": "stdout",
     "output_type": "stream",
     "text": [
      "(8956, 283)\n",
      "(8956, 272)\n"
     ]
    }
   ],
   "source": [
    "print(diabetic_patients_binary.shape) \n",
    "\n",
    "# Removing CCS49 i,e Diabetes with no complication\n",
    "del diabetic_patients_binary['CCS49']  \n",
    "\n",
    "#Removing Exam/Eval attribute.\n",
    "del diabetic_patients_binary['CCS256']   \n",
    "\n",
    "## Removing  CCS Codes which are 0 for all patients\n",
    "diabetic_patients_binary=diabetic_patients_binary.loc[:,(diabetic_patients_binary!=0).any(axis=0)] \n",
    "print(diabetic_patients_binary.shape) "
   ]
  },
  {
   "cell_type": "markdown",
   "metadata": {},
   "source": [
    "# Making summary of CCS_codes for 9K diabetic patients"
   ]
  },
  {
   "cell_type": "code",
   "execution_count": 35,
   "metadata": {
    "collapsed": false
   },
   "outputs": [
    {
     "data": {
      "text/html": [
       "<div>\n",
       "<table border=\"1\" class=\"dataframe\">\n",
       "  <thead>\n",
       "    <tr style=\"text-align: right;\">\n",
       "      <th></th>\n",
       "      <th>index</th>\n",
       "      <th>Total_Patients</th>\n",
       "    </tr>\n",
       "  </thead>\n",
       "  <tbody>\n",
       "    <tr>\n",
       "      <th>0</th>\n",
       "      <td>CCS1</td>\n",
       "      <td>5</td>\n",
       "    </tr>\n",
       "    <tr>\n",
       "      <th>1</th>\n",
       "      <td>CCS10</td>\n",
       "      <td>3844</td>\n",
       "    </tr>\n",
       "    <tr>\n",
       "      <th>2</th>\n",
       "      <td>CCS100</td>\n",
       "      <td>124</td>\n",
       "    </tr>\n",
       "    <tr>\n",
       "      <th>3</th>\n",
       "      <td>CCS101</td>\n",
       "      <td>1258</td>\n",
       "    </tr>\n",
       "    <tr>\n",
       "      <th>4</th>\n",
       "      <td>CCS102</td>\n",
       "      <td>1106</td>\n",
       "    </tr>\n",
       "  </tbody>\n",
       "</table>\n",
       "</div>"
      ],
      "text/plain": [
       "    index  Total_Patients\n",
       "0    CCS1               5\n",
       "1   CCS10            3844\n",
       "2  CCS100             124\n",
       "3  CCS101            1258\n",
       "4  CCS102            1106"
      ]
     },
     "execution_count": 35,
     "metadata": {},
     "output_type": "execute_result"
    }
   ],
   "source": [
    "df=diabetic_patients_binary\n",
    "codes_stats=pd.DataFrame(df.sum())\n",
    "codes_stats.reset_index(inplace=True) \n",
    "codes_stats=codes_stats.rename(columns={0:'Total_Patients'})\n",
    "codes_stats.head() "
   ]
  },
  {
   "cell_type": "code",
   "execution_count": 36,
   "metadata": {
    "collapsed": false
   },
   "outputs": [
    {
     "data": {
      "text/html": [
       "<div>\n",
       "<table border=\"1\" class=\"dataframe\">\n",
       "  <thead>\n",
       "    <tr style=\"text-align: right;\">\n",
       "      <th></th>\n",
       "      <th>START</th>\n",
       "      <th>LABEL</th>\n",
       "      <th>ccs_code</th>\n",
       "    </tr>\n",
       "  </thead>\n",
       "  <tbody>\n",
       "    <tr>\n",
       "      <th>0</th>\n",
       "      <td>1</td>\n",
       "      <td>Tuberculosis</td>\n",
       "      <td>CCS1</td>\n",
       "    </tr>\n",
       "    <tr>\n",
       "      <th>1</th>\n",
       "      <td>10</td>\n",
       "      <td>Immuniz/scrn</td>\n",
       "      <td>CCS10</td>\n",
       "    </tr>\n",
       "    <tr>\n",
       "      <th>2</th>\n",
       "      <td>100</td>\n",
       "      <td>Acute MI</td>\n",
       "      <td>CCS100</td>\n",
       "    </tr>\n",
       "    <tr>\n",
       "      <th>3</th>\n",
       "      <td>101</td>\n",
       "      <td>Coron athero</td>\n",
       "      <td>CCS101</td>\n",
       "    </tr>\n",
       "    <tr>\n",
       "      <th>4</th>\n",
       "      <td>102</td>\n",
       "      <td>Chest pain</td>\n",
       "      <td>CCS102</td>\n",
       "    </tr>\n",
       "  </tbody>\n",
       "</table>\n",
       "</div>"
      ],
      "text/plain": [
       "   START         LABEL ccs_code\n",
       "0      1  Tuberculosis     CCS1\n",
       "1     10  Immuniz/scrn    CCS10\n",
       "2    100      Acute MI   CCS100\n",
       "3    101  Coron athero   CCS101\n",
       "4    102    Chest pain   CCS102"
      ]
     },
     "execution_count": 36,
     "metadata": {},
     "output_type": "execute_result"
    }
   ],
   "source": [
    "ccs_codes.head() "
   ]
  },
  {
   "cell_type": "code",
   "execution_count": 37,
   "metadata": {
    "collapsed": false
   },
   "outputs": [
    {
     "data": {
      "text/html": [
       "<div>\n",
       "<table border=\"1\" class=\"dataframe\">\n",
       "  <thead>\n",
       "    <tr style=\"text-align: right;\">\n",
       "      <th></th>\n",
       "      <th>ccs_code</th>\n",
       "      <th>LABEL</th>\n",
       "      <th>Total_Patients</th>\n",
       "      <th>population_percentage</th>\n",
       "    </tr>\n",
       "  </thead>\n",
       "  <tbody>\n",
       "    <tr>\n",
       "      <th>217</th>\n",
       "      <td>CCS53</td>\n",
       "      <td>Hyperlipidem</td>\n",
       "      <td>6462</td>\n",
       "      <td>72.160804</td>\n",
       "    </tr>\n",
       "    <tr>\n",
       "      <th>270</th>\n",
       "      <td>CCS98</td>\n",
       "      <td>HTN</td>\n",
       "      <td>6098</td>\n",
       "      <td>68.096036</td>\n",
       "    </tr>\n",
       "    <tr>\n",
       "      <th>214</th>\n",
       "      <td>CCS50</td>\n",
       "      <td>DiabMel w/cm</td>\n",
       "      <td>4486</td>\n",
       "      <td>50.094919</td>\n",
       "    </tr>\n",
       "    <tr>\n",
       "      <th>1</th>\n",
       "      <td>CCS10</td>\n",
       "      <td>Immuniz/scrn</td>\n",
       "      <td>3844</td>\n",
       "      <td>42.925740</td>\n",
       "    </tr>\n",
       "    <tr>\n",
       "      <th>168</th>\n",
       "      <td>CCS258</td>\n",
       "      <td>Other screen</td>\n",
       "      <td>3612</td>\n",
       "      <td>40.335008</td>\n",
       "    </tr>\n",
       "  </tbody>\n",
       "</table>\n",
       "</div>"
      ],
      "text/plain": [
       "    ccs_code         LABEL  Total_Patients  population_percentage\n",
       "217    CCS53  Hyperlipidem            6462              72.160804\n",
       "270    CCS98           HTN            6098              68.096036\n",
       "214    CCS50  DiabMel w/cm            4486              50.094919\n",
       "1      CCS10  Immuniz/scrn            3844              42.925740\n",
       "168   CCS258  Other screen            3612              40.335008"
      ]
     },
     "execution_count": 37,
     "metadata": {},
     "output_type": "execute_result"
    }
   ],
   "source": [
    "tmp1=ccs_codes[['ccs_code','LABEL']]\n",
    "codes_stats=pd.merge(tmp1,codes_stats,left_on='ccs_code',right_on='index')\n",
    "del codes_stats['index'] \n",
    "codes_stats=codes_stats.sort_values(['Total_Patients'],ascending=False)\n",
    "codes_stats['population_percentage']=(codes_stats['Total_Patients']*1.0/8955)*100.0\n",
    "codes_stats.head() "
   ]
  },
  {
   "cell_type": "code",
   "execution_count": null,
   "metadata": {
    "collapsed": true
   },
   "outputs": [],
   "source": [
    "#Writing summary to csv file\n",
    "# codes_stats.to_csv(\"codes_stats.csv\")"
   ]
  },
  {
   "cell_type": "code",
   "execution_count": 38,
   "metadata": {
    "collapsed": false
   },
   "outputs": [
    {
     "name": "stdout",
     "output_type": "stream",
     "text": [
      "(8667, 1)\n"
     ]
    },
    {
     "data": {
      "text/html": [
       "<div>\n",
       "<table border=\"1\" class=\"dataframe\">\n",
       "  <thead>\n",
       "    <tr style=\"text-align: right;\">\n",
       "      <th></th>\n",
       "      <th>CCS1</th>\n",
       "      <th>CCS10</th>\n",
       "      <th>CCS100</th>\n",
       "      <th>CCS101</th>\n",
       "      <th>CCS102</th>\n",
       "      <th>CCS103</th>\n",
       "      <th>CCS104</th>\n",
       "      <th>CCS105</th>\n",
       "      <th>CCS106</th>\n",
       "      <th>CCS107</th>\n",
       "      <th>...</th>\n",
       "      <th>CCS91</th>\n",
       "      <th>CCS92</th>\n",
       "      <th>CCS93</th>\n",
       "      <th>CCS94</th>\n",
       "      <th>CCS95</th>\n",
       "      <th>CCS96</th>\n",
       "      <th>CCS97</th>\n",
       "      <th>CCS98</th>\n",
       "      <th>CCS99</th>\n",
       "      <th>Total_Patients</th>\n",
       "    </tr>\n",
       "  </thead>\n",
       "  <tbody>\n",
       "    <tr>\n",
       "      <th>0</th>\n",
       "      <td>0</td>\n",
       "      <td>0</td>\n",
       "      <td>0</td>\n",
       "      <td>0</td>\n",
       "      <td>0</td>\n",
       "      <td>0</td>\n",
       "      <td>0</td>\n",
       "      <td>0</td>\n",
       "      <td>0</td>\n",
       "      <td>0</td>\n",
       "      <td>...</td>\n",
       "      <td>0</td>\n",
       "      <td>0</td>\n",
       "      <td>0</td>\n",
       "      <td>0</td>\n",
       "      <td>0</td>\n",
       "      <td>0</td>\n",
       "      <td>0</td>\n",
       "      <td>0</td>\n",
       "      <td>0</td>\n",
       "      <td>37</td>\n",
       "    </tr>\n",
       "    <tr>\n",
       "      <th>39</th>\n",
       "      <td>0</td>\n",
       "      <td>0</td>\n",
       "      <td>0</td>\n",
       "      <td>0</td>\n",
       "      <td>0</td>\n",
       "      <td>0</td>\n",
       "      <td>0</td>\n",
       "      <td>0</td>\n",
       "      <td>0</td>\n",
       "      <td>0</td>\n",
       "      <td>...</td>\n",
       "      <td>0</td>\n",
       "      <td>0</td>\n",
       "      <td>0</td>\n",
       "      <td>0</td>\n",
       "      <td>0</td>\n",
       "      <td>0</td>\n",
       "      <td>0</td>\n",
       "      <td>1</td>\n",
       "      <td>0</td>\n",
       "      <td>28</td>\n",
       "    </tr>\n",
       "    <tr>\n",
       "      <th>104</th>\n",
       "      <td>0</td>\n",
       "      <td>0</td>\n",
       "      <td>0</td>\n",
       "      <td>0</td>\n",
       "      <td>0</td>\n",
       "      <td>0</td>\n",
       "      <td>0</td>\n",
       "      <td>0</td>\n",
       "      <td>0</td>\n",
       "      <td>0</td>\n",
       "      <td>...</td>\n",
       "      <td>0</td>\n",
       "      <td>0</td>\n",
       "      <td>0</td>\n",
       "      <td>0</td>\n",
       "      <td>0</td>\n",
       "      <td>0</td>\n",
       "      <td>0</td>\n",
       "      <td>0</td>\n",
       "      <td>0</td>\n",
       "      <td>19</td>\n",
       "    </tr>\n",
       "    <tr>\n",
       "      <th>4887</th>\n",
       "      <td>0</td>\n",
       "      <td>1</td>\n",
       "      <td>0</td>\n",
       "      <td>0</td>\n",
       "      <td>0</td>\n",
       "      <td>0</td>\n",
       "      <td>0</td>\n",
       "      <td>0</td>\n",
       "      <td>0</td>\n",
       "      <td>0</td>\n",
       "      <td>...</td>\n",
       "      <td>0</td>\n",
       "      <td>0</td>\n",
       "      <td>0</td>\n",
       "      <td>0</td>\n",
       "      <td>0</td>\n",
       "      <td>0</td>\n",
       "      <td>0</td>\n",
       "      <td>1</td>\n",
       "      <td>0</td>\n",
       "      <td>11</td>\n",
       "    </tr>\n",
       "    <tr>\n",
       "      <th>73</th>\n",
       "      <td>0</td>\n",
       "      <td>0</td>\n",
       "      <td>0</td>\n",
       "      <td>0</td>\n",
       "      <td>0</td>\n",
       "      <td>0</td>\n",
       "      <td>0</td>\n",
       "      <td>0</td>\n",
       "      <td>0</td>\n",
       "      <td>0</td>\n",
       "      <td>...</td>\n",
       "      <td>0</td>\n",
       "      <td>0</td>\n",
       "      <td>0</td>\n",
       "      <td>0</td>\n",
       "      <td>0</td>\n",
       "      <td>0</td>\n",
       "      <td>0</td>\n",
       "      <td>1</td>\n",
       "      <td>0</td>\n",
       "      <td>10</td>\n",
       "    </tr>\n",
       "  </tbody>\n",
       "</table>\n",
       "<p>5 rows × 273 columns</p>\n",
       "</div>"
      ],
      "text/plain": [
       "      CCS1  CCS10  CCS100  CCS101  CCS102  CCS103  CCS104  CCS105  CCS106  \\\n",
       "0        0      0       0       0       0       0       0       0       0   \n",
       "39       0      0       0       0       0       0       0       0       0   \n",
       "104      0      0       0       0       0       0       0       0       0   \n",
       "4887     0      1       0       0       0       0       0       0       0   \n",
       "73       0      0       0       0       0       0       0       0       0   \n",
       "\n",
       "      CCS107       ...        CCS91  CCS92  CCS93  CCS94  CCS95  CCS96  CCS97  \\\n",
       "0          0       ...            0      0      0      0      0      0      0   \n",
       "39         0       ...            0      0      0      0      0      0      0   \n",
       "104        0       ...            0      0      0      0      0      0      0   \n",
       "4887       0       ...            0      0      0      0      0      0      0   \n",
       "73         0       ...            0      0      0      0      0      0      0   \n",
       "\n",
       "      CCS98  CCS99  Total_Patients  \n",
       "0         0      0              37  \n",
       "39        1      0              28  \n",
       "104       0      0              19  \n",
       "4887      1      0              11  \n",
       "73        1      0              10  \n",
       "\n",
       "[5 rows x 273 columns]"
      ]
     },
     "execution_count": 38,
     "metadata": {},
     "output_type": "execute_result"
    }
   ],
   "source": [
    "##Deduplicating the binary matrix\n",
    "df=diabetic_patients_binary  \n",
    "df_new=pd.DataFrame(df.groupby(df.columns.tolist(),as_index=False).size())  \n",
    "print(df_new.shape)\n",
    "df_new.reset_index(inplace=True)  \n",
    "df_new=df_new.rename(columns={0:'Total_Patients'})\n",
    "df_new.sort_values(['Total_Patients'],ascending=False,inplace=True)\n",
    "diabetic_patients_binary_ddup=df_new\n",
    "diabetic_patients_binary_ddup.head() "
   ]
  },
  {
   "cell_type": "markdown",
   "metadata": {},
   "source": [
    "# Performing Clustering Using Cosine Similarity"
   ]
  },
  {
   "cell_type": "code",
   "execution_count": 39,
   "metadata": {
    "collapsed": false
   },
   "outputs": [
    {
     "data": {
      "text/html": [
       "<div>\n",
       "<table border=\"1\" class=\"dataframe\">\n",
       "  <thead>\n",
       "    <tr style=\"text-align: right;\">\n",
       "      <th></th>\n",
       "      <th>CCS1</th>\n",
       "      <th>CCS10</th>\n",
       "      <th>CCS100</th>\n",
       "      <th>CCS101</th>\n",
       "      <th>CCS102</th>\n",
       "      <th>CCS103</th>\n",
       "      <th>CCS104</th>\n",
       "      <th>CCS105</th>\n",
       "      <th>CCS106</th>\n",
       "      <th>CCS107</th>\n",
       "      <th>...</th>\n",
       "      <th>CCS91</th>\n",
       "      <th>CCS92</th>\n",
       "      <th>CCS93</th>\n",
       "      <th>CCS94</th>\n",
       "      <th>CCS95</th>\n",
       "      <th>CCS96</th>\n",
       "      <th>CCS97</th>\n",
       "      <th>CCS98</th>\n",
       "      <th>CCS99</th>\n",
       "      <th>Total_Patients</th>\n",
       "    </tr>\n",
       "  </thead>\n",
       "  <tbody>\n",
       "    <tr>\n",
       "      <th>0</th>\n",
       "      <td>0.0</td>\n",
       "      <td>0.000000</td>\n",
       "      <td>0.0</td>\n",
       "      <td>0.0</td>\n",
       "      <td>0.0</td>\n",
       "      <td>0.0</td>\n",
       "      <td>0.0</td>\n",
       "      <td>0.0</td>\n",
       "      <td>0.0</td>\n",
       "      <td>0.0</td>\n",
       "      <td>...</td>\n",
       "      <td>0.0</td>\n",
       "      <td>0.0</td>\n",
       "      <td>0.0</td>\n",
       "      <td>0.0</td>\n",
       "      <td>0.0</td>\n",
       "      <td>0.0</td>\n",
       "      <td>0.0</td>\n",
       "      <td>0.000000</td>\n",
       "      <td>0.0</td>\n",
       "      <td>37.0</td>\n",
       "    </tr>\n",
       "    <tr>\n",
       "      <th>39</th>\n",
       "      <td>0.0</td>\n",
       "      <td>0.000000</td>\n",
       "      <td>0.0</td>\n",
       "      <td>0.0</td>\n",
       "      <td>0.0</td>\n",
       "      <td>0.0</td>\n",
       "      <td>0.0</td>\n",
       "      <td>0.0</td>\n",
       "      <td>0.0</td>\n",
       "      <td>0.0</td>\n",
       "      <td>...</td>\n",
       "      <td>0.0</td>\n",
       "      <td>0.0</td>\n",
       "      <td>0.0</td>\n",
       "      <td>0.0</td>\n",
       "      <td>0.0</td>\n",
       "      <td>0.0</td>\n",
       "      <td>0.0</td>\n",
       "      <td>0.384251</td>\n",
       "      <td>0.0</td>\n",
       "      <td>28.0</td>\n",
       "    </tr>\n",
       "    <tr>\n",
       "      <th>104</th>\n",
       "      <td>0.0</td>\n",
       "      <td>0.000000</td>\n",
       "      <td>0.0</td>\n",
       "      <td>0.0</td>\n",
       "      <td>0.0</td>\n",
       "      <td>0.0</td>\n",
       "      <td>0.0</td>\n",
       "      <td>0.0</td>\n",
       "      <td>0.0</td>\n",
       "      <td>0.0</td>\n",
       "      <td>...</td>\n",
       "      <td>0.0</td>\n",
       "      <td>0.0</td>\n",
       "      <td>0.0</td>\n",
       "      <td>0.0</td>\n",
       "      <td>0.0</td>\n",
       "      <td>0.0</td>\n",
       "      <td>0.0</td>\n",
       "      <td>0.000000</td>\n",
       "      <td>0.0</td>\n",
       "      <td>19.0</td>\n",
       "    </tr>\n",
       "    <tr>\n",
       "      <th>4887</th>\n",
       "      <td>0.0</td>\n",
       "      <td>0.845699</td>\n",
       "      <td>0.0</td>\n",
       "      <td>0.0</td>\n",
       "      <td>0.0</td>\n",
       "      <td>0.0</td>\n",
       "      <td>0.0</td>\n",
       "      <td>0.0</td>\n",
       "      <td>0.0</td>\n",
       "      <td>0.0</td>\n",
       "      <td>...</td>\n",
       "      <td>0.0</td>\n",
       "      <td>0.0</td>\n",
       "      <td>0.0</td>\n",
       "      <td>0.0</td>\n",
       "      <td>0.0</td>\n",
       "      <td>0.0</td>\n",
       "      <td>0.0</td>\n",
       "      <td>0.384251</td>\n",
       "      <td>0.0</td>\n",
       "      <td>11.0</td>\n",
       "    </tr>\n",
       "    <tr>\n",
       "      <th>73</th>\n",
       "      <td>0.0</td>\n",
       "      <td>0.000000</td>\n",
       "      <td>0.0</td>\n",
       "      <td>0.0</td>\n",
       "      <td>0.0</td>\n",
       "      <td>0.0</td>\n",
       "      <td>0.0</td>\n",
       "      <td>0.0</td>\n",
       "      <td>0.0</td>\n",
       "      <td>0.0</td>\n",
       "      <td>...</td>\n",
       "      <td>0.0</td>\n",
       "      <td>0.0</td>\n",
       "      <td>0.0</td>\n",
       "      <td>0.0</td>\n",
       "      <td>0.0</td>\n",
       "      <td>0.0</td>\n",
       "      <td>0.0</td>\n",
       "      <td>0.384251</td>\n",
       "      <td>0.0</td>\n",
       "      <td>10.0</td>\n",
       "    </tr>\n",
       "  </tbody>\n",
       "</table>\n",
       "<p>5 rows × 273 columns</p>\n",
       "</div>"
      ],
      "text/plain": [
       "      CCS1     CCS10  CCS100  CCS101  CCS102  CCS103  CCS104  CCS105  CCS106  \\\n",
       "0      0.0  0.000000     0.0     0.0     0.0     0.0     0.0     0.0     0.0   \n",
       "39     0.0  0.000000     0.0     0.0     0.0     0.0     0.0     0.0     0.0   \n",
       "104    0.0  0.000000     0.0     0.0     0.0     0.0     0.0     0.0     0.0   \n",
       "4887   0.0  0.845699     0.0     0.0     0.0     0.0     0.0     0.0     0.0   \n",
       "73     0.0  0.000000     0.0     0.0     0.0     0.0     0.0     0.0     0.0   \n",
       "\n",
       "      CCS107       ...        CCS91  CCS92  CCS93  CCS94  CCS95  CCS96  CCS97  \\\n",
       "0        0.0       ...          0.0    0.0    0.0    0.0    0.0    0.0    0.0   \n",
       "39       0.0       ...          0.0    0.0    0.0    0.0    0.0    0.0    0.0   \n",
       "104      0.0       ...          0.0    0.0    0.0    0.0    0.0    0.0    0.0   \n",
       "4887     0.0       ...          0.0    0.0    0.0    0.0    0.0    0.0    0.0   \n",
       "73       0.0       ...          0.0    0.0    0.0    0.0    0.0    0.0    0.0   \n",
       "\n",
       "         CCS98  CCS99  Total_Patients  \n",
       "0     0.000000    0.0            37.0  \n",
       "39    0.384251    0.0            28.0  \n",
       "104   0.000000    0.0            19.0  \n",
       "4887  0.384251    0.0            11.0  \n",
       "73    0.384251    0.0            10.0  \n",
       "\n",
       "[5 rows x 273 columns]"
      ]
     },
     "execution_count": 39,
     "metadata": {},
     "output_type": "execute_result"
    }
   ],
   "source": [
    "cols=diabetic_patients_binary_ddup.columns.tolist()\n",
    "diabetic_patients_binary_ddup[cols]=diabetic_patients_binary_ddup[cols].astype(float)\n",
    "\n",
    "##converting binary matrix to IDF (i,e converting 0-1 to IDF)\n",
    "for index,row in diabetic_patients_binary_ddup.iterrows():\n",
    "    #print(index)\n",
    "    for col in cols[:-1]:\n",
    "         if(row[col]==1):\n",
    "            fre=codes_stats[codes_stats['ccs_code']==col]['population_percentage']\n",
    "            fre=(fre*1.0/100).iloc[0]\n",
    "            #print(\"frequency is\",fre)\n",
    "            diabetic_patients_binary_ddup.loc[index][col]=np.log(1.0/fre)*1.0 \n",
    "            #print(\"code is\",col,\"frequency is\" ,fre,\"IDF is\",np.log(1.0/fre)*1.0,\"Valu\n",
    "diabetic_patients_binary_ddup.head() "
   ]
  },
  {
   "cell_type": "code",
   "execution_count": 41,
   "metadata": {
    "collapsed": false
   },
   "outputs": [
    {
     "name": "stdout",
     "output_type": "stream",
     "text": [
      "(8667, 273)\n"
     ]
    }
   ],
   "source": [
    "print(diabetic_patients_binary_ddup.shape)\n",
    "#print(clusters.shape) "
   ]
  },
  {
   "cell_type": "code",
   "execution_count": 42,
   "metadata": {
    "collapsed": false
   },
   "outputs": [
    {
     "name": "stdout",
     "output_type": "stream",
     "text": [
      "  ccs_code         LABEL  Total_Patients  population_percentage\n",
      "1    CCS10  Immuniz/scrn            3844               42.92574\n",
      "0.845832268226\n",
      "\n",
      "\n",
      "    ccs_code LABEL  Total_Patients  population_percentage\n",
      "270    CCS98   HTN            6098              68.096036\n",
      "0.384339826493\n"
     ]
    }
   ],
   "source": [
    "#checking if the conversion happens correctly\n",
    "print(codes_stats[codes_stats['ccs_code']=='CCS10'])  \n",
    "print(math.log(1.0/0.4292)) \n",
    "\n",
    "print('\\n') \n",
    "\n",
    "print(codes_stats[codes_stats['ccs_code']=='CCS98'])  \n",
    "print(math.log(1.0/0.6809))  \n",
    "\n",
    "#Happened Correctly"
   ]
  },
  {
   "cell_type": "code",
   "execution_count": 43,
   "metadata": {
    "collapsed": false
   },
   "outputs": [
    {
     "data": {
      "text/plain": [
       "0.33388724557543031"
      ]
     },
     "execution_count": 43,
     "metadata": {},
     "output_type": "execute_result"
    }
   ],
   "source": [
    "#Clustering based on Cosine Metric and Average linkage Method\n",
    "import matplotlib.pyplot as plt\n",
    "from scipy.spatial.distance import pdist, squareform\n",
    "from scipy.cluster.hierarchy import linkage, dendrogram    \n",
    "from scipy.cluster.hierarchy import cophenet\n",
    "\n",
    "checkx=diabetic_patients_binary_ddup[1:]\n",
    "X=pdist(checkx.ix[:,0:len(diabetic_patients_binary_ddup.columns)-1],metric='cosine')\n",
    "\n",
    "Z = linkage(X,method='average') \n",
    "c,cd=cophenet(Z,X)\n",
    "c "
   ]
  },
  {
   "cell_type": "code",
   "execution_count": 44,
   "metadata": {
    "collapsed": false
   },
   "outputs": [],
   "source": [
    "##Code to make dendogram\n",
    "\n",
    "# plt.title('Hierarchical Clustering Dendrogram (truncated)')\n",
    "# plt.xlabel('Patient Group')\n",
    "# plt.ylabel(' Cosine distance')\n",
    "# dendrogram(\n",
    "#     Z,\n",
    "#     truncate_mode='level',  # show only the last p merged clusters\n",
    "#     p=100,  # show only the last p merged clusters\n",
    "#     show_leaf_counts=True,  # otherwise numbers in brackets are counts\n",
    "#     leaf_rotation=90.,\n",
    "#     leaf_font_size=12.,\n",
    "#     labels=list(checkx.index),\n",
    "#     show_contracted=True,  # to get a distribution impression in truncated branches\n",
    "# ) \n",
    "# plt.show() "
   ]
  },
  {
   "cell_type": "code",
   "execution_count": 45,
   "metadata": {
    "collapsed": false
   },
   "outputs": [
    {
     "data": {
      "text/plain": [
       "clusters_id\n",
       "40    1119.0\n",
       "47     936.0\n",
       "25     810.0\n",
       "32     610.0\n",
       "21     580.0\n",
       "37     502.0\n",
       "39     431.0\n",
       "34     406.0\n",
       "26     333.0\n",
       "38     266.0\n",
       "28     250.0\n",
       "16     246.0\n",
       "44     168.0\n",
       "42     161.0\n",
       "33     153.0\n",
       "50     139.0\n",
       "27     132.0\n",
       "46     121.0\n",
       "36     116.0\n",
       "17     109.0\n",
       "Name: Total_Patients, dtype: float64"
      ]
     },
     "execution_count": 45,
     "metadata": {},
     "output_type": "execute_result"
    }
   ],
   "source": [
    "#Code for clustering\n",
    "\n",
    "from scipy.cluster.hierarchy import dendrogram, linkage , fcluster\n",
    "max_d=0.9\n",
    "clusters=fcluster(Z,max_d,criterion='distance')\n",
    "clusters\n",
    "\n",
    "clusters=pd.DataFrame(clusters)\n",
    "clusters=clusters.rename(columns = {0:'clusters_id'})  \n",
    "\n",
    "#concatinating binary ddup with cluster id.\n",
    "checkx_new=pd.concat([checkx.reset_index(),clusters], axis=1)  \n",
    "cols = checkx_new.columns.tolist() \n",
    "cols = cols[-2:] + cols[:-2] \n",
    "checkx_new=checkx_new[cols] \n",
    "checkx_new.set_index('index',inplace=True)  \n",
    "community=checkx_new.groupby(['clusters_id']).Total_Patients.sum().sort_values(ascending=False)\n",
    "community[:20] "
   ]
  },
  {
   "cell_type": "code",
   "execution_count": 46,
   "metadata": {
    "collapsed": false
   },
   "outputs": [],
   "source": [
    "### code for adding Z_score and cluster statistics.\n",
    "\n",
    "def z_score(ccs_code):\n",
    "    \n",
    "    p_1=cluster_stats[cluster_stats['ccs_code']==ccs_code]['Total_Patients']*1.0/community[cluster_stats['cluster_id'][0]]\n",
    "    p_1=p_1.iloc[0]\n",
    "    p_2=codes_stats[codes_stats['ccs_code']==ccs_code]['Total_Patients']*1.0/8955.0\n",
    "    p_2=p_2.iloc[0]\n",
    "    \n",
    "    n_1 = community[cluster_stats['cluster_id'][0]]*1.0 #cluster Population\n",
    "    n_2 = 8955.0  #Total Population \n",
    "  \n",
    "    p =(n_1*p_1 + n_2*p_2)*1.0/(n_1 + n_2)\n",
    "   \n",
    "    num = (p_1-p_2)*1.0\n",
    "    deno= math.sqrt(p*(1-p)*( (1.0/n_1) + (1.0/n_2) ))\n",
    "    \n",
    "    z=round((num*1.0/deno),2)  \n",
    "    \n",
    "    p_values = round((scipy.stats.norm.sf(abs(z))*2),4) #twosided P Tailed test\n",
    "    \n",
    "    return(z,p_values)\n",
    "\n",
    "\n",
    "def clusterstatistic(cluster_id):\n",
    "    #print(cluster_id)\n",
    "    cluster=checkx_new[checkx_new['clusters_id']==cluster_id]\n",
    "   \n",
    "    cluster=cluster.loc[:,(cluster!=0).any(axis=0)]\n",
    "    #cluster.head()\n",
    "\n",
    "    ccs_codes=cluster.columns.tolist()\n",
    "    ccs_codes=ccs_codes[2:]\n",
    "    cluster_stats=pd.DataFrame(columns=['cluster_id','CCS_Code','Total_Patients'])\n",
    "    for code in ccs_codes:\n",
    "        patients=cluster[cluster[code]!=0].Total_Patients.sum() \n",
    "        #print(\"code is\",code,\"patients is\",patients)\n",
    "        tmp=pd.DataFrame(index=range(1,2),columns=['cluster_id','CCS_Code','Total_Patients']) \n",
    "        tmp.ix[:,0]=cluster_id\n",
    "        tmp.ix[:,1]=code\n",
    "        tmp.ix[:,2]=patients \n",
    "        cluster_stats=cluster_stats.append(tmp) \n",
    "\n",
    "    #cluster_stats.head()\n",
    "\n",
    "    #cluster_stats=cluster_stats[1:]\n",
    "    cluster_stats.sort_values(by='Total_Patients',ascending=False,inplace=True)\n",
    "    #cluster_stats.head()\n",
    "\n",
    "    cluster_stats['%community']=(cluster_stats['Total_Patients']*1.0/cluster['Total_Patients'].sum())*100.0\n",
    "    #cluster_stats['%diabetic_population']=(cluster_stats['Total_Patients']*1.0/14845.0)*100.0\n",
    "    #cluster_stats.head()\n",
    "\n",
    "    #tmp1.head()\n",
    "\n",
    "    cluster_stats=pd.merge(tmp1,cluster_stats,left_on='ccs_code',right_on='CCS_Code')\n",
    "    #cluster_stats.head()\n",
    "\n",
    "    del cluster_stats['CCS_Code']\n",
    "    cluster_stats.sort_values(by='Total_Patients',ascending=False,inplace=True)\n",
    "    return cluster_stats"
   ]
  },
  {
   "cell_type": "code",
   "execution_count": 122,
   "metadata": {
    "collapsed": false
   },
   "outputs": [
    {
     "data": {
      "text/plain": [
       "clusters_id\n",
       "40    1119.0\n",
       "47     936.0\n",
       "25     810.0\n",
       "32     610.0\n",
       "21     580.0\n",
       "37     502.0\n",
       "39     431.0\n",
       "34     406.0\n",
       "26     333.0\n",
       "38     266.0\n",
       "28     250.0\n",
       "16     246.0\n",
       "44     168.0\n",
       "42     161.0\n",
       "33     153.0\n",
       "50     139.0\n",
       "27     132.0\n",
       "46     121.0\n",
       "36     116.0\n",
       "17     109.0\n",
       "Name: Total_Patients, dtype: float64"
      ]
     },
     "execution_count": 122,
     "metadata": {},
     "output_type": "execute_result"
    }
   ],
   "source": [
    "community[:20]\n"
   ]
  },
  {
   "cell_type": "code",
   "execution_count": 49,
   "metadata": {
    "collapsed": false
   },
   "outputs": [],
   "source": [
    "import scipy.stats\n",
    "cluster_stats=clusterstatistic(47)\n",
    "cluster_stats['%diabetic_population']=np.nan\n",
    "cluster_stats['z_score']=np.nan\n",
    "cluster_stats['p_value']=np.nan\n",
    "for index,row in cluster_stats.iterrows(): \n",
    "    z,p=z_score(row['ccs_code'])\n",
    "    cluster_stats.loc[index,'%diabetic_population']=codes_stats[codes_stats['ccs_code']==row['ccs_code']] .population_percentage.iloc[0] \n",
    "    cluster_stats.loc[index,'z_score']=z\n",
    "    cluster_stats.loc[index,'p_value']=p  \n",
    "\n",
    "cluster_stats['sort']=cluster_stats.z_score.abs()\n",
    "cluster_stats.sort_values(by='sort',ascending=False,inplace=True)\n",
    "cluster_stats.drop('sort',axis=1,inplace=True)\n",
    "cluster_stats  ;"
   ]
  },
  {
   "cell_type": "code",
   "execution_count": 199,
   "metadata": {
    "collapsed": false
   },
   "outputs": [],
   "source": [
    "#Code  to save all clusters to worksheets\n",
    "# d=0.9\n",
    "# writer = pd.ExcelWriter('../../Data_Created/Diabetic Clustering/clusters-'+str(d)+'.xlsx',engine='xlsxwriter')\n",
    "# for cluster_id in community[community>80].index:\n",
    "#     community_patients=community[cluster_id]\n",
    "#     cluster_stats=clusterstatistic(cluster_id)\n",
    "#     cluster_stats['%diabetic_population']=np.nan\n",
    "#     cluster_stats['z_score']=np.nan\n",
    "#     cluster_stats['p_value']=np.nan\n",
    "#     for index,row in cluster_stats.iterrows(): \n",
    "#         z,p=z_score(row['ccs_code'])\n",
    "#         cluster_stats.loc[index,'%diabetic_population']=codes_stats[codes_stats['ccs_code']==row['ccs_code']] .population_percentage.iloc[0] \n",
    "#         cluster_stats.loc[index,'z_score']=z\n",
    "#         cluster_stats.loc[index,'p_value']=p  \n",
    "\n",
    "#     cluster_stats['sort']=cluster_stats.z_score.abs()\n",
    "#     cluster_stats.sort_values(by='sort',ascending=False,inplace=True)\n",
    "#     cluster_stats.drop('sort',axis=1,inplace=True)\n",
    "#     cluster_stats.to_excel(writer,sheet_name=str(int(community_patients)),index=False)\n",
    "# writer.save()\n",
    "      "
   ]
  },
  {
   "cell_type": "markdown",
   "metadata": {},
   "source": [
    "# Performance evaluation measures on finalised clusters"
   ]
  },
  {
   "cell_type": "code",
   "execution_count": 50,
   "metadata": {
    "collapsed": false
   },
   "outputs": [
    {
     "data": {
      "text/html": [
       "<div>\n",
       "<table border=\"1\" class=\"dataframe\">\n",
       "  <thead>\n",
       "    <tr style=\"text-align: right;\">\n",
       "      <th></th>\n",
       "      <th>Total_Patients</th>\n",
       "      <th>clusters_id</th>\n",
       "      <th>CCS1</th>\n",
       "      <th>CCS10</th>\n",
       "      <th>CCS100</th>\n",
       "      <th>CCS101</th>\n",
       "      <th>CCS102</th>\n",
       "      <th>CCS103</th>\n",
       "      <th>CCS104</th>\n",
       "      <th>CCS105</th>\n",
       "      <th>...</th>\n",
       "      <th>CCS90</th>\n",
       "      <th>CCS91</th>\n",
       "      <th>CCS92</th>\n",
       "      <th>CCS93</th>\n",
       "      <th>CCS94</th>\n",
       "      <th>CCS95</th>\n",
       "      <th>CCS96</th>\n",
       "      <th>CCS97</th>\n",
       "      <th>CCS98</th>\n",
       "      <th>CCS99</th>\n",
       "    </tr>\n",
       "    <tr>\n",
       "      <th>index</th>\n",
       "      <th></th>\n",
       "      <th></th>\n",
       "      <th></th>\n",
       "      <th></th>\n",
       "      <th></th>\n",
       "      <th></th>\n",
       "      <th></th>\n",
       "      <th></th>\n",
       "      <th></th>\n",
       "      <th></th>\n",
       "      <th></th>\n",
       "      <th></th>\n",
       "      <th></th>\n",
       "      <th></th>\n",
       "      <th></th>\n",
       "      <th></th>\n",
       "      <th></th>\n",
       "      <th></th>\n",
       "      <th></th>\n",
       "      <th></th>\n",
       "      <th></th>\n",
       "    </tr>\n",
       "  </thead>\n",
       "  <tbody>\n",
       "    <tr>\n",
       "      <th>39</th>\n",
       "      <td>28.0</td>\n",
       "      <td>40</td>\n",
       "      <td>0.0</td>\n",
       "      <td>0.000000</td>\n",
       "      <td>0.0</td>\n",
       "      <td>0.0</td>\n",
       "      <td>0.0</td>\n",
       "      <td>0.0</td>\n",
       "      <td>0.0</td>\n",
       "      <td>0.0</td>\n",
       "      <td>...</td>\n",
       "      <td>0.0</td>\n",
       "      <td>0.0</td>\n",
       "      <td>0.0</td>\n",
       "      <td>0.0</td>\n",
       "      <td>0.0</td>\n",
       "      <td>0.0</td>\n",
       "      <td>0.0</td>\n",
       "      <td>0.0</td>\n",
       "      <td>0.384251</td>\n",
       "      <td>0.0</td>\n",
       "    </tr>\n",
       "    <tr>\n",
       "      <th>104</th>\n",
       "      <td>19.0</td>\n",
       "      <td>40</td>\n",
       "      <td>0.0</td>\n",
       "      <td>0.000000</td>\n",
       "      <td>0.0</td>\n",
       "      <td>0.0</td>\n",
       "      <td>0.0</td>\n",
       "      <td>0.0</td>\n",
       "      <td>0.0</td>\n",
       "      <td>0.0</td>\n",
       "      <td>...</td>\n",
       "      <td>0.0</td>\n",
       "      <td>0.0</td>\n",
       "      <td>0.0</td>\n",
       "      <td>0.0</td>\n",
       "      <td>0.0</td>\n",
       "      <td>0.0</td>\n",
       "      <td>0.0</td>\n",
       "      <td>0.0</td>\n",
       "      <td>0.000000</td>\n",
       "      <td>0.0</td>\n",
       "    </tr>\n",
       "    <tr>\n",
       "      <th>4887</th>\n",
       "      <td>11.0</td>\n",
       "      <td>40</td>\n",
       "      <td>0.0</td>\n",
       "      <td>0.845699</td>\n",
       "      <td>0.0</td>\n",
       "      <td>0.0</td>\n",
       "      <td>0.0</td>\n",
       "      <td>0.0</td>\n",
       "      <td>0.0</td>\n",
       "      <td>0.0</td>\n",
       "      <td>...</td>\n",
       "      <td>0.0</td>\n",
       "      <td>0.0</td>\n",
       "      <td>0.0</td>\n",
       "      <td>0.0</td>\n",
       "      <td>0.0</td>\n",
       "      <td>0.0</td>\n",
       "      <td>0.0</td>\n",
       "      <td>0.0</td>\n",
       "      <td>0.384251</td>\n",
       "      <td>0.0</td>\n",
       "    </tr>\n",
       "    <tr>\n",
       "      <th>73</th>\n",
       "      <td>10.0</td>\n",
       "      <td>40</td>\n",
       "      <td>0.0</td>\n",
       "      <td>0.000000</td>\n",
       "      <td>0.0</td>\n",
       "      <td>0.0</td>\n",
       "      <td>0.0</td>\n",
       "      <td>0.0</td>\n",
       "      <td>0.0</td>\n",
       "      <td>0.0</td>\n",
       "      <td>...</td>\n",
       "      <td>0.0</td>\n",
       "      <td>0.0</td>\n",
       "      <td>0.0</td>\n",
       "      <td>0.0</td>\n",
       "      <td>0.0</td>\n",
       "      <td>0.0</td>\n",
       "      <td>0.0</td>\n",
       "      <td>0.0</td>\n",
       "      <td>0.384251</td>\n",
       "      <td>0.0</td>\n",
       "    </tr>\n",
       "    <tr>\n",
       "      <th>163</th>\n",
       "      <td>10.0</td>\n",
       "      <td>40</td>\n",
       "      <td>0.0</td>\n",
       "      <td>0.000000</td>\n",
       "      <td>0.0</td>\n",
       "      <td>0.0</td>\n",
       "      <td>0.0</td>\n",
       "      <td>0.0</td>\n",
       "      <td>0.0</td>\n",
       "      <td>0.0</td>\n",
       "      <td>...</td>\n",
       "      <td>0.0</td>\n",
       "      <td>0.0</td>\n",
       "      <td>0.0</td>\n",
       "      <td>0.0</td>\n",
       "      <td>0.0</td>\n",
       "      <td>0.0</td>\n",
       "      <td>0.0</td>\n",
       "      <td>0.0</td>\n",
       "      <td>0.384251</td>\n",
       "      <td>0.0</td>\n",
       "    </tr>\n",
       "  </tbody>\n",
       "</table>\n",
       "<p>5 rows × 274 columns</p>\n",
       "</div>"
      ],
      "text/plain": [
       "       Total_Patients  clusters_id  CCS1     CCS10  CCS100  CCS101  CCS102  \\\n",
       "index                                                                        \n",
       "39               28.0           40   0.0  0.000000     0.0     0.0     0.0   \n",
       "104              19.0           40   0.0  0.000000     0.0     0.0     0.0   \n",
       "4887             11.0           40   0.0  0.845699     0.0     0.0     0.0   \n",
       "73               10.0           40   0.0  0.000000     0.0     0.0     0.0   \n",
       "163              10.0           40   0.0  0.000000     0.0     0.0     0.0   \n",
       "\n",
       "       CCS103  CCS104  CCS105  ...    CCS90  CCS91  CCS92  CCS93  CCS94  \\\n",
       "index                          ...                                        \n",
       "39        0.0     0.0     0.0  ...      0.0    0.0    0.0    0.0    0.0   \n",
       "104       0.0     0.0     0.0  ...      0.0    0.0    0.0    0.0    0.0   \n",
       "4887      0.0     0.0     0.0  ...      0.0    0.0    0.0    0.0    0.0   \n",
       "73        0.0     0.0     0.0  ...      0.0    0.0    0.0    0.0    0.0   \n",
       "163       0.0     0.0     0.0  ...      0.0    0.0    0.0    0.0    0.0   \n",
       "\n",
       "       CCS95  CCS96  CCS97     CCS98  CCS99  \n",
       "index                                        \n",
       "39       0.0    0.0    0.0  0.384251    0.0  \n",
       "104      0.0    0.0    0.0  0.000000    0.0  \n",
       "4887     0.0    0.0    0.0  0.384251    0.0  \n",
       "73       0.0    0.0    0.0  0.384251    0.0  \n",
       "163      0.0    0.0    0.0  0.384251    0.0  \n",
       "\n",
       "[5 rows x 274 columns]"
      ]
     },
     "execution_count": 50,
     "metadata": {},
     "output_type": "execute_result"
    }
   ],
   "source": [
    "final_clusters=[40,47,25,32,21,37,39,34,26,38,28,16] \n",
    "checkx_new.head() "
   ]
  },
  {
   "cell_type": "code",
   "execution_count": 51,
   "metadata": {
    "collapsed": false
   },
   "outputs": [
    {
     "data": {
      "text/plain": [
       "8919.0"
      ]
     },
     "execution_count": 51,
     "metadata": {},
     "output_type": "execute_result"
    }
   ],
   "source": [
    "checkx_new['Total_Patients'].sum() "
   ]
  },
  {
   "cell_type": "markdown",
   "metadata": {},
   "source": [
    "## Mapping cluster_id back  to patient's euid & Comm NPI\n"
   ]
  },
  {
   "cell_type": "code",
   "execution_count": 52,
   "metadata": {
    "collapsed": false
   },
   "outputs": [
    {
     "data": {
      "text/plain": [
       "(8666, 274)"
      ]
     },
     "execution_count": 52,
     "metadata": {},
     "output_type": "execute_result"
    }
   ],
   "source": [
    "checkx_new.shape "
   ]
  },
  {
   "cell_type": "code",
   "execution_count": 53,
   "metadata": {
    "collapsed": false
   },
   "outputs": [],
   "source": [
    "diabetic_imp_clusters=checkx_new[checkx_new['clusters_id'].isin(final_clusters)] "
   ]
  },
  {
   "cell_type": "code",
   "execution_count": 54,
   "metadata": {
    "collapsed": false
   },
   "outputs": [
    {
     "data": {
      "text/html": [
       "<div>\n",
       "<table border=\"1\" class=\"dataframe\">\n",
       "  <thead>\n",
       "    <tr style=\"text-align: right;\">\n",
       "      <th></th>\n",
       "      <th>Total_Patients</th>\n",
       "      <th>clusters_id</th>\n",
       "      <th>CCS1</th>\n",
       "      <th>CCS10</th>\n",
       "      <th>CCS100</th>\n",
       "      <th>CCS101</th>\n",
       "      <th>CCS102</th>\n",
       "      <th>CCS103</th>\n",
       "      <th>CCS104</th>\n",
       "      <th>CCS105</th>\n",
       "      <th>...</th>\n",
       "      <th>CCS90</th>\n",
       "      <th>CCS91</th>\n",
       "      <th>CCS92</th>\n",
       "      <th>CCS93</th>\n",
       "      <th>CCS94</th>\n",
       "      <th>CCS95</th>\n",
       "      <th>CCS96</th>\n",
       "      <th>CCS97</th>\n",
       "      <th>CCS98</th>\n",
       "      <th>CCS99</th>\n",
       "    </tr>\n",
       "    <tr>\n",
       "      <th>index</th>\n",
       "      <th></th>\n",
       "      <th></th>\n",
       "      <th></th>\n",
       "      <th></th>\n",
       "      <th></th>\n",
       "      <th></th>\n",
       "      <th></th>\n",
       "      <th></th>\n",
       "      <th></th>\n",
       "      <th></th>\n",
       "      <th></th>\n",
       "      <th></th>\n",
       "      <th></th>\n",
       "      <th></th>\n",
       "      <th></th>\n",
       "      <th></th>\n",
       "      <th></th>\n",
       "      <th></th>\n",
       "      <th></th>\n",
       "      <th></th>\n",
       "      <th></th>\n",
       "    </tr>\n",
       "  </thead>\n",
       "  <tbody>\n",
       "    <tr>\n",
       "      <th>39</th>\n",
       "      <td>28.0</td>\n",
       "      <td>40</td>\n",
       "      <td>0.0</td>\n",
       "      <td>0.000000</td>\n",
       "      <td>0.0</td>\n",
       "      <td>0.0</td>\n",
       "      <td>0.0</td>\n",
       "      <td>0.0</td>\n",
       "      <td>0.0</td>\n",
       "      <td>0.0</td>\n",
       "      <td>...</td>\n",
       "      <td>0.0</td>\n",
       "      <td>0.0</td>\n",
       "      <td>0.0</td>\n",
       "      <td>0.0</td>\n",
       "      <td>0.0</td>\n",
       "      <td>0.0</td>\n",
       "      <td>0.0</td>\n",
       "      <td>0.0</td>\n",
       "      <td>0.384251</td>\n",
       "      <td>0.0</td>\n",
       "    </tr>\n",
       "    <tr>\n",
       "      <th>104</th>\n",
       "      <td>19.0</td>\n",
       "      <td>40</td>\n",
       "      <td>0.0</td>\n",
       "      <td>0.000000</td>\n",
       "      <td>0.0</td>\n",
       "      <td>0.0</td>\n",
       "      <td>0.0</td>\n",
       "      <td>0.0</td>\n",
       "      <td>0.0</td>\n",
       "      <td>0.0</td>\n",
       "      <td>...</td>\n",
       "      <td>0.0</td>\n",
       "      <td>0.0</td>\n",
       "      <td>0.0</td>\n",
       "      <td>0.0</td>\n",
       "      <td>0.0</td>\n",
       "      <td>0.0</td>\n",
       "      <td>0.0</td>\n",
       "      <td>0.0</td>\n",
       "      <td>0.000000</td>\n",
       "      <td>0.0</td>\n",
       "    </tr>\n",
       "    <tr>\n",
       "      <th>4887</th>\n",
       "      <td>11.0</td>\n",
       "      <td>40</td>\n",
       "      <td>0.0</td>\n",
       "      <td>0.845699</td>\n",
       "      <td>0.0</td>\n",
       "      <td>0.0</td>\n",
       "      <td>0.0</td>\n",
       "      <td>0.0</td>\n",
       "      <td>0.0</td>\n",
       "      <td>0.0</td>\n",
       "      <td>...</td>\n",
       "      <td>0.0</td>\n",
       "      <td>0.0</td>\n",
       "      <td>0.0</td>\n",
       "      <td>0.0</td>\n",
       "      <td>0.0</td>\n",
       "      <td>0.0</td>\n",
       "      <td>0.0</td>\n",
       "      <td>0.0</td>\n",
       "      <td>0.384251</td>\n",
       "      <td>0.0</td>\n",
       "    </tr>\n",
       "    <tr>\n",
       "      <th>73</th>\n",
       "      <td>10.0</td>\n",
       "      <td>40</td>\n",
       "      <td>0.0</td>\n",
       "      <td>0.000000</td>\n",
       "      <td>0.0</td>\n",
       "      <td>0.0</td>\n",
       "      <td>0.0</td>\n",
       "      <td>0.0</td>\n",
       "      <td>0.0</td>\n",
       "      <td>0.0</td>\n",
       "      <td>...</td>\n",
       "      <td>0.0</td>\n",
       "      <td>0.0</td>\n",
       "      <td>0.0</td>\n",
       "      <td>0.0</td>\n",
       "      <td>0.0</td>\n",
       "      <td>0.0</td>\n",
       "      <td>0.0</td>\n",
       "      <td>0.0</td>\n",
       "      <td>0.384251</td>\n",
       "      <td>0.0</td>\n",
       "    </tr>\n",
       "    <tr>\n",
       "      <th>163</th>\n",
       "      <td>10.0</td>\n",
       "      <td>40</td>\n",
       "      <td>0.0</td>\n",
       "      <td>0.000000</td>\n",
       "      <td>0.0</td>\n",
       "      <td>0.0</td>\n",
       "      <td>0.0</td>\n",
       "      <td>0.0</td>\n",
       "      <td>0.0</td>\n",
       "      <td>0.0</td>\n",
       "      <td>...</td>\n",
       "      <td>0.0</td>\n",
       "      <td>0.0</td>\n",
       "      <td>0.0</td>\n",
       "      <td>0.0</td>\n",
       "      <td>0.0</td>\n",
       "      <td>0.0</td>\n",
       "      <td>0.0</td>\n",
       "      <td>0.0</td>\n",
       "      <td>0.384251</td>\n",
       "      <td>0.0</td>\n",
       "    </tr>\n",
       "  </tbody>\n",
       "</table>\n",
       "<p>5 rows × 274 columns</p>\n",
       "</div>"
      ],
      "text/plain": [
       "       Total_Patients  clusters_id  CCS1     CCS10  CCS100  CCS101  CCS102  \\\n",
       "index                                                                        \n",
       "39               28.0           40   0.0  0.000000     0.0     0.0     0.0   \n",
       "104              19.0           40   0.0  0.000000     0.0     0.0     0.0   \n",
       "4887             11.0           40   0.0  0.845699     0.0     0.0     0.0   \n",
       "73               10.0           40   0.0  0.000000     0.0     0.0     0.0   \n",
       "163              10.0           40   0.0  0.000000     0.0     0.0     0.0   \n",
       "\n",
       "       CCS103  CCS104  CCS105  ...    CCS90  CCS91  CCS92  CCS93  CCS94  \\\n",
       "index                          ...                                        \n",
       "39        0.0     0.0     0.0  ...      0.0    0.0    0.0    0.0    0.0   \n",
       "104       0.0     0.0     0.0  ...      0.0    0.0    0.0    0.0    0.0   \n",
       "4887      0.0     0.0     0.0  ...      0.0    0.0    0.0    0.0    0.0   \n",
       "73        0.0     0.0     0.0  ...      0.0    0.0    0.0    0.0    0.0   \n",
       "163       0.0     0.0     0.0  ...      0.0    0.0    0.0    0.0    0.0   \n",
       "\n",
       "       CCS95  CCS96  CCS97     CCS98  CCS99  \n",
       "index                                        \n",
       "39       0.0    0.0    0.0  0.384251    0.0  \n",
       "104      0.0    0.0    0.0  0.000000    0.0  \n",
       "4887     0.0    0.0    0.0  0.384251    0.0  \n",
       "73       0.0    0.0    0.0  0.384251    0.0  \n",
       "163      0.0    0.0    0.0  0.384251    0.0  \n",
       "\n",
       "[5 rows x 274 columns]"
      ]
     },
     "execution_count": 54,
     "metadata": {},
     "output_type": "execute_result"
    }
   ],
   "source": [
    "diabetic_imp_clusters.head() "
   ]
  },
  {
   "cell_type": "code",
   "execution_count": 55,
   "metadata": {
    "collapsed": false
   },
   "outputs": [
    {
     "data": {
      "text/plain": [
       "6489.0"
      ]
     },
     "execution_count": 55,
     "metadata": {},
     "output_type": "execute_result"
    }
   ],
   "source": [
    "diabetic_imp_clusters['Total_Patients'].sum() "
   ]
  },
  {
   "cell_type": "markdown",
   "metadata": {},
   "source": [
    "### changing all values greater !0 to 1(back to binary)"
   ]
  },
  {
   "cell_type": "code",
   "execution_count": 56,
   "metadata": {
    "collapsed": false
   },
   "outputs": [
    {
     "name": "stderr",
     "output_type": "stream",
     "text": [
      "C:\\Users\\IBM_ADMIN\\Anaconda2\\lib\\site-packages\\pandas\\core\\frame.py:2369: SettingWithCopyWarning: \n",
      "A value is trying to be set on a copy of a slice from a DataFrame.\n",
      "Try using .loc[row_indexer,col_indexer] = value instead\n",
      "\n",
      "See the caveats in the documentation: http://pandas.pydata.org/pandas-docs/stable/indexing.html#indexing-view-versus-copy\n",
      "  self[k1] = value[k2]\n"
     ]
    },
    {
     "data": {
      "text/html": [
       "<div>\n",
       "<table border=\"1\" class=\"dataframe\">\n",
       "  <thead>\n",
       "    <tr style=\"text-align: right;\">\n",
       "      <th></th>\n",
       "      <th>Total_Patients</th>\n",
       "      <th>clusters_id</th>\n",
       "      <th>CCS1</th>\n",
       "      <th>CCS10</th>\n",
       "      <th>CCS100</th>\n",
       "      <th>CCS101</th>\n",
       "      <th>CCS102</th>\n",
       "      <th>CCS103</th>\n",
       "      <th>CCS104</th>\n",
       "      <th>CCS105</th>\n",
       "      <th>...</th>\n",
       "      <th>CCS90</th>\n",
       "      <th>CCS91</th>\n",
       "      <th>CCS92</th>\n",
       "      <th>CCS93</th>\n",
       "      <th>CCS94</th>\n",
       "      <th>CCS95</th>\n",
       "      <th>CCS96</th>\n",
       "      <th>CCS97</th>\n",
       "      <th>CCS98</th>\n",
       "      <th>CCS99</th>\n",
       "    </tr>\n",
       "    <tr>\n",
       "      <th>index</th>\n",
       "      <th></th>\n",
       "      <th></th>\n",
       "      <th></th>\n",
       "      <th></th>\n",
       "      <th></th>\n",
       "      <th></th>\n",
       "      <th></th>\n",
       "      <th></th>\n",
       "      <th></th>\n",
       "      <th></th>\n",
       "      <th></th>\n",
       "      <th></th>\n",
       "      <th></th>\n",
       "      <th></th>\n",
       "      <th></th>\n",
       "      <th></th>\n",
       "      <th></th>\n",
       "      <th></th>\n",
       "      <th></th>\n",
       "      <th></th>\n",
       "      <th></th>\n",
       "    </tr>\n",
       "  </thead>\n",
       "  <tbody>\n",
       "    <tr>\n",
       "      <th>39</th>\n",
       "      <td>28.0</td>\n",
       "      <td>40</td>\n",
       "      <td>0</td>\n",
       "      <td>0</td>\n",
       "      <td>0</td>\n",
       "      <td>0</td>\n",
       "      <td>0</td>\n",
       "      <td>0</td>\n",
       "      <td>0</td>\n",
       "      <td>0</td>\n",
       "      <td>...</td>\n",
       "      <td>0</td>\n",
       "      <td>0</td>\n",
       "      <td>0</td>\n",
       "      <td>0</td>\n",
       "      <td>0</td>\n",
       "      <td>0</td>\n",
       "      <td>0</td>\n",
       "      <td>0</td>\n",
       "      <td>1</td>\n",
       "      <td>0</td>\n",
       "    </tr>\n",
       "    <tr>\n",
       "      <th>104</th>\n",
       "      <td>19.0</td>\n",
       "      <td>40</td>\n",
       "      <td>0</td>\n",
       "      <td>0</td>\n",
       "      <td>0</td>\n",
       "      <td>0</td>\n",
       "      <td>0</td>\n",
       "      <td>0</td>\n",
       "      <td>0</td>\n",
       "      <td>0</td>\n",
       "      <td>...</td>\n",
       "      <td>0</td>\n",
       "      <td>0</td>\n",
       "      <td>0</td>\n",
       "      <td>0</td>\n",
       "      <td>0</td>\n",
       "      <td>0</td>\n",
       "      <td>0</td>\n",
       "      <td>0</td>\n",
       "      <td>0</td>\n",
       "      <td>0</td>\n",
       "    </tr>\n",
       "    <tr>\n",
       "      <th>4887</th>\n",
       "      <td>11.0</td>\n",
       "      <td>40</td>\n",
       "      <td>0</td>\n",
       "      <td>1</td>\n",
       "      <td>0</td>\n",
       "      <td>0</td>\n",
       "      <td>0</td>\n",
       "      <td>0</td>\n",
       "      <td>0</td>\n",
       "      <td>0</td>\n",
       "      <td>...</td>\n",
       "      <td>0</td>\n",
       "      <td>0</td>\n",
       "      <td>0</td>\n",
       "      <td>0</td>\n",
       "      <td>0</td>\n",
       "      <td>0</td>\n",
       "      <td>0</td>\n",
       "      <td>0</td>\n",
       "      <td>1</td>\n",
       "      <td>0</td>\n",
       "    </tr>\n",
       "    <tr>\n",
       "      <th>73</th>\n",
       "      <td>10.0</td>\n",
       "      <td>40</td>\n",
       "      <td>0</td>\n",
       "      <td>0</td>\n",
       "      <td>0</td>\n",
       "      <td>0</td>\n",
       "      <td>0</td>\n",
       "      <td>0</td>\n",
       "      <td>0</td>\n",
       "      <td>0</td>\n",
       "      <td>...</td>\n",
       "      <td>0</td>\n",
       "      <td>0</td>\n",
       "      <td>0</td>\n",
       "      <td>0</td>\n",
       "      <td>0</td>\n",
       "      <td>0</td>\n",
       "      <td>0</td>\n",
       "      <td>0</td>\n",
       "      <td>1</td>\n",
       "      <td>0</td>\n",
       "    </tr>\n",
       "    <tr>\n",
       "      <th>163</th>\n",
       "      <td>10.0</td>\n",
       "      <td>40</td>\n",
       "      <td>0</td>\n",
       "      <td>0</td>\n",
       "      <td>0</td>\n",
       "      <td>0</td>\n",
       "      <td>0</td>\n",
       "      <td>0</td>\n",
       "      <td>0</td>\n",
       "      <td>0</td>\n",
       "      <td>...</td>\n",
       "      <td>0</td>\n",
       "      <td>0</td>\n",
       "      <td>0</td>\n",
       "      <td>0</td>\n",
       "      <td>0</td>\n",
       "      <td>0</td>\n",
       "      <td>0</td>\n",
       "      <td>0</td>\n",
       "      <td>1</td>\n",
       "      <td>0</td>\n",
       "    </tr>\n",
       "  </tbody>\n",
       "</table>\n",
       "<p>5 rows × 274 columns</p>\n",
       "</div>"
      ],
      "text/plain": [
       "       Total_Patients  clusters_id  CCS1  CCS10  CCS100  CCS101  CCS102  \\\n",
       "index                                                                     \n",
       "39               28.0           40     0      0       0       0       0   \n",
       "104              19.0           40     0      0       0       0       0   \n",
       "4887             11.0           40     0      1       0       0       0   \n",
       "73               10.0           40     0      0       0       0       0   \n",
       "163              10.0           40     0      0       0       0       0   \n",
       "\n",
       "       CCS103  CCS104  CCS105  ...    CCS90  CCS91  CCS92  CCS93  CCS94  \\\n",
       "index                          ...                                        \n",
       "39          0       0       0  ...        0      0      0      0      0   \n",
       "104         0       0       0  ...        0      0      0      0      0   \n",
       "4887        0       0       0  ...        0      0      0      0      0   \n",
       "73          0       0       0  ...        0      0      0      0      0   \n",
       "163         0       0       0  ...        0      0      0      0      0   \n",
       "\n",
       "       CCS95  CCS96  CCS97  CCS98  CCS99  \n",
       "index                                     \n",
       "39         0      0      0      1      0  \n",
       "104        0      0      0      0      0  \n",
       "4887       0      0      0      1      0  \n",
       "73         0      0      0      1      0  \n",
       "163        0      0      0      1      0  \n",
       "\n",
       "[5 rows x 274 columns]"
      ]
     },
     "execution_count": 56,
     "metadata": {},
     "output_type": "execute_result"
    }
   ],
   "source": [
    "def f1(x):\n",
    "    if x!=0:\n",
    "        return 1\n",
    "    else:\n",
    "        return 0\n",
    "cols=diabetic_imp_clusters.columns.tolist()\n",
    "cols=cols[2:]\n",
    "diabetic_imp_clusters[cols]=diabetic_imp_clusters[cols].applymap(f1)\n",
    "diabetic_imp_clusters.head() "
   ]
  },
  {
   "cell_type": "code",
   "execution_count": 57,
   "metadata": {
    "collapsed": false
   },
   "outputs": [
    {
     "name": "stdout",
     "output_type": "stream",
     "text": [
      "(6246, 274)\n",
      "(8956, 272)\n"
     ]
    }
   ],
   "source": [
    "print(diabetic_imp_clusters.shape)\n",
    "print(diabetic_patients_binary.shape) "
   ]
  },
  {
   "cell_type": "code",
   "execution_count": 58,
   "metadata": {
    "collapsed": false
   },
   "outputs": [
    {
     "data": {
      "text/html": [
       "<div>\n",
       "<table border=\"1\" class=\"dataframe\">\n",
       "  <thead>\n",
       "    <tr style=\"text-align: right;\">\n",
       "      <th></th>\n",
       "      <th>CCS1</th>\n",
       "      <th>CCS10</th>\n",
       "      <th>CCS100</th>\n",
       "      <th>CCS101</th>\n",
       "      <th>CCS102</th>\n",
       "      <th>CCS103</th>\n",
       "      <th>CCS104</th>\n",
       "      <th>CCS105</th>\n",
       "      <th>CCS106</th>\n",
       "      <th>CCS107</th>\n",
       "      <th>...</th>\n",
       "      <th>CCS90</th>\n",
       "      <th>CCS91</th>\n",
       "      <th>CCS92</th>\n",
       "      <th>CCS93</th>\n",
       "      <th>CCS94</th>\n",
       "      <th>CCS95</th>\n",
       "      <th>CCS96</th>\n",
       "      <th>CCS97</th>\n",
       "      <th>CCS98</th>\n",
       "      <th>CCS99</th>\n",
       "    </tr>\n",
       "    <tr>\n",
       "      <th>new_euid</th>\n",
       "      <th></th>\n",
       "      <th></th>\n",
       "      <th></th>\n",
       "      <th></th>\n",
       "      <th></th>\n",
       "      <th></th>\n",
       "      <th></th>\n",
       "      <th></th>\n",
       "      <th></th>\n",
       "      <th></th>\n",
       "      <th></th>\n",
       "      <th></th>\n",
       "      <th></th>\n",
       "      <th></th>\n",
       "      <th></th>\n",
       "      <th></th>\n",
       "      <th></th>\n",
       "      <th></th>\n",
       "      <th></th>\n",
       "      <th></th>\n",
       "      <th></th>\n",
       "    </tr>\n",
       "  </thead>\n",
       "  <tbody>\n",
       "    <tr>\n",
       "      <th>0</th>\n",
       "      <td>0</td>\n",
       "      <td>0</td>\n",
       "      <td>0</td>\n",
       "      <td>0</td>\n",
       "      <td>0</td>\n",
       "      <td>0</td>\n",
       "      <td>0</td>\n",
       "      <td>0</td>\n",
       "      <td>0</td>\n",
       "      <td>0</td>\n",
       "      <td>...</td>\n",
       "      <td>0</td>\n",
       "      <td>0</td>\n",
       "      <td>0</td>\n",
       "      <td>0</td>\n",
       "      <td>0</td>\n",
       "      <td>0</td>\n",
       "      <td>0</td>\n",
       "      <td>0</td>\n",
       "      <td>0</td>\n",
       "      <td>0</td>\n",
       "    </tr>\n",
       "    <tr>\n",
       "      <th>100114</th>\n",
       "      <td>0</td>\n",
       "      <td>0</td>\n",
       "      <td>0</td>\n",
       "      <td>0</td>\n",
       "      <td>0</td>\n",
       "      <td>0</td>\n",
       "      <td>0</td>\n",
       "      <td>0</td>\n",
       "      <td>0</td>\n",
       "      <td>0</td>\n",
       "      <td>...</td>\n",
       "      <td>0</td>\n",
       "      <td>1</td>\n",
       "      <td>0</td>\n",
       "      <td>0</td>\n",
       "      <td>0</td>\n",
       "      <td>1</td>\n",
       "      <td>0</td>\n",
       "      <td>0</td>\n",
       "      <td>1</td>\n",
       "      <td>0</td>\n",
       "    </tr>\n",
       "    <tr>\n",
       "      <th>10013</th>\n",
       "      <td>0</td>\n",
       "      <td>0</td>\n",
       "      <td>0</td>\n",
       "      <td>0</td>\n",
       "      <td>0</td>\n",
       "      <td>0</td>\n",
       "      <td>0</td>\n",
       "      <td>0</td>\n",
       "      <td>0</td>\n",
       "      <td>0</td>\n",
       "      <td>...</td>\n",
       "      <td>0</td>\n",
       "      <td>0</td>\n",
       "      <td>0</td>\n",
       "      <td>0</td>\n",
       "      <td>0</td>\n",
       "      <td>0</td>\n",
       "      <td>0</td>\n",
       "      <td>0</td>\n",
       "      <td>1</td>\n",
       "      <td>0</td>\n",
       "    </tr>\n",
       "  </tbody>\n",
       "</table>\n",
       "<p>3 rows × 272 columns</p>\n",
       "</div>"
      ],
      "text/plain": [
       "          CCS1  CCS10  CCS100  CCS101  CCS102  CCS103  CCS104  CCS105  CCS106  \\\n",
       "new_euid                                                                        \n",
       "0            0      0       0       0       0       0       0       0       0   \n",
       "100114       0      0       0       0       0       0       0       0       0   \n",
       "10013        0      0       0       0       0       0       0       0       0   \n",
       "\n",
       "          CCS107  ...    CCS90  CCS91  CCS92  CCS93  CCS94  CCS95  CCS96  \\\n",
       "new_euid          ...                                                      \n",
       "0              0  ...        0      0      0      0      0      0      0   \n",
       "100114         0  ...        0      1      0      0      0      1      0   \n",
       "10013          0  ...        0      0      0      0      0      0      0   \n",
       "\n",
       "          CCS97  CCS98  CCS99  \n",
       "new_euid                       \n",
       "0             0      0      0  \n",
       "100114        0      1      0  \n",
       "10013         0      1      0  \n",
       "\n",
       "[3 rows x 272 columns]"
      ]
     },
     "execution_count": 58,
     "metadata": {},
     "output_type": "execute_result"
    }
   ],
   "source": [
    "diabetic_patients_binary[:3] "
   ]
  },
  {
   "cell_type": "code",
   "execution_count": 60,
   "metadata": {
    "collapsed": false
   },
   "outputs": [
    {
     "data": {
      "text/html": [
       "<div>\n",
       "<table border=\"1\" class=\"dataframe\">\n",
       "  <thead>\n",
       "    <tr style=\"text-align: right;\">\n",
       "      <th></th>\n",
       "      <th>Total_Patients</th>\n",
       "      <th>clusters_id</th>\n",
       "      <th>CCS1</th>\n",
       "      <th>CCS10</th>\n",
       "      <th>CCS100</th>\n",
       "      <th>CCS101</th>\n",
       "      <th>CCS102</th>\n",
       "      <th>CCS103</th>\n",
       "      <th>CCS104</th>\n",
       "      <th>CCS105</th>\n",
       "      <th>...</th>\n",
       "      <th>CCS90</th>\n",
       "      <th>CCS91</th>\n",
       "      <th>CCS92</th>\n",
       "      <th>CCS93</th>\n",
       "      <th>CCS94</th>\n",
       "      <th>CCS95</th>\n",
       "      <th>CCS96</th>\n",
       "      <th>CCS97</th>\n",
       "      <th>CCS98</th>\n",
       "      <th>CCS99</th>\n",
       "    </tr>\n",
       "    <tr>\n",
       "      <th>index</th>\n",
       "      <th></th>\n",
       "      <th></th>\n",
       "      <th></th>\n",
       "      <th></th>\n",
       "      <th></th>\n",
       "      <th></th>\n",
       "      <th></th>\n",
       "      <th></th>\n",
       "      <th></th>\n",
       "      <th></th>\n",
       "      <th></th>\n",
       "      <th></th>\n",
       "      <th></th>\n",
       "      <th></th>\n",
       "      <th></th>\n",
       "      <th></th>\n",
       "      <th></th>\n",
       "      <th></th>\n",
       "      <th></th>\n",
       "      <th></th>\n",
       "      <th></th>\n",
       "    </tr>\n",
       "  </thead>\n",
       "  <tbody>\n",
       "    <tr>\n",
       "      <th>39</th>\n",
       "      <td>28.0</td>\n",
       "      <td>40</td>\n",
       "      <td>0</td>\n",
       "      <td>0</td>\n",
       "      <td>0</td>\n",
       "      <td>0</td>\n",
       "      <td>0</td>\n",
       "      <td>0</td>\n",
       "      <td>0</td>\n",
       "      <td>0</td>\n",
       "      <td>...</td>\n",
       "      <td>0</td>\n",
       "      <td>0</td>\n",
       "      <td>0</td>\n",
       "      <td>0</td>\n",
       "      <td>0</td>\n",
       "      <td>0</td>\n",
       "      <td>0</td>\n",
       "      <td>0</td>\n",
       "      <td>1</td>\n",
       "      <td>0</td>\n",
       "    </tr>\n",
       "    <tr>\n",
       "      <th>104</th>\n",
       "      <td>19.0</td>\n",
       "      <td>40</td>\n",
       "      <td>0</td>\n",
       "      <td>0</td>\n",
       "      <td>0</td>\n",
       "      <td>0</td>\n",
       "      <td>0</td>\n",
       "      <td>0</td>\n",
       "      <td>0</td>\n",
       "      <td>0</td>\n",
       "      <td>...</td>\n",
       "      <td>0</td>\n",
       "      <td>0</td>\n",
       "      <td>0</td>\n",
       "      <td>0</td>\n",
       "      <td>0</td>\n",
       "      <td>0</td>\n",
       "      <td>0</td>\n",
       "      <td>0</td>\n",
       "      <td>0</td>\n",
       "      <td>0</td>\n",
       "    </tr>\n",
       "    <tr>\n",
       "      <th>4887</th>\n",
       "      <td>11.0</td>\n",
       "      <td>40</td>\n",
       "      <td>0</td>\n",
       "      <td>1</td>\n",
       "      <td>0</td>\n",
       "      <td>0</td>\n",
       "      <td>0</td>\n",
       "      <td>0</td>\n",
       "      <td>0</td>\n",
       "      <td>0</td>\n",
       "      <td>...</td>\n",
       "      <td>0</td>\n",
       "      <td>0</td>\n",
       "      <td>0</td>\n",
       "      <td>0</td>\n",
       "      <td>0</td>\n",
       "      <td>0</td>\n",
       "      <td>0</td>\n",
       "      <td>0</td>\n",
       "      <td>1</td>\n",
       "      <td>0</td>\n",
       "    </tr>\n",
       "  </tbody>\n",
       "</table>\n",
       "<p>3 rows × 274 columns</p>\n",
       "</div>"
      ],
      "text/plain": [
       "       Total_Patients  clusters_id  CCS1  CCS10  CCS100  CCS101  CCS102  \\\n",
       "index                                                                     \n",
       "39               28.0           40     0      0       0       0       0   \n",
       "104              19.0           40     0      0       0       0       0   \n",
       "4887             11.0           40     0      1       0       0       0   \n",
       "\n",
       "       CCS103  CCS104  CCS105  ...    CCS90  CCS91  CCS92  CCS93  CCS94  \\\n",
       "index                          ...                                        \n",
       "39          0       0       0  ...        0      0      0      0      0   \n",
       "104         0       0       0  ...        0      0      0      0      0   \n",
       "4887        0       0       0  ...        0      0      0      0      0   \n",
       "\n",
       "       CCS95  CCS96  CCS97  CCS98  CCS99  \n",
       "index                                     \n",
       "39         0      0      0      1      0  \n",
       "104        0      0      0      0      0  \n",
       "4887       0      0      0      1      0  \n",
       "\n",
       "[3 rows x 274 columns]"
      ]
     },
     "execution_count": 60,
     "metadata": {},
     "output_type": "execute_result"
    }
   ],
   "source": [
    "#del diabetic_patients_binary['index']\n",
    "diabetic_imp_clusters[:3]"
   ]
  },
  {
   "cell_type": "markdown",
   "metadata": {},
   "source": [
    "## Merging with patient_label npi to get euid-npi_comm_cluster mapping"
   ]
  },
  {
   "cell_type": "code",
   "execution_count": 61,
   "metadata": {
    "collapsed": true
   },
   "outputs": [],
   "source": [
    "diabetic_patients_binary.reset_index(inplace=True)\n",
    "cols=diabetic_imp_clusters.columns.tolist()\n",
    "common_cols=cols[2:] \n",
    "diabetic_euid_cluster=pd.merge(diabetic_imp_clusters,diabetic_patients_binary,on=common_cols,how='inner')"
   ]
  },
  {
   "cell_type": "code",
   "execution_count": 62,
   "metadata": {
    "collapsed": false
   },
   "outputs": [
    {
     "data": {
      "text/html": [
       "<div>\n",
       "<table border=\"1\" class=\"dataframe\">\n",
       "  <thead>\n",
       "    <tr style=\"text-align: right;\">\n",
       "      <th></th>\n",
       "      <th>Total_Patients</th>\n",
       "      <th>clusters_id</th>\n",
       "      <th>CCS1</th>\n",
       "      <th>CCS10</th>\n",
       "      <th>CCS100</th>\n",
       "      <th>CCS101</th>\n",
       "      <th>CCS102</th>\n",
       "      <th>CCS103</th>\n",
       "      <th>CCS104</th>\n",
       "      <th>CCS105</th>\n",
       "      <th>...</th>\n",
       "      <th>CCS91</th>\n",
       "      <th>CCS92</th>\n",
       "      <th>CCS93</th>\n",
       "      <th>CCS94</th>\n",
       "      <th>CCS95</th>\n",
       "      <th>CCS96</th>\n",
       "      <th>CCS97</th>\n",
       "      <th>CCS98</th>\n",
       "      <th>CCS99</th>\n",
       "      <th>new_euid</th>\n",
       "    </tr>\n",
       "  </thead>\n",
       "  <tbody>\n",
       "    <tr>\n",
       "      <th>0</th>\n",
       "      <td>28.0</td>\n",
       "      <td>40</td>\n",
       "      <td>0</td>\n",
       "      <td>0</td>\n",
       "      <td>0</td>\n",
       "      <td>0</td>\n",
       "      <td>0</td>\n",
       "      <td>0</td>\n",
       "      <td>0</td>\n",
       "      <td>0</td>\n",
       "      <td>...</td>\n",
       "      <td>0</td>\n",
       "      <td>0</td>\n",
       "      <td>0</td>\n",
       "      <td>0</td>\n",
       "      <td>0</td>\n",
       "      <td>0</td>\n",
       "      <td>0</td>\n",
       "      <td>1</td>\n",
       "      <td>0</td>\n",
       "      <td>13932</td>\n",
       "    </tr>\n",
       "    <tr>\n",
       "      <th>1</th>\n",
       "      <td>28.0</td>\n",
       "      <td>40</td>\n",
       "      <td>0</td>\n",
       "      <td>0</td>\n",
       "      <td>0</td>\n",
       "      <td>0</td>\n",
       "      <td>0</td>\n",
       "      <td>0</td>\n",
       "      <td>0</td>\n",
       "      <td>0</td>\n",
       "      <td>...</td>\n",
       "      <td>0</td>\n",
       "      <td>0</td>\n",
       "      <td>0</td>\n",
       "      <td>0</td>\n",
       "      <td>0</td>\n",
       "      <td>0</td>\n",
       "      <td>0</td>\n",
       "      <td>1</td>\n",
       "      <td>0</td>\n",
       "      <td>173638</td>\n",
       "    </tr>\n",
       "    <tr>\n",
       "      <th>2</th>\n",
       "      <td>28.0</td>\n",
       "      <td>40</td>\n",
       "      <td>0</td>\n",
       "      <td>0</td>\n",
       "      <td>0</td>\n",
       "      <td>0</td>\n",
       "      <td>0</td>\n",
       "      <td>0</td>\n",
       "      <td>0</td>\n",
       "      <td>0</td>\n",
       "      <td>...</td>\n",
       "      <td>0</td>\n",
       "      <td>0</td>\n",
       "      <td>0</td>\n",
       "      <td>0</td>\n",
       "      <td>0</td>\n",
       "      <td>0</td>\n",
       "      <td>0</td>\n",
       "      <td>1</td>\n",
       "      <td>0</td>\n",
       "      <td>18670</td>\n",
       "    </tr>\n",
       "    <tr>\n",
       "      <th>3</th>\n",
       "      <td>28.0</td>\n",
       "      <td>40</td>\n",
       "      <td>0</td>\n",
       "      <td>0</td>\n",
       "      <td>0</td>\n",
       "      <td>0</td>\n",
       "      <td>0</td>\n",
       "      <td>0</td>\n",
       "      <td>0</td>\n",
       "      <td>0</td>\n",
       "      <td>...</td>\n",
       "      <td>0</td>\n",
       "      <td>0</td>\n",
       "      <td>0</td>\n",
       "      <td>0</td>\n",
       "      <td>0</td>\n",
       "      <td>0</td>\n",
       "      <td>0</td>\n",
       "      <td>1</td>\n",
       "      <td>0</td>\n",
       "      <td>195638</td>\n",
       "    </tr>\n",
       "    <tr>\n",
       "      <th>4</th>\n",
       "      <td>28.0</td>\n",
       "      <td>40</td>\n",
       "      <td>0</td>\n",
       "      <td>0</td>\n",
       "      <td>0</td>\n",
       "      <td>0</td>\n",
       "      <td>0</td>\n",
       "      <td>0</td>\n",
       "      <td>0</td>\n",
       "      <td>0</td>\n",
       "      <td>...</td>\n",
       "      <td>0</td>\n",
       "      <td>0</td>\n",
       "      <td>0</td>\n",
       "      <td>0</td>\n",
       "      <td>0</td>\n",
       "      <td>0</td>\n",
       "      <td>0</td>\n",
       "      <td>1</td>\n",
       "      <td>0</td>\n",
       "      <td>228783</td>\n",
       "    </tr>\n",
       "  </tbody>\n",
       "</table>\n",
       "<p>5 rows × 275 columns</p>\n",
       "</div>"
      ],
      "text/plain": [
       "   Total_Patients  clusters_id  CCS1  CCS10  CCS100  CCS101  CCS102  CCS103  \\\n",
       "0            28.0           40     0      0       0       0       0       0   \n",
       "1            28.0           40     0      0       0       0       0       0   \n",
       "2            28.0           40     0      0       0       0       0       0   \n",
       "3            28.0           40     0      0       0       0       0       0   \n",
       "4            28.0           40     0      0       0       0       0       0   \n",
       "\n",
       "   CCS104  CCS105    ...     CCS91  CCS92  CCS93  CCS94  CCS95  CCS96  CCS97  \\\n",
       "0       0       0    ...         0      0      0      0      0      0      0   \n",
       "1       0       0    ...         0      0      0      0      0      0      0   \n",
       "2       0       0    ...         0      0      0      0      0      0      0   \n",
       "3       0       0    ...         0      0      0      0      0      0      0   \n",
       "4       0       0    ...         0      0      0      0      0      0      0   \n",
       "\n",
       "   CCS98  CCS99  new_euid  \n",
       "0      1      0     13932  \n",
       "1      1      0    173638  \n",
       "2      1      0     18670  \n",
       "3      1      0    195638  \n",
       "4      1      0    228783  \n",
       "\n",
       "[5 rows x 275 columns]"
      ]
     },
     "execution_count": 62,
     "metadata": {},
     "output_type": "execute_result"
    }
   ],
   "source": [
    "diabetic_euid_cluster.head() \n",
    "#so now we have mapping of euid-cluster id"
   ]
  },
  {
   "cell_type": "code",
   "execution_count": 63,
   "metadata": {
    "collapsed": false
   },
   "outputs": [
    {
     "data": {
      "text/plain": [
       "(6489, 275)"
      ]
     },
     "execution_count": 63,
     "metadata": {},
     "output_type": "execute_result"
    }
   ],
   "source": [
    "diabetic_euid_cluster.shape"
   ]
  },
  {
   "cell_type": "code",
   "execution_count": 64,
   "metadata": {
    "collapsed": false
   },
   "outputs": [
    {
     "data": {
      "text/plain": [
       "6489"
      ]
     },
     "execution_count": 64,
     "metadata": {},
     "output_type": "execute_result"
    }
   ],
   "source": [
    "#Total patients in finalised 12 cluster\n",
    "len(diabetic_euid_cluster['new_euid'])"
   ]
  },
  {
   "cell_type": "code",
   "execution_count": 65,
   "metadata": {
    "collapsed": false
   },
   "outputs": [
    {
     "data": {
      "text/plain": [
       "clusters_id\n",
       "16     246\n",
       "21     580\n",
       "25     810\n",
       "26     333\n",
       "28     250\n",
       "32     610\n",
       "34     406\n",
       "37     502\n",
       "38     266\n",
       "39     431\n",
       "40    1119\n",
       "47     936\n",
       "Name: new_euid, dtype: int64"
      ]
     },
     "execution_count": 65,
     "metadata": {},
     "output_type": "execute_result"
    }
   ],
   "source": [
    "#checking to see if clusters are mapped correctly\n",
    "diabetic_euid_cluster.groupby(diabetic_euid_cluster['clusters_id']).new_euid.nunique()"
   ]
  },
  {
   "cell_type": "code",
   "execution_count": 66,
   "metadata": {
    "collapsed": false
   },
   "outputs": [
    {
     "data": {
      "text/html": [
       "<div>\n",
       "<table border=\"1\" class=\"dataframe\">\n",
       "  <thead>\n",
       "    <tr style=\"text-align: right;\">\n",
       "      <th></th>\n",
       "      <th>new_euid</th>\n",
       "      <th>clusters_id</th>\n",
       "    </tr>\n",
       "  </thead>\n",
       "  <tbody>\n",
       "    <tr>\n",
       "      <th>0</th>\n",
       "      <td>13932</td>\n",
       "      <td>40</td>\n",
       "    </tr>\n",
       "    <tr>\n",
       "      <th>1</th>\n",
       "      <td>173638</td>\n",
       "      <td>40</td>\n",
       "    </tr>\n",
       "  </tbody>\n",
       "</table>\n",
       "</div>"
      ],
      "text/plain": [
       "  new_euid  clusters_id\n",
       "0    13932           40\n",
       "1   173638           40"
      ]
     },
     "execution_count": 66,
     "metadata": {},
     "output_type": "execute_result"
    }
   ],
   "source": [
    "#Extracting EUID-Cluster_id just\n",
    "euid_cluster=diabetic_euid_cluster[['new_euid','clusters_id']]\n",
    "euid_cluster[:2] "
   ]
  },
  {
   "cell_type": "code",
   "execution_count": 121,
   "metadata": {
    "collapsed": false
   },
   "outputs": [
    {
     "data": {
      "text/html": [
       "<div>\n",
       "<table border=\"1\" class=\"dataframe\">\n",
       "  <thead>\n",
       "    <tr style=\"text-align: right;\">\n",
       "      <th></th>\n",
       "      <th>new_euid</th>\n",
       "      <th>clusters_id</th>\n",
       "    </tr>\n",
       "  </thead>\n",
       "  <tbody>\n",
       "    <tr>\n",
       "      <th>0</th>\n",
       "      <td>13932</td>\n",
       "      <td>40</td>\n",
       "    </tr>\n",
       "    <tr>\n",
       "      <th>1</th>\n",
       "      <td>173638</td>\n",
       "      <td>40</td>\n",
       "    </tr>\n",
       "    <tr>\n",
       "      <th>2</th>\n",
       "      <td>18670</td>\n",
       "      <td>40</td>\n",
       "    </tr>\n",
       "    <tr>\n",
       "      <th>3</th>\n",
       "      <td>195638</td>\n",
       "      <td>40</td>\n",
       "    </tr>\n",
       "    <tr>\n",
       "      <th>4</th>\n",
       "      <td>228783</td>\n",
       "      <td>40</td>\n",
       "    </tr>\n",
       "  </tbody>\n",
       "</table>\n",
       "</div>"
      ],
      "text/plain": [
       "  new_euid  clusters_id\n",
       "0    13932           40\n",
       "1   173638           40\n",
       "2    18670           40\n",
       "3   195638           40\n",
       "4   228783           40"
      ]
     },
     "execution_count": 121,
     "metadata": {},
     "output_type": "execute_result"
    }
   ],
   "source": [
    "euid_cluster[:5] "
   ]
  },
  {
   "cell_type": "code",
   "execution_count": 68,
   "metadata": {
    "collapsed": false
   },
   "outputs": [
    {
     "data": {
      "text/html": [
       "<div>\n",
       "<table border=\"1\" class=\"dataframe\">\n",
       "  <thead>\n",
       "    <tr style=\"text-align: right;\">\n",
       "      <th></th>\n",
       "      <th>new_euid</th>\n",
       "      <th>comm_npi</th>\n",
       "    </tr>\n",
       "  </thead>\n",
       "  <tbody>\n",
       "    <tr>\n",
       "      <th>0</th>\n",
       "      <td>44470</td>\n",
       "      <td>1</td>\n",
       "    </tr>\n",
       "    <tr>\n",
       "      <th>1</th>\n",
       "      <td>498737</td>\n",
       "      <td>6</td>\n",
       "    </tr>\n",
       "  </tbody>\n",
       "</table>\n",
       "</div>"
      ],
      "text/plain": [
       "  new_euid  comm_npi\n",
       "0    44470         1\n",
       "1   498737         6"
      ]
     },
     "execution_count": 68,
     "metadata": {},
     "output_type": "execute_result"
    }
   ],
   "source": [
    "patient_label_npi[:2]"
   ]
  },
  {
   "cell_type": "code",
   "execution_count": 69,
   "metadata": {
    "collapsed": true
   },
   "outputs": [],
   "source": [
    "#Now generating euid-npi-cluster_id mapping\n",
    "euid_npi_cluster=pd.merge(patient_label_npi,euid_cluster,how='inner',on='new_euid') "
   ]
  },
  {
   "cell_type": "code",
   "execution_count": 70,
   "metadata": {
    "collapsed": false
   },
   "outputs": [
    {
     "data": {
      "text/plain": [
       "(6489, 3)"
      ]
     },
     "execution_count": 70,
     "metadata": {},
     "output_type": "execute_result"
    }
   ],
   "source": [
    "euid_npi_cluster.shape "
   ]
  },
  {
   "cell_type": "code",
   "execution_count": 71,
   "metadata": {
    "collapsed": false
   },
   "outputs": [
    {
     "data": {
      "text/html": [
       "<div>\n",
       "<table border=\"1\" class=\"dataframe\">\n",
       "  <thead>\n",
       "    <tr style=\"text-align: right;\">\n",
       "      <th></th>\n",
       "      <th>new_euid</th>\n",
       "      <th>comm_npi</th>\n",
       "      <th>clusters_id</th>\n",
       "    </tr>\n",
       "  </thead>\n",
       "  <tbody>\n",
       "    <tr>\n",
       "      <th>0</th>\n",
       "      <td>44470</td>\n",
       "      <td>1</td>\n",
       "      <td>40</td>\n",
       "    </tr>\n",
       "    <tr>\n",
       "      <th>1</th>\n",
       "      <td>33055</td>\n",
       "      <td>1</td>\n",
       "      <td>21</td>\n",
       "    </tr>\n",
       "    <tr>\n",
       "      <th>2</th>\n",
       "      <td>187443</td>\n",
       "      <td>6</td>\n",
       "      <td>21</td>\n",
       "    </tr>\n",
       "    <tr>\n",
       "      <th>3</th>\n",
       "      <td>118528</td>\n",
       "      <td>1</td>\n",
       "      <td>16</td>\n",
       "    </tr>\n",
       "    <tr>\n",
       "      <th>4</th>\n",
       "      <td>395275</td>\n",
       "      <td>1</td>\n",
       "      <td>40</td>\n",
       "    </tr>\n",
       "  </tbody>\n",
       "</table>\n",
       "</div>"
      ],
      "text/plain": [
       "  new_euid  comm_npi  clusters_id\n",
       "0    44470         1           40\n",
       "1    33055         1           21\n",
       "2   187443         6           21\n",
       "3   118528         1           16\n",
       "4   395275         1           40"
      ]
     },
     "execution_count": 71,
     "metadata": {},
     "output_type": "execute_result"
    }
   ],
   "source": [
    "euid_npi_cluster.head() "
   ]
  },
  {
   "cell_type": "code",
   "execution_count": 123,
   "metadata": {
    "collapsed": true
   },
   "outputs": [],
   "source": [
    "#writing above mapping to csv  \n",
    "# euid_npi_cluster.to_csv(\"euid_npi_cluster.csv\")"
   ]
  },
  {
   "cell_type": "code",
   "execution_count": 72,
   "metadata": {
    "collapsed": false
   },
   "outputs": [
    {
     "data": {
      "text/plain": [
       "comm_npi\n",
       "1    2133\n",
       "2    1393\n",
       "3    1530\n",
       "4     286\n",
       "5     613\n",
       "6     534\n",
       "Name: new_euid, dtype: int64"
      ]
     },
     "execution_count": 72,
     "metadata": {},
     "output_type": "execute_result"
    }
   ],
   "source": [
    "#Checking patients in each community\n",
    "euid_npi_cluster.groupby(['comm_npi']).new_euid.nunique() "
   ]
  },
  {
   "cell_type": "markdown",
   "metadata": {},
   "source": [
    "# Grouping to see patients in each comm-cluster combination"
   ]
  },
  {
   "cell_type": "code",
   "execution_count": 73,
   "metadata": {
    "collapsed": false
   },
   "outputs": [
    {
     "data": {
      "text/html": [
       "<div>\n",
       "<table border=\"1\" class=\"dataframe\">\n",
       "  <thead>\n",
       "    <tr style=\"text-align: right;\">\n",
       "      <th>clusters_id</th>\n",
       "      <th>16</th>\n",
       "      <th>21</th>\n",
       "      <th>25</th>\n",
       "      <th>26</th>\n",
       "      <th>28</th>\n",
       "      <th>32</th>\n",
       "      <th>34</th>\n",
       "      <th>37</th>\n",
       "      <th>38</th>\n",
       "      <th>39</th>\n",
       "      <th>40</th>\n",
       "      <th>47</th>\n",
       "      <th>Total_Patients</th>\n",
       "    </tr>\n",
       "    <tr>\n",
       "      <th>comm_npi</th>\n",
       "      <th></th>\n",
       "      <th></th>\n",
       "      <th></th>\n",
       "      <th></th>\n",
       "      <th></th>\n",
       "      <th></th>\n",
       "      <th></th>\n",
       "      <th></th>\n",
       "      <th></th>\n",
       "      <th></th>\n",
       "      <th></th>\n",
       "      <th></th>\n",
       "      <th></th>\n",
       "    </tr>\n",
       "  </thead>\n",
       "  <tbody>\n",
       "    <tr>\n",
       "      <th>1</th>\n",
       "      <td>77</td>\n",
       "      <td>187</td>\n",
       "      <td>257</td>\n",
       "      <td>109</td>\n",
       "      <td>85</td>\n",
       "      <td>220</td>\n",
       "      <td>144</td>\n",
       "      <td>161</td>\n",
       "      <td>76</td>\n",
       "      <td>162</td>\n",
       "      <td>390</td>\n",
       "      <td>265</td>\n",
       "      <td>2133</td>\n",
       "    </tr>\n",
       "    <tr>\n",
       "      <th>2</th>\n",
       "      <td>60</td>\n",
       "      <td>130</td>\n",
       "      <td>197</td>\n",
       "      <td>67</td>\n",
       "      <td>56</td>\n",
       "      <td>143</td>\n",
       "      <td>82</td>\n",
       "      <td>105</td>\n",
       "      <td>57</td>\n",
       "      <td>79</td>\n",
       "      <td>247</td>\n",
       "      <td>170</td>\n",
       "      <td>1393</td>\n",
       "    </tr>\n",
       "    <tr>\n",
       "      <th>3</th>\n",
       "      <td>52</td>\n",
       "      <td>147</td>\n",
       "      <td>183</td>\n",
       "      <td>84</td>\n",
       "      <td>58</td>\n",
       "      <td>124</td>\n",
       "      <td>92</td>\n",
       "      <td>127</td>\n",
       "      <td>67</td>\n",
       "      <td>85</td>\n",
       "      <td>235</td>\n",
       "      <td>276</td>\n",
       "      <td>1530</td>\n",
       "    </tr>\n",
       "    <tr>\n",
       "      <th>4</th>\n",
       "      <td>14</td>\n",
       "      <td>17</td>\n",
       "      <td>25</td>\n",
       "      <td>17</td>\n",
       "      <td>9</td>\n",
       "      <td>29</td>\n",
       "      <td>18</td>\n",
       "      <td>27</td>\n",
       "      <td>9</td>\n",
       "      <td>16</td>\n",
       "      <td>50</td>\n",
       "      <td>55</td>\n",
       "      <td>286</td>\n",
       "    </tr>\n",
       "    <tr>\n",
       "      <th>5</th>\n",
       "      <td>20</td>\n",
       "      <td>54</td>\n",
       "      <td>81</td>\n",
       "      <td>26</td>\n",
       "      <td>23</td>\n",
       "      <td>46</td>\n",
       "      <td>40</td>\n",
       "      <td>44</td>\n",
       "      <td>28</td>\n",
       "      <td>51</td>\n",
       "      <td>102</td>\n",
       "      <td>98</td>\n",
       "      <td>613</td>\n",
       "    </tr>\n",
       "    <tr>\n",
       "      <th>6</th>\n",
       "      <td>23</td>\n",
       "      <td>45</td>\n",
       "      <td>67</td>\n",
       "      <td>30</td>\n",
       "      <td>19</td>\n",
       "      <td>48</td>\n",
       "      <td>30</td>\n",
       "      <td>38</td>\n",
       "      <td>29</td>\n",
       "      <td>38</td>\n",
       "      <td>95</td>\n",
       "      <td>72</td>\n",
       "      <td>534</td>\n",
       "    </tr>\n",
       "    <tr>\n",
       "      <th>Total</th>\n",
       "      <td>246</td>\n",
       "      <td>580</td>\n",
       "      <td>810</td>\n",
       "      <td>333</td>\n",
       "      <td>250</td>\n",
       "      <td>610</td>\n",
       "      <td>406</td>\n",
       "      <td>502</td>\n",
       "      <td>266</td>\n",
       "      <td>431</td>\n",
       "      <td>1119</td>\n",
       "      <td>936</td>\n",
       "      <td>6489</td>\n",
       "    </tr>\n",
       "  </tbody>\n",
       "</table>\n",
       "</div>"
      ],
      "text/plain": [
       "clusters_id   16   21   25   26   28   32   34   37   38   39    40   47  \\\n",
       "comm_npi                                                                   \n",
       "1             77  187  257  109   85  220  144  161   76  162   390  265   \n",
       "2             60  130  197   67   56  143   82  105   57   79   247  170   \n",
       "3             52  147  183   84   58  124   92  127   67   85   235  276   \n",
       "4             14   17   25   17    9   29   18   27    9   16    50   55   \n",
       "5             20   54   81   26   23   46   40   44   28   51   102   98   \n",
       "6             23   45   67   30   19   48   30   38   29   38    95   72   \n",
       "Total        246  580  810  333  250  610  406  502  266  431  1119  936   \n",
       "\n",
       "clusters_id  Total_Patients  \n",
       "comm_npi                     \n",
       "1                      2133  \n",
       "2                      1393  \n",
       "3                      1530  \n",
       "4                       286  \n",
       "5                       613  \n",
       "6                       534  \n",
       "Total                  6489  "
      ]
     },
     "execution_count": 73,
     "metadata": {},
     "output_type": "execute_result"
    }
   ],
   "source": [
    "euid_npi_cluster_grouped=pd.DataFrame(euid_npi_cluster.groupby(['comm_npi','clusters_id']).new_euid.nunique().sort_values(ascending=False))\n",
    "euid_npi_cluster_grouped.reset_index(inplace=True) \n",
    "euid_npi_cluster_grouped_pivot= euid_npi_cluster_grouped.pivot(index='comm_npi',columns='clusters_id',values='new_euid')\n",
    "euid_npi_cluster_grouped_pivot['Total_Patients']=euid_npi_cluster_grouped_pivot.sum(axis=1) \n",
    "euid_npi_cluster_grouped_pivot.loc['Total']=euid_npi_cluster_grouped_pivot.sum()\n",
    "euid_npi_cluster_grouped_pivot "
   ]
  },
  {
   "cell_type": "code",
   "execution_count": 845,
   "metadata": {
    "collapsed": true
   },
   "outputs": [],
   "source": [
    "#writing to csv\n",
    "# euid_npi_cluster_grouped_pivot.to_csv(\"patient_number_distribution.csv\")"
   ]
  },
  {
   "cell_type": "markdown",
   "metadata": {},
   "source": [
    "## 1) Distribution of diabetic patients cluster within each NPI community"
   ]
  },
  {
   "cell_type": "code",
   "execution_count": 901,
   "metadata": {
    "collapsed": false
   },
   "outputs": [],
   "source": [
    "comm_clust=euid_npi_cluster_grouped_pivot\n",
    "comm_clust_new=(comm_clust.ix[:6,:12].div(comm_clust['Total_Patients'],axis=0))*100\n",
    "comm_clust_new=comm_clust_new.round(1) \n",
    "comm_clust_new=pd.concat([comm_clust_new,comm_clust['Total_Patients']],axis=1)  \n",
    "comm_clust_new=comm_clust_new.drop(['Total'])\n",
    "comm_clust_new=comm_clust_new.append(comm_clust.loc['Total'])"
   ]
  },
  {
   "cell_type": "code",
   "execution_count": 902,
   "metadata": {
    "collapsed": false
   },
   "outputs": [
    {
     "data": {
      "text/html": [
       "<div>\n",
       "<table border=\"1\" class=\"dataframe\">\n",
       "  <thead>\n",
       "    <tr style=\"text-align: right;\">\n",
       "      <th>clusters_id</th>\n",
       "      <th>16</th>\n",
       "      <th>21</th>\n",
       "      <th>25</th>\n",
       "      <th>26</th>\n",
       "      <th>28</th>\n",
       "      <th>32</th>\n",
       "      <th>34</th>\n",
       "      <th>37</th>\n",
       "      <th>38</th>\n",
       "      <th>39</th>\n",
       "      <th>40</th>\n",
       "      <th>47</th>\n",
       "      <th>Total_Patients</th>\n",
       "    </tr>\n",
       "    <tr>\n",
       "      <th>comm_npi</th>\n",
       "      <th></th>\n",
       "      <th></th>\n",
       "      <th></th>\n",
       "      <th></th>\n",
       "      <th></th>\n",
       "      <th></th>\n",
       "      <th></th>\n",
       "      <th></th>\n",
       "      <th></th>\n",
       "      <th></th>\n",
       "      <th></th>\n",
       "      <th></th>\n",
       "      <th></th>\n",
       "    </tr>\n",
       "  </thead>\n",
       "  <tbody>\n",
       "    <tr>\n",
       "      <th>1</th>\n",
       "      <td>3.6</td>\n",
       "      <td>8.8</td>\n",
       "      <td>12.0</td>\n",
       "      <td>5.1</td>\n",
       "      <td>4.0</td>\n",
       "      <td>10.3</td>\n",
       "      <td>6.8</td>\n",
       "      <td>7.5</td>\n",
       "      <td>3.6</td>\n",
       "      <td>7.6</td>\n",
       "      <td>18.3</td>\n",
       "      <td>12.4</td>\n",
       "      <td>2133</td>\n",
       "    </tr>\n",
       "    <tr>\n",
       "      <th>2</th>\n",
       "      <td>4.3</td>\n",
       "      <td>9.3</td>\n",
       "      <td>14.1</td>\n",
       "      <td>4.8</td>\n",
       "      <td>4.0</td>\n",
       "      <td>10.3</td>\n",
       "      <td>5.9</td>\n",
       "      <td>7.5</td>\n",
       "      <td>4.1</td>\n",
       "      <td>5.7</td>\n",
       "      <td>17.7</td>\n",
       "      <td>12.2</td>\n",
       "      <td>1393</td>\n",
       "    </tr>\n",
       "    <tr>\n",
       "      <th>3</th>\n",
       "      <td>3.4</td>\n",
       "      <td>9.6</td>\n",
       "      <td>12.0</td>\n",
       "      <td>5.5</td>\n",
       "      <td>3.8</td>\n",
       "      <td>8.1</td>\n",
       "      <td>6.0</td>\n",
       "      <td>8.3</td>\n",
       "      <td>4.4</td>\n",
       "      <td>5.6</td>\n",
       "      <td>15.4</td>\n",
       "      <td>18.0</td>\n",
       "      <td>1530</td>\n",
       "    </tr>\n",
       "    <tr>\n",
       "      <th>4</th>\n",
       "      <td>4.9</td>\n",
       "      <td>5.9</td>\n",
       "      <td>8.7</td>\n",
       "      <td>5.9</td>\n",
       "      <td>3.1</td>\n",
       "      <td>10.1</td>\n",
       "      <td>6.3</td>\n",
       "      <td>9.4</td>\n",
       "      <td>3.1</td>\n",
       "      <td>5.6</td>\n",
       "      <td>17.5</td>\n",
       "      <td>19.2</td>\n",
       "      <td>286</td>\n",
       "    </tr>\n",
       "    <tr>\n",
       "      <th>5</th>\n",
       "      <td>3.3</td>\n",
       "      <td>8.8</td>\n",
       "      <td>13.2</td>\n",
       "      <td>4.2</td>\n",
       "      <td>3.8</td>\n",
       "      <td>7.5</td>\n",
       "      <td>6.5</td>\n",
       "      <td>7.2</td>\n",
       "      <td>4.6</td>\n",
       "      <td>8.3</td>\n",
       "      <td>16.6</td>\n",
       "      <td>16.0</td>\n",
       "      <td>613</td>\n",
       "    </tr>\n",
       "    <tr>\n",
       "      <th>6</th>\n",
       "      <td>4.3</td>\n",
       "      <td>8.4</td>\n",
       "      <td>12.5</td>\n",
       "      <td>5.6</td>\n",
       "      <td>3.6</td>\n",
       "      <td>9.0</td>\n",
       "      <td>5.6</td>\n",
       "      <td>7.1</td>\n",
       "      <td>5.4</td>\n",
       "      <td>7.1</td>\n",
       "      <td>17.8</td>\n",
       "      <td>13.5</td>\n",
       "      <td>534</td>\n",
       "    </tr>\n",
       "    <tr>\n",
       "      <th>Total</th>\n",
       "      <td>246.0</td>\n",
       "      <td>580.0</td>\n",
       "      <td>810.0</td>\n",
       "      <td>333.0</td>\n",
       "      <td>250.0</td>\n",
       "      <td>610.0</td>\n",
       "      <td>406.0</td>\n",
       "      <td>502.0</td>\n",
       "      <td>266.0</td>\n",
       "      <td>431.0</td>\n",
       "      <td>1119.0</td>\n",
       "      <td>936.0</td>\n",
       "      <td>6489</td>\n",
       "    </tr>\n",
       "  </tbody>\n",
       "</table>\n",
       "</div>"
      ],
      "text/plain": [
       "clusters_id     16     21     25     26     28     32     34     37     38  \\\n",
       "comm_npi                                                                     \n",
       "1              3.6    8.8   12.0    5.1    4.0   10.3    6.8    7.5    3.6   \n",
       "2              4.3    9.3   14.1    4.8    4.0   10.3    5.9    7.5    4.1   \n",
       "3              3.4    9.6   12.0    5.5    3.8    8.1    6.0    8.3    4.4   \n",
       "4              4.9    5.9    8.7    5.9    3.1   10.1    6.3    9.4    3.1   \n",
       "5              3.3    8.8   13.2    4.2    3.8    7.5    6.5    7.2    4.6   \n",
       "6              4.3    8.4   12.5    5.6    3.6    9.0    5.6    7.1    5.4   \n",
       "Total        246.0  580.0  810.0  333.0  250.0  610.0  406.0  502.0  266.0   \n",
       "\n",
       "clusters_id     39      40     47  Total_Patients  \n",
       "comm_npi                                           \n",
       "1              7.6    18.3   12.4            2133  \n",
       "2              5.7    17.7   12.2            1393  \n",
       "3              5.6    15.4   18.0            1530  \n",
       "4              5.6    17.5   19.2             286  \n",
       "5              8.3    16.6   16.0             613  \n",
       "6              7.1    17.8   13.5             534  \n",
       "Total        431.0  1119.0  936.0            6489  "
      ]
     },
     "execution_count": 902,
     "metadata": {},
     "output_type": "execute_result"
    }
   ],
   "source": [
    "comm_clust_new"
   ]
  },
  {
   "cell_type": "code",
   "execution_count": 848,
   "metadata": {
    "collapsed": true
   },
   "outputs": [],
   "source": [
    "#Writing this to csv\n",
    "# comm_clust_new.to_csv(\"cluster_within_community_patients.csv\")"
   ]
  },
  {
   "cell_type": "markdown",
   "metadata": {},
   "source": [
    "## 2) Distribution of NPI comm within each cluster"
   ]
  },
  {
   "cell_type": "code",
   "execution_count": 903,
   "metadata": {
    "collapsed": false
   },
   "outputs": [
    {
     "data": {
      "text/html": [
       "<div>\n",
       "<table border=\"1\" class=\"dataframe\">\n",
       "  <thead>\n",
       "    <tr style=\"text-align: right;\">\n",
       "      <th>clusters_id</th>\n",
       "      <th>16</th>\n",
       "      <th>21</th>\n",
       "      <th>25</th>\n",
       "      <th>26</th>\n",
       "      <th>28</th>\n",
       "      <th>32</th>\n",
       "      <th>34</th>\n",
       "      <th>37</th>\n",
       "      <th>38</th>\n",
       "      <th>39</th>\n",
       "      <th>40</th>\n",
       "      <th>47</th>\n",
       "      <th>Total_Patients</th>\n",
       "    </tr>\n",
       "    <tr>\n",
       "      <th>comm_npi</th>\n",
       "      <th></th>\n",
       "      <th></th>\n",
       "      <th></th>\n",
       "      <th></th>\n",
       "      <th></th>\n",
       "      <th></th>\n",
       "      <th></th>\n",
       "      <th></th>\n",
       "      <th></th>\n",
       "      <th></th>\n",
       "      <th></th>\n",
       "      <th></th>\n",
       "      <th></th>\n",
       "    </tr>\n",
       "  </thead>\n",
       "  <tbody>\n",
       "    <tr>\n",
       "      <th>1</th>\n",
       "      <td>31.30</td>\n",
       "      <td>32.24</td>\n",
       "      <td>31.73</td>\n",
       "      <td>32.73</td>\n",
       "      <td>34.0</td>\n",
       "      <td>36.07</td>\n",
       "      <td>35.47</td>\n",
       "      <td>32.07</td>\n",
       "      <td>28.57</td>\n",
       "      <td>37.59</td>\n",
       "      <td>34.85</td>\n",
       "      <td>28.31</td>\n",
       "      <td>2133</td>\n",
       "    </tr>\n",
       "    <tr>\n",
       "      <th>2</th>\n",
       "      <td>24.39</td>\n",
       "      <td>22.41</td>\n",
       "      <td>24.32</td>\n",
       "      <td>20.12</td>\n",
       "      <td>22.4</td>\n",
       "      <td>23.44</td>\n",
       "      <td>20.20</td>\n",
       "      <td>20.92</td>\n",
       "      <td>21.43</td>\n",
       "      <td>18.33</td>\n",
       "      <td>22.07</td>\n",
       "      <td>18.16</td>\n",
       "      <td>1393</td>\n",
       "    </tr>\n",
       "    <tr>\n",
       "      <th>3</th>\n",
       "      <td>21.14</td>\n",
       "      <td>25.34</td>\n",
       "      <td>22.59</td>\n",
       "      <td>25.23</td>\n",
       "      <td>23.2</td>\n",
       "      <td>20.33</td>\n",
       "      <td>22.66</td>\n",
       "      <td>25.30</td>\n",
       "      <td>25.19</td>\n",
       "      <td>19.72</td>\n",
       "      <td>21.00</td>\n",
       "      <td>29.49</td>\n",
       "      <td>1530</td>\n",
       "    </tr>\n",
       "    <tr>\n",
       "      <th>4</th>\n",
       "      <td>5.69</td>\n",
       "      <td>2.93</td>\n",
       "      <td>3.09</td>\n",
       "      <td>5.11</td>\n",
       "      <td>3.6</td>\n",
       "      <td>4.75</td>\n",
       "      <td>4.43</td>\n",
       "      <td>5.38</td>\n",
       "      <td>3.38</td>\n",
       "      <td>3.71</td>\n",
       "      <td>4.47</td>\n",
       "      <td>5.88</td>\n",
       "      <td>286</td>\n",
       "    </tr>\n",
       "    <tr>\n",
       "      <th>5</th>\n",
       "      <td>8.13</td>\n",
       "      <td>9.31</td>\n",
       "      <td>10.00</td>\n",
       "      <td>7.81</td>\n",
       "      <td>9.2</td>\n",
       "      <td>7.54</td>\n",
       "      <td>9.85</td>\n",
       "      <td>8.76</td>\n",
       "      <td>10.53</td>\n",
       "      <td>11.83</td>\n",
       "      <td>9.12</td>\n",
       "      <td>10.47</td>\n",
       "      <td>613</td>\n",
       "    </tr>\n",
       "    <tr>\n",
       "      <th>6</th>\n",
       "      <td>9.35</td>\n",
       "      <td>7.76</td>\n",
       "      <td>8.27</td>\n",
       "      <td>9.01</td>\n",
       "      <td>7.6</td>\n",
       "      <td>7.87</td>\n",
       "      <td>7.39</td>\n",
       "      <td>7.57</td>\n",
       "      <td>10.90</td>\n",
       "      <td>8.82</td>\n",
       "      <td>8.49</td>\n",
       "      <td>7.69</td>\n",
       "      <td>534</td>\n",
       "    </tr>\n",
       "    <tr>\n",
       "      <th>Total</th>\n",
       "      <td>246.00</td>\n",
       "      <td>580.00</td>\n",
       "      <td>810.00</td>\n",
       "      <td>333.00</td>\n",
       "      <td>250.0</td>\n",
       "      <td>610.00</td>\n",
       "      <td>406.00</td>\n",
       "      <td>502.00</td>\n",
       "      <td>266.00</td>\n",
       "      <td>431.00</td>\n",
       "      <td>1119.00</td>\n",
       "      <td>936.00</td>\n",
       "      <td>6489</td>\n",
       "    </tr>\n",
       "  </tbody>\n",
       "</table>\n",
       "</div>"
      ],
      "text/plain": [
       "clusters_id      16      21      25      26     28      32      34      37  \\\n",
       "comm_npi                                                                     \n",
       "1             31.30   32.24   31.73   32.73   34.0   36.07   35.47   32.07   \n",
       "2             24.39   22.41   24.32   20.12   22.4   23.44   20.20   20.92   \n",
       "3             21.14   25.34   22.59   25.23   23.2   20.33   22.66   25.30   \n",
       "4              5.69    2.93    3.09    5.11    3.6    4.75    4.43    5.38   \n",
       "5              8.13    9.31   10.00    7.81    9.2    7.54    9.85    8.76   \n",
       "6              9.35    7.76    8.27    9.01    7.6    7.87    7.39    7.57   \n",
       "Total        246.00  580.00  810.00  333.00  250.0  610.00  406.00  502.00   \n",
       "\n",
       "clusters_id      38      39       40      47  Total_Patients  \n",
       "comm_npi                                                      \n",
       "1             28.57   37.59    34.85   28.31            2133  \n",
       "2             21.43   18.33    22.07   18.16            1393  \n",
       "3             25.19   19.72    21.00   29.49            1530  \n",
       "4              3.38    3.71     4.47    5.88             286  \n",
       "5             10.53   11.83     9.12   10.47             613  \n",
       "6             10.90    8.82     8.49    7.69             534  \n",
       "Total        266.00  431.00  1119.00  936.00            6489  "
      ]
     },
     "execution_count": 903,
     "metadata": {},
     "output_type": "execute_result"
    }
   ],
   "source": [
    "clust_comm=euid_npi_cluster_grouped_pivot\n",
    "clust_comm_new=(clust_comm.ix[:6,:12]/(clust_comm.loc['Total']))*100.0\n",
    "clust_comm_new=clust_comm_new.round(2)\n",
    "clust_comm_new=clust_comm_new.append(clust_comm.loc['Total'])\n",
    "del clust_comm_new['Total_Patients']\n",
    "clust_comm_new=pd.concat([clust_comm_new,clust_comm['Total_Patients']],axis=1) \n",
    "clust_comm_new  "
   ]
  },
  {
   "cell_type": "code",
   "execution_count": 905,
   "metadata": {
    "collapsed": true
   },
   "outputs": [],
   "source": [
    "#writing to csv\n",
    "# clust_comm_new.to_csv(\"community_within_cluster.csv\")"
   ]
  },
  {
   "cell_type": "markdown",
   "metadata": {},
   "source": [
    "### Adding pmpm_cost to euid-comm-cluster mapping"
   ]
  },
  {
   "cell_type": "code",
   "execution_count": 906,
   "metadata": {
    "collapsed": false
   },
   "outputs": [],
   "source": [
    "# reading data from pmpm_cost\n",
    "type={'new_euid':'str','cost':'float','months':'float'}\n",
    "pmpm_cost=pd.read_csv(\"../../Data/Diabetic_Patient_Clustering/pmpm_cost.csv\",dtype=type)"
   ]
  },
  {
   "cell_type": "code",
   "execution_count": 907,
   "metadata": {
    "collapsed": false
   },
   "outputs": [
    {
     "data": {
      "text/html": [
       "<div>\n",
       "<table border=\"1\" class=\"dataframe\">\n",
       "  <thead>\n",
       "    <tr style=\"text-align: right;\">\n",
       "      <th></th>\n",
       "      <th>new_euid</th>\n",
       "      <th>cost</th>\n",
       "      <th>months</th>\n",
       "    </tr>\n",
       "  </thead>\n",
       "  <tbody>\n",
       "    <tr>\n",
       "      <th>0</th>\n",
       "      <td>0000003</td>\n",
       "      <td>193.67</td>\n",
       "      <td>12.0</td>\n",
       "    </tr>\n",
       "    <tr>\n",
       "      <th>1</th>\n",
       "      <td>0000004</td>\n",
       "      <td>1025.41</td>\n",
       "      <td>12.0</td>\n",
       "    </tr>\n",
       "    <tr>\n",
       "      <th>2</th>\n",
       "      <td>0000005</td>\n",
       "      <td>1503.28</td>\n",
       "      <td>12.0</td>\n",
       "    </tr>\n",
       "    <tr>\n",
       "      <th>3</th>\n",
       "      <td>0000006</td>\n",
       "      <td>4179.89</td>\n",
       "      <td>12.0</td>\n",
       "    </tr>\n",
       "    <tr>\n",
       "      <th>4</th>\n",
       "      <td>0000007</td>\n",
       "      <td>2020.39</td>\n",
       "      <td>12.0</td>\n",
       "    </tr>\n",
       "  </tbody>\n",
       "</table>\n",
       "</div>"
      ],
      "text/plain": [
       "  new_euid     cost  months\n",
       "0  0000003   193.67    12.0\n",
       "1  0000004  1025.41    12.0\n",
       "2  0000005  1503.28    12.0\n",
       "3  0000006  4179.89    12.0\n",
       "4  0000007  2020.39    12.0"
      ]
     },
     "execution_count": 907,
     "metadata": {},
     "output_type": "execute_result"
    }
   ],
   "source": [
    "pmpm_cost.head()"
   ]
  },
  {
   "cell_type": "code",
   "execution_count": 908,
   "metadata": {
    "collapsed": false
   },
   "outputs": [
    {
     "data": {
      "text/plain": [
       "new_euid     object\n",
       "cost        float64\n",
       "months      float64\n",
       "dtype: object"
      ]
     },
     "execution_count": 908,
     "metadata": {},
     "output_type": "execute_result"
    }
   ],
   "source": [
    "pmpm_cost.dtypes"
   ]
  },
  {
   "cell_type": "markdown",
   "metadata": {},
   "source": [
    "### Checking length of euid columns"
   ]
  },
  {
   "cell_type": "code",
   "execution_count": 909,
   "metadata": {
    "collapsed": false
   },
   "outputs": [
    {
     "data": {
      "text/html": [
       "<div>\n",
       "<table border=\"1\" class=\"dataframe\">\n",
       "  <thead>\n",
       "    <tr style=\"text-align: right;\">\n",
       "      <th></th>\n",
       "      <th>new_euid</th>\n",
       "    </tr>\n",
       "    <tr>\n",
       "      <th>new_euid</th>\n",
       "      <th></th>\n",
       "    </tr>\n",
       "  </thead>\n",
       "  <tbody>\n",
       "    <tr>\n",
       "      <th>7.0</th>\n",
       "      <td>536950</td>\n",
       "    </tr>\n",
       "  </tbody>\n",
       "</table>\n",
       "</div>"
      ],
      "text/plain": [
       "          new_euid\n",
       "new_euid          \n",
       "7.0         536950"
      ]
     },
     "execution_count": 909,
     "metadata": {},
     "output_type": "execute_result"
    }
   ],
   "source": [
    "pmpm_cost.groupby(pmpm_cost['new_euid'].str.len()).agg({'new_euid':np.size})"
   ]
  },
  {
   "cell_type": "markdown",
   "metadata": {},
   "source": [
    "### Cleaning the front 0's from euid "
   ]
  },
  {
   "cell_type": "code",
   "execution_count": 910,
   "metadata": {
    "collapsed": false
   },
   "outputs": [
    {
     "data": {
      "text/html": [
       "<div>\n",
       "<table border=\"1\" class=\"dataframe\">\n",
       "  <thead>\n",
       "    <tr style=\"text-align: right;\">\n",
       "      <th></th>\n",
       "      <th>new_euid</th>\n",
       "    </tr>\n",
       "    <tr>\n",
       "      <th>new_euid</th>\n",
       "      <th></th>\n",
       "    </tr>\n",
       "  </thead>\n",
       "  <tbody>\n",
       "    <tr>\n",
       "      <th>1</th>\n",
       "      <td>7</td>\n",
       "    </tr>\n",
       "    <tr>\n",
       "      <th>2</th>\n",
       "      <td>57</td>\n",
       "    </tr>\n",
       "    <tr>\n",
       "      <th>3</th>\n",
       "      <td>685</td>\n",
       "    </tr>\n",
       "    <tr>\n",
       "      <th>4</th>\n",
       "      <td>6566</td>\n",
       "    </tr>\n",
       "    <tr>\n",
       "      <th>5</th>\n",
       "      <td>62406</td>\n",
       "    </tr>\n",
       "    <tr>\n",
       "      <th>6</th>\n",
       "      <td>467230</td>\n",
       "    </tr>\n",
       "  </tbody>\n",
       "</table>\n",
       "</div>"
      ],
      "text/plain": [
       "          new_euid\n",
       "new_euid          \n",
       "1                7\n",
       "2               57\n",
       "3              685\n",
       "4             6566\n",
       "5            62406\n",
       "6           467230"
      ]
     },
     "execution_count": 910,
     "metadata": {},
     "output_type": "execute_result"
    }
   ],
   "source": [
    "pmpm_cost['new_euid'] = pmpm_cost['new_euid'].map(lambda x: str(x).lstrip('0'))\n",
    "pmpm_cost.groupby(pmpm_cost['new_euid'].str.len()).agg({'new_euid':np.size})"
   ]
  },
  {
   "cell_type": "markdown",
   "metadata": {},
   "source": [
    "### Checking if new_euid is unique in pmpm_cost"
   ]
  },
  {
   "cell_type": "code",
   "execution_count": 853,
   "metadata": {
    "collapsed": false
   },
   "outputs": [
    {
     "name": "stdout",
     "output_type": "stream",
     "text": [
      "536951\n",
      "536951\n"
     ]
    }
   ],
   "source": [
    "print(pmpm_cost.shape[0])\n",
    "print(len(pmpm_cost['new_euid'].unique()))  \n",
    "\n",
    "#it is"
   ]
  },
  {
   "cell_type": "markdown",
   "metadata": {},
   "source": [
    "### Merging with euid-comm_npi-cluster"
   ]
  },
  {
   "cell_type": "code",
   "execution_count": 911,
   "metadata": {
    "collapsed": false
   },
   "outputs": [
    {
     "data": {
      "text/html": [
       "<div>\n",
       "<table border=\"1\" class=\"dataframe\">\n",
       "  <thead>\n",
       "    <tr style=\"text-align: right;\">\n",
       "      <th></th>\n",
       "      <th>new_euid</th>\n",
       "      <th>comm_npi</th>\n",
       "      <th>clusters_id</th>\n",
       "    </tr>\n",
       "  </thead>\n",
       "  <tbody>\n",
       "    <tr>\n",
       "      <th>0</th>\n",
       "      <td>44470</td>\n",
       "      <td>1</td>\n",
       "      <td>40</td>\n",
       "    </tr>\n",
       "    <tr>\n",
       "      <th>1</th>\n",
       "      <td>33055</td>\n",
       "      <td>1</td>\n",
       "      <td>21</td>\n",
       "    </tr>\n",
       "  </tbody>\n",
       "</table>\n",
       "</div>"
      ],
      "text/plain": [
       "  new_euid  comm_npi  clusters_id\n",
       "0    44470         1           40\n",
       "1    33055         1           21"
      ]
     },
     "execution_count": 911,
     "metadata": {},
     "output_type": "execute_result"
    }
   ],
   "source": [
    "euid_npi_cluster[:2] "
   ]
  },
  {
   "cell_type": "code",
   "execution_count": 912,
   "metadata": {
    "collapsed": false
   },
   "outputs": [
    {
     "name": "stdout",
     "output_type": "stream",
     "text": [
      "(8955, 2)\n",
      "(6489, 5)\n"
     ]
    },
    {
     "data": {
      "text/html": [
       "<div>\n",
       "<table border=\"1\" class=\"dataframe\">\n",
       "  <thead>\n",
       "    <tr style=\"text-align: right;\">\n",
       "      <th></th>\n",
       "      <th>new_euid</th>\n",
       "      <th>comm_npi</th>\n",
       "      <th>clusters_id</th>\n",
       "      <th>cost</th>\n",
       "      <th>months</th>\n",
       "    </tr>\n",
       "  </thead>\n",
       "  <tbody>\n",
       "    <tr>\n",
       "      <th>0</th>\n",
       "      <td>44470</td>\n",
       "      <td>1</td>\n",
       "      <td>40</td>\n",
       "      <td>12223.45</td>\n",
       "      <td>12.0</td>\n",
       "    </tr>\n",
       "    <tr>\n",
       "      <th>1</th>\n",
       "      <td>33055</td>\n",
       "      <td>1</td>\n",
       "      <td>21</td>\n",
       "      <td>7636.60</td>\n",
       "      <td>12.0</td>\n",
       "    </tr>\n",
       "    <tr>\n",
       "      <th>2</th>\n",
       "      <td>187443</td>\n",
       "      <td>6</td>\n",
       "      <td>21</td>\n",
       "      <td>20686.80</td>\n",
       "      <td>12.0</td>\n",
       "    </tr>\n",
       "    <tr>\n",
       "      <th>3</th>\n",
       "      <td>118528</td>\n",
       "      <td>1</td>\n",
       "      <td>16</td>\n",
       "      <td>13323.18</td>\n",
       "      <td>12.0</td>\n",
       "    </tr>\n",
       "    <tr>\n",
       "      <th>4</th>\n",
       "      <td>395275</td>\n",
       "      <td>1</td>\n",
       "      <td>40</td>\n",
       "      <td>7369.39</td>\n",
       "      <td>12.0</td>\n",
       "    </tr>\n",
       "  </tbody>\n",
       "</table>\n",
       "</div>"
      ],
      "text/plain": [
       "  new_euid  comm_npi  clusters_id      cost  months\n",
       "0    44470         1           40  12223.45    12.0\n",
       "1    33055         1           21   7636.60    12.0\n",
       "2   187443         6           21  20686.80    12.0\n",
       "3   118528         1           16  13323.18    12.0\n",
       "4   395275         1           40   7369.39    12.0"
      ]
     },
     "execution_count": 912,
     "metadata": {},
     "output_type": "execute_result"
    }
   ],
   "source": [
    "euid_npi_cluster_cost=pd.merge(euid_npi_cluster,pmpm_cost,how='inner')\n",
    "print(patient_label_npi.shape)\n",
    "print(euid_npi_cluster_cost.shape) \n",
    "euid_npi_cluster_cost.head() "
   ]
  },
  {
   "cell_type": "markdown",
   "metadata": {},
   "source": [
    "### Adding average monthly cost of each patient "
   ]
  },
  {
   "cell_type": "code",
   "execution_count": 913,
   "metadata": {
    "collapsed": false
   },
   "outputs": [
    {
     "data": {
      "text/html": [
       "<div>\n",
       "<table border=\"1\" class=\"dataframe\">\n",
       "  <thead>\n",
       "    <tr style=\"text-align: right;\">\n",
       "      <th></th>\n",
       "      <th>new_euid</th>\n",
       "      <th>comm_npi</th>\n",
       "      <th>clusters_id</th>\n",
       "      <th>AvgMonthlyCost</th>\n",
       "    </tr>\n",
       "  </thead>\n",
       "  <tbody>\n",
       "    <tr>\n",
       "      <th>0</th>\n",
       "      <td>44470</td>\n",
       "      <td>1</td>\n",
       "      <td>40</td>\n",
       "      <td>1018.62</td>\n",
       "    </tr>\n",
       "    <tr>\n",
       "      <th>1</th>\n",
       "      <td>33055</td>\n",
       "      <td>1</td>\n",
       "      <td>21</td>\n",
       "      <td>636.38</td>\n",
       "    </tr>\n",
       "  </tbody>\n",
       "</table>\n",
       "</div>"
      ],
      "text/plain": [
       "  new_euid  comm_npi  clusters_id  AvgMonthlyCost\n",
       "0    44470         1           40         1018.62\n",
       "1    33055         1           21          636.38"
      ]
     },
     "execution_count": 913,
     "metadata": {},
     "output_type": "execute_result"
    }
   ],
   "source": [
    "euid_npi_cluster_cost['AvgMonthlyCost']=euid_npi_cluster_cost['cost']/euid_npi_cluster_cost['months']\n",
    "euid_npi_cluster_cost.drop(['cost','months'],axis=1,inplace=True)\n",
    "euid_npi_cluster_cost=euid_npi_cluster_cost.round(2)\n",
    "euid_npi_cluster_cost[:2] "
   ]
  },
  {
   "cell_type": "markdown",
   "metadata": {},
   "source": [
    "### Grouping to see Avg Monthly Cost metrics across comm-clusters "
   ]
  },
  {
   "cell_type": "code",
   "execution_count": 914,
   "metadata": {
    "collapsed": false
   },
   "outputs": [
    {
     "data": {
      "text/html": [
       "<div>\n",
       "<table border=\"1\" class=\"dataframe\">\n",
       "  <thead>\n",
       "    <tr style=\"text-align: right;\">\n",
       "      <th></th>\n",
       "      <th>comm_npi</th>\n",
       "      <th>clusters_id</th>\n",
       "      <th>new_euid</th>\n",
       "      <th>AvgMonthlyCost</th>\n",
       "    </tr>\n",
       "  </thead>\n",
       "  <tbody>\n",
       "    <tr>\n",
       "      <th>0</th>\n",
       "      <td>1</td>\n",
       "      <td>16</td>\n",
       "      <td>77</td>\n",
       "      <td>89675.96</td>\n",
       "    </tr>\n",
       "    <tr>\n",
       "      <th>1</th>\n",
       "      <td>1</td>\n",
       "      <td>21</td>\n",
       "      <td>187</td>\n",
       "      <td>185330.72</td>\n",
       "    </tr>\n",
       "  </tbody>\n",
       "</table>\n",
       "</div>"
      ],
      "text/plain": [
       "   comm_npi  clusters_id  new_euid  AvgMonthlyCost\n",
       "0         1           16        77        89675.96\n",
       "1         1           21       187       185330.72"
      ]
     },
     "execution_count": 914,
     "metadata": {},
     "output_type": "execute_result"
    }
   ],
   "source": [
    "euid_npi_cluster_cost_grp=euid_npi_cluster_cost.groupby(['comm_npi','clusters_id']).agg({'new_euid':np.size,'AvgMonthlyCost':np.sum})\n",
    "euid_npi_cluster_cost_grp.reset_index(inplace=True)\n",
    "euid_npi_cluster_cost_grp[:2]  "
   ]
  },
  {
   "cell_type": "markdown",
   "metadata": {},
   "source": [
    "### Pivoting for Total patients across patients & communities"
   ]
  },
  {
   "cell_type": "code",
   "execution_count": 915,
   "metadata": {
    "collapsed": false
   },
   "outputs": [
    {
     "data": {
      "text/html": [
       "<div>\n",
       "<table border=\"1\" class=\"dataframe\">\n",
       "  <thead>\n",
       "    <tr style=\"text-align: right;\">\n",
       "      <th>clusters_id</th>\n",
       "      <th>16</th>\n",
       "      <th>21</th>\n",
       "      <th>25</th>\n",
       "      <th>26</th>\n",
       "      <th>28</th>\n",
       "      <th>32</th>\n",
       "      <th>34</th>\n",
       "      <th>37</th>\n",
       "      <th>38</th>\n",
       "      <th>39</th>\n",
       "      <th>40</th>\n",
       "      <th>47</th>\n",
       "      <th>Total_Patients</th>\n",
       "    </tr>\n",
       "    <tr>\n",
       "      <th>comm_npi</th>\n",
       "      <th></th>\n",
       "      <th></th>\n",
       "      <th></th>\n",
       "      <th></th>\n",
       "      <th></th>\n",
       "      <th></th>\n",
       "      <th></th>\n",
       "      <th></th>\n",
       "      <th></th>\n",
       "      <th></th>\n",
       "      <th></th>\n",
       "      <th></th>\n",
       "      <th></th>\n",
       "    </tr>\n",
       "  </thead>\n",
       "  <tbody>\n",
       "    <tr>\n",
       "      <th>1</th>\n",
       "      <td>77</td>\n",
       "      <td>187</td>\n",
       "      <td>257</td>\n",
       "      <td>109</td>\n",
       "      <td>85</td>\n",
       "      <td>220</td>\n",
       "      <td>144</td>\n",
       "      <td>161</td>\n",
       "      <td>76</td>\n",
       "      <td>162</td>\n",
       "      <td>390</td>\n",
       "      <td>265</td>\n",
       "      <td>2133</td>\n",
       "    </tr>\n",
       "    <tr>\n",
       "      <th>2</th>\n",
       "      <td>60</td>\n",
       "      <td>130</td>\n",
       "      <td>197</td>\n",
       "      <td>67</td>\n",
       "      <td>56</td>\n",
       "      <td>143</td>\n",
       "      <td>82</td>\n",
       "      <td>105</td>\n",
       "      <td>57</td>\n",
       "      <td>79</td>\n",
       "      <td>247</td>\n",
       "      <td>170</td>\n",
       "      <td>1393</td>\n",
       "    </tr>\n",
       "    <tr>\n",
       "      <th>3</th>\n",
       "      <td>52</td>\n",
       "      <td>147</td>\n",
       "      <td>183</td>\n",
       "      <td>84</td>\n",
       "      <td>58</td>\n",
       "      <td>124</td>\n",
       "      <td>92</td>\n",
       "      <td>127</td>\n",
       "      <td>67</td>\n",
       "      <td>85</td>\n",
       "      <td>235</td>\n",
       "      <td>276</td>\n",
       "      <td>1530</td>\n",
       "    </tr>\n",
       "    <tr>\n",
       "      <th>4</th>\n",
       "      <td>14</td>\n",
       "      <td>17</td>\n",
       "      <td>25</td>\n",
       "      <td>17</td>\n",
       "      <td>9</td>\n",
       "      <td>29</td>\n",
       "      <td>18</td>\n",
       "      <td>27</td>\n",
       "      <td>9</td>\n",
       "      <td>16</td>\n",
       "      <td>50</td>\n",
       "      <td>55</td>\n",
       "      <td>286</td>\n",
       "    </tr>\n",
       "    <tr>\n",
       "      <th>5</th>\n",
       "      <td>20</td>\n",
       "      <td>54</td>\n",
       "      <td>81</td>\n",
       "      <td>26</td>\n",
       "      <td>23</td>\n",
       "      <td>46</td>\n",
       "      <td>40</td>\n",
       "      <td>44</td>\n",
       "      <td>28</td>\n",
       "      <td>51</td>\n",
       "      <td>102</td>\n",
       "      <td>98</td>\n",
       "      <td>613</td>\n",
       "    </tr>\n",
       "    <tr>\n",
       "      <th>6</th>\n",
       "      <td>23</td>\n",
       "      <td>45</td>\n",
       "      <td>67</td>\n",
       "      <td>30</td>\n",
       "      <td>19</td>\n",
       "      <td>48</td>\n",
       "      <td>30</td>\n",
       "      <td>38</td>\n",
       "      <td>29</td>\n",
       "      <td>38</td>\n",
       "      <td>95</td>\n",
       "      <td>72</td>\n",
       "      <td>534</td>\n",
       "    </tr>\n",
       "    <tr>\n",
       "      <th>Total</th>\n",
       "      <td>246</td>\n",
       "      <td>580</td>\n",
       "      <td>810</td>\n",
       "      <td>333</td>\n",
       "      <td>250</td>\n",
       "      <td>610</td>\n",
       "      <td>406</td>\n",
       "      <td>502</td>\n",
       "      <td>266</td>\n",
       "      <td>431</td>\n",
       "      <td>1119</td>\n",
       "      <td>936</td>\n",
       "      <td>6489</td>\n",
       "    </tr>\n",
       "  </tbody>\n",
       "</table>\n",
       "</div>"
      ],
      "text/plain": [
       "clusters_id   16   21   25   26   28   32   34   37   38   39    40   47  \\\n",
       "comm_npi                                                                   \n",
       "1             77  187  257  109   85  220  144  161   76  162   390  265   \n",
       "2             60  130  197   67   56  143   82  105   57   79   247  170   \n",
       "3             52  147  183   84   58  124   92  127   67   85   235  276   \n",
       "4             14   17   25   17    9   29   18   27    9   16    50   55   \n",
       "5             20   54   81   26   23   46   40   44   28   51   102   98   \n",
       "6             23   45   67   30   19   48   30   38   29   38    95   72   \n",
       "Total        246  580  810  333  250  610  406  502  266  431  1119  936   \n",
       "\n",
       "clusters_id  Total_Patients  \n",
       "comm_npi                     \n",
       "1                      2133  \n",
       "2                      1393  \n",
       "3                      1530  \n",
       "4                       286  \n",
       "5                       613  \n",
       "6                       534  \n",
       "Total                  6489  "
      ]
     },
     "execution_count": 915,
     "metadata": {},
     "output_type": "execute_result"
    }
   ],
   "source": [
    "clust_comm= euid_npi_cluster_cost_grp.pivot(index='comm_npi',columns='clusters_id',values='new_euid')\n",
    "clust_comm['Total_Patients']=clust_comm.sum(axis=1) \n",
    "clust_comm.loc['Total']=clust_comm.sum()\n",
    "clust_comm "
   ]
  },
  {
   "cell_type": "markdown",
   "metadata": {},
   "source": [
    "### Pivoting for Avg Monthly cost across community-cluster"
   ]
  },
  {
   "cell_type": "code",
   "execution_count": 921,
   "metadata": {
    "collapsed": false
   },
   "outputs": [
    {
     "data": {
      "text/html": [
       "<div>\n",
       "<table border=\"1\" class=\"dataframe\">\n",
       "  <thead>\n",
       "    <tr style=\"text-align: right;\">\n",
       "      <th>clusters_id</th>\n",
       "      <th>16</th>\n",
       "      <th>21</th>\n",
       "      <th>25</th>\n",
       "      <th>26</th>\n",
       "      <th>28</th>\n",
       "      <th>32</th>\n",
       "      <th>34</th>\n",
       "      <th>37</th>\n",
       "      <th>38</th>\n",
       "      <th>39</th>\n",
       "      <th>40</th>\n",
       "      <th>47</th>\n",
       "      <th>AvgMonthCost_comm</th>\n",
       "    </tr>\n",
       "    <tr>\n",
       "      <th>comm_npi</th>\n",
       "      <th></th>\n",
       "      <th></th>\n",
       "      <th></th>\n",
       "      <th></th>\n",
       "      <th></th>\n",
       "      <th></th>\n",
       "      <th></th>\n",
       "      <th></th>\n",
       "      <th></th>\n",
       "      <th></th>\n",
       "      <th></th>\n",
       "      <th></th>\n",
       "      <th></th>\n",
       "    </tr>\n",
       "  </thead>\n",
       "  <tbody>\n",
       "    <tr>\n",
       "      <th>1</th>\n",
       "      <td>89675.96</td>\n",
       "      <td>185330.72</td>\n",
       "      <td>343276.56</td>\n",
       "      <td>80958.35</td>\n",
       "      <td>58485.95</td>\n",
       "      <td>176468.84</td>\n",
       "      <td>184001.17</td>\n",
       "      <td>161100.74</td>\n",
       "      <td>68517.19</td>\n",
       "      <td>127829.82</td>\n",
       "      <td>267093.99</td>\n",
       "      <td>640965.45</td>\n",
       "      <td>2383704.74</td>\n",
       "    </tr>\n",
       "    <tr>\n",
       "      <th>2</th>\n",
       "      <td>51262.03</td>\n",
       "      <td>160063.24</td>\n",
       "      <td>244605.94</td>\n",
       "      <td>38999.81</td>\n",
       "      <td>34112.71</td>\n",
       "      <td>100083.62</td>\n",
       "      <td>145704.92</td>\n",
       "      <td>111129.87</td>\n",
       "      <td>41529.53</td>\n",
       "      <td>57003.40</td>\n",
       "      <td>105792.06</td>\n",
       "      <td>284062.03</td>\n",
       "      <td>1374349.16</td>\n",
       "    </tr>\n",
       "    <tr>\n",
       "      <th>3</th>\n",
       "      <td>43416.88</td>\n",
       "      <td>105004.92</td>\n",
       "      <td>198134.98</td>\n",
       "      <td>31582.22</td>\n",
       "      <td>26026.40</td>\n",
       "      <td>92178.78</td>\n",
       "      <td>129984.87</td>\n",
       "      <td>124742.81</td>\n",
       "      <td>45686.83</td>\n",
       "      <td>46830.39</td>\n",
       "      <td>101396.45</td>\n",
       "      <td>494850.77</td>\n",
       "      <td>1439836.30</td>\n",
       "    </tr>\n",
       "    <tr>\n",
       "      <th>4</th>\n",
       "      <td>11639.19</td>\n",
       "      <td>23307.07</td>\n",
       "      <td>28100.04</td>\n",
       "      <td>16221.03</td>\n",
       "      <td>4993.43</td>\n",
       "      <td>25485.44</td>\n",
       "      <td>104820.17</td>\n",
       "      <td>18199.33</td>\n",
       "      <td>9622.90</td>\n",
       "      <td>14507.50</td>\n",
       "      <td>70726.42</td>\n",
       "      <td>334876.34</td>\n",
       "      <td>662498.86</td>\n",
       "    </tr>\n",
       "    <tr>\n",
       "      <th>5</th>\n",
       "      <td>29321.22</td>\n",
       "      <td>35299.08</td>\n",
       "      <td>85259.60</td>\n",
       "      <td>12199.57</td>\n",
       "      <td>22982.70</td>\n",
       "      <td>35700.77</td>\n",
       "      <td>94835.23</td>\n",
       "      <td>53195.43</td>\n",
       "      <td>22993.66</td>\n",
       "      <td>22266.63</td>\n",
       "      <td>44450.66</td>\n",
       "      <td>162236.78</td>\n",
       "      <td>620741.33</td>\n",
       "    </tr>\n",
       "    <tr>\n",
       "      <th>6</th>\n",
       "      <td>19661.67</td>\n",
       "      <td>41174.60</td>\n",
       "      <td>74047.61</td>\n",
       "      <td>18799.26</td>\n",
       "      <td>14298.01</td>\n",
       "      <td>47623.26</td>\n",
       "      <td>69121.84</td>\n",
       "      <td>41640.42</td>\n",
       "      <td>24394.41</td>\n",
       "      <td>26930.15</td>\n",
       "      <td>43589.04</td>\n",
       "      <td>145285.29</td>\n",
       "      <td>566565.56</td>\n",
       "    </tr>\n",
       "    <tr>\n",
       "      <th>AvgMonthCost_clst</th>\n",
       "      <td>244976.95</td>\n",
       "      <td>550179.63</td>\n",
       "      <td>973424.73</td>\n",
       "      <td>198760.24</td>\n",
       "      <td>160899.20</td>\n",
       "      <td>477540.71</td>\n",
       "      <td>728468.20</td>\n",
       "      <td>510008.60</td>\n",
       "      <td>212744.52</td>\n",
       "      <td>295367.89</td>\n",
       "      <td>633048.62</td>\n",
       "      <td>2062276.66</td>\n",
       "      <td>7047695.95</td>\n",
       "    </tr>\n",
       "  </tbody>\n",
       "</table>\n",
       "</div>"
      ],
      "text/plain": [
       "clusters_id               16         21         25         26         28  \\\n",
       "comm_npi                                                                   \n",
       "1                   89675.96  185330.72  343276.56   80958.35   58485.95   \n",
       "2                   51262.03  160063.24  244605.94   38999.81   34112.71   \n",
       "3                   43416.88  105004.92  198134.98   31582.22   26026.40   \n",
       "4                   11639.19   23307.07   28100.04   16221.03    4993.43   \n",
       "5                   29321.22   35299.08   85259.60   12199.57   22982.70   \n",
       "6                   19661.67   41174.60   74047.61   18799.26   14298.01   \n",
       "AvgMonthCost_clst  244976.95  550179.63  973424.73  198760.24  160899.20   \n",
       "\n",
       "clusters_id               32         34         37         38         39  \\\n",
       "comm_npi                                                                   \n",
       "1                  176468.84  184001.17  161100.74   68517.19  127829.82   \n",
       "2                  100083.62  145704.92  111129.87   41529.53   57003.40   \n",
       "3                   92178.78  129984.87  124742.81   45686.83   46830.39   \n",
       "4                   25485.44  104820.17   18199.33    9622.90   14507.50   \n",
       "5                   35700.77   94835.23   53195.43   22993.66   22266.63   \n",
       "6                   47623.26   69121.84   41640.42   24394.41   26930.15   \n",
       "AvgMonthCost_clst  477540.71  728468.20  510008.60  212744.52  295367.89   \n",
       "\n",
       "clusters_id               40          47  AvgMonthCost_comm  \n",
       "comm_npi                                                     \n",
       "1                  267093.99   640965.45         2383704.74  \n",
       "2                  105792.06   284062.03         1374349.16  \n",
       "3                  101396.45   494850.77         1439836.30  \n",
       "4                   70726.42   334876.34          662498.86  \n",
       "5                   44450.66   162236.78          620741.33  \n",
       "6                   43589.04   145285.29          566565.56  \n",
       "AvgMonthCost_clst  633048.62  2062276.66         7047695.95  "
      ]
     },
     "execution_count": 921,
     "metadata": {},
     "output_type": "execute_result"
    }
   ],
   "source": [
    "euid_npi_clst_cost_grp_piv= euid_npi_cluster_cost_grp.pivot(index='comm_npi',columns='clusters_id',values='AvgMonthlyCost')\n",
    "comm_clst_cost=euid_npi_clst_cost_grp_piv\n",
    "comm_clst_cost.loc['AvgMonthCost_clst']=comm_clst_cost.sum()\n",
    "comm_clst_cost['AvgMonthCost_comm']=comm_clst_cost.sum(axis=1)\n",
    "comm_clst_cost  "
   ]
  },
  {
   "cell_type": "code",
   "execution_count": 917,
   "metadata": {
    "collapsed": true
   },
   "outputs": [],
   "source": [
    "# writing to csv\n",
    "# comm_clst_cost.to_csv(\"community_cluster_cost_distribution.csv\")"
   ]
  },
  {
   "cell_type": "markdown",
   "metadata": {},
   "source": [
    "## 1). Cost Distribution of NPI communities across patient clusters"
   ]
  },
  {
   "cell_type": "code",
   "execution_count": 918,
   "metadata": {
    "collapsed": true
   },
   "outputs": [],
   "source": [
    "comm_clst_cost_new=(comm_clst_cost.ix[:6,:12].div(comm_clst_cost['AvgMonthCost_comm'],axis=0))*100\n",
    "comm_clst_cost_new=comm_clst_cost_new.round(1) \n",
    "comm_clst_cost_new=pd.concat([comm_clst_cost_new,comm_clst_cost['AvgMonthCost_comm']],axis=1)  \n",
    "comm_clst_cost_new=comm_clst_cost_new.drop(['AvgMonthCost_clst'])\n",
    "comm_clst_cost_new=comm_clst_cost_new.append(comm_clst_cost.loc['AvgMonthCost_clst'])\n",
    "comm_clst_cost_new=pd.concat([comm_clst_cost_new,clust_comm['Total_Patients']],axis=1)  \n",
    "comm_clst_cost_new=comm_clst_cost_new.drop(['Total'])\n",
    "comm_clst_cost_new=comm_clst_cost_new.append(clust_comm.loc['Total']) "
   ]
  },
  {
   "cell_type": "code",
   "execution_count": 919,
   "metadata": {
    "collapsed": false
   },
   "outputs": [
    {
     "data": {
      "text/html": [
       "<div>\n",
       "<table border=\"1\" class=\"dataframe\">\n",
       "  <thead>\n",
       "    <tr style=\"text-align: right;\">\n",
       "      <th>clusters_id</th>\n",
       "      <th>16</th>\n",
       "      <th>21</th>\n",
       "      <th>25</th>\n",
       "      <th>26</th>\n",
       "      <th>28</th>\n",
       "      <th>32</th>\n",
       "      <th>34</th>\n",
       "      <th>37</th>\n",
       "      <th>38</th>\n",
       "      <th>39</th>\n",
       "      <th>40</th>\n",
       "      <th>47</th>\n",
       "      <th>AvgMonthCost_comm</th>\n",
       "      <th>Total_Patients</th>\n",
       "    </tr>\n",
       "  </thead>\n",
       "  <tbody>\n",
       "    <tr>\n",
       "      <th>1</th>\n",
       "      <td>3.80</td>\n",
       "      <td>7.80</td>\n",
       "      <td>14.40</td>\n",
       "      <td>3.40</td>\n",
       "      <td>2.5</td>\n",
       "      <td>7.40</td>\n",
       "      <td>7.7</td>\n",
       "      <td>6.8</td>\n",
       "      <td>2.90</td>\n",
       "      <td>5.40</td>\n",
       "      <td>11.20</td>\n",
       "      <td>26.90</td>\n",
       "      <td>2383704.74</td>\n",
       "      <td>2133.0</td>\n",
       "    </tr>\n",
       "    <tr>\n",
       "      <th>2</th>\n",
       "      <td>3.70</td>\n",
       "      <td>11.60</td>\n",
       "      <td>17.80</td>\n",
       "      <td>2.80</td>\n",
       "      <td>2.5</td>\n",
       "      <td>7.30</td>\n",
       "      <td>10.6</td>\n",
       "      <td>8.1</td>\n",
       "      <td>3.00</td>\n",
       "      <td>4.10</td>\n",
       "      <td>7.70</td>\n",
       "      <td>20.70</td>\n",
       "      <td>1374349.16</td>\n",
       "      <td>1393.0</td>\n",
       "    </tr>\n",
       "    <tr>\n",
       "      <th>3</th>\n",
       "      <td>3.00</td>\n",
       "      <td>7.30</td>\n",
       "      <td>13.80</td>\n",
       "      <td>2.20</td>\n",
       "      <td>1.8</td>\n",
       "      <td>6.40</td>\n",
       "      <td>9.0</td>\n",
       "      <td>8.7</td>\n",
       "      <td>3.20</td>\n",
       "      <td>3.30</td>\n",
       "      <td>7.00</td>\n",
       "      <td>34.40</td>\n",
       "      <td>1439836.30</td>\n",
       "      <td>1530.0</td>\n",
       "    </tr>\n",
       "    <tr>\n",
       "      <th>4</th>\n",
       "      <td>1.80</td>\n",
       "      <td>3.50</td>\n",
       "      <td>4.20</td>\n",
       "      <td>2.40</td>\n",
       "      <td>0.8</td>\n",
       "      <td>3.80</td>\n",
       "      <td>15.8</td>\n",
       "      <td>2.7</td>\n",
       "      <td>1.50</td>\n",
       "      <td>2.20</td>\n",
       "      <td>10.70</td>\n",
       "      <td>50.50</td>\n",
       "      <td>662498.86</td>\n",
       "      <td>286.0</td>\n",
       "    </tr>\n",
       "    <tr>\n",
       "      <th>5</th>\n",
       "      <td>4.70</td>\n",
       "      <td>5.70</td>\n",
       "      <td>13.70</td>\n",
       "      <td>2.00</td>\n",
       "      <td>3.7</td>\n",
       "      <td>5.80</td>\n",
       "      <td>15.3</td>\n",
       "      <td>8.6</td>\n",
       "      <td>3.70</td>\n",
       "      <td>3.60</td>\n",
       "      <td>7.20</td>\n",
       "      <td>26.10</td>\n",
       "      <td>620741.33</td>\n",
       "      <td>613.0</td>\n",
       "    </tr>\n",
       "    <tr>\n",
       "      <th>6</th>\n",
       "      <td>3.50</td>\n",
       "      <td>7.30</td>\n",
       "      <td>13.10</td>\n",
       "      <td>3.30</td>\n",
       "      <td>2.5</td>\n",
       "      <td>8.40</td>\n",
       "      <td>12.2</td>\n",
       "      <td>7.3</td>\n",
       "      <td>4.30</td>\n",
       "      <td>4.80</td>\n",
       "      <td>7.70</td>\n",
       "      <td>25.60</td>\n",
       "      <td>566565.56</td>\n",
       "      <td>534.0</td>\n",
       "    </tr>\n",
       "    <tr>\n",
       "      <th>AvgMonthCost_clst</th>\n",
       "      <td>244976.95</td>\n",
       "      <td>550179.63</td>\n",
       "      <td>973424.73</td>\n",
       "      <td>198760.24</td>\n",
       "      <td>160899.2</td>\n",
       "      <td>477540.71</td>\n",
       "      <td>728468.2</td>\n",
       "      <td>510008.6</td>\n",
       "      <td>212744.52</td>\n",
       "      <td>295367.89</td>\n",
       "      <td>633048.62</td>\n",
       "      <td>2062276.66</td>\n",
       "      <td>7047695.95</td>\n",
       "      <td>NaN</td>\n",
       "    </tr>\n",
       "    <tr>\n",
       "      <th>Total</th>\n",
       "      <td>246.00</td>\n",
       "      <td>580.00</td>\n",
       "      <td>810.00</td>\n",
       "      <td>333.00</td>\n",
       "      <td>250.0</td>\n",
       "      <td>610.00</td>\n",
       "      <td>406.0</td>\n",
       "      <td>502.0</td>\n",
       "      <td>266.00</td>\n",
       "      <td>431.00</td>\n",
       "      <td>1119.00</td>\n",
       "      <td>936.00</td>\n",
       "      <td>NaN</td>\n",
       "      <td>6489.0</td>\n",
       "    </tr>\n",
       "  </tbody>\n",
       "</table>\n",
       "</div>"
      ],
      "text/plain": [
       "clusters_id               16         21         25         26        28  \\\n",
       "1                       3.80       7.80      14.40       3.40       2.5   \n",
       "2                       3.70      11.60      17.80       2.80       2.5   \n",
       "3                       3.00       7.30      13.80       2.20       1.8   \n",
       "4                       1.80       3.50       4.20       2.40       0.8   \n",
       "5                       4.70       5.70      13.70       2.00       3.7   \n",
       "6                       3.50       7.30      13.10       3.30       2.5   \n",
       "AvgMonthCost_clst  244976.95  550179.63  973424.73  198760.24  160899.2   \n",
       "Total                 246.00     580.00     810.00     333.00     250.0   \n",
       "\n",
       "clusters_id               32        34        37         38         39  \\\n",
       "1                       7.40       7.7       6.8       2.90       5.40   \n",
       "2                       7.30      10.6       8.1       3.00       4.10   \n",
       "3                       6.40       9.0       8.7       3.20       3.30   \n",
       "4                       3.80      15.8       2.7       1.50       2.20   \n",
       "5                       5.80      15.3       8.6       3.70       3.60   \n",
       "6                       8.40      12.2       7.3       4.30       4.80   \n",
       "AvgMonthCost_clst  477540.71  728468.2  510008.6  212744.52  295367.89   \n",
       "Total                 610.00     406.0     502.0     266.00     431.00   \n",
       "\n",
       "clusters_id               40          47  AvgMonthCost_comm  Total_Patients  \n",
       "1                      11.20       26.90         2383704.74          2133.0  \n",
       "2                       7.70       20.70         1374349.16          1393.0  \n",
       "3                       7.00       34.40         1439836.30          1530.0  \n",
       "4                      10.70       50.50          662498.86           286.0  \n",
       "5                       7.20       26.10          620741.33           613.0  \n",
       "6                       7.70       25.60          566565.56           534.0  \n",
       "AvgMonthCost_clst  633048.62  2062276.66         7047695.95             NaN  \n",
       "Total                1119.00      936.00                NaN          6489.0  "
      ]
     },
     "execution_count": 919,
     "metadata": {},
     "output_type": "execute_result"
    }
   ],
   "source": [
    "comm_clst_cost_new "
   ]
  },
  {
   "cell_type": "code",
   "execution_count": 920,
   "metadata": {
    "collapsed": true
   },
   "outputs": [],
   "source": [
    "#writing to csv\n",
    "# comm_clst_cost_new.to_csv(\"cost_communities_across_clusters.csv\")"
   ]
  },
  {
   "cell_type": "markdown",
   "metadata": {},
   "source": [
    "## 2). Cost Distribution of clusters across NPI communities "
   ]
  },
  {
   "cell_type": "code",
   "execution_count": 922,
   "metadata": {
    "collapsed": false
   },
   "outputs": [],
   "source": [
    "comm_clst_cost_new=(comm_clst_cost.ix[:6,:12]/(comm_clst_cost.loc['AvgMonthCost_clst']))*100.0\n",
    "comm_clst_cost_new=comm_clst_cost_new.round(1) \n",
    "#comm_clst_cost_new=pd.concat([comm_clst_cost_new,comm_clst_cost['AvgMonthCost_comm']],axis=1)  \n",
    "#comm_clst_cost_new=comm_clst_cost_new.drop(['AvgMonthCost_clst']) \n",
    "comm_clst_cost_new=comm_clst_cost_new.append(comm_clst_cost.loc['AvgMonthCost_clst'])\n",
    "del comm_clst_cost_new['AvgMonthCost_comm']\n",
    "comm_clst_cost_new=pd.concat([comm_clst_cost_new,comm_clst_cost['AvgMonthCost_comm']],axis=1)  \n",
    "comm_clst_cost_new=pd.concat([comm_clst_cost_new,clust_comm['Total_Patients']],axis=1)  \n",
    "comm_clst_cost_new=comm_clst_cost_new.drop(['Total']) \n",
    "comm_clst_cost_new=comm_clst_cost_new.append(clust_comm.loc['Total'])  "
   ]
  },
  {
   "cell_type": "code",
   "execution_count": 923,
   "metadata": {
    "collapsed": false
   },
   "outputs": [
    {
     "data": {
      "text/html": [
       "<div>\n",
       "<table border=\"1\" class=\"dataframe\">\n",
       "  <thead>\n",
       "    <tr style=\"text-align: right;\">\n",
       "      <th>clusters_id</th>\n",
       "      <th>16</th>\n",
       "      <th>21</th>\n",
       "      <th>25</th>\n",
       "      <th>26</th>\n",
       "      <th>28</th>\n",
       "      <th>32</th>\n",
       "      <th>34</th>\n",
       "      <th>37</th>\n",
       "      <th>38</th>\n",
       "      <th>39</th>\n",
       "      <th>40</th>\n",
       "      <th>47</th>\n",
       "      <th>AvgMonthCost_comm</th>\n",
       "      <th>Total_Patients</th>\n",
       "    </tr>\n",
       "  </thead>\n",
       "  <tbody>\n",
       "    <tr>\n",
       "      <th>1</th>\n",
       "      <td>36.60</td>\n",
       "      <td>33.70</td>\n",
       "      <td>35.30</td>\n",
       "      <td>40.70</td>\n",
       "      <td>36.3</td>\n",
       "      <td>37.00</td>\n",
       "      <td>25.3</td>\n",
       "      <td>31.6</td>\n",
       "      <td>32.20</td>\n",
       "      <td>43.30</td>\n",
       "      <td>42.20</td>\n",
       "      <td>31.10</td>\n",
       "      <td>2383704.74</td>\n",
       "      <td>2133.0</td>\n",
       "    </tr>\n",
       "    <tr>\n",
       "      <th>2</th>\n",
       "      <td>20.90</td>\n",
       "      <td>29.10</td>\n",
       "      <td>25.10</td>\n",
       "      <td>19.60</td>\n",
       "      <td>21.2</td>\n",
       "      <td>21.00</td>\n",
       "      <td>20.0</td>\n",
       "      <td>21.8</td>\n",
       "      <td>19.50</td>\n",
       "      <td>19.30</td>\n",
       "      <td>16.70</td>\n",
       "      <td>13.80</td>\n",
       "      <td>1374349.16</td>\n",
       "      <td>1393.0</td>\n",
       "    </tr>\n",
       "    <tr>\n",
       "      <th>3</th>\n",
       "      <td>17.70</td>\n",
       "      <td>19.10</td>\n",
       "      <td>20.40</td>\n",
       "      <td>15.90</td>\n",
       "      <td>16.2</td>\n",
       "      <td>19.30</td>\n",
       "      <td>17.8</td>\n",
       "      <td>24.5</td>\n",
       "      <td>21.50</td>\n",
       "      <td>15.90</td>\n",
       "      <td>16.00</td>\n",
       "      <td>24.00</td>\n",
       "      <td>1439836.30</td>\n",
       "      <td>1530.0</td>\n",
       "    </tr>\n",
       "    <tr>\n",
       "      <th>4</th>\n",
       "      <td>4.80</td>\n",
       "      <td>4.20</td>\n",
       "      <td>2.90</td>\n",
       "      <td>8.20</td>\n",
       "      <td>3.1</td>\n",
       "      <td>5.30</td>\n",
       "      <td>14.4</td>\n",
       "      <td>3.6</td>\n",
       "      <td>4.50</td>\n",
       "      <td>4.90</td>\n",
       "      <td>11.20</td>\n",
       "      <td>16.20</td>\n",
       "      <td>662498.86</td>\n",
       "      <td>286.0</td>\n",
       "    </tr>\n",
       "    <tr>\n",
       "      <th>5</th>\n",
       "      <td>12.00</td>\n",
       "      <td>6.40</td>\n",
       "      <td>8.80</td>\n",
       "      <td>6.10</td>\n",
       "      <td>14.3</td>\n",
       "      <td>7.50</td>\n",
       "      <td>13.0</td>\n",
       "      <td>10.4</td>\n",
       "      <td>10.80</td>\n",
       "      <td>7.50</td>\n",
       "      <td>7.00</td>\n",
       "      <td>7.90</td>\n",
       "      <td>620741.33</td>\n",
       "      <td>613.0</td>\n",
       "    </tr>\n",
       "    <tr>\n",
       "      <th>6</th>\n",
       "      <td>8.00</td>\n",
       "      <td>7.50</td>\n",
       "      <td>7.60</td>\n",
       "      <td>9.50</td>\n",
       "      <td>8.9</td>\n",
       "      <td>10.00</td>\n",
       "      <td>9.5</td>\n",
       "      <td>8.2</td>\n",
       "      <td>11.50</td>\n",
       "      <td>9.10</td>\n",
       "      <td>6.90</td>\n",
       "      <td>7.00</td>\n",
       "      <td>566565.56</td>\n",
       "      <td>534.0</td>\n",
       "    </tr>\n",
       "    <tr>\n",
       "      <th>AvgMonthCost_clst</th>\n",
       "      <td>244976.95</td>\n",
       "      <td>550179.63</td>\n",
       "      <td>973424.73</td>\n",
       "      <td>198760.24</td>\n",
       "      <td>160899.2</td>\n",
       "      <td>477540.71</td>\n",
       "      <td>728468.2</td>\n",
       "      <td>510008.6</td>\n",
       "      <td>212744.52</td>\n",
       "      <td>295367.89</td>\n",
       "      <td>633048.62</td>\n",
       "      <td>2062276.66</td>\n",
       "      <td>7047695.95</td>\n",
       "      <td>NaN</td>\n",
       "    </tr>\n",
       "    <tr>\n",
       "      <th>Total</th>\n",
       "      <td>246.00</td>\n",
       "      <td>580.00</td>\n",
       "      <td>810.00</td>\n",
       "      <td>333.00</td>\n",
       "      <td>250.0</td>\n",
       "      <td>610.00</td>\n",
       "      <td>406.0</td>\n",
       "      <td>502.0</td>\n",
       "      <td>266.00</td>\n",
       "      <td>431.00</td>\n",
       "      <td>1119.00</td>\n",
       "      <td>936.00</td>\n",
       "      <td>NaN</td>\n",
       "      <td>6489.0</td>\n",
       "    </tr>\n",
       "  </tbody>\n",
       "</table>\n",
       "</div>"
      ],
      "text/plain": [
       "clusters_id               16         21         25         26        28  \\\n",
       "1                      36.60      33.70      35.30      40.70      36.3   \n",
       "2                      20.90      29.10      25.10      19.60      21.2   \n",
       "3                      17.70      19.10      20.40      15.90      16.2   \n",
       "4                       4.80       4.20       2.90       8.20       3.1   \n",
       "5                      12.00       6.40       8.80       6.10      14.3   \n",
       "6                       8.00       7.50       7.60       9.50       8.9   \n",
       "AvgMonthCost_clst  244976.95  550179.63  973424.73  198760.24  160899.2   \n",
       "Total                 246.00     580.00     810.00     333.00     250.0   \n",
       "\n",
       "clusters_id               32        34        37         38         39  \\\n",
       "1                      37.00      25.3      31.6      32.20      43.30   \n",
       "2                      21.00      20.0      21.8      19.50      19.30   \n",
       "3                      19.30      17.8      24.5      21.50      15.90   \n",
       "4                       5.30      14.4       3.6       4.50       4.90   \n",
       "5                       7.50      13.0      10.4      10.80       7.50   \n",
       "6                      10.00       9.5       8.2      11.50       9.10   \n",
       "AvgMonthCost_clst  477540.71  728468.2  510008.6  212744.52  295367.89   \n",
       "Total                 610.00     406.0     502.0     266.00     431.00   \n",
       "\n",
       "clusters_id               40          47  AvgMonthCost_comm  Total_Patients  \n",
       "1                      42.20       31.10         2383704.74          2133.0  \n",
       "2                      16.70       13.80         1374349.16          1393.0  \n",
       "3                      16.00       24.00         1439836.30          1530.0  \n",
       "4                      11.20       16.20          662498.86           286.0  \n",
       "5                       7.00        7.90          620741.33           613.0  \n",
       "6                       6.90        7.00          566565.56           534.0  \n",
       "AvgMonthCost_clst  633048.62  2062276.66         7047695.95             NaN  \n",
       "Total                1119.00      936.00                NaN          6489.0  "
      ]
     },
     "execution_count": 923,
     "metadata": {},
     "output_type": "execute_result"
    }
   ],
   "source": [
    "# Writing to csv\n",
    "#comm_clst_cost_new"
   ]
  },
  {
   "cell_type": "code",
   "execution_count": 924,
   "metadata": {
    "collapsed": true
   },
   "outputs": [],
   "source": [
    "comm_clst_cost_new.to_csv(\"cost_cluster_across_communities.csv\")"
   ]
  },
  {
   "cell_type": "markdown",
   "metadata": {
    "collapsed": true
   },
   "source": [
    "# Adding Gender ,Pcal,Average Age information to community cluster"
   ]
  },
  {
   "cell_type": "code",
   "execution_count": 939,
   "metadata": {
    "collapsed": false
   },
   "outputs": [],
   "source": [
    "#Reading pmpm to get pcal score\n",
    "cols=['new_euid','pcal']\n",
    "type= {'new_euid':'str','pcal':'str'}\n",
    "pmpm=pd.read_csv(\"../../Data/pmpm.csv\",usecols=cols,dtype=type)"
   ]
  },
  {
   "cell_type": "code",
   "execution_count": 940,
   "metadata": {
    "collapsed": false
   },
   "outputs": [
    {
     "data": {
      "text/html": [
       "<div>\n",
       "<table border=\"1\" class=\"dataframe\">\n",
       "  <thead>\n",
       "    <tr style=\"text-align: right;\">\n",
       "      <th></th>\n",
       "      <th>new_euid</th>\n",
       "      <th>pcal</th>\n",
       "    </tr>\n",
       "  </thead>\n",
       "  <tbody>\n",
       "    <tr>\n",
       "      <th>0</th>\n",
       "      <td>0718157</td>\n",
       "      <td>1.160</td>\n",
       "    </tr>\n",
       "    <tr>\n",
       "      <th>1</th>\n",
       "      <td>0718158</td>\n",
       "      <td>1.473</td>\n",
       "    </tr>\n",
       "    <tr>\n",
       "      <th>2</th>\n",
       "      <td>0718159</td>\n",
       "      <td>0.861</td>\n",
       "    </tr>\n",
       "    <tr>\n",
       "      <th>3</th>\n",
       "      <td>0718161</td>\n",
       "      <td>2.592</td>\n",
       "    </tr>\n",
       "    <tr>\n",
       "      <th>4</th>\n",
       "      <td>0718162</td>\n",
       "      <td>1.777</td>\n",
       "    </tr>\n",
       "  </tbody>\n",
       "</table>\n",
       "</div>"
      ],
      "text/plain": [
       "  new_euid   pcal\n",
       "0  0718157  1.160\n",
       "1  0718158  1.473\n",
       "2  0718159  0.861\n",
       "3  0718161  2.592\n",
       "4  0718162  1.777"
      ]
     },
     "execution_count": 940,
     "metadata": {},
     "output_type": "execute_result"
    }
   ],
   "source": [
    "pmpm.head()"
   ]
  },
  {
   "cell_type": "code",
   "execution_count": 941,
   "metadata": {
    "collapsed": false
   },
   "outputs": [
    {
     "data": {
      "text/html": [
       "<div>\n",
       "<table border=\"1\" class=\"dataframe\">\n",
       "  <thead>\n",
       "    <tr style=\"text-align: right;\">\n",
       "      <th></th>\n",
       "      <th>new_euid</th>\n",
       "    </tr>\n",
       "    <tr>\n",
       "      <th>new_euid</th>\n",
       "      <th></th>\n",
       "    </tr>\n",
       "  </thead>\n",
       "  <tbody>\n",
       "    <tr>\n",
       "      <th>7.0</th>\n",
       "      <td>460451</td>\n",
       "    </tr>\n",
       "  </tbody>\n",
       "</table>\n",
       "</div>"
      ],
      "text/plain": [
       "          new_euid\n",
       "new_euid          \n",
       "7.0         460451"
      ]
     },
     "execution_count": 941,
     "metadata": {},
     "output_type": "execute_result"
    }
   ],
   "source": [
    "#checking new_euid length\n",
    "pmpm.groupby(pmpm['new_euid'].str.len()).agg({'new_euid':np.size})"
   ]
  },
  {
   "cell_type": "code",
   "execution_count": 942,
   "metadata": {
    "collapsed": true
   },
   "outputs": [],
   "source": [
    "pmpm['new_euid']=pmpm['new_euid'].map(lambda x:str(x).lstrip('0'))"
   ]
  },
  {
   "cell_type": "code",
   "execution_count": 943,
   "metadata": {
    "collapsed": false
   },
   "outputs": [
    {
     "data": {
      "text/html": [
       "<div>\n",
       "<table border=\"1\" class=\"dataframe\">\n",
       "  <thead>\n",
       "    <tr style=\"text-align: right;\">\n",
       "      <th></th>\n",
       "      <th>new_euid</th>\n",
       "    </tr>\n",
       "    <tr>\n",
       "      <th>new_euid</th>\n",
       "      <th></th>\n",
       "    </tr>\n",
       "  </thead>\n",
       "  <tbody>\n",
       "    <tr>\n",
       "      <th>1</th>\n",
       "      <td>7</td>\n",
       "    </tr>\n",
       "    <tr>\n",
       "      <th>2</th>\n",
       "      <td>52</td>\n",
       "    </tr>\n",
       "    <tr>\n",
       "      <th>3</th>\n",
       "      <td>624</td>\n",
       "    </tr>\n",
       "    <tr>\n",
       "      <th>4</th>\n",
       "      <td>5894</td>\n",
       "    </tr>\n",
       "    <tr>\n",
       "      <th>5</th>\n",
       "      <td>55460</td>\n",
       "    </tr>\n",
       "    <tr>\n",
       "      <th>6</th>\n",
       "      <td>398415</td>\n",
       "    </tr>\n",
       "  </tbody>\n",
       "</table>\n",
       "</div>"
      ],
      "text/plain": [
       "          new_euid\n",
       "new_euid          \n",
       "1                7\n",
       "2               52\n",
       "3              624\n",
       "4             5894\n",
       "5            55460\n",
       "6           398415"
      ]
     },
     "execution_count": 943,
     "metadata": {},
     "output_type": "execute_result"
    }
   ],
   "source": [
    "pmpm.groupby(pmpm['new_euid'].str.len()).agg({'new_euid':np.size})"
   ]
  },
  {
   "cell_type": "code",
   "execution_count": 944,
   "metadata": {
    "collapsed": false
   },
   "outputs": [
    {
     "data": {
      "text/html": [
       "<div>\n",
       "<table border=\"1\" class=\"dataframe\">\n",
       "  <thead>\n",
       "    <tr style=\"text-align: right;\">\n",
       "      <th></th>\n",
       "      <th>new_euid</th>\n",
       "      <th>comm_npi</th>\n",
       "      <th>clusters_id</th>\n",
       "    </tr>\n",
       "  </thead>\n",
       "  <tbody>\n",
       "    <tr>\n",
       "      <th>0</th>\n",
       "      <td>44470</td>\n",
       "      <td>1</td>\n",
       "      <td>40</td>\n",
       "    </tr>\n",
       "    <tr>\n",
       "      <th>1</th>\n",
       "      <td>33055</td>\n",
       "      <td>1</td>\n",
       "      <td>21</td>\n",
       "    </tr>\n",
       "  </tbody>\n",
       "</table>\n",
       "</div>"
      ],
      "text/plain": [
       "  new_euid  comm_npi  clusters_id\n",
       "0    44470         1           40\n",
       "1    33055         1           21"
      ]
     },
     "execution_count": 944,
     "metadata": {},
     "output_type": "execute_result"
    }
   ],
   "source": [
    "##Merging with euid_npi_cluster\n",
    "euid_npi_cluster[:2]"
   ]
  },
  {
   "cell_type": "code",
   "execution_count": 945,
   "metadata": {
    "collapsed": true
   },
   "outputs": [],
   "source": [
    "euid_npi_cluster_pcal=pd.merge(euid_npi_cluster,pmpm,how='inner')"
   ]
  },
  {
   "cell_type": "code",
   "execution_count": 947,
   "metadata": {
    "collapsed": false
   },
   "outputs": [
    {
     "data": {
      "text/html": [
       "<div>\n",
       "<table border=\"1\" class=\"dataframe\">\n",
       "  <thead>\n",
       "    <tr style=\"text-align: right;\">\n",
       "      <th></th>\n",
       "      <th>new_euid</th>\n",
       "      <th>comm_npi</th>\n",
       "      <th>clusters_id</th>\n",
       "      <th>pcal</th>\n",
       "    </tr>\n",
       "  </thead>\n",
       "  <tbody>\n",
       "    <tr>\n",
       "      <th>0</th>\n",
       "      <td>44470</td>\n",
       "      <td>1</td>\n",
       "      <td>40</td>\n",
       "      <td>2.585</td>\n",
       "    </tr>\n",
       "    <tr>\n",
       "      <th>1</th>\n",
       "      <td>33055</td>\n",
       "      <td>1</td>\n",
       "      <td>21</td>\n",
       "      <td>2.454</td>\n",
       "    </tr>\n",
       "  </tbody>\n",
       "</table>\n",
       "</div>"
      ],
      "text/plain": [
       "  new_euid  comm_npi  clusters_id   pcal\n",
       "0    44470         1           40  2.585\n",
       "1    33055         1           21  2.454"
      ]
     },
     "execution_count": 947,
     "metadata": {},
     "output_type": "execute_result"
    }
   ],
   "source": [
    "euid_npi_cluster_pcal[:2]"
   ]
  },
  {
   "cell_type": "code",
   "execution_count": 948,
   "metadata": {
    "collapsed": false
   },
   "outputs": [
    {
     "data": {
      "text/plain": [
       "new_euid       0\n",
       "comm_npi       0\n",
       "clusters_id    0\n",
       "pcal           0\n",
       "dtype: int64"
      ]
     },
     "execution_count": 948,
     "metadata": {},
     "output_type": "execute_result"
    }
   ],
   "source": [
    "euid_npi_cluster_pcal.isnull().sum() \n",
    "#perfect (all patients mapped to pcal)"
   ]
  },
  {
   "cell_type": "code",
   "execution_count": 950,
   "metadata": {
    "collapsed": true
   },
   "outputs": [],
   "source": [
    "#Reading Diabetes all claims to get gender,age information\n",
    "cols=['new_euid','GENDER','yob']\n",
    "type={'new_euid':'str','GENDER':'str'}\n",
    "diab_all_claims=pd.read_csv(\"../../Data/Diabetic_Patient_Clustering/diabetes_all_claims.csv\",usecols=cols,dtype=type)"
   ]
  },
  {
   "cell_type": "code",
   "execution_count": 961,
   "metadata": {
    "collapsed": false
   },
   "outputs": [
    {
     "data": {
      "text/html": [
       "<div>\n",
       "<table border=\"1\" class=\"dataframe\">\n",
       "  <thead>\n",
       "    <tr style=\"text-align: right;\">\n",
       "      <th></th>\n",
       "      <th>new_euid</th>\n",
       "      <th>GENDER</th>\n",
       "      <th>Age</th>\n",
       "    </tr>\n",
       "  </thead>\n",
       "  <tbody>\n",
       "    <tr>\n",
       "      <th>0</th>\n",
       "      <td>0604865</td>\n",
       "      <td>F</td>\n",
       "      <td>52</td>\n",
       "    </tr>\n",
       "    <tr>\n",
       "      <th>1</th>\n",
       "      <td>0604865</td>\n",
       "      <td>F</td>\n",
       "      <td>52</td>\n",
       "    </tr>\n",
       "  </tbody>\n",
       "</table>\n",
       "</div>"
      ],
      "text/plain": [
       "  new_euid GENDER  Age\n",
       "0  0604865      F   52\n",
       "1  0604865      F   52"
      ]
     },
     "execution_count": 961,
     "metadata": {},
     "output_type": "execute_result"
    }
   ],
   "source": [
    "diab_all_claims[:2]"
   ]
  },
  {
   "cell_type": "code",
   "execution_count": 953,
   "metadata": {
    "collapsed": false
   },
   "outputs": [
    {
     "data": {
      "text/plain": [
       "new_euid    object\n",
       "GENDER      object\n",
       "yob          int64\n",
       "dtype: object"
      ]
     },
     "execution_count": 953,
     "metadata": {},
     "output_type": "execute_result"
    }
   ],
   "source": [
    "diab_all_claims.dtypes"
   ]
  },
  {
   "cell_type": "code",
   "execution_count": 964,
   "metadata": {
    "collapsed": true
   },
   "outputs": [],
   "source": [
    "#stripping front 0's \n",
    "diab_all_claims['new_euid']=diab_all_claims['new_euid'].map(lambda x:str(x).lstrip('0'))"
   ]
  },
  {
   "cell_type": "code",
   "execution_count": 954,
   "metadata": {
    "collapsed": true
   },
   "outputs": [],
   "source": [
    "#Adding age\n",
    "diab_all_claims['Age']=2014-diab_all_claims['yob']+1"
   ]
  },
  {
   "cell_type": "code",
   "execution_count": 958,
   "metadata": {
    "collapsed": false
   },
   "outputs": [],
   "source": [
    "diab_all_claims.head()\n",
    "diab_all_claims=diab_all_claims[['new_euid','GENDER','Age']]"
   ]
  },
  {
   "cell_type": "code",
   "execution_count": 965,
   "metadata": {
    "collapsed": true
   },
   "outputs": [],
   "source": [
    "### Merging with euid_npi_cluster_pcal\n",
    "euid_npi_cluster_pcal_demo=pd.merge(euid_npi_cluster_pcal,diab_all_claims) "
   ]
  },
  {
   "cell_type": "code",
   "execution_count": 966,
   "metadata": {
    "collapsed": false
   },
   "outputs": [
    {
     "data": {
      "text/html": [
       "<div>\n",
       "<table border=\"1\" class=\"dataframe\">\n",
       "  <thead>\n",
       "    <tr style=\"text-align: right;\">\n",
       "      <th></th>\n",
       "      <th>new_euid</th>\n",
       "      <th>comm_npi</th>\n",
       "      <th>clusters_id</th>\n",
       "      <th>pcal</th>\n",
       "      <th>GENDER</th>\n",
       "      <th>Age</th>\n",
       "    </tr>\n",
       "  </thead>\n",
       "  <tbody>\n",
       "    <tr>\n",
       "      <th>0</th>\n",
       "      <td>44470</td>\n",
       "      <td>1</td>\n",
       "      <td>40</td>\n",
       "      <td>2.585</td>\n",
       "      <td>F</td>\n",
       "      <td>62</td>\n",
       "    </tr>\n",
       "    <tr>\n",
       "      <th>1</th>\n",
       "      <td>44470</td>\n",
       "      <td>1</td>\n",
       "      <td>40</td>\n",
       "      <td>2.585</td>\n",
       "      <td>F</td>\n",
       "      <td>62</td>\n",
       "    </tr>\n",
       "    <tr>\n",
       "      <th>2</th>\n",
       "      <td>44470</td>\n",
       "      <td>1</td>\n",
       "      <td>40</td>\n",
       "      <td>2.585</td>\n",
       "      <td>F</td>\n",
       "      <td>62</td>\n",
       "    </tr>\n",
       "    <tr>\n",
       "      <th>3</th>\n",
       "      <td>44470</td>\n",
       "      <td>1</td>\n",
       "      <td>40</td>\n",
       "      <td>2.585</td>\n",
       "      <td>F</td>\n",
       "      <td>62</td>\n",
       "    </tr>\n",
       "    <tr>\n",
       "      <th>4</th>\n",
       "      <td>44470</td>\n",
       "      <td>1</td>\n",
       "      <td>40</td>\n",
       "      <td>2.585</td>\n",
       "      <td>F</td>\n",
       "      <td>62</td>\n",
       "    </tr>\n",
       "  </tbody>\n",
       "</table>\n",
       "</div>"
      ],
      "text/plain": [
       "  new_euid  comm_npi  clusters_id   pcal GENDER  Age\n",
       "0    44470         1           40  2.585      F   62\n",
       "1    44470         1           40  2.585      F   62\n",
       "2    44470         1           40  2.585      F   62\n",
       "3    44470         1           40  2.585      F   62\n",
       "4    44470         1           40  2.585      F   62"
      ]
     },
     "execution_count": 966,
     "metadata": {},
     "output_type": "execute_result"
    }
   ],
   "source": [
    "euid_npi_cluster_pcal_demo.head()"
   ]
  },
  {
   "cell_type": "code",
   "execution_count": 968,
   "metadata": {
    "collapsed": false
   },
   "outputs": [
    {
     "data": {
      "text/plain": [
       "new_euid       0\n",
       "comm_npi       0\n",
       "clusters_id    0\n",
       "pcal           0\n",
       "GENDER         0\n",
       "Age            0\n",
       "dtype: int64"
      ]
     },
     "execution_count": 968,
     "metadata": {},
     "output_type": "execute_result"
    }
   ],
   "source": [
    "euid_npi_cluster_pcal_demo.isnull().sum()\n",
    "##Perfect"
   ]
  },
  {
   "cell_type": "code",
   "execution_count": 971,
   "metadata": {
    "collapsed": false
   },
   "outputs": [],
   "source": [
    "#dropping duplicates\n",
    "df=euid_npi_cluster_pcal_demo\n",
    "df=df.drop_duplicates()"
   ]
  },
  {
   "cell_type": "code",
   "execution_count": 972,
   "metadata": {
    "collapsed": false
   },
   "outputs": [
    {
     "data": {
      "text/plain": [
       "(6489, 6)"
      ]
     },
     "execution_count": 972,
     "metadata": {},
     "output_type": "execute_result"
    }
   ],
   "source": [
    "df.shape"
   ]
  },
  {
   "cell_type": "code",
   "execution_count": 973,
   "metadata": {
    "collapsed": false
   },
   "outputs": [
    {
     "data": {
      "text/plain": [
       "new_euid       0\n",
       "comm_npi       0\n",
       "clusters_id    0\n",
       "pcal           0\n",
       "GENDER         0\n",
       "Age            0\n",
       "dtype: int64"
      ]
     },
     "execution_count": 973,
     "metadata": {},
     "output_type": "execute_result"
    }
   ],
   "source": [
    "df.isnull().sum()"
   ]
  },
  {
   "cell_type": "code",
   "execution_count": 974,
   "metadata": {
    "collapsed": false
   },
   "outputs": [
    {
     "data": {
      "text/html": [
       "<div>\n",
       "<table border=\"1\" class=\"dataframe\">\n",
       "  <thead>\n",
       "    <tr style=\"text-align: right;\">\n",
       "      <th></th>\n",
       "      <th>new_euid</th>\n",
       "      <th>comm_npi</th>\n",
       "      <th>clusters_id</th>\n",
       "      <th>pcal</th>\n",
       "      <th>GENDER</th>\n",
       "      <th>Age</th>\n",
       "    </tr>\n",
       "  </thead>\n",
       "  <tbody>\n",
       "    <tr>\n",
       "      <th>0</th>\n",
       "      <td>44470</td>\n",
       "      <td>1</td>\n",
       "      <td>40</td>\n",
       "      <td>2.585</td>\n",
       "      <td>F</td>\n",
       "      <td>62</td>\n",
       "    </tr>\n",
       "    <tr>\n",
       "      <th>81</th>\n",
       "      <td>33055</td>\n",
       "      <td>1</td>\n",
       "      <td>21</td>\n",
       "      <td>2.454</td>\n",
       "      <td>F</td>\n",
       "      <td>61</td>\n",
       "    </tr>\n",
       "    <tr>\n",
       "      <th>193</th>\n",
       "      <td>187443</td>\n",
       "      <td>6</td>\n",
       "      <td>21</td>\n",
       "      <td>6.621</td>\n",
       "      <td>F</td>\n",
       "      <td>62</td>\n",
       "    </tr>\n",
       "    <tr>\n",
       "      <th>376</th>\n",
       "      <td>118528</td>\n",
       "      <td>1</td>\n",
       "      <td>16</td>\n",
       "      <td>0.983</td>\n",
       "      <td>F</td>\n",
       "      <td>37</td>\n",
       "    </tr>\n",
       "    <tr>\n",
       "      <th>462</th>\n",
       "      <td>395275</td>\n",
       "      <td>1</td>\n",
       "      <td>40</td>\n",
       "      <td>1.917</td>\n",
       "      <td>M</td>\n",
       "      <td>52</td>\n",
       "    </tr>\n",
       "  </tbody>\n",
       "</table>\n",
       "</div>"
      ],
      "text/plain": [
       "    new_euid  comm_npi  clusters_id   pcal GENDER  Age\n",
       "0      44470         1           40  2.585      F   62\n",
       "81     33055         1           21  2.454      F   61\n",
       "193   187443         6           21  6.621      F   62\n",
       "376   118528         1           16  0.983      F   37\n",
       "462   395275         1           40  1.917      M   52"
      ]
     },
     "execution_count": 974,
     "metadata": {},
     "output_type": "execute_result"
    }
   ],
   "source": [
    "df.head()"
   ]
  },
  {
   "cell_type": "markdown",
   "metadata": {},
   "source": [
    "### Pivoting for gender distribution across community-cluster"
   ]
  },
  {
   "cell_type": "code",
   "execution_count": 975,
   "metadata": {
    "collapsed": false
   },
   "outputs": [
    {
     "data": {
      "text/plain": [
       "comm_npi  clusters_id  GENDER\n",
       "1         16           F          38\n",
       "                       M          39\n",
       "          21           F          38\n",
       "                       M         149\n",
       "          25           F         119\n",
       "dtype: int64"
      ]
     },
     "execution_count": 975,
     "metadata": {},
     "output_type": "execute_result"
    }
   ],
   "source": [
    "##Agregating gender count across comm-cluster \n",
    "df_female=df.groupby(['comm_npi','clusters_id','GENDER']).size()\n",
    "df_female.head()\n"
   ]
  },
  {
   "cell_type": "code",
   "execution_count": 978,
   "metadata": {
    "collapsed": false
   },
   "outputs": [
    {
     "data": {
      "text/html": [
       "<div>\n",
       "<table border=\"1\" class=\"dataframe\">\n",
       "  <thead>\n",
       "    <tr style=\"text-align: right;\">\n",
       "      <th></th>\n",
       "      <th>comm_npi</th>\n",
       "      <th>clusters_id</th>\n",
       "      <th>GENDER</th>\n",
       "      <th>0</th>\n",
       "    </tr>\n",
       "  </thead>\n",
       "  <tbody>\n",
       "    <tr>\n",
       "      <th>0</th>\n",
       "      <td>1</td>\n",
       "      <td>16</td>\n",
       "      <td>F</td>\n",
       "      <td>38</td>\n",
       "    </tr>\n",
       "    <tr>\n",
       "      <th>1</th>\n",
       "      <td>1</td>\n",
       "      <td>16</td>\n",
       "      <td>M</td>\n",
       "      <td>39</td>\n",
       "    </tr>\n",
       "    <tr>\n",
       "      <th>2</th>\n",
       "      <td>1</td>\n",
       "      <td>21</td>\n",
       "      <td>F</td>\n",
       "      <td>38</td>\n",
       "    </tr>\n",
       "    <tr>\n",
       "      <th>3</th>\n",
       "      <td>1</td>\n",
       "      <td>21</td>\n",
       "      <td>M</td>\n",
       "      <td>149</td>\n",
       "    </tr>\n",
       "    <tr>\n",
       "      <th>4</th>\n",
       "      <td>1</td>\n",
       "      <td>25</td>\n",
       "      <td>F</td>\n",
       "      <td>119</td>\n",
       "    </tr>\n",
       "  </tbody>\n",
       "</table>\n",
       "</div>"
      ],
      "text/plain": [
       "   comm_npi  clusters_id GENDER    0\n",
       "0         1           16      F   38\n",
       "1         1           16      M   39\n",
       "2         1           21      F   38\n",
       "3         1           21      M  149\n",
       "4         1           25      F  119"
      ]
     },
     "execution_count": 978,
     "metadata": {},
     "output_type": "execute_result"
    }
   ],
   "source": [
    "df_female=pd.DataFrame(df_female)\n",
    "df_female.reset_index(inplace=True)\n",
    "df_female.head()"
   ]
  },
  {
   "cell_type": "code",
   "execution_count": 979,
   "metadata": {
    "collapsed": false
   },
   "outputs": [
    {
     "data": {
      "text/html": [
       "<div>\n",
       "<table border=\"1\" class=\"dataframe\">\n",
       "  <thead>\n",
       "    <tr style=\"text-align: right;\">\n",
       "      <th></th>\n",
       "      <th>comm_npi</th>\n",
       "      <th>clusters_id</th>\n",
       "      <th>GENDER</th>\n",
       "      <th>Total_Female</th>\n",
       "    </tr>\n",
       "  </thead>\n",
       "  <tbody>\n",
       "    <tr>\n",
       "      <th>0</th>\n",
       "      <td>1</td>\n",
       "      <td>16</td>\n",
       "      <td>F</td>\n",
       "      <td>38</td>\n",
       "    </tr>\n",
       "    <tr>\n",
       "      <th>2</th>\n",
       "      <td>1</td>\n",
       "      <td>21</td>\n",
       "      <td>F</td>\n",
       "      <td>38</td>\n",
       "    </tr>\n",
       "    <tr>\n",
       "      <th>4</th>\n",
       "      <td>1</td>\n",
       "      <td>25</td>\n",
       "      <td>F</td>\n",
       "      <td>119</td>\n",
       "    </tr>\n",
       "    <tr>\n",
       "      <th>6</th>\n",
       "      <td>1</td>\n",
       "      <td>26</td>\n",
       "      <td>F</td>\n",
       "      <td>52</td>\n",
       "    </tr>\n",
       "    <tr>\n",
       "      <th>8</th>\n",
       "      <td>1</td>\n",
       "      <td>28</td>\n",
       "      <td>F</td>\n",
       "      <td>46</td>\n",
       "    </tr>\n",
       "  </tbody>\n",
       "</table>\n",
       "</div>"
      ],
      "text/plain": [
       "   comm_npi  clusters_id GENDER  Total_Female\n",
       "0         1           16      F            38\n",
       "2         1           21      F            38\n",
       "4         1           25      F           119\n",
       "6         1           26      F            52\n",
       "8         1           28      F            46"
      ]
     },
     "execution_count": 979,
     "metadata": {},
     "output_type": "execute_result"
    }
   ],
   "source": [
    "##Dropping male  \n",
    "df_female=df_female[df_female['GENDER']=='F']\n",
    "df_female=df_female.rename(columns = {0:'Total_Female'})\n",
    "df_female.head()"
   ]
  },
  {
   "cell_type": "code",
   "execution_count": 980,
   "metadata": {
    "collapsed": true
   },
   "outputs": [],
   "source": [
    "df_female_pivot= df_female.pivot(index='comm_npi',columns='clusters_id',values='Total_Female')\n"
   ]
  },
  {
   "cell_type": "code",
   "execution_count": 981,
   "metadata": {
    "collapsed": false
   },
   "outputs": [
    {
     "data": {
      "text/html": [
       "<div>\n",
       "<table border=\"1\" class=\"dataframe\">\n",
       "  <thead>\n",
       "    <tr style=\"text-align: right;\">\n",
       "      <th>clusters_id</th>\n",
       "      <th>16</th>\n",
       "      <th>21</th>\n",
       "      <th>25</th>\n",
       "      <th>26</th>\n",
       "      <th>28</th>\n",
       "      <th>32</th>\n",
       "      <th>34</th>\n",
       "      <th>37</th>\n",
       "      <th>38</th>\n",
       "      <th>39</th>\n",
       "      <th>40</th>\n",
       "      <th>47</th>\n",
       "    </tr>\n",
       "    <tr>\n",
       "      <th>comm_npi</th>\n",
       "      <th></th>\n",
       "      <th></th>\n",
       "      <th></th>\n",
       "      <th></th>\n",
       "      <th></th>\n",
       "      <th></th>\n",
       "      <th></th>\n",
       "      <th></th>\n",
       "      <th></th>\n",
       "      <th></th>\n",
       "      <th></th>\n",
       "      <th></th>\n",
       "    </tr>\n",
       "  </thead>\n",
       "  <tbody>\n",
       "    <tr>\n",
       "      <th>1</th>\n",
       "      <td>38</td>\n",
       "      <td>38</td>\n",
       "      <td>119</td>\n",
       "      <td>52</td>\n",
       "      <td>46</td>\n",
       "      <td>208</td>\n",
       "      <td>47</td>\n",
       "      <td>61</td>\n",
       "      <td>38</td>\n",
       "      <td>53</td>\n",
       "      <td>154</td>\n",
       "      <td>77</td>\n",
       "    </tr>\n",
       "    <tr>\n",
       "      <th>2</th>\n",
       "      <td>27</td>\n",
       "      <td>22</td>\n",
       "      <td>88</td>\n",
       "      <td>28</td>\n",
       "      <td>27</td>\n",
       "      <td>141</td>\n",
       "      <td>35</td>\n",
       "      <td>41</td>\n",
       "      <td>27</td>\n",
       "      <td>33</td>\n",
       "      <td>88</td>\n",
       "      <td>50</td>\n",
       "    </tr>\n",
       "    <tr>\n",
       "      <th>3</th>\n",
       "      <td>21</td>\n",
       "      <td>19</td>\n",
       "      <td>86</td>\n",
       "      <td>41</td>\n",
       "      <td>21</td>\n",
       "      <td>119</td>\n",
       "      <td>31</td>\n",
       "      <td>56</td>\n",
       "      <td>43</td>\n",
       "      <td>34</td>\n",
       "      <td>83</td>\n",
       "      <td>81</td>\n",
       "    </tr>\n",
       "    <tr>\n",
       "      <th>4</th>\n",
       "      <td>10</td>\n",
       "      <td>2</td>\n",
       "      <td>14</td>\n",
       "      <td>12</td>\n",
       "      <td>5</td>\n",
       "      <td>29</td>\n",
       "      <td>5</td>\n",
       "      <td>11</td>\n",
       "      <td>7</td>\n",
       "      <td>11</td>\n",
       "      <td>25</td>\n",
       "      <td>14</td>\n",
       "    </tr>\n",
       "    <tr>\n",
       "      <th>5</th>\n",
       "      <td>13</td>\n",
       "      <td>8</td>\n",
       "      <td>43</td>\n",
       "      <td>10</td>\n",
       "      <td>11</td>\n",
       "      <td>46</td>\n",
       "      <td>13</td>\n",
       "      <td>19</td>\n",
       "      <td>13</td>\n",
       "      <td>24</td>\n",
       "      <td>41</td>\n",
       "      <td>35</td>\n",
       "    </tr>\n",
       "  </tbody>\n",
       "</table>\n",
       "</div>"
      ],
      "text/plain": [
       "clusters_id  16  21   25  26  28   32  34  37  38  39   40  47\n",
       "comm_npi                                                      \n",
       "1            38  38  119  52  46  208  47  61  38  53  154  77\n",
       "2            27  22   88  28  27  141  35  41  27  33   88  50\n",
       "3            21  19   86  41  21  119  31  56  43  34   83  81\n",
       "4            10   2   14  12   5   29   5  11   7  11   25  14\n",
       "5            13   8   43  10  11   46  13  19  13  24   41  35"
      ]
     },
     "execution_count": 981,
     "metadata": {},
     "output_type": "execute_result"
    }
   ],
   "source": [
    "df_female_pivot.head()"
   ]
  },
  {
   "cell_type": "code",
   "execution_count": 986,
   "metadata": {
    "collapsed": false
   },
   "outputs": [
    {
     "data": {
      "text/html": [
       "<div>\n",
       "<table border=\"1\" class=\"dataframe\">\n",
       "  <thead>\n",
       "    <tr style=\"text-align: right;\">\n",
       "      <th>clusters_id</th>\n",
       "      <th>47</th>\n",
       "      <th>34</th>\n",
       "      <th>37</th>\n",
       "      <th>25</th>\n",
       "      <th>16</th>\n",
       "      <th>21</th>\n",
       "      <th>38</th>\n",
       "      <th>32</th>\n",
       "      <th>39</th>\n",
       "      <th>28</th>\n",
       "      <th>26</th>\n",
       "      <th>40</th>\n",
       "    </tr>\n",
       "    <tr>\n",
       "      <th>comm_npi</th>\n",
       "      <th></th>\n",
       "      <th></th>\n",
       "      <th></th>\n",
       "      <th></th>\n",
       "      <th></th>\n",
       "      <th></th>\n",
       "      <th></th>\n",
       "      <th></th>\n",
       "      <th></th>\n",
       "      <th></th>\n",
       "      <th></th>\n",
       "      <th></th>\n",
       "    </tr>\n",
       "  </thead>\n",
       "  <tbody>\n",
       "    <tr>\n",
       "      <th>1</th>\n",
       "      <td>77</td>\n",
       "      <td>47</td>\n",
       "      <td>61</td>\n",
       "      <td>119</td>\n",
       "      <td>38</td>\n",
       "      <td>38</td>\n",
       "      <td>38</td>\n",
       "      <td>208</td>\n",
       "      <td>53</td>\n",
       "      <td>46</td>\n",
       "      <td>52</td>\n",
       "      <td>154</td>\n",
       "    </tr>\n",
       "    <tr>\n",
       "      <th>2</th>\n",
       "      <td>50</td>\n",
       "      <td>35</td>\n",
       "      <td>41</td>\n",
       "      <td>88</td>\n",
       "      <td>27</td>\n",
       "      <td>22</td>\n",
       "      <td>27</td>\n",
       "      <td>141</td>\n",
       "      <td>33</td>\n",
       "      <td>27</td>\n",
       "      <td>28</td>\n",
       "      <td>88</td>\n",
       "    </tr>\n",
       "    <tr>\n",
       "      <th>3</th>\n",
       "      <td>81</td>\n",
       "      <td>31</td>\n",
       "      <td>56</td>\n",
       "      <td>86</td>\n",
       "      <td>21</td>\n",
       "      <td>19</td>\n",
       "      <td>43</td>\n",
       "      <td>119</td>\n",
       "      <td>34</td>\n",
       "      <td>21</td>\n",
       "      <td>41</td>\n",
       "      <td>83</td>\n",
       "    </tr>\n",
       "    <tr>\n",
       "      <th>4</th>\n",
       "      <td>14</td>\n",
       "      <td>5</td>\n",
       "      <td>11</td>\n",
       "      <td>14</td>\n",
       "      <td>10</td>\n",
       "      <td>2</td>\n",
       "      <td>7</td>\n",
       "      <td>29</td>\n",
       "      <td>11</td>\n",
       "      <td>5</td>\n",
       "      <td>12</td>\n",
       "      <td>25</td>\n",
       "    </tr>\n",
       "    <tr>\n",
       "      <th>5</th>\n",
       "      <td>35</td>\n",
       "      <td>13</td>\n",
       "      <td>19</td>\n",
       "      <td>43</td>\n",
       "      <td>13</td>\n",
       "      <td>8</td>\n",
       "      <td>13</td>\n",
       "      <td>46</td>\n",
       "      <td>24</td>\n",
       "      <td>11</td>\n",
       "      <td>10</td>\n",
       "      <td>41</td>\n",
       "    </tr>\n",
       "  </tbody>\n",
       "</table>\n",
       "</div>"
      ],
      "text/plain": [
       "clusters_id  47  34  37   25  16  21  38   32  39  28  26   40\n",
       "comm_npi                                                      \n",
       "1            77  47  61  119  38  38  38  208  53  46  52  154\n",
       "2            50  35  41   88  27  22  27  141  33  27  28   88\n",
       "3            81  31  56   86  21  19  43  119  34  21  41   83\n",
       "4            14   5  11   14  10   2   7   29  11   5  12   25\n",
       "5            35  13  19   43  13   8  13   46  24  11  10   41"
      ]
     },
     "execution_count": 986,
     "metadata": {},
     "output_type": "execute_result"
    }
   ],
   "source": [
    "## Rearranging columns as per decreasing avg monthly cost per patient.\n",
    "cols=[47,34,37,25,16,21,38,32,39,28,26,40]\n",
    "df_female_pivot=df_female_pivot[cols]\n",
    "df_female_pivot.head()"
   ]
  },
  {
   "cell_type": "code",
   "execution_count": 987,
   "metadata": {
    "collapsed": true
   },
   "outputs": [],
   "source": [
    "df_female_pivot.to_csv(\"df_female_pivot.csv\")"
   ]
  },
  {
   "cell_type": "markdown",
   "metadata": {},
   "source": [
    "### Pivoting for age,pcal distribution across community-cluster"
   ]
  },
  {
   "cell_type": "code",
   "execution_count": 988,
   "metadata": {
    "collapsed": false
   },
   "outputs": [
    {
     "data": {
      "text/html": [
       "<div>\n",
       "<table border=\"1\" class=\"dataframe\">\n",
       "  <thead>\n",
       "    <tr style=\"text-align: right;\">\n",
       "      <th></th>\n",
       "      <th>new_euid</th>\n",
       "      <th>comm_npi</th>\n",
       "      <th>clusters_id</th>\n",
       "      <th>pcal</th>\n",
       "      <th>GENDER</th>\n",
       "      <th>Age</th>\n",
       "    </tr>\n",
       "  </thead>\n",
       "  <tbody>\n",
       "    <tr>\n",
       "      <th>0</th>\n",
       "      <td>44470</td>\n",
       "      <td>1</td>\n",
       "      <td>40</td>\n",
       "      <td>2.585</td>\n",
       "      <td>F</td>\n",
       "      <td>62</td>\n",
       "    </tr>\n",
       "    <tr>\n",
       "      <th>81</th>\n",
       "      <td>33055</td>\n",
       "      <td>1</td>\n",
       "      <td>21</td>\n",
       "      <td>2.454</td>\n",
       "      <td>F</td>\n",
       "      <td>61</td>\n",
       "    </tr>\n",
       "    <tr>\n",
       "      <th>193</th>\n",
       "      <td>187443</td>\n",
       "      <td>6</td>\n",
       "      <td>21</td>\n",
       "      <td>6.621</td>\n",
       "      <td>F</td>\n",
       "      <td>62</td>\n",
       "    </tr>\n",
       "    <tr>\n",
       "      <th>376</th>\n",
       "      <td>118528</td>\n",
       "      <td>1</td>\n",
       "      <td>16</td>\n",
       "      <td>0.983</td>\n",
       "      <td>F</td>\n",
       "      <td>37</td>\n",
       "    </tr>\n",
       "    <tr>\n",
       "      <th>462</th>\n",
       "      <td>395275</td>\n",
       "      <td>1</td>\n",
       "      <td>40</td>\n",
       "      <td>1.917</td>\n",
       "      <td>M</td>\n",
       "      <td>52</td>\n",
       "    </tr>\n",
       "  </tbody>\n",
       "</table>\n",
       "</div>"
      ],
      "text/plain": [
       "    new_euid  comm_npi  clusters_id   pcal GENDER  Age\n",
       "0      44470         1           40  2.585      F   62\n",
       "81     33055         1           21  2.454      F   61\n",
       "193   187443         6           21  6.621      F   62\n",
       "376   118528         1           16  0.983      F   37\n",
       "462   395275         1           40  1.917      M   52"
      ]
     },
     "execution_count": 988,
     "metadata": {},
     "output_type": "execute_result"
    }
   ],
   "source": [
    "df.head()"
   ]
  },
  {
   "cell_type": "code",
   "execution_count": 994,
   "metadata": {
    "collapsed": false
   },
   "outputs": [
    {
     "data": {
      "text/plain": [
       "new_euid       object\n",
       "comm_npi        int64\n",
       "clusters_id     int32\n",
       "pcal           object\n",
       "GENDER         object\n",
       "Age             int64\n",
       "dtype: object"
      ]
     },
     "execution_count": 994,
     "metadata": {},
     "output_type": "execute_result"
    }
   ],
   "source": [
    "df.dtypes"
   ]
  },
  {
   "cell_type": "code",
   "execution_count": 995,
   "metadata": {
    "collapsed": false
   },
   "outputs": [
    {
     "name": "stderr",
     "output_type": "stream",
     "text": [
      "C:\\Users\\IBM_ADMIN\\Anaconda2\\lib\\site-packages\\ipykernel\\__main__.py:1: SettingWithCopyWarning: \n",
      "A value is trying to be set on a copy of a slice from a DataFrame.\n",
      "Try using .loc[row_indexer,col_indexer] = value instead\n",
      "\n",
      "See the caveats in the documentation: http://pandas.pydata.org/pandas-docs/stable/indexing.html#indexing-view-versus-copy\n",
      "  if __name__ == '__main__':\n"
     ]
    }
   ],
   "source": [
    "df['pcal']=df['pcal'].astype(float)"
   ]
  },
  {
   "cell_type": "code",
   "execution_count": 996,
   "metadata": {
    "collapsed": false
   },
   "outputs": [],
   "source": [
    "df_age_pcal=df.groupby(['comm_npi','clusters_id']).agg({'Age':np.sum,'pcal':np.sum})"
   ]
  },
  {
   "cell_type": "code",
   "execution_count": 998,
   "metadata": {
    "collapsed": false
   },
   "outputs": [
    {
     "data": {
      "text/html": [
       "<div>\n",
       "<table border=\"1\" class=\"dataframe\">\n",
       "  <thead>\n",
       "    <tr style=\"text-align: right;\">\n",
       "      <th></th>\n",
       "      <th>comm_npi</th>\n",
       "      <th>clusters_id</th>\n",
       "      <th>pcal</th>\n",
       "      <th>Age</th>\n",
       "    </tr>\n",
       "  </thead>\n",
       "  <tbody>\n",
       "    <tr>\n",
       "      <th>0</th>\n",
       "      <td>1</td>\n",
       "      <td>16</td>\n",
       "      <td>346.874</td>\n",
       "      <td>4187</td>\n",
       "    </tr>\n",
       "    <tr>\n",
       "      <th>1</th>\n",
       "      <td>1</td>\n",
       "      <td>21</td>\n",
       "      <td>701.751</td>\n",
       "      <td>11083</td>\n",
       "    </tr>\n",
       "    <tr>\n",
       "      <th>2</th>\n",
       "      <td>1</td>\n",
       "      <td>25</td>\n",
       "      <td>1104.351</td>\n",
       "      <td>14513</td>\n",
       "    </tr>\n",
       "    <tr>\n",
       "      <th>3</th>\n",
       "      <td>1</td>\n",
       "      <td>26</td>\n",
       "      <td>333.585</td>\n",
       "      <td>5865</td>\n",
       "    </tr>\n",
       "    <tr>\n",
       "      <th>4</th>\n",
       "      <td>1</td>\n",
       "      <td>28</td>\n",
       "      <td>263.763</td>\n",
       "      <td>4623</td>\n",
       "    </tr>\n",
       "  </tbody>\n",
       "</table>\n",
       "</div>"
      ],
      "text/plain": [
       "   comm_npi  clusters_id      pcal    Age\n",
       "0         1           16   346.874   4187\n",
       "1         1           21   701.751  11083\n",
       "2         1           25  1104.351  14513\n",
       "3         1           26   333.585   5865\n",
       "4         1           28   263.763   4623"
      ]
     },
     "execution_count": 998,
     "metadata": {},
     "output_type": "execute_result"
    }
   ],
   "source": [
    "df_age_pcal.reset_index(inplace=True)\n",
    "df_age_pcal.head()"
   ]
  },
  {
   "cell_type": "code",
   "execution_count": 999,
   "metadata": {
    "collapsed": true
   },
   "outputs": [],
   "source": [
    "df_pcal_pivot= df_age_pcal.pivot(index='comm_npi',columns='clusters_id',values='pcal')\n",
    "df_age_pivot= df_age_pcal.pivot(index='comm_npi',columns='clusters_id',values='Age')\n",
    "## Rearranging columns as per decreasing avg monthly cost per patient.\n",
    "cols=[47,34,37,25,16,21,38,32,39,28,26,40]\n",
    "df_pcal_pivot=df_pcal_pivot[cols] \n",
    "df_age_pivot=df_age_pivot[cols]"
   ]
  },
  {
   "cell_type": "code",
   "execution_count": 1000,
   "metadata": {
    "collapsed": false
   },
   "outputs": [
    {
     "data": {
      "text/html": [
       "<div>\n",
       "<table border=\"1\" class=\"dataframe\">\n",
       "  <thead>\n",
       "    <tr style=\"text-align: right;\">\n",
       "      <th>clusters_id</th>\n",
       "      <th>47</th>\n",
       "      <th>34</th>\n",
       "      <th>37</th>\n",
       "      <th>25</th>\n",
       "      <th>16</th>\n",
       "      <th>21</th>\n",
       "      <th>38</th>\n",
       "      <th>32</th>\n",
       "      <th>39</th>\n",
       "      <th>28</th>\n",
       "      <th>26</th>\n",
       "      <th>40</th>\n",
       "    </tr>\n",
       "    <tr>\n",
       "      <th>comm_npi</th>\n",
       "      <th></th>\n",
       "      <th></th>\n",
       "      <th></th>\n",
       "      <th></th>\n",
       "      <th></th>\n",
       "      <th></th>\n",
       "      <th></th>\n",
       "      <th></th>\n",
       "      <th></th>\n",
       "      <th></th>\n",
       "      <th></th>\n",
       "      <th></th>\n",
       "    </tr>\n",
       "  </thead>\n",
       "  <tbody>\n",
       "    <tr>\n",
       "      <th>1</th>\n",
       "      <td>1468.027</td>\n",
       "      <td>619.636</td>\n",
       "      <td>521.682</td>\n",
       "      <td>1104.351</td>\n",
       "      <td>346.874</td>\n",
       "      <td>701.751</td>\n",
       "      <td>247.857</td>\n",
       "      <td>741.817</td>\n",
       "      <td>520.214</td>\n",
       "      <td>263.763</td>\n",
       "      <td>333.585</td>\n",
       "      <td>904.390</td>\n",
       "    </tr>\n",
       "    <tr>\n",
       "      <th>2</th>\n",
       "      <td>825.386</td>\n",
       "      <td>367.904</td>\n",
       "      <td>353.614</td>\n",
       "      <td>842.591</td>\n",
       "      <td>227.047</td>\n",
       "      <td>513.679</td>\n",
       "      <td>172.493</td>\n",
       "      <td>448.693</td>\n",
       "      <td>235.944</td>\n",
       "      <td>149.437</td>\n",
       "      <td>195.243</td>\n",
       "      <td>503.137</td>\n",
       "    </tr>\n",
       "  </tbody>\n",
       "</table>\n",
       "</div>"
      ],
      "text/plain": [
       "clusters_id        47       34       37        25       16       21       38  \\\n",
       "comm_npi                                                                       \n",
       "1            1468.027  619.636  521.682  1104.351  346.874  701.751  247.857   \n",
       "2             825.386  367.904  353.614   842.591  227.047  513.679  172.493   \n",
       "\n",
       "clusters_id       32       39       28       26       40  \n",
       "comm_npi                                                  \n",
       "1            741.817  520.214  263.763  333.585  904.390  \n",
       "2            448.693  235.944  149.437  195.243  503.137  "
      ]
     },
     "execution_count": 1000,
     "metadata": {},
     "output_type": "execute_result"
    }
   ],
   "source": [
    "df_pcal_pivot[:2]"
   ]
  },
  {
   "cell_type": "code",
   "execution_count": 1001,
   "metadata": {
    "collapsed": false
   },
   "outputs": [
    {
     "data": {
      "text/html": [
       "<div>\n",
       "<table border=\"1\" class=\"dataframe\">\n",
       "  <thead>\n",
       "    <tr style=\"text-align: right;\">\n",
       "      <th>clusters_id</th>\n",
       "      <th>47</th>\n",
       "      <th>34</th>\n",
       "      <th>37</th>\n",
       "      <th>25</th>\n",
       "      <th>16</th>\n",
       "      <th>21</th>\n",
       "      <th>38</th>\n",
       "      <th>32</th>\n",
       "      <th>39</th>\n",
       "      <th>28</th>\n",
       "      <th>26</th>\n",
       "      <th>40</th>\n",
       "    </tr>\n",
       "    <tr>\n",
       "      <th>comm_npi</th>\n",
       "      <th></th>\n",
       "      <th></th>\n",
       "      <th></th>\n",
       "      <th></th>\n",
       "      <th></th>\n",
       "      <th></th>\n",
       "      <th></th>\n",
       "      <th></th>\n",
       "      <th></th>\n",
       "      <th></th>\n",
       "      <th></th>\n",
       "      <th></th>\n",
       "    </tr>\n",
       "  </thead>\n",
       "  <tbody>\n",
       "    <tr>\n",
       "      <th>1</th>\n",
       "      <td>16080</td>\n",
       "      <td>8305</td>\n",
       "      <td>8884</td>\n",
       "      <td>14513</td>\n",
       "      <td>4187</td>\n",
       "      <td>11083</td>\n",
       "      <td>4077</td>\n",
       "      <td>12465</td>\n",
       "      <td>9474</td>\n",
       "      <td>4623</td>\n",
       "      <td>5865</td>\n",
       "      <td>21380</td>\n",
       "    </tr>\n",
       "    <tr>\n",
       "      <th>2</th>\n",
       "      <td>10282</td>\n",
       "      <td>4801</td>\n",
       "      <td>6080</td>\n",
       "      <td>11363</td>\n",
       "      <td>3293</td>\n",
       "      <td>7703</td>\n",
       "      <td>3166</td>\n",
       "      <td>7905</td>\n",
       "      <td>4550</td>\n",
       "      <td>3099</td>\n",
       "      <td>3694</td>\n",
       "      <td>13746</td>\n",
       "    </tr>\n",
       "  </tbody>\n",
       "</table>\n",
       "</div>"
      ],
      "text/plain": [
       "clusters_id     47    34    37     25    16     21    38     32    39    28  \\\n",
       "comm_npi                                                                      \n",
       "1            16080  8305  8884  14513  4187  11083  4077  12465  9474  4623   \n",
       "2            10282  4801  6080  11363  3293   7703  3166   7905  4550  3099   \n",
       "\n",
       "clusters_id    26     40  \n",
       "comm_npi                  \n",
       "1            5865  21380  \n",
       "2            3694  13746  "
      ]
     },
     "execution_count": 1001,
     "metadata": {},
     "output_type": "execute_result"
    }
   ],
   "source": [
    "df_age_pivot[:2]"
   ]
  },
  {
   "cell_type": "code",
   "execution_count": 1002,
   "metadata": {
    "collapsed": true
   },
   "outputs": [],
   "source": [
    "##Rounding to 2 digit\n",
    "df_pcal_pivot=df_pcal_pivot.round(1)"
   ]
  },
  {
   "cell_type": "code",
   "execution_count": 1003,
   "metadata": {
    "collapsed": true
   },
   "outputs": [],
   "source": [
    "#Writing to csv files\n",
    "# df_pcal_pivot.to_csv(\"df_pcal_pivot.csv\")\n",
    "# df_age_pivot.to_csv(\"df_age_pivot.csv\")"
   ]
  },
  {
   "cell_type": "markdown",
   "metadata": {},
   "source": [
    "# Defining NPI Communities"
   ]
  },
  {
   "cell_type": "markdown",
   "metadata": {},
   "source": [
    "## Subtask 1: NPI-Community : speciality"
   ]
  },
  {
   "cell_type": "markdown",
   "metadata": {},
   "source": [
    "### Mapping NPI  to NPI-Speciality"
   ]
  },
  {
   "cell_type": "code",
   "execution_count": 1092,
   "metadata": {
    "collapsed": false
   },
   "outputs": [],
   "source": [
    "#Reading diabetic_all_claims only with necessary songs. \n",
    "cols=['svc_npi','svc_prov_tax_id','svc_specialty']\n",
    "types={'svc_npi':'str','svc_prov_tax_id':'str','svc_specialty':'str'}\n",
    "diabetic_all_claims=pd.read_csv(\"../../Data/Diabetic_Patient_Clustering/diabetes_all_claims.csv\",usecols=cols,dtype=types)"
   ]
  },
  {
   "cell_type": "code",
   "execution_count": 1093,
   "metadata": {
    "collapsed": false
   },
   "outputs": [
    {
     "data": {
      "text/html": [
       "<div>\n",
       "<table border=\"1\" class=\"dataframe\">\n",
       "  <thead>\n",
       "    <tr style=\"text-align: right;\">\n",
       "      <th></th>\n",
       "      <th>svc_npi</th>\n",
       "      <th>svc_prov_tax_id</th>\n",
       "      <th>svc_specialty</th>\n",
       "    </tr>\n",
       "  </thead>\n",
       "  <tbody>\n",
       "    <tr>\n",
       "      <th>0</th>\n",
       "      <td>&lt;NA&gt;</td>\n",
       "      <td>NaN</td>\n",
       "      <td>NOT APPLICABLE</td>\n",
       "    </tr>\n",
       "    <tr>\n",
       "      <th>1</th>\n",
       "      <td>&lt;NA&gt;</td>\n",
       "      <td>NaN</td>\n",
       "      <td>NOT APPLICABLE</td>\n",
       "    </tr>\n",
       "    <tr>\n",
       "      <th>2</th>\n",
       "      <td>&lt;NA&gt;</td>\n",
       "      <td>NaN</td>\n",
       "      <td>NOT APPLICABLE</td>\n",
       "    </tr>\n",
       "    <tr>\n",
       "      <th>3</th>\n",
       "      <td>&lt;NA&gt;</td>\n",
       "      <td>NaN</td>\n",
       "      <td>NOT APPLICABLE</td>\n",
       "    </tr>\n",
       "    <tr>\n",
       "      <th>4</th>\n",
       "      <td>&lt;NA&gt;</td>\n",
       "      <td>NaN</td>\n",
       "      <td>NOT APPLICABLE</td>\n",
       "    </tr>\n",
       "  </tbody>\n",
       "</table>\n",
       "</div>"
      ],
      "text/plain": [
       "  svc_npi svc_prov_tax_id   svc_specialty\n",
       "0    <NA>             NaN  NOT APPLICABLE\n",
       "1    <NA>             NaN  NOT APPLICABLE\n",
       "2    <NA>             NaN  NOT APPLICABLE\n",
       "3    <NA>             NaN  NOT APPLICABLE\n",
       "4    <NA>             NaN  NOT APPLICABLE"
      ]
     },
     "execution_count": 1093,
     "metadata": {},
     "output_type": "execute_result"
    }
   ],
   "source": [
    "diabetic_all_claims.head() "
   ]
  },
  {
   "cell_type": "code",
   "execution_count": 1094,
   "metadata": {
    "collapsed": false
   },
   "outputs": [
    {
     "data": {
      "text/plain": [
       "svc_npi            object\n",
       "svc_prov_tax_id    object\n",
       "svc_specialty      object\n",
       "dtype: object"
      ]
     },
     "execution_count": 1094,
     "metadata": {},
     "output_type": "execute_result"
    }
   ],
   "source": [
    "diabetic_all_claims.dtypes"
   ]
  },
  {
   "cell_type": "code",
   "execution_count": 1095,
   "metadata": {
    "collapsed": false
   },
   "outputs": [
    {
     "data": {
      "text/plain": [
       "svc_npi               216\n",
       "svc_prov_tax_id    292990\n",
       "svc_specialty           0\n",
       "dtype: int64"
      ]
     },
     "execution_count": 1095,
     "metadata": {},
     "output_type": "execute_result"
    }
   ],
   "source": [
    "diabetic_all_claims.isnull().sum()"
   ]
  },
  {
   "cell_type": "code",
   "execution_count": 1096,
   "metadata": {
    "collapsed": false
   },
   "outputs": [],
   "source": [
    "### Removing all observation where svc_npi='<NA>'\n",
    "diabetic_all_claims=diabetic_all_claims[diabetic_all_claims['svc_npi']!='<NA>']"
   ]
  },
  {
   "cell_type": "code",
   "execution_count": 1097,
   "metadata": {
    "collapsed": false
   },
   "outputs": [
    {
     "data": {
      "text/plain": [
       "svc_npi             0\n",
       "svc_prov_tax_id    13\n",
       "svc_specialty       0\n",
       "dtype: int64"
      ]
     },
     "execution_count": 1097,
     "metadata": {},
     "output_type": "execute_result"
    }
   ],
   "source": [
    "### Removing null observation\n",
    "diabetic_all_claims=diabetic_all_claims[diabetic_all_claims['svc_npi'].notnull()]\n",
    "diabetic_all_claims.isnull().sum()\n"
   ]
  },
  {
   "cell_type": "code",
   "execution_count": 1098,
   "metadata": {
    "collapsed": false
   },
   "outputs": [
    {
     "data": {
      "text/plain": [
       "(496904, 3)"
      ]
     },
     "execution_count": 1098,
     "metadata": {},
     "output_type": "execute_result"
    }
   ],
   "source": [
    "diabetic_all_claims.shape"
   ]
  },
  {
   "cell_type": "code",
   "execution_count": 1099,
   "metadata": {
    "collapsed": false
   },
   "outputs": [
    {
     "name": "stdout",
     "output_type": "stream",
     "text": [
      "<class 'pandas.core.frame.DataFrame'>\n",
      "Int64Index: 496904 entries, 48 to 790085\n",
      "Data columns (total 3 columns):\n",
      "svc_npi            496904 non-null object\n",
      "svc_prov_tax_id    496891 non-null object\n",
      "svc_specialty      496904 non-null object\n",
      "dtypes: object(3)\n",
      "memory usage: 15.2+ MB\n"
     ]
    }
   ],
   "source": [
    "diabetic_all_claims.info() "
   ]
  },
  {
   "cell_type": "code",
   "execution_count": 1100,
   "metadata": {
    "collapsed": false
   },
   "outputs": [
    {
     "data": {
      "text/plain": [
       "(6240, 3)"
      ]
     },
     "execution_count": 1100,
     "metadata": {},
     "output_type": "execute_result"
    }
   ],
   "source": [
    "###Dropping duplicates \n",
    "diabetic_all_claims=diabetic_all_claims.drop_duplicates() \n",
    "diabetic_all_claims.shape"
   ]
  },
  {
   "cell_type": "code",
   "execution_count": 1047,
   "metadata": {
    "collapsed": false
   },
   "outputs": [
    {
     "data": {
      "text/plain": [
       "5753"
      ]
     },
     "execution_count": 1047,
     "metadata": {},
     "output_type": "execute_result"
    }
   ],
   "source": [
    "## Unique provider ID\n",
    "len(diabetic_all_claims['svc_npi'].unique())"
   ]
  },
  {
   "cell_type": "code",
   "execution_count": 1101,
   "metadata": {
    "collapsed": false
   },
   "outputs": [],
   "source": [
    "#Taking most frequent speciality of svc_npi \n",
    "from scipy import stats\n",
    "npi_speciality=diabetic_all_claims[['svc_npi','svc_specialty']].groupby(['svc_npi']).agg(lambda x:stats.mode(x['svc_specialty'])[0])\n",
    "npi_speciality.reset_index(inplace=True)"
   ]
  },
  {
   "cell_type": "code",
   "execution_count": 1056,
   "metadata": {
    "collapsed": false
   },
   "outputs": [
    {
     "data": {
      "text/html": [
       "<div>\n",
       "<table border=\"1\" class=\"dataframe\">\n",
       "  <thead>\n",
       "    <tr style=\"text-align: right;\">\n",
       "      <th></th>\n",
       "      <th>svc_npi</th>\n",
       "      <th>svc_specialty</th>\n",
       "    </tr>\n",
       "  </thead>\n",
       "  <tbody>\n",
       "    <tr>\n",
       "      <th>0</th>\n",
       "      <td>1003047788</td>\n",
       "      <td>Family Medicine</td>\n",
       "    </tr>\n",
       "    <tr>\n",
       "      <th>1</th>\n",
       "      <td>1003054263</td>\n",
       "      <td>Obstetrics and Gynecology</td>\n",
       "    </tr>\n",
       "    <tr>\n",
       "      <th>2</th>\n",
       "      <td>1003065434</td>\n",
       "      <td>Physical Therapy</td>\n",
       "    </tr>\n",
       "    <tr>\n",
       "      <th>3</th>\n",
       "      <td>1003070749</td>\n",
       "      <td>Internal Medicine (Internal Medicine)</td>\n",
       "    </tr>\n",
       "    <tr>\n",
       "      <th>4</th>\n",
       "      <td>1003071341</td>\n",
       "      <td>Anesthesiology</td>\n",
       "    </tr>\n",
       "  </tbody>\n",
       "</table>\n",
       "</div>"
      ],
      "text/plain": [
       "      svc_npi                          svc_specialty\n",
       "0  1003047788                        Family Medicine\n",
       "1  1003054263              Obstetrics and Gynecology\n",
       "2  1003065434                       Physical Therapy\n",
       "3  1003070749  Internal Medicine (Internal Medicine)\n",
       "4  1003071341                         Anesthesiology"
      ]
     },
     "execution_count": 1056,
     "metadata": {},
     "output_type": "execute_result"
    }
   ],
   "source": [
    "npi_speciality.head()"
   ]
  },
  {
   "cell_type": "code",
   "execution_count": 1061,
   "metadata": {
    "collapsed": false
   },
   "outputs": [
    {
     "data": {
      "text/plain": [
       "(5753, 2)"
      ]
     },
     "execution_count": 1061,
     "metadata": {},
     "output_type": "execute_result"
    }
   ],
   "source": [
    "npi_speciality.shape"
   ]
  },
  {
   "cell_type": "markdown",
   "metadata": {},
   "source": [
    "### Mapping NPI_speciality to NPI-Community_Label"
   ]
  },
  {
   "cell_type": "code",
   "execution_count": 1057,
   "metadata": {
    "collapsed": true
   },
   "outputs": [],
   "source": [
    "#readinf Label from nodeList\n",
    "nodeList=pd.read_csv(\"../../Data/Diabetic_Patient_Clustering/nodeList(Cut).csv\")"
   ]
  },
  {
   "cell_type": "code",
   "execution_count": 1058,
   "metadata": {
    "collapsed": false
   },
   "outputs": [
    {
     "data": {
      "text/html": [
       "<div>\n",
       "<table border=\"1\" class=\"dataframe\">\n",
       "  <thead>\n",
       "    <tr style=\"text-align: right;\">\n",
       "      <th></th>\n",
       "      <th>Id</th>\n",
       "      <th>Label</th>\n",
       "    </tr>\n",
       "  </thead>\n",
       "  <tbody>\n",
       "    <tr>\n",
       "      <th>0</th>\n",
       "      <td>1043447758</td>\n",
       "      <td>1</td>\n",
       "    </tr>\n",
       "    <tr>\n",
       "      <th>1</th>\n",
       "      <td>1225039787</td>\n",
       "      <td>1</td>\n",
       "    </tr>\n",
       "    <tr>\n",
       "      <th>2</th>\n",
       "      <td>1255525358</td>\n",
       "      <td>1</td>\n",
       "    </tr>\n",
       "    <tr>\n",
       "      <th>3</th>\n",
       "      <td>1356433858</td>\n",
       "      <td>1</td>\n",
       "    </tr>\n",
       "    <tr>\n",
       "      <th>4</th>\n",
       "      <td>1538167697</td>\n",
       "      <td>1</td>\n",
       "    </tr>\n",
       "  </tbody>\n",
       "</table>\n",
       "</div>"
      ],
      "text/plain": [
       "           Id  Label\n",
       "0  1043447758      1\n",
       "1  1225039787      1\n",
       "2  1255525358      1\n",
       "3  1356433858      1\n",
       "4  1538167697      1"
      ]
     },
     "execution_count": 1058,
     "metadata": {},
     "output_type": "execute_result"
    }
   ],
   "source": [
    "nodeList.head()"
   ]
  },
  {
   "cell_type": "code",
   "execution_count": 1063,
   "metadata": {
    "collapsed": false
   },
   "outputs": [
    {
     "data": {
      "text/plain": [
       "Id       int64\n",
       "Label    int64\n",
       "dtype: object"
      ]
     },
     "execution_count": 1063,
     "metadata": {},
     "output_type": "execute_result"
    }
   ],
   "source": [
    "nodeList.dtypes"
   ]
  },
  {
   "cell_type": "code",
   "execution_count": 1064,
   "metadata": {
    "collapsed": false
   },
   "outputs": [
    {
     "data": {
      "text/plain": [
       "svc_npi          object\n",
       "svc_specialty    object\n",
       "dtype: object"
      ]
     },
     "execution_count": 1064,
     "metadata": {},
     "output_type": "execute_result"
    }
   ],
   "source": [
    "npi_speciality.dtypes"
   ]
  },
  {
   "cell_type": "code",
   "execution_count": 1066,
   "metadata": {
    "collapsed": false
   },
   "outputs": [],
   "source": [
    "##Changing NodeList Id to string\n",
    "nodeList['Id']=nodeList['Id'].astype('str')"
   ]
  },
  {
   "cell_type": "code",
   "execution_count": 1067,
   "metadata": {
    "collapsed": true
   },
   "outputs": [],
   "source": [
    "#merging to get npi-npi_community-svc_specialty mapping\n",
    "comm_npi_speciality=pd.merge(nodeList,npi_speciality,left_on=\"Id\",right_on=\"svc_npi\",how=\"inner\")"
   ]
  },
  {
   "cell_type": "code",
   "execution_count": 1069,
   "metadata": {
    "collapsed": false
   },
   "outputs": [
    {
     "data": {
      "text/plain": [
       "(2080, 4)"
      ]
     },
     "execution_count": 1069,
     "metadata": {},
     "output_type": "execute_result"
    }
   ],
   "source": [
    "### All comm_npi_speciality mapped\n",
    "comm_npi_speciality.shape"
   ]
  },
  {
   "cell_type": "code",
   "execution_count": 1070,
   "metadata": {
    "collapsed": false
   },
   "outputs": [
    {
     "data": {
      "text/html": [
       "<div>\n",
       "<table border=\"1\" class=\"dataframe\">\n",
       "  <thead>\n",
       "    <tr style=\"text-align: right;\">\n",
       "      <th></th>\n",
       "      <th>Id</th>\n",
       "      <th>Label</th>\n",
       "      <th>svc_npi</th>\n",
       "      <th>svc_specialty</th>\n",
       "    </tr>\n",
       "  </thead>\n",
       "  <tbody>\n",
       "    <tr>\n",
       "      <th>0</th>\n",
       "      <td>1043447758</td>\n",
       "      <td>1</td>\n",
       "      <td>1043447758</td>\n",
       "      <td>Family Medicine</td>\n",
       "    </tr>\n",
       "    <tr>\n",
       "      <th>1</th>\n",
       "      <td>1225039787</td>\n",
       "      <td>1</td>\n",
       "      <td>1225039787</td>\n",
       "      <td>Pathology Anatomic</td>\n",
       "    </tr>\n",
       "    <tr>\n",
       "      <th>2</th>\n",
       "      <td>1255525358</td>\n",
       "      <td>1</td>\n",
       "      <td>1255525358</td>\n",
       "      <td>Emergency Medicine</td>\n",
       "    </tr>\n",
       "    <tr>\n",
       "      <th>3</th>\n",
       "      <td>1356433858</td>\n",
       "      <td>1</td>\n",
       "      <td>1356433858</td>\n",
       "      <td>Internal Medicine (Internal Medicine)</td>\n",
       "    </tr>\n",
       "    <tr>\n",
       "      <th>4</th>\n",
       "      <td>1538167697</td>\n",
       "      <td>1</td>\n",
       "      <td>1538167697</td>\n",
       "      <td>Cardiovascular Diseases</td>\n",
       "    </tr>\n",
       "  </tbody>\n",
       "</table>\n",
       "</div>"
      ],
      "text/plain": [
       "           Id  Label     svc_npi                          svc_specialty\n",
       "0  1043447758      1  1043447758                        Family Medicine\n",
       "1  1225039787      1  1225039787                     Pathology Anatomic\n",
       "2  1255525358      1  1255525358                     Emergency Medicine\n",
       "3  1356433858      1  1356433858  Internal Medicine (Internal Medicine)\n",
       "4  1538167697      1  1538167697                Cardiovascular Diseases"
      ]
     },
     "execution_count": 1070,
     "metadata": {},
     "output_type": "execute_result"
    }
   ],
   "source": [
    "comm_npi_speciality.head()"
   ]
  },
  {
   "cell_type": "code",
   "execution_count": 1071,
   "metadata": {
    "collapsed": true
   },
   "outputs": [],
   "source": [
    "del comm_npi_speciality['Id']"
   ]
  },
  {
   "cell_type": "code",
   "execution_count": 1072,
   "metadata": {
    "collapsed": false
   },
   "outputs": [
    {
     "data": {
      "text/html": [
       "<div>\n",
       "<table border=\"1\" class=\"dataframe\">\n",
       "  <thead>\n",
       "    <tr style=\"text-align: right;\">\n",
       "      <th></th>\n",
       "      <th>Label</th>\n",
       "      <th>svc_npi</th>\n",
       "      <th>svc_specialty</th>\n",
       "    </tr>\n",
       "  </thead>\n",
       "  <tbody>\n",
       "    <tr>\n",
       "      <th>0</th>\n",
       "      <td>1</td>\n",
       "      <td>1043447758</td>\n",
       "      <td>Family Medicine</td>\n",
       "    </tr>\n",
       "    <tr>\n",
       "      <th>1</th>\n",
       "      <td>1</td>\n",
       "      <td>1225039787</td>\n",
       "      <td>Pathology Anatomic</td>\n",
       "    </tr>\n",
       "    <tr>\n",
       "      <th>2</th>\n",
       "      <td>1</td>\n",
       "      <td>1255525358</td>\n",
       "      <td>Emergency Medicine</td>\n",
       "    </tr>\n",
       "    <tr>\n",
       "      <th>3</th>\n",
       "      <td>1</td>\n",
       "      <td>1356433858</td>\n",
       "      <td>Internal Medicine (Internal Medicine)</td>\n",
       "    </tr>\n",
       "    <tr>\n",
       "      <th>4</th>\n",
       "      <td>1</td>\n",
       "      <td>1538167697</td>\n",
       "      <td>Cardiovascular Diseases</td>\n",
       "    </tr>\n",
       "  </tbody>\n",
       "</table>\n",
       "</div>"
      ],
      "text/plain": [
       "   Label     svc_npi                          svc_specialty\n",
       "0      1  1043447758                        Family Medicine\n",
       "1      1  1225039787                     Pathology Anatomic\n",
       "2      1  1255525358                     Emergency Medicine\n",
       "3      1  1356433858  Internal Medicine (Internal Medicine)\n",
       "4      1  1538167697                Cardiovascular Diseases"
      ]
     },
     "execution_count": 1072,
     "metadata": {},
     "output_type": "execute_result"
    }
   ],
   "source": [
    "comm_npi_speciality.head()"
   ]
  },
  {
   "cell_type": "code",
   "execution_count": 1075,
   "metadata": {
    "collapsed": false
   },
   "outputs": [],
   "source": [
    "#grouping to check major speciality of each label\n",
    "comm_speciality_summary=comm_npi_speciality.groupby(['Label','svc_specialty']).agg({'svc_npi':np.size})"
   ]
  },
  {
   "cell_type": "code",
   "execution_count": 1076,
   "metadata": {
    "collapsed": true
   },
   "outputs": [],
   "source": [
    "comm_speciality_summary.reset_index(inplace=True)\n"
   ]
  },
  {
   "cell_type": "code",
   "execution_count": 1077,
   "metadata": {
    "collapsed": false
   },
   "outputs": [
    {
     "data": {
      "text/html": [
       "<div>\n",
       "<table border=\"1\" class=\"dataframe\">\n",
       "  <thead>\n",
       "    <tr style=\"text-align: right;\">\n",
       "      <th></th>\n",
       "      <th>Label</th>\n",
       "      <th>svc_specialty</th>\n",
       "      <th>svc_npi</th>\n",
       "    </tr>\n",
       "  </thead>\n",
       "  <tbody>\n",
       "    <tr>\n",
       "      <th>0</th>\n",
       "      <td>1</td>\n",
       "      <td>Anesthesiology</td>\n",
       "      <td>27</td>\n",
       "    </tr>\n",
       "    <tr>\n",
       "      <th>1</th>\n",
       "      <td>1</td>\n",
       "      <td>Audiology</td>\n",
       "      <td>5</td>\n",
       "    </tr>\n",
       "    <tr>\n",
       "      <th>2</th>\n",
       "      <td>1</td>\n",
       "      <td>Cardiac Electrophysiology</td>\n",
       "      <td>2</td>\n",
       "    </tr>\n",
       "    <tr>\n",
       "      <th>3</th>\n",
       "      <td>1</td>\n",
       "      <td>Cardiothoracic Surgery</td>\n",
       "      <td>1</td>\n",
       "    </tr>\n",
       "    <tr>\n",
       "      <th>4</th>\n",
       "      <td>1</td>\n",
       "      <td>Cardiovascular Diseases</td>\n",
       "      <td>37</td>\n",
       "    </tr>\n",
       "  </tbody>\n",
       "</table>\n",
       "</div>"
      ],
      "text/plain": [
       "   Label              svc_specialty  svc_npi\n",
       "0      1             Anesthesiology       27\n",
       "1      1                  Audiology        5\n",
       "2      1  Cardiac Electrophysiology        2\n",
       "3      1     Cardiothoracic Surgery        1\n",
       "4      1    Cardiovascular Diseases       37"
      ]
     },
     "execution_count": 1077,
     "metadata": {},
     "output_type": "execute_result"
    }
   ],
   "source": [
    "comm_speciality_summary.head()"
   ]
  },
  {
   "cell_type": "code",
   "execution_count": 1081,
   "metadata": {
    "collapsed": false
   },
   "outputs": [],
   "source": [
    "comm_speciality_summary=comm_speciality_summary.sort_values(['Label','svc_npi'],ascending=[False,False])"
   ]
  },
  {
   "cell_type": "code",
   "execution_count": 1082,
   "metadata": {
    "collapsed": true
   },
   "outputs": [],
   "source": [
    "#writing to_csv\n",
    "# comm_speciality_summary.to_csv(\"comm_speciality_summary.csv\")"
   ]
  },
  {
   "cell_type": "markdown",
   "metadata": {},
   "source": [
    "## Subtask2: NPI-Community:Major Hospital"
   ]
  },
  {
   "cell_type": "code",
   "execution_count": 1083,
   "metadata": {
    "collapsed": true
   },
   "outputs": [],
   "source": [
    "#Reading hospital name from tin_name file provided in Data Dictionary (i,e tax_id:tin name mapping)\n",
    "tin_name=pd.read_csv(\"../../Data/Diabetic_Patient_Clustering/tin_name.csv\")"
   ]
  },
  {
   "cell_type": "code",
   "execution_count": 1084,
   "metadata": {
    "collapsed": false
   },
   "outputs": [
    {
     "data": {
      "text/html": [
       "<div>\n",
       "<table border=\"1\" class=\"dataframe\">\n",
       "  <thead>\n",
       "    <tr style=\"text-align: right;\">\n",
       "      <th></th>\n",
       "      <th>START</th>\n",
       "      <th>LABEL</th>\n",
       "    </tr>\n",
       "  </thead>\n",
       "  <tbody>\n",
       "    <tr>\n",
       "      <th>0</th>\n",
       "      <td>**OTHER**</td>\n",
       "      <td>NaN</td>\n",
       "    </tr>\n",
       "    <tr>\n",
       "      <th>1</th>\n",
       "      <td>-22367848</td>\n",
       "      <td>Pastore, Dominic</td>\n",
       "    </tr>\n",
       "    <tr>\n",
       "      <th>2</th>\n",
       "      <td>-27134308</td>\n",
       "      <td>National Surgery Center</td>\n",
       "    </tr>\n",
       "    <tr>\n",
       "      <th>3</th>\n",
       "      <td>-38135821</td>\n",
       "      <td>Providence Park Hospital</td>\n",
       "    </tr>\n",
       "    <tr>\n",
       "      <th>4</th>\n",
       "      <td>-52212832</td>\n",
       "      <td>Smakja-Gordon, Michelle</td>\n",
       "    </tr>\n",
       "  </tbody>\n",
       "</table>\n",
       "</div>"
      ],
      "text/plain": [
       "       START                     LABEL\n",
       "0  **OTHER**                       NaN\n",
       "1  -22367848          Pastore, Dominic\n",
       "2  -27134308   National Surgery Center\n",
       "3  -38135821  Providence Park Hospital\n",
       "4  -52212832   Smakja-Gordon, Michelle"
      ]
     },
     "execution_count": 1084,
     "metadata": {},
     "output_type": "execute_result"
    }
   ],
   "source": [
    "tin_name.head()"
   ]
  },
  {
   "cell_type": "code",
   "execution_count": 1085,
   "metadata": {
    "collapsed": false
   },
   "outputs": [
    {
     "data": {
      "text/plain": [
       "(59442, 2)"
      ]
     },
     "execution_count": 1085,
     "metadata": {},
     "output_type": "execute_result"
    }
   ],
   "source": [
    "tin_name.shape"
   ]
  },
  {
   "cell_type": "code",
   "execution_count": 1086,
   "metadata": {
    "collapsed": false
   },
   "outputs": [
    {
     "data": {
      "text/plain": [
       "START    object\n",
       "LABEL    object\n",
       "dtype: object"
      ]
     },
     "execution_count": 1086,
     "metadata": {},
     "output_type": "execute_result"
    }
   ],
   "source": [
    "tin_name.dtypes"
   ]
  },
  {
   "cell_type": "code",
   "execution_count": 1102,
   "metadata": {
    "collapsed": false
   },
   "outputs": [
    {
     "data": {
      "text/html": [
       "<div>\n",
       "<table border=\"1\" class=\"dataframe\">\n",
       "  <thead>\n",
       "    <tr style=\"text-align: right;\">\n",
       "      <th></th>\n",
       "      <th>svc_npi</th>\n",
       "      <th>svc_prov_tax_id</th>\n",
       "      <th>svc_specialty</th>\n",
       "    </tr>\n",
       "  </thead>\n",
       "  <tbody>\n",
       "    <tr>\n",
       "      <th>48</th>\n",
       "      <td>1205820727</td>\n",
       "      <td>141834454</td>\n",
       "      <td>Cardiovascular Diseases</td>\n",
       "    </tr>\n",
       "    <tr>\n",
       "      <th>51</th>\n",
       "      <td>1326268491</td>\n",
       "      <td>200911087</td>\n",
       "      <td>Emergency Medicine</td>\n",
       "    </tr>\n",
       "    <tr>\n",
       "      <th>52</th>\n",
       "      <td>1043267727</td>\n",
       "      <td>141338544</td>\n",
       "      <td>UNKNOWN</td>\n",
       "    </tr>\n",
       "    <tr>\n",
       "      <th>61</th>\n",
       "      <td>1649442070</td>\n",
       "      <td>141660131</td>\n",
       "      <td>Diagnostic Radiology</td>\n",
       "    </tr>\n",
       "    <tr>\n",
       "      <th>62</th>\n",
       "      <td>1679531289</td>\n",
       "      <td>141660131</td>\n",
       "      <td>Obstetrics and Gynecology</td>\n",
       "    </tr>\n",
       "  </tbody>\n",
       "</table>\n",
       "</div>"
      ],
      "text/plain": [
       "       svc_npi svc_prov_tax_id              svc_specialty\n",
       "48  1205820727       141834454    Cardiovascular Diseases\n",
       "51  1326268491       200911087         Emergency Medicine\n",
       "52  1043267727       141338544                    UNKNOWN\n",
       "61  1649442070       141660131       Diagnostic Radiology\n",
       "62  1679531289       141660131  Obstetrics and Gynecology"
      ]
     },
     "execution_count": 1102,
     "metadata": {},
     "output_type": "execute_result"
    }
   ],
   "source": [
    "diabetic_all_claims.head()"
   ]
  },
  {
   "cell_type": "code",
   "execution_count": 1103,
   "metadata": {
    "collapsed": true
   },
   "outputs": [],
   "source": [
    "npi_speciality_tin_name=pd.merge(diabetic_all_claims,tin_name,left_on='svc_prov_tax_id',right_on='START')"
   ]
  },
  {
   "cell_type": "code",
   "execution_count": 1104,
   "metadata": {
    "collapsed": false
   },
   "outputs": [
    {
     "data": {
      "text/html": [
       "<div>\n",
       "<table border=\"1\" class=\"dataframe\">\n",
       "  <thead>\n",
       "    <tr style=\"text-align: right;\">\n",
       "      <th></th>\n",
       "      <th>svc_npi</th>\n",
       "      <th>svc_prov_tax_id</th>\n",
       "      <th>svc_specialty</th>\n",
       "      <th>START</th>\n",
       "      <th>LABEL</th>\n",
       "    </tr>\n",
       "  </thead>\n",
       "  <tbody>\n",
       "    <tr>\n",
       "      <th>0</th>\n",
       "      <td>1205820727</td>\n",
       "      <td>141834454</td>\n",
       "      <td>Cardiovascular Diseases</td>\n",
       "      <td>141834454</td>\n",
       "      <td>Capital Cardiology Associates PC</td>\n",
       "    </tr>\n",
       "    <tr>\n",
       "      <th>1</th>\n",
       "      <td>1891946703</td>\n",
       "      <td>141834454</td>\n",
       "      <td>Cardiovascular Diseases</td>\n",
       "      <td>141834454</td>\n",
       "      <td>Capital Cardiology Associates PC</td>\n",
       "    </tr>\n",
       "    <tr>\n",
       "      <th>2</th>\n",
       "      <td>1174518989</td>\n",
       "      <td>141834454</td>\n",
       "      <td>Cardiovascular Diseases</td>\n",
       "      <td>141834454</td>\n",
       "      <td>Capital Cardiology Associates PC</td>\n",
       "    </tr>\n",
       "    <tr>\n",
       "      <th>3</th>\n",
       "      <td>1841284361</td>\n",
       "      <td>141834454</td>\n",
       "      <td>Cardiovascular Diseases</td>\n",
       "      <td>141834454</td>\n",
       "      <td>Capital Cardiology Associates PC</td>\n",
       "    </tr>\n",
       "    <tr>\n",
       "      <th>4</th>\n",
       "      <td>1568457943</td>\n",
       "      <td>141834454</td>\n",
       "      <td>Cardiovascular Diseases</td>\n",
       "      <td>141834454</td>\n",
       "      <td>Capital Cardiology Associates PC</td>\n",
       "    </tr>\n",
       "  </tbody>\n",
       "</table>\n",
       "</div>"
      ],
      "text/plain": [
       "      svc_npi svc_prov_tax_id            svc_specialty      START  \\\n",
       "0  1205820727       141834454  Cardiovascular Diseases  141834454   \n",
       "1  1891946703       141834454  Cardiovascular Diseases  141834454   \n",
       "2  1174518989       141834454  Cardiovascular Diseases  141834454   \n",
       "3  1841284361       141834454  Cardiovascular Diseases  141834454   \n",
       "4  1568457943       141834454  Cardiovascular Diseases  141834454   \n",
       "\n",
       "                              LABEL  \n",
       "0  Capital Cardiology Associates PC  \n",
       "1  Capital Cardiology Associates PC  \n",
       "2  Capital Cardiology Associates PC  \n",
       "3  Capital Cardiology Associates PC  \n",
       "4  Capital Cardiology Associates PC  "
      ]
     },
     "execution_count": 1104,
     "metadata": {},
     "output_type": "execute_result"
    }
   ],
   "source": [
    "npi_speciality_tin_name.head()"
   ]
  },
  {
   "cell_type": "code",
   "execution_count": 1107,
   "metadata": {
    "collapsed": false
   },
   "outputs": [],
   "source": [
    "npi_speciality_tin_name=npi_speciality_tin_name.drop(['svc_prov_tax_id','svc_specialty','START'],axis=1)"
   ]
  },
  {
   "cell_type": "code",
   "execution_count": 1108,
   "metadata": {
    "collapsed": false
   },
   "outputs": [
    {
     "data": {
      "text/html": [
       "<div>\n",
       "<table border=\"1\" class=\"dataframe\">\n",
       "  <thead>\n",
       "    <tr style=\"text-align: right;\">\n",
       "      <th></th>\n",
       "      <th>svc_npi</th>\n",
       "      <th>LABEL</th>\n",
       "    </tr>\n",
       "  </thead>\n",
       "  <tbody>\n",
       "    <tr>\n",
       "      <th>0</th>\n",
       "      <td>1205820727</td>\n",
       "      <td>Capital Cardiology Associates PC</td>\n",
       "    </tr>\n",
       "    <tr>\n",
       "      <th>1</th>\n",
       "      <td>1891946703</td>\n",
       "      <td>Capital Cardiology Associates PC</td>\n",
       "    </tr>\n",
       "    <tr>\n",
       "      <th>2</th>\n",
       "      <td>1174518989</td>\n",
       "      <td>Capital Cardiology Associates PC</td>\n",
       "    </tr>\n",
       "    <tr>\n",
       "      <th>3</th>\n",
       "      <td>1841284361</td>\n",
       "      <td>Capital Cardiology Associates PC</td>\n",
       "    </tr>\n",
       "    <tr>\n",
       "      <th>4</th>\n",
       "      <td>1568457943</td>\n",
       "      <td>Capital Cardiology Associates PC</td>\n",
       "    </tr>\n",
       "  </tbody>\n",
       "</table>\n",
       "</div>"
      ],
      "text/plain": [
       "      svc_npi                             LABEL\n",
       "0  1205820727  Capital Cardiology Associates PC\n",
       "1  1891946703  Capital Cardiology Associates PC\n",
       "2  1174518989  Capital Cardiology Associates PC\n",
       "3  1841284361  Capital Cardiology Associates PC\n",
       "4  1568457943  Capital Cardiology Associates PC"
      ]
     },
     "execution_count": 1108,
     "metadata": {},
     "output_type": "execute_result"
    }
   ],
   "source": [
    "npi_speciality_tin_name.head()"
   ]
  },
  {
   "cell_type": "code",
   "execution_count": 1115,
   "metadata": {
    "collapsed": false
   },
   "outputs": [],
   "source": [
    "pd.DataFrame(npi_speciality_tin_name.groupby(['svc_npi']).LABEL.nunique());"
   ]
  },
  {
   "cell_type": "code",
   "execution_count": 1111,
   "metadata": {
    "collapsed": true
   },
   "outputs": [],
   "source": [
    "### Merging with community label \n",
    "comm_npi_speciality_tin_name=pd.merge(nodeList,npi_speciality_tin_name,left_on=\"Id\",right_on=\"svc_npi\",how=\"inner\")"
   ]
  },
  {
   "cell_type": "code",
   "execution_count": 1112,
   "metadata": {
    "collapsed": false
   },
   "outputs": [
    {
     "data": {
      "text/html": [
       "<div>\n",
       "<table border=\"1\" class=\"dataframe\">\n",
       "  <thead>\n",
       "    <tr style=\"text-align: right;\">\n",
       "      <th></th>\n",
       "      <th>Id</th>\n",
       "      <th>Label</th>\n",
       "      <th>svc_npi</th>\n",
       "      <th>LABEL</th>\n",
       "    </tr>\n",
       "  </thead>\n",
       "  <tbody>\n",
       "    <tr>\n",
       "      <th>0</th>\n",
       "      <td>1043447758</td>\n",
       "      <td>1</td>\n",
       "      <td>1043447758</td>\n",
       "      <td>Manning Emergency Medical</td>\n",
       "    </tr>\n",
       "    <tr>\n",
       "      <th>1</th>\n",
       "      <td>1225039787</td>\n",
       "      <td>1</td>\n",
       "      <td>1225039787</td>\n",
       "      <td>Maplewood Pathology PC</td>\n",
       "    </tr>\n",
       "    <tr>\n",
       "      <th>2</th>\n",
       "      <td>1255525358</td>\n",
       "      <td>1</td>\n",
       "      <td>1255525358</td>\n",
       "      <td>Manning Emergency Medical</td>\n",
       "    </tr>\n",
       "    <tr>\n",
       "      <th>3</th>\n",
       "      <td>1356433858</td>\n",
       "      <td>1</td>\n",
       "      <td>1356433858</td>\n",
       "      <td>Albany Memorial Hospital</td>\n",
       "    </tr>\n",
       "    <tr>\n",
       "      <th>4</th>\n",
       "      <td>1538167697</td>\n",
       "      <td>1</td>\n",
       "      <td>1538167697</td>\n",
       "      <td>St Peters Health Partners Medical Associates PC</td>\n",
       "    </tr>\n",
       "  </tbody>\n",
       "</table>\n",
       "</div>"
      ],
      "text/plain": [
       "           Id  Label     svc_npi  \\\n",
       "0  1043447758      1  1043447758   \n",
       "1  1225039787      1  1225039787   \n",
       "2  1255525358      1  1255525358   \n",
       "3  1356433858      1  1356433858   \n",
       "4  1538167697      1  1538167697   \n",
       "\n",
       "                                             LABEL  \n",
       "0                        Manning Emergency Medical  \n",
       "1                           Maplewood Pathology PC  \n",
       "2                        Manning Emergency Medical  \n",
       "3                         Albany Memorial Hospital  \n",
       "4  St Peters Health Partners Medical Associates PC  "
      ]
     },
     "execution_count": 1112,
     "metadata": {},
     "output_type": "execute_result"
    }
   ],
   "source": [
    "comm_npi_speciality_tin_name.head()"
   ]
  },
  {
   "cell_type": "code",
   "execution_count": 1116,
   "metadata": {
    "collapsed": false
   },
   "outputs": [
    {
     "data": {
      "text/plain": [
       "2068"
      ]
     },
     "execution_count": 1116,
     "metadata": {},
     "output_type": "execute_result"
    }
   ],
   "source": [
    "len(comm_npi_speciality_tin_name['svc_npi'].unique())"
   ]
  },
  {
   "cell_type": "code",
   "execution_count": 1117,
   "metadata": {
    "collapsed": false
   },
   "outputs": [
    {
     "data": {
      "text/plain": [
       "(2382, 4)"
      ]
     },
     "execution_count": 1117,
     "metadata": {},
     "output_type": "execute_result"
    }
   ],
   "source": [
    "comm_npi_speciality_tin_name.shape"
   ]
  },
  {
   "cell_type": "code",
   "execution_count": 1118,
   "metadata": {
    "collapsed": true
   },
   "outputs": [],
   "source": [
    "comm_speciality_tin_name_summary=comm_npi_speciality_tin_name.groupby(['Label','LABEL']).agg({'svc_npi':np.size})"
   ]
  },
  {
   "cell_type": "code",
   "execution_count": 1119,
   "metadata": {
    "collapsed": false
   },
   "outputs": [
    {
     "data": {
      "text/html": [
       "<div>\n",
       "<table border=\"1\" class=\"dataframe\">\n",
       "  <thead>\n",
       "    <tr style=\"text-align: right;\">\n",
       "      <th></th>\n",
       "      <th></th>\n",
       "      <th>svc_npi</th>\n",
       "    </tr>\n",
       "    <tr>\n",
       "      <th>Label</th>\n",
       "      <th>LABEL</th>\n",
       "      <th></th>\n",
       "    </tr>\n",
       "  </thead>\n",
       "  <tbody>\n",
       "    <tr>\n",
       "      <th rowspan=\"5\" valign=\"top\">1</th>\n",
       "      <th>AGAPE - A Woman's Medical Place, PLLC</th>\n",
       "      <td>1</td>\n",
       "    </tr>\n",
       "    <tr>\n",
       "      <th>Adirondack Foot Ankle Center</th>\n",
       "      <td>1</td>\n",
       "    </tr>\n",
       "    <tr>\n",
       "      <th>Adult Medicine PC</th>\n",
       "      <td>1</td>\n",
       "    </tr>\n",
       "    <tr>\n",
       "      <th>Akbari, Ghulam A.</th>\n",
       "      <td>1</td>\n",
       "    </tr>\n",
       "    <tr>\n",
       "      <th>Alan Bloomberg MD PC</th>\n",
       "      <td>2</td>\n",
       "    </tr>\n",
       "  </tbody>\n",
       "</table>\n",
       "</div>"
      ],
      "text/plain": [
       "                                             svc_npi\n",
       "Label LABEL                                         \n",
       "1     AGAPE - A Woman's Medical Place, PLLC        1\n",
       "      Adirondack Foot Ankle Center                 1\n",
       "      Adult Medicine PC                            1\n",
       "      Akbari, Ghulam A.                            1\n",
       "      Alan Bloomberg MD PC                         2"
      ]
     },
     "execution_count": 1119,
     "metadata": {},
     "output_type": "execute_result"
    }
   ],
   "source": [
    "comm_speciality_tin_name_summary.head()"
   ]
  },
  {
   "cell_type": "code",
   "execution_count": 1122,
   "metadata": {
    "collapsed": false
   },
   "outputs": [],
   "source": [
    "comm_speciality_tin_name_summary.reset_index(inplace=True)\n",
    "comm_speciality_tin_name_summary=comm_speciality_tin_name_summary.sort_values(['Label','svc_npi'],ascending=[True,False])"
   ]
  },
  {
   "cell_type": "code",
   "execution_count": 1123,
   "metadata": {
    "collapsed": false
   },
   "outputs": [
    {
     "data": {
      "text/html": [
       "<div>\n",
       "<table border=\"1\" class=\"dataframe\">\n",
       "  <thead>\n",
       "    <tr style=\"text-align: right;\">\n",
       "      <th></th>\n",
       "      <th>Label</th>\n",
       "      <th>LABEL</th>\n",
       "      <th>svc_npi</th>\n",
       "    </tr>\n",
       "  </thead>\n",
       "  <tbody>\n",
       "    <tr>\n",
       "      <th>146</th>\n",
       "      <td>1</td>\n",
       "      <td>St Peters Health Partners Medical Associates PC</td>\n",
       "      <td>125</td>\n",
       "    </tr>\n",
       "    <tr>\n",
       "      <th>145</th>\n",
       "      <td>1</td>\n",
       "      <td>St Peter's Hospital</td>\n",
       "      <td>47</td>\n",
       "    </tr>\n",
       "    <tr>\n",
       "      <th>11</th>\n",
       "      <td>1</td>\n",
       "      <td>Albany Medical College</td>\n",
       "      <td>36</td>\n",
       "    </tr>\n",
       "    <tr>\n",
       "      <th>19</th>\n",
       "      <td>1</td>\n",
       "      <td>Albany-Capital Region Gastroenterology Consult...</td>\n",
       "      <td>25</td>\n",
       "    </tr>\n",
       "    <tr>\n",
       "      <th>46</th>\n",
       "      <td>1</td>\n",
       "      <td>Community Care Physicians, PC</td>\n",
       "      <td>25</td>\n",
       "    </tr>\n",
       "  </tbody>\n",
       "</table>\n",
       "</div>"
      ],
      "text/plain": [
       "     Label                                              LABEL  svc_npi\n",
       "146      1    St Peters Health Partners Medical Associates PC      125\n",
       "145      1                                St Peter's Hospital       47\n",
       "11       1                             Albany Medical College       36\n",
       "19       1  Albany-Capital Region Gastroenterology Consult...       25\n",
       "46       1                      Community Care Physicians, PC       25"
      ]
     },
     "execution_count": 1123,
     "metadata": {},
     "output_type": "execute_result"
    }
   ],
   "source": [
    "comm_speciality_tin_name_summary.head()"
   ]
  },
  {
   "cell_type": "code",
   "execution_count": 1124,
   "metadata": {
    "collapsed": true
   },
   "outputs": [],
   "source": [
    "# comm_speciality_tin_name_summary.to_csv(\"comm_tin_name_summary.csv\")"
   ]
  },
  {
   "cell_type": "code",
   "execution_count": 1125,
   "metadata": {
    "collapsed": false
   },
   "outputs": [
    {
     "data": {
      "text/html": [
       "<div>\n",
       "<table border=\"1\" class=\"dataframe\">\n",
       "  <thead>\n",
       "    <tr style=\"text-align: right;\">\n",
       "      <th></th>\n",
       "      <th>Label</th>\n",
       "      <th>svc_specialty</th>\n",
       "      <th>svc_npi</th>\n",
       "    </tr>\n",
       "  </thead>\n",
       "  <tbody>\n",
       "    <tr>\n",
       "      <th>247</th>\n",
       "      <td>6</td>\n",
       "      <td>Family Medicine</td>\n",
       "      <td>27</td>\n",
       "    </tr>\n",
       "    <tr>\n",
       "      <th>250</th>\n",
       "      <td>6</td>\n",
       "      <td>Internal Medicine (Internal Medicine)</td>\n",
       "      <td>20</td>\n",
       "    </tr>\n",
       "    <tr>\n",
       "      <th>260</th>\n",
       "      <td>6</td>\n",
       "      <td>Physical Therapy</td>\n",
       "      <td>13</td>\n",
       "    </tr>\n",
       "    <tr>\n",
       "      <th>255</th>\n",
       "      <td>6</td>\n",
       "      <td>Orthopaedics</td>\n",
       "      <td>9</td>\n",
       "    </tr>\n",
       "    <tr>\n",
       "      <th>243</th>\n",
       "      <td>6</td>\n",
       "      <td>Chiropractor</td>\n",
       "      <td>4</td>\n",
       "    </tr>\n",
       "  </tbody>\n",
       "</table>\n",
       "</div>"
      ],
      "text/plain": [
       "     Label                          svc_specialty  svc_npi\n",
       "247      6                        Family Medicine       27\n",
       "250      6  Internal Medicine (Internal Medicine)       20\n",
       "260      6                       Physical Therapy       13\n",
       "255      6                           Orthopaedics        9\n",
       "243      6                           Chiropractor        4"
      ]
     },
     "execution_count": 1125,
     "metadata": {},
     "output_type": "execute_result"
    }
   ],
   "source": [
    "comm_speciality_summary.head()"
   ]
  },
  {
   "cell_type": "code",
   "execution_count": 1131,
   "metadata": {
    "collapsed": false
   },
   "outputs": [],
   "source": [
    "speciality_summary=comm_speciality_summary.groupby(['svc_specialty']).agg({'svc_npi':np.sum})"
   ]
  },
  {
   "cell_type": "code",
   "execution_count": 1133,
   "metadata": {
    "collapsed": false
   },
   "outputs": [],
   "source": [
    "speciality_summary=speciality_summary.sort_values('svc_npi',ascending=False)"
   ]
  },
  {
   "cell_type": "code",
   "execution_count": 1134,
   "metadata": {
    "collapsed": true
   },
   "outputs": [],
   "source": [
    "# speciality_summary.to_csv(\"speciality_summary.csv\")"
   ]
  },
  {
   "cell_type": "markdown",
   "metadata": {},
   "source": [
    "# Adding PQI measurement euid-npi-cluster"
   ]
  },
  {
   "cell_type": "code",
   "execution_count": 74,
   "metadata": {
    "collapsed": false
   },
   "outputs": [
    {
     "data": {
      "text/html": [
       "<div>\n",
       "<table border=\"1\" class=\"dataframe\">\n",
       "  <thead>\n",
       "    <tr style=\"text-align: right;\">\n",
       "      <th></th>\n",
       "      <th>new_euid</th>\n",
       "      <th>comm_npi</th>\n",
       "      <th>clusters_id</th>\n",
       "    </tr>\n",
       "  </thead>\n",
       "  <tbody>\n",
       "    <tr>\n",
       "      <th>0</th>\n",
       "      <td>44470</td>\n",
       "      <td>1</td>\n",
       "      <td>40</td>\n",
       "    </tr>\n",
       "    <tr>\n",
       "      <th>1</th>\n",
       "      <td>33055</td>\n",
       "      <td>1</td>\n",
       "      <td>21</td>\n",
       "    </tr>\n",
       "    <tr>\n",
       "      <th>2</th>\n",
       "      <td>187443</td>\n",
       "      <td>6</td>\n",
       "      <td>21</td>\n",
       "    </tr>\n",
       "    <tr>\n",
       "      <th>3</th>\n",
       "      <td>118528</td>\n",
       "      <td>1</td>\n",
       "      <td>16</td>\n",
       "    </tr>\n",
       "    <tr>\n",
       "      <th>4</th>\n",
       "      <td>395275</td>\n",
       "      <td>1</td>\n",
       "      <td>40</td>\n",
       "    </tr>\n",
       "  </tbody>\n",
       "</table>\n",
       "</div>"
      ],
      "text/plain": [
       "  new_euid  comm_npi  clusters_id\n",
       "0    44470         1           40\n",
       "1    33055         1           21\n",
       "2   187443         6           21\n",
       "3   118528         1           16\n",
       "4   395275         1           40"
      ]
     },
     "execution_count": 74,
     "metadata": {},
     "output_type": "execute_result"
    }
   ],
   "source": [
    "euid_npi_cluster.head()"
   ]
  },
  {
   "cell_type": "code",
   "execution_count": 75,
   "metadata": {
    "collapsed": true
   },
   "outputs": [],
   "source": [
    "euid_pqi=pd.read_csv(\"../../data/PQI/euid_pqi.csv\",dtype={'new_euid':'str','CLAIM_ID':'str'})"
   ]
  },
  {
   "cell_type": "code",
   "execution_count": 76,
   "metadata": {
    "collapsed": false
   },
   "outputs": [
    {
     "data": {
      "text/html": [
       "<div>\n",
       "<table border=\"1\" class=\"dataframe\">\n",
       "  <thead>\n",
       "    <tr style=\"text-align: right;\">\n",
       "      <th></th>\n",
       "      <th>new_euid</th>\n",
       "      <th>CLAIM_ID</th>\n",
       "      <th>TAPQ01</th>\n",
       "      <th>TAPQ02</th>\n",
       "      <th>TAPQ03</th>\n",
       "      <th>TAPQ05</th>\n",
       "      <th>TAPQ07</th>\n",
       "      <th>TAPQ08</th>\n",
       "      <th>TAPQ10</th>\n",
       "      <th>TAPQ11</th>\n",
       "      <th>TAPQ12</th>\n",
       "      <th>TAPQ13</th>\n",
       "      <th>TAPQ14</th>\n",
       "      <th>TAPQ15</th>\n",
       "      <th>TAPQ16</th>\n",
       "      <th>TAPQ90</th>\n",
       "      <th>TAPQ91</th>\n",
       "      <th>TAPQ92</th>\n",
       "    </tr>\n",
       "  </thead>\n",
       "  <tbody>\n",
       "    <tr>\n",
       "      <th>0</th>\n",
       "      <td>32</td>\n",
       "      <td>1419100NVC00</td>\n",
       "      <td>0</td>\n",
       "      <td>0</td>\n",
       "      <td>0</td>\n",
       "      <td>0</td>\n",
       "      <td>1</td>\n",
       "      <td>0</td>\n",
       "      <td>0</td>\n",
       "      <td>0</td>\n",
       "      <td>0</td>\n",
       "      <td>0</td>\n",
       "      <td>0</td>\n",
       "      <td>0</td>\n",
       "      <td>0</td>\n",
       "      <td>1</td>\n",
       "      <td>0</td>\n",
       "      <td>1</td>\n",
       "    </tr>\n",
       "    <tr>\n",
       "      <th>1</th>\n",
       "      <td>32</td>\n",
       "      <td>141770BHLT00</td>\n",
       "      <td>0</td>\n",
       "      <td>0</td>\n",
       "      <td>0</td>\n",
       "      <td>0</td>\n",
       "      <td>0</td>\n",
       "      <td>0</td>\n",
       "      <td>0</td>\n",
       "      <td>0</td>\n",
       "      <td>0</td>\n",
       "      <td>0</td>\n",
       "      <td>0</td>\n",
       "      <td>0</td>\n",
       "      <td>0</td>\n",
       "      <td>0</td>\n",
       "      <td>0</td>\n",
       "      <td>0</td>\n",
       "    </tr>\n",
       "    <tr>\n",
       "      <th>2</th>\n",
       "      <td>32</td>\n",
       "      <td>141810CJSK00</td>\n",
       "      <td>0</td>\n",
       "      <td>0</td>\n",
       "      <td>0</td>\n",
       "      <td>0</td>\n",
       "      <td>0</td>\n",
       "      <td>0</td>\n",
       "      <td>0</td>\n",
       "      <td>0</td>\n",
       "      <td>0</td>\n",
       "      <td>0</td>\n",
       "      <td>0</td>\n",
       "      <td>0</td>\n",
       "      <td>0</td>\n",
       "      <td>0</td>\n",
       "      <td>0</td>\n",
       "      <td>0</td>\n",
       "    </tr>\n",
       "    <tr>\n",
       "      <th>3</th>\n",
       "      <td>32</td>\n",
       "      <td>141120013300</td>\n",
       "      <td>0</td>\n",
       "      <td>0</td>\n",
       "      <td>0</td>\n",
       "      <td>0</td>\n",
       "      <td>0</td>\n",
       "      <td>0</td>\n",
       "      <td>0</td>\n",
       "      <td>0</td>\n",
       "      <td>0</td>\n",
       "      <td>0</td>\n",
       "      <td>0</td>\n",
       "      <td>0</td>\n",
       "      <td>0</td>\n",
       "      <td>0</td>\n",
       "      <td>0</td>\n",
       "      <td>0</td>\n",
       "    </tr>\n",
       "    <tr>\n",
       "      <th>4</th>\n",
       "      <td>32</td>\n",
       "      <td>141810CBHM00</td>\n",
       "      <td>0</td>\n",
       "      <td>0</td>\n",
       "      <td>0</td>\n",
       "      <td>0</td>\n",
       "      <td>0</td>\n",
       "      <td>0</td>\n",
       "      <td>0</td>\n",
       "      <td>0</td>\n",
       "      <td>0</td>\n",
       "      <td>0</td>\n",
       "      <td>0</td>\n",
       "      <td>0</td>\n",
       "      <td>0</td>\n",
       "      <td>0</td>\n",
       "      <td>0</td>\n",
       "      <td>0</td>\n",
       "    </tr>\n",
       "  </tbody>\n",
       "</table>\n",
       "</div>"
      ],
      "text/plain": [
       "  new_euid      CLAIM_ID  TAPQ01  TAPQ02  TAPQ03  TAPQ05  TAPQ07  TAPQ08  \\\n",
       "0       32  1419100NVC00       0       0       0       0       1       0   \n",
       "1       32  141770BHLT00       0       0       0       0       0       0   \n",
       "2       32  141810CJSK00       0       0       0       0       0       0   \n",
       "3       32  141120013300       0       0       0       0       0       0   \n",
       "4       32  141810CBHM00       0       0       0       0       0       0   \n",
       "\n",
       "   TAPQ10  TAPQ11  TAPQ12  TAPQ13  TAPQ14  TAPQ15  TAPQ16  TAPQ90  TAPQ91  \\\n",
       "0       0       0       0       0       0       0       0       1       0   \n",
       "1       0       0       0       0       0       0       0       0       0   \n",
       "2       0       0       0       0       0       0       0       0       0   \n",
       "3       0       0       0       0       0       0       0       0       0   \n",
       "4       0       0       0       0       0       0       0       0       0   \n",
       "\n",
       "   TAPQ92  \n",
       "0       1  \n",
       "1       0  \n",
       "2       0  \n",
       "3       0  \n",
       "4       0  "
      ]
     },
     "execution_count": 76,
     "metadata": {},
     "output_type": "execute_result"
    }
   ],
   "source": [
    "euid_pqi.head()"
   ]
  },
  {
   "cell_type": "code",
   "execution_count": 77,
   "metadata": {
    "collapsed": false
   },
   "outputs": [
    {
     "data": {
      "text/plain": [
       "(383374, 18)"
      ]
     },
     "execution_count": 77,
     "metadata": {},
     "output_type": "execute_result"
    }
   ],
   "source": [
    "euid_pqi.shape\n"
   ]
  },
  {
   "cell_type": "code",
   "execution_count": 78,
   "metadata": {
    "collapsed": false
   },
   "outputs": [
    {
     "data": {
      "text/plain": [
       "42643"
      ]
     },
     "execution_count": 78,
     "metadata": {},
     "output_type": "execute_result"
    }
   ],
   "source": [
    "len(euid_pqi['new_euid'].unique())"
   ]
  },
  {
   "cell_type": "code",
   "execution_count": 79,
   "metadata": {
    "collapsed": false
   },
   "outputs": [
    {
     "data": {
      "text/plain": [
       "new_euid    object\n",
       "CLAIM_ID    object\n",
       "TAPQ01       int64\n",
       "TAPQ02       int64\n",
       "TAPQ03       int64\n",
       "TAPQ05       int64\n",
       "TAPQ07       int64\n",
       "TAPQ08       int64\n",
       "TAPQ10       int64\n",
       "TAPQ11       int64\n",
       "TAPQ12       int64\n",
       "TAPQ13       int64\n",
       "TAPQ14       int64\n",
       "TAPQ15       int64\n",
       "TAPQ16       int64\n",
       "TAPQ90       int64\n",
       "TAPQ91       int64\n",
       "TAPQ92       int64\n",
       "dtype: object"
      ]
     },
     "execution_count": 79,
     "metadata": {},
     "output_type": "execute_result"
    }
   ],
   "source": [
    "euid_pqi.dtypes"
   ]
  },
  {
   "cell_type": "code",
   "execution_count": 80,
   "metadata": {
    "collapsed": true
   },
   "outputs": [],
   "source": [
    "# Merging euid_npi_cluster information with pqi\n",
    "euid_npi_cluster_pqi=pd.merge(euid_npi_cluster,euid_pqi,on=\"new_euid\",how=\"left\")"
   ]
  },
  {
   "cell_type": "code",
   "execution_count": 82,
   "metadata": {
    "collapsed": false
   },
   "outputs": [
    {
     "data": {
      "text/html": [
       "<div>\n",
       "<table border=\"1\" class=\"dataframe\">\n",
       "  <thead>\n",
       "    <tr style=\"text-align: right;\">\n",
       "      <th></th>\n",
       "      <th>new_euid</th>\n",
       "      <th>comm_npi</th>\n",
       "      <th>clusters_id</th>\n",
       "      <th>CLAIM_ID</th>\n",
       "      <th>TAPQ01</th>\n",
       "      <th>TAPQ02</th>\n",
       "      <th>TAPQ03</th>\n",
       "      <th>TAPQ05</th>\n",
       "      <th>TAPQ07</th>\n",
       "      <th>TAPQ08</th>\n",
       "      <th>TAPQ10</th>\n",
       "      <th>TAPQ11</th>\n",
       "      <th>TAPQ12</th>\n",
       "      <th>TAPQ13</th>\n",
       "      <th>TAPQ14</th>\n",
       "      <th>TAPQ15</th>\n",
       "      <th>TAPQ16</th>\n",
       "      <th>TAPQ90</th>\n",
       "      <th>TAPQ91</th>\n",
       "      <th>TAPQ92</th>\n",
       "    </tr>\n",
       "  </thead>\n",
       "  <tbody>\n",
       "    <tr>\n",
       "      <th>0</th>\n",
       "      <td>44470</td>\n",
       "      <td>1</td>\n",
       "      <td>40</td>\n",
       "      <td>NaN</td>\n",
       "      <td>NaN</td>\n",
       "      <td>NaN</td>\n",
       "      <td>NaN</td>\n",
       "      <td>NaN</td>\n",
       "      <td>NaN</td>\n",
       "      <td>NaN</td>\n",
       "      <td>NaN</td>\n",
       "      <td>NaN</td>\n",
       "      <td>NaN</td>\n",
       "      <td>NaN</td>\n",
       "      <td>NaN</td>\n",
       "      <td>NaN</td>\n",
       "      <td>NaN</td>\n",
       "      <td>NaN</td>\n",
       "      <td>NaN</td>\n",
       "      <td>NaN</td>\n",
       "    </tr>\n",
       "    <tr>\n",
       "      <th>1</th>\n",
       "      <td>33055</td>\n",
       "      <td>1</td>\n",
       "      <td>21</td>\n",
       "      <td>NaN</td>\n",
       "      <td>NaN</td>\n",
       "      <td>NaN</td>\n",
       "      <td>NaN</td>\n",
       "      <td>NaN</td>\n",
       "      <td>NaN</td>\n",
       "      <td>NaN</td>\n",
       "      <td>NaN</td>\n",
       "      <td>NaN</td>\n",
       "      <td>NaN</td>\n",
       "      <td>NaN</td>\n",
       "      <td>NaN</td>\n",
       "      <td>NaN</td>\n",
       "      <td>NaN</td>\n",
       "      <td>NaN</td>\n",
       "      <td>NaN</td>\n",
       "      <td>NaN</td>\n",
       "    </tr>\n",
       "    <tr>\n",
       "      <th>2</th>\n",
       "      <td>187443</td>\n",
       "      <td>6</td>\n",
       "      <td>21</td>\n",
       "      <td>133470BKHP00</td>\n",
       "      <td>0.0</td>\n",
       "      <td>0.0</td>\n",
       "      <td>0.0</td>\n",
       "      <td>0.0</td>\n",
       "      <td>0.0</td>\n",
       "      <td>0.0</td>\n",
       "      <td>0.0</td>\n",
       "      <td>0.0</td>\n",
       "      <td>0.0</td>\n",
       "      <td>0.0</td>\n",
       "      <td>1.0</td>\n",
       "      <td>0.0</td>\n",
       "      <td>0.0</td>\n",
       "      <td>1.0</td>\n",
       "      <td>0.0</td>\n",
       "      <td>1.0</td>\n",
       "    </tr>\n",
       "    <tr>\n",
       "      <th>3</th>\n",
       "      <td>187443</td>\n",
       "      <td>6</td>\n",
       "      <td>21</td>\n",
       "      <td>133470BJRS00</td>\n",
       "      <td>0.0</td>\n",
       "      <td>0.0</td>\n",
       "      <td>0.0</td>\n",
       "      <td>0.0</td>\n",
       "      <td>0.0</td>\n",
       "      <td>0.0</td>\n",
       "      <td>0.0</td>\n",
       "      <td>0.0</td>\n",
       "      <td>0.0</td>\n",
       "      <td>0.0</td>\n",
       "      <td>1.0</td>\n",
       "      <td>0.0</td>\n",
       "      <td>0.0</td>\n",
       "      <td>1.0</td>\n",
       "      <td>0.0</td>\n",
       "      <td>1.0</td>\n",
       "    </tr>\n",
       "    <tr>\n",
       "      <th>4</th>\n",
       "      <td>187443</td>\n",
       "      <td>6</td>\n",
       "      <td>21</td>\n",
       "      <td>1333000G0Q00</td>\n",
       "      <td>0.0</td>\n",
       "      <td>0.0</td>\n",
       "      <td>0.0</td>\n",
       "      <td>0.0</td>\n",
       "      <td>0.0</td>\n",
       "      <td>0.0</td>\n",
       "      <td>0.0</td>\n",
       "      <td>0.0</td>\n",
       "      <td>0.0</td>\n",
       "      <td>0.0</td>\n",
       "      <td>0.0</td>\n",
       "      <td>0.0</td>\n",
       "      <td>0.0</td>\n",
       "      <td>0.0</td>\n",
       "      <td>0.0</td>\n",
       "      <td>0.0</td>\n",
       "    </tr>\n",
       "  </tbody>\n",
       "</table>\n",
       "</div>"
      ],
      "text/plain": [
       "  new_euid  comm_npi  clusters_id      CLAIM_ID  TAPQ01  TAPQ02  TAPQ03  \\\n",
       "0    44470         1           40           NaN     NaN     NaN     NaN   \n",
       "1    33055         1           21           NaN     NaN     NaN     NaN   \n",
       "2   187443         6           21  133470BKHP00     0.0     0.0     0.0   \n",
       "3   187443         6           21  133470BJRS00     0.0     0.0     0.0   \n",
       "4   187443         6           21  1333000G0Q00     0.0     0.0     0.0   \n",
       "\n",
       "   TAPQ05  TAPQ07  TAPQ08  TAPQ10  TAPQ11  TAPQ12  TAPQ13  TAPQ14  TAPQ15  \\\n",
       "0     NaN     NaN     NaN     NaN     NaN     NaN     NaN     NaN     NaN   \n",
       "1     NaN     NaN     NaN     NaN     NaN     NaN     NaN     NaN     NaN   \n",
       "2     0.0     0.0     0.0     0.0     0.0     0.0     0.0     1.0     0.0   \n",
       "3     0.0     0.0     0.0     0.0     0.0     0.0     0.0     1.0     0.0   \n",
       "4     0.0     0.0     0.0     0.0     0.0     0.0     0.0     0.0     0.0   \n",
       "\n",
       "   TAPQ16  TAPQ90  TAPQ91  TAPQ92  \n",
       "0     NaN     NaN     NaN     NaN  \n",
       "1     NaN     NaN     NaN     NaN  \n",
       "2     0.0     1.0     0.0     1.0  \n",
       "3     0.0     1.0     0.0     1.0  \n",
       "4     0.0     0.0     0.0     0.0  "
      ]
     },
     "execution_count": 82,
     "metadata": {},
     "output_type": "execute_result"
    }
   ],
   "source": [
    "euid_npi_cluster_pqi.head()"
   ]
  },
  {
   "cell_type": "code",
   "execution_count": 89,
   "metadata": {
    "collapsed": false
   },
   "outputs": [
    {
     "data": {
      "text/plain": [
       "6489"
      ]
     },
     "execution_count": 89,
     "metadata": {},
     "output_type": "execute_result"
    }
   ],
   "source": [
    "len(euid_npi_cluster_pqi['new_euid'].unique())"
   ]
  },
  {
   "cell_type": "code",
   "execution_count": 90,
   "metadata": {
    "collapsed": false
   },
   "outputs": [
    {
     "data": {
      "text/plain": [
       "5764"
      ]
     },
     "execution_count": 90,
     "metadata": {},
     "output_type": "execute_result"
    }
   ],
   "source": [
    "len(euid_npi_cluster_pqi[euid_npi_cluster_pqi['CLAIM_ID'].isnull()].new_euid.unique())"
   ]
  },
  {
   "cell_type": "code",
   "execution_count": 91,
   "metadata": {
    "collapsed": false
   },
   "outputs": [
    {
     "data": {
      "text/plain": [
       "725"
      ]
     },
     "execution_count": 91,
     "metadata": {},
     "output_type": "execute_result"
    }
   ],
   "source": [
    "6489-5764\n",
    "#So only 725 patients have PQI "
   ]
  },
  {
   "cell_type": "code",
   "execution_count": 92,
   "metadata": {
    "collapsed": false
   },
   "outputs": [
    {
     "data": {
      "text/plain": [
       "(15542, 20)"
      ]
     },
     "execution_count": 92,
     "metadata": {},
     "output_type": "execute_result"
    }
   ],
   "source": [
    "euid_npi_cluster_pqi.shape"
   ]
  },
  {
   "cell_type": "code",
   "execution_count": 94,
   "metadata": {
    "collapsed": false
   },
   "outputs": [],
   "source": [
    "euid_npi_cluster_pqi=euid_npi_cluster_pqi.drop_duplicates()"
   ]
  },
  {
   "cell_type": "code",
   "execution_count": 95,
   "metadata": {
    "collapsed": false
   },
   "outputs": [
    {
     "data": {
      "text/plain": [
       "(15542, 20)"
      ]
     },
     "execution_count": 95,
     "metadata": {},
     "output_type": "execute_result"
    }
   ],
   "source": [
    "euid_npi_cluster_pqi.shape"
   ]
  },
  {
   "cell_type": "markdown",
   "metadata": {},
   "source": [
    "### Distribution of  725 patients across community-cluster"
   ]
  },
  {
   "cell_type": "code",
   "execution_count": 96,
   "metadata": {
    "collapsed": false
   },
   "outputs": [
    {
     "data": {
      "text/html": [
       "<div>\n",
       "<table border=\"1\" class=\"dataframe\">\n",
       "  <thead>\n",
       "    <tr style=\"text-align: right;\">\n",
       "      <th></th>\n",
       "      <th>new_euid</th>\n",
       "      <th>comm_npi</th>\n",
       "      <th>clusters_id</th>\n",
       "      <th>CLAIM_ID</th>\n",
       "      <th>TAPQ01</th>\n",
       "      <th>TAPQ02</th>\n",
       "      <th>TAPQ03</th>\n",
       "      <th>TAPQ05</th>\n",
       "      <th>TAPQ07</th>\n",
       "      <th>TAPQ08</th>\n",
       "      <th>TAPQ10</th>\n",
       "      <th>TAPQ11</th>\n",
       "      <th>TAPQ12</th>\n",
       "      <th>TAPQ13</th>\n",
       "      <th>TAPQ14</th>\n",
       "      <th>TAPQ15</th>\n",
       "      <th>TAPQ16</th>\n",
       "      <th>TAPQ90</th>\n",
       "      <th>TAPQ91</th>\n",
       "      <th>TAPQ92</th>\n",
       "    </tr>\n",
       "  </thead>\n",
       "  <tbody>\n",
       "    <tr>\n",
       "      <th>2</th>\n",
       "      <td>187443</td>\n",
       "      <td>6</td>\n",
       "      <td>21</td>\n",
       "      <td>133470BKHP00</td>\n",
       "      <td>0.0</td>\n",
       "      <td>0.0</td>\n",
       "      <td>0.0</td>\n",
       "      <td>0.0</td>\n",
       "      <td>0.0</td>\n",
       "      <td>0.0</td>\n",
       "      <td>0.0</td>\n",
       "      <td>0.0</td>\n",
       "      <td>0.0</td>\n",
       "      <td>0.0</td>\n",
       "      <td>1.0</td>\n",
       "      <td>0.0</td>\n",
       "      <td>0.0</td>\n",
       "      <td>1.0</td>\n",
       "      <td>0.0</td>\n",
       "      <td>1.0</td>\n",
       "    </tr>\n",
       "    <tr>\n",
       "      <th>3</th>\n",
       "      <td>187443</td>\n",
       "      <td>6</td>\n",
       "      <td>21</td>\n",
       "      <td>133470BJRS00</td>\n",
       "      <td>0.0</td>\n",
       "      <td>0.0</td>\n",
       "      <td>0.0</td>\n",
       "      <td>0.0</td>\n",
       "      <td>0.0</td>\n",
       "      <td>0.0</td>\n",
       "      <td>0.0</td>\n",
       "      <td>0.0</td>\n",
       "      <td>0.0</td>\n",
       "      <td>0.0</td>\n",
       "      <td>1.0</td>\n",
       "      <td>0.0</td>\n",
       "      <td>0.0</td>\n",
       "      <td>1.0</td>\n",
       "      <td>0.0</td>\n",
       "      <td>1.0</td>\n",
       "    </tr>\n",
       "    <tr>\n",
       "      <th>4</th>\n",
       "      <td>187443</td>\n",
       "      <td>6</td>\n",
       "      <td>21</td>\n",
       "      <td>1333000G0Q00</td>\n",
       "      <td>0.0</td>\n",
       "      <td>0.0</td>\n",
       "      <td>0.0</td>\n",
       "      <td>0.0</td>\n",
       "      <td>0.0</td>\n",
       "      <td>0.0</td>\n",
       "      <td>0.0</td>\n",
       "      <td>0.0</td>\n",
       "      <td>0.0</td>\n",
       "      <td>0.0</td>\n",
       "      <td>0.0</td>\n",
       "      <td>0.0</td>\n",
       "      <td>0.0</td>\n",
       "      <td>0.0</td>\n",
       "      <td>0.0</td>\n",
       "      <td>0.0</td>\n",
       "    </tr>\n",
       "    <tr>\n",
       "      <th>5</th>\n",
       "      <td>187443</td>\n",
       "      <td>6</td>\n",
       "      <td>21</td>\n",
       "      <td>133180CCRV01</td>\n",
       "      <td>0.0</td>\n",
       "      <td>0.0</td>\n",
       "      <td>0.0</td>\n",
       "      <td>0.0</td>\n",
       "      <td>1.0</td>\n",
       "      <td>0.0</td>\n",
       "      <td>0.0</td>\n",
       "      <td>0.0</td>\n",
       "      <td>0.0</td>\n",
       "      <td>0.0</td>\n",
       "      <td>1.0</td>\n",
       "      <td>0.0</td>\n",
       "      <td>0.0</td>\n",
       "      <td>1.0</td>\n",
       "      <td>0.0</td>\n",
       "      <td>1.0</td>\n",
       "    </tr>\n",
       "    <tr>\n",
       "      <th>6</th>\n",
       "      <td>187443</td>\n",
       "      <td>6</td>\n",
       "      <td>21</td>\n",
       "      <td>1331200TRS00</td>\n",
       "      <td>0.0</td>\n",
       "      <td>0.0</td>\n",
       "      <td>0.0</td>\n",
       "      <td>0.0</td>\n",
       "      <td>0.0</td>\n",
       "      <td>0.0</td>\n",
       "      <td>0.0</td>\n",
       "      <td>0.0</td>\n",
       "      <td>0.0</td>\n",
       "      <td>0.0</td>\n",
       "      <td>0.0</td>\n",
       "      <td>0.0</td>\n",
       "      <td>0.0</td>\n",
       "      <td>0.0</td>\n",
       "      <td>0.0</td>\n",
       "      <td>0.0</td>\n",
       "    </tr>\n",
       "  </tbody>\n",
       "</table>\n",
       "</div>"
      ],
      "text/plain": [
       "  new_euid  comm_npi  clusters_id      CLAIM_ID  TAPQ01  TAPQ02  TAPQ03  \\\n",
       "2   187443         6           21  133470BKHP00     0.0     0.0     0.0   \n",
       "3   187443         6           21  133470BJRS00     0.0     0.0     0.0   \n",
       "4   187443         6           21  1333000G0Q00     0.0     0.0     0.0   \n",
       "5   187443         6           21  133180CCRV01     0.0     0.0     0.0   \n",
       "6   187443         6           21  1331200TRS00     0.0     0.0     0.0   \n",
       "\n",
       "   TAPQ05  TAPQ07  TAPQ08  TAPQ10  TAPQ11  TAPQ12  TAPQ13  TAPQ14  TAPQ15  \\\n",
       "2     0.0     0.0     0.0     0.0     0.0     0.0     0.0     1.0     0.0   \n",
       "3     0.0     0.0     0.0     0.0     0.0     0.0     0.0     1.0     0.0   \n",
       "4     0.0     0.0     0.0     0.0     0.0     0.0     0.0     0.0     0.0   \n",
       "5     0.0     1.0     0.0     0.0     0.0     0.0     0.0     1.0     0.0   \n",
       "6     0.0     0.0     0.0     0.0     0.0     0.0     0.0     0.0     0.0   \n",
       "\n",
       "   TAPQ16  TAPQ90  TAPQ91  TAPQ92  \n",
       "2     0.0     1.0     0.0     1.0  \n",
       "3     0.0     1.0     0.0     1.0  \n",
       "4     0.0     0.0     0.0     0.0  \n",
       "5     0.0     1.0     0.0     1.0  \n",
       "6     0.0     0.0     0.0     0.0  "
      ]
     },
     "execution_count": 96,
     "metadata": {},
     "output_type": "execute_result"
    }
   ],
   "source": [
    "euid_npi_cluster_pqi_725=euid_npi_cluster_pqi[euid_npi_cluster_pqi['CLAIM_ID'].notnull()]\n",
    "euid_npi_cluster_pqi_725.head()"
   ]
  },
  {
   "cell_type": "code",
   "execution_count": 97,
   "metadata": {
    "collapsed": false
   },
   "outputs": [
    {
     "data": {
      "text/html": [
       "<div>\n",
       "<table border=\"1\" class=\"dataframe\">\n",
       "  <thead>\n",
       "    <tr style=\"text-align: right;\">\n",
       "      <th></th>\n",
       "      <th>comm_npi</th>\n",
       "      <th>clusters_id</th>\n",
       "      <th>new_euid</th>\n",
       "    </tr>\n",
       "  </thead>\n",
       "  <tbody>\n",
       "    <tr>\n",
       "      <th>0</th>\n",
       "      <td>1</td>\n",
       "      <td>16</td>\n",
       "      <td>11</td>\n",
       "    </tr>\n",
       "    <tr>\n",
       "      <th>1</th>\n",
       "      <td>1</td>\n",
       "      <td>21</td>\n",
       "      <td>10</td>\n",
       "    </tr>\n",
       "  </tbody>\n",
       "</table>\n",
       "</div>"
      ],
      "text/plain": [
       "   comm_npi  clusters_id  new_euid\n",
       "0         1           16        11\n",
       "1         1           21        10"
      ]
     },
     "execution_count": 97,
     "metadata": {},
     "output_type": "execute_result"
    }
   ],
   "source": [
    "euid_npi_cluster_pqi_725_grp=euid_npi_cluster_pqi_725.groupby(['comm_npi','clusters_id']).agg({'new_euid':pd.Series.nunique})\n",
    "euid_npi_cluster_pqi_725_grp.reset_index(inplace=True)\n",
    "euid_npi_cluster_pqi_725_grp[:2]  "
   ]
  },
  {
   "cell_type": "code",
   "execution_count": 118,
   "metadata": {
    "collapsed": false
   },
   "outputs": [
    {
     "data": {
      "text/html": [
       "<div>\n",
       "<table border=\"1\" class=\"dataframe\">\n",
       "  <thead>\n",
       "    <tr style=\"text-align: right;\">\n",
       "      <th></th>\n",
       "      <th>comm_npi</th>\n",
       "      <th>clusters_id</th>\n",
       "      <th>CLAIM_ID</th>\n",
       "    </tr>\n",
       "  </thead>\n",
       "  <tbody>\n",
       "    <tr>\n",
       "      <th>0</th>\n",
       "      <td>1</td>\n",
       "      <td>16</td>\n",
       "      <td>102</td>\n",
       "    </tr>\n",
       "    <tr>\n",
       "      <th>1</th>\n",
       "      <td>1</td>\n",
       "      <td>21</td>\n",
       "      <td>127</td>\n",
       "    </tr>\n",
       "  </tbody>\n",
       "</table>\n",
       "</div>"
      ],
      "text/plain": [
       "   comm_npi  clusters_id  CLAIM_ID\n",
       "0         1           16       102\n",
       "1         1           21       127"
      ]
     },
     "execution_count": 118,
     "metadata": {},
     "output_type": "execute_result"
    }
   ],
   "source": [
    "euid_npi_cluster_pqi_725_claim_grp=euid_npi_cluster_pqi_725.groupby(['comm_npi','clusters_id']).agg({'CLAIM_ID':pd.Series.nunique})\n",
    "euid_npi_cluster_pqi_725_claim_grp.reset_index(inplace=True)\n",
    "euid_npi_cluster_pqi_725_claim_grp[:2]  "
   ]
  },
  {
   "cell_type": "code",
   "execution_count": 120,
   "metadata": {
    "collapsed": false
   },
   "outputs": [],
   "source": [
    "clust_comm_claim= euid_npi_cluster_pqi_725_claim_grp.pivot(index='comm_npi',columns='clusters_id',values='CLAIM_ID')\n",
    "clust_comm_claim['Total_Claims']=clust_comm_claim.sum(axis=1) \n",
    "clust_comm_claim.loc['Total_Claims']=clust_comm_claim.sum()\n",
    "clust_comm_claim.to_csv(\"clust_comm_claim.csv\")"
   ]
  },
  {
   "cell_type": "code",
   "execution_count": null,
   "metadata": {
    "collapsed": true
   },
   "outputs": [],
   "source": []
  },
  {
   "cell_type": "code",
   "execution_count": 98,
   "metadata": {
    "collapsed": false
   },
   "outputs": [
    {
     "data": {
      "text/html": [
       "<div>\n",
       "<table border=\"1\" class=\"dataframe\">\n",
       "  <thead>\n",
       "    <tr style=\"text-align: right;\">\n",
       "      <th>clusters_id</th>\n",
       "      <th>16</th>\n",
       "      <th>21</th>\n",
       "      <th>25</th>\n",
       "      <th>26</th>\n",
       "      <th>28</th>\n",
       "      <th>32</th>\n",
       "      <th>34</th>\n",
       "      <th>37</th>\n",
       "      <th>38</th>\n",
       "      <th>39</th>\n",
       "      <th>40</th>\n",
       "      <th>47</th>\n",
       "      <th>Total_Patients</th>\n",
       "    </tr>\n",
       "    <tr>\n",
       "      <th>comm_npi</th>\n",
       "      <th></th>\n",
       "      <th></th>\n",
       "      <th></th>\n",
       "      <th></th>\n",
       "      <th></th>\n",
       "      <th></th>\n",
       "      <th></th>\n",
       "      <th></th>\n",
       "      <th></th>\n",
       "      <th></th>\n",
       "      <th></th>\n",
       "      <th></th>\n",
       "      <th></th>\n",
       "    </tr>\n",
       "  </thead>\n",
       "  <tbody>\n",
       "    <tr>\n",
       "      <th>1</th>\n",
       "      <td>11.0</td>\n",
       "      <td>10.0</td>\n",
       "      <td>47.0</td>\n",
       "      <td>6.0</td>\n",
       "      <td>2.0</td>\n",
       "      <td>12.0</td>\n",
       "      <td>21.0</td>\n",
       "      <td>12.0</td>\n",
       "      <td>5.0</td>\n",
       "      <td>4.0</td>\n",
       "      <td>17.0</td>\n",
       "      <td>56.0</td>\n",
       "      <td>203.0</td>\n",
       "    </tr>\n",
       "    <tr>\n",
       "      <th>2</th>\n",
       "      <td>5.0</td>\n",
       "      <td>15.0</td>\n",
       "      <td>42.0</td>\n",
       "      <td>5.0</td>\n",
       "      <td>2.0</td>\n",
       "      <td>13.0</td>\n",
       "      <td>9.0</td>\n",
       "      <td>15.0</td>\n",
       "      <td>6.0</td>\n",
       "      <td>10.0</td>\n",
       "      <td>11.0</td>\n",
       "      <td>29.0</td>\n",
       "      <td>162.0</td>\n",
       "    </tr>\n",
       "    <tr>\n",
       "      <th>3</th>\n",
       "      <td>5.0</td>\n",
       "      <td>11.0</td>\n",
       "      <td>32.0</td>\n",
       "      <td>2.0</td>\n",
       "      <td>1.0</td>\n",
       "      <td>8.0</td>\n",
       "      <td>15.0</td>\n",
       "      <td>15.0</td>\n",
       "      <td>5.0</td>\n",
       "      <td>5.0</td>\n",
       "      <td>3.0</td>\n",
       "      <td>48.0</td>\n",
       "      <td>150.0</td>\n",
       "    </tr>\n",
       "    <tr>\n",
       "      <th>4</th>\n",
       "      <td>2.0</td>\n",
       "      <td>4.0</td>\n",
       "      <td>6.0</td>\n",
       "      <td>1.0</td>\n",
       "      <td>2.0</td>\n",
       "      <td>2.0</td>\n",
       "      <td>8.0</td>\n",
       "      <td>1.0</td>\n",
       "      <td>2.0</td>\n",
       "      <td>2.0</td>\n",
       "      <td>4.0</td>\n",
       "      <td>14.0</td>\n",
       "      <td>48.0</td>\n",
       "    </tr>\n",
       "    <tr>\n",
       "      <th>5</th>\n",
       "      <td>4.0</td>\n",
       "      <td>12.0</td>\n",
       "      <td>16.0</td>\n",
       "      <td>1.0</td>\n",
       "      <td>NaN</td>\n",
       "      <td>11.0</td>\n",
       "      <td>10.0</td>\n",
       "      <td>9.0</td>\n",
       "      <td>3.0</td>\n",
       "      <td>7.0</td>\n",
       "      <td>8.0</td>\n",
       "      <td>27.0</td>\n",
       "      <td>108.0</td>\n",
       "    </tr>\n",
       "    <tr>\n",
       "      <th>6</th>\n",
       "      <td>5.0</td>\n",
       "      <td>3.0</td>\n",
       "      <td>10.0</td>\n",
       "      <td>NaN</td>\n",
       "      <td>NaN</td>\n",
       "      <td>5.0</td>\n",
       "      <td>7.0</td>\n",
       "      <td>4.0</td>\n",
       "      <td>1.0</td>\n",
       "      <td>1.0</td>\n",
       "      <td>2.0</td>\n",
       "      <td>16.0</td>\n",
       "      <td>54.0</td>\n",
       "    </tr>\n",
       "    <tr>\n",
       "      <th>Total</th>\n",
       "      <td>32.0</td>\n",
       "      <td>55.0</td>\n",
       "      <td>153.0</td>\n",
       "      <td>15.0</td>\n",
       "      <td>7.0</td>\n",
       "      <td>51.0</td>\n",
       "      <td>70.0</td>\n",
       "      <td>56.0</td>\n",
       "      <td>22.0</td>\n",
       "      <td>29.0</td>\n",
       "      <td>45.0</td>\n",
       "      <td>190.0</td>\n",
       "      <td>725.0</td>\n",
       "    </tr>\n",
       "  </tbody>\n",
       "</table>\n",
       "</div>"
      ],
      "text/plain": [
       "clusters_id    16    21     25    26   28    32    34    37    38    39    40  \\\n",
       "comm_npi                                                                        \n",
       "1            11.0  10.0   47.0   6.0  2.0  12.0  21.0  12.0   5.0   4.0  17.0   \n",
       "2             5.0  15.0   42.0   5.0  2.0  13.0   9.0  15.0   6.0  10.0  11.0   \n",
       "3             5.0  11.0   32.0   2.0  1.0   8.0  15.0  15.0   5.0   5.0   3.0   \n",
       "4             2.0   4.0    6.0   1.0  2.0   2.0   8.0   1.0   2.0   2.0   4.0   \n",
       "5             4.0  12.0   16.0   1.0  NaN  11.0  10.0   9.0   3.0   7.0   8.0   \n",
       "6             5.0   3.0   10.0   NaN  NaN   5.0   7.0   4.0   1.0   1.0   2.0   \n",
       "Total        32.0  55.0  153.0  15.0  7.0  51.0  70.0  56.0  22.0  29.0  45.0   \n",
       "\n",
       "clusters_id     47  Total_Patients  \n",
       "comm_npi                            \n",
       "1             56.0           203.0  \n",
       "2             29.0           162.0  \n",
       "3             48.0           150.0  \n",
       "4             14.0            48.0  \n",
       "5             27.0           108.0  \n",
       "6             16.0            54.0  \n",
       "Total        190.0           725.0  "
      ]
     },
     "execution_count": 98,
     "metadata": {},
     "output_type": "execute_result"
    }
   ],
   "source": [
    "clust_comm= euid_npi_cluster_pqi_725_grp.pivot(index='comm_npi',columns='clusters_id',values='new_euid')\n",
    "clust_comm['Total_Patients']=clust_comm.sum(axis=1) \n",
    "clust_comm.loc['Total']=clust_comm.sum()\n",
    "clust_comm "
   ]
  },
  {
   "cell_type": "code",
   "execution_count": 99,
   "metadata": {
    "collapsed": true
   },
   "outputs": [],
   "source": [
    "# clust_comm.to_csv(\"725_cluster_community_distribution.csv\")"
   ]
  },
  {
   "cell_type": "markdown",
   "metadata": {},
   "source": [
    "### Analyzing PQI 1"
   ]
  },
  {
   "cell_type": "code",
   "execution_count": 100,
   "metadata": {
    "collapsed": false
   },
   "outputs": [
    {
     "data": {
      "text/html": [
       "<div>\n",
       "<table border=\"1\" class=\"dataframe\">\n",
       "  <thead>\n",
       "    <tr style=\"text-align: right;\">\n",
       "      <th></th>\n",
       "      <th>new_euid</th>\n",
       "      <th>comm_npi</th>\n",
       "      <th>clusters_id</th>\n",
       "      <th>CLAIM_ID</th>\n",
       "      <th>TAPQ01</th>\n",
       "      <th>TAPQ02</th>\n",
       "      <th>TAPQ03</th>\n",
       "      <th>TAPQ05</th>\n",
       "      <th>TAPQ07</th>\n",
       "      <th>TAPQ08</th>\n",
       "      <th>TAPQ10</th>\n",
       "      <th>TAPQ11</th>\n",
       "      <th>TAPQ12</th>\n",
       "      <th>TAPQ13</th>\n",
       "      <th>TAPQ14</th>\n",
       "      <th>TAPQ15</th>\n",
       "      <th>TAPQ16</th>\n",
       "      <th>TAPQ90</th>\n",
       "      <th>TAPQ91</th>\n",
       "      <th>TAPQ92</th>\n",
       "    </tr>\n",
       "  </thead>\n",
       "  <tbody>\n",
       "    <tr>\n",
       "      <th>2</th>\n",
       "      <td>187443</td>\n",
       "      <td>6</td>\n",
       "      <td>21</td>\n",
       "      <td>133470BKHP00</td>\n",
       "      <td>0.0</td>\n",
       "      <td>0.0</td>\n",
       "      <td>0.0</td>\n",
       "      <td>0.0</td>\n",
       "      <td>0.0</td>\n",
       "      <td>0.0</td>\n",
       "      <td>0.0</td>\n",
       "      <td>0.0</td>\n",
       "      <td>0.0</td>\n",
       "      <td>0.0</td>\n",
       "      <td>1.0</td>\n",
       "      <td>0.0</td>\n",
       "      <td>0.0</td>\n",
       "      <td>1.0</td>\n",
       "      <td>0.0</td>\n",
       "      <td>1.0</td>\n",
       "    </tr>\n",
       "    <tr>\n",
       "      <th>3</th>\n",
       "      <td>187443</td>\n",
       "      <td>6</td>\n",
       "      <td>21</td>\n",
       "      <td>133470BJRS00</td>\n",
       "      <td>0.0</td>\n",
       "      <td>0.0</td>\n",
       "      <td>0.0</td>\n",
       "      <td>0.0</td>\n",
       "      <td>0.0</td>\n",
       "      <td>0.0</td>\n",
       "      <td>0.0</td>\n",
       "      <td>0.0</td>\n",
       "      <td>0.0</td>\n",
       "      <td>0.0</td>\n",
       "      <td>1.0</td>\n",
       "      <td>0.0</td>\n",
       "      <td>0.0</td>\n",
       "      <td>1.0</td>\n",
       "      <td>0.0</td>\n",
       "      <td>1.0</td>\n",
       "    </tr>\n",
       "    <tr>\n",
       "      <th>4</th>\n",
       "      <td>187443</td>\n",
       "      <td>6</td>\n",
       "      <td>21</td>\n",
       "      <td>1333000G0Q00</td>\n",
       "      <td>0.0</td>\n",
       "      <td>0.0</td>\n",
       "      <td>0.0</td>\n",
       "      <td>0.0</td>\n",
       "      <td>0.0</td>\n",
       "      <td>0.0</td>\n",
       "      <td>0.0</td>\n",
       "      <td>0.0</td>\n",
       "      <td>0.0</td>\n",
       "      <td>0.0</td>\n",
       "      <td>0.0</td>\n",
       "      <td>0.0</td>\n",
       "      <td>0.0</td>\n",
       "      <td>0.0</td>\n",
       "      <td>0.0</td>\n",
       "      <td>0.0</td>\n",
       "    </tr>\n",
       "    <tr>\n",
       "      <th>5</th>\n",
       "      <td>187443</td>\n",
       "      <td>6</td>\n",
       "      <td>21</td>\n",
       "      <td>133180CCRV01</td>\n",
       "      <td>0.0</td>\n",
       "      <td>0.0</td>\n",
       "      <td>0.0</td>\n",
       "      <td>0.0</td>\n",
       "      <td>1.0</td>\n",
       "      <td>0.0</td>\n",
       "      <td>0.0</td>\n",
       "      <td>0.0</td>\n",
       "      <td>0.0</td>\n",
       "      <td>0.0</td>\n",
       "      <td>1.0</td>\n",
       "      <td>0.0</td>\n",
       "      <td>0.0</td>\n",
       "      <td>1.0</td>\n",
       "      <td>0.0</td>\n",
       "      <td>1.0</td>\n",
       "    </tr>\n",
       "    <tr>\n",
       "      <th>6</th>\n",
       "      <td>187443</td>\n",
       "      <td>6</td>\n",
       "      <td>21</td>\n",
       "      <td>1331200TRS00</td>\n",
       "      <td>0.0</td>\n",
       "      <td>0.0</td>\n",
       "      <td>0.0</td>\n",
       "      <td>0.0</td>\n",
       "      <td>0.0</td>\n",
       "      <td>0.0</td>\n",
       "      <td>0.0</td>\n",
       "      <td>0.0</td>\n",
       "      <td>0.0</td>\n",
       "      <td>0.0</td>\n",
       "      <td>0.0</td>\n",
       "      <td>0.0</td>\n",
       "      <td>0.0</td>\n",
       "      <td>0.0</td>\n",
       "      <td>0.0</td>\n",
       "      <td>0.0</td>\n",
       "    </tr>\n",
       "  </tbody>\n",
       "</table>\n",
       "</div>"
      ],
      "text/plain": [
       "  new_euid  comm_npi  clusters_id      CLAIM_ID  TAPQ01  TAPQ02  TAPQ03  \\\n",
       "2   187443         6           21  133470BKHP00     0.0     0.0     0.0   \n",
       "3   187443         6           21  133470BJRS00     0.0     0.0     0.0   \n",
       "4   187443         6           21  1333000G0Q00     0.0     0.0     0.0   \n",
       "5   187443         6           21  133180CCRV01     0.0     0.0     0.0   \n",
       "6   187443         6           21  1331200TRS00     0.0     0.0     0.0   \n",
       "\n",
       "   TAPQ05  TAPQ07  TAPQ08  TAPQ10  TAPQ11  TAPQ12  TAPQ13  TAPQ14  TAPQ15  \\\n",
       "2     0.0     0.0     0.0     0.0     0.0     0.0     0.0     1.0     0.0   \n",
       "3     0.0     0.0     0.0     0.0     0.0     0.0     0.0     1.0     0.0   \n",
       "4     0.0     0.0     0.0     0.0     0.0     0.0     0.0     0.0     0.0   \n",
       "5     0.0     1.0     0.0     0.0     0.0     0.0     0.0     1.0     0.0   \n",
       "6     0.0     0.0     0.0     0.0     0.0     0.0     0.0     0.0     0.0   \n",
       "\n",
       "   TAPQ16  TAPQ90  TAPQ91  TAPQ92  \n",
       "2     0.0     1.0     0.0     1.0  \n",
       "3     0.0     1.0     0.0     1.0  \n",
       "4     0.0     0.0     0.0     0.0  \n",
       "5     0.0     1.0     0.0     1.0  \n",
       "6     0.0     0.0     0.0     0.0  "
      ]
     },
     "execution_count": 100,
     "metadata": {},
     "output_type": "execute_result"
    }
   ],
   "source": [
    "euid_npi_cluster_pqi_725.head()"
   ]
  },
  {
   "cell_type": "code",
   "execution_count": 116,
   "metadata": {
    "collapsed": true
   },
   "outputs": [],
   "source": [
    "euid_npi_cluster_pqi_725_PQI=euid_npi_cluster_pqi_725[euid_npi_cluster_pqi_725['TAPQ08']!=0.0].groupby(['comm_npi','clusters_id']).agg({'CLAIM_ID':pd.Series.nunique,'new_euid':pd.Series.nunique})\n",
    "euid_npi_cluster_pqi_725_PQI.reset_index(inplace=True) \n",
    "\n",
    "##Pivoting for claim\n",
    "clust_comm_claim= euid_npi_cluster_pqi_725_PQI.pivot(index='comm_npi',columns='clusters_id',values='CLAIM_ID')\n",
    "clust_comm_claim['Total_claims']=clust_comm_claim.sum(axis=1) \n",
    "clust_comm_claim.loc['Total_claims']=clust_comm_claim.sum()\n",
    "clust_comm_claim.to_csv(\"claim_pqi8.csv\")\n",
    "\n",
    " \n",
    "##Pivoting for new_euid \n",
    "clust_comm_euid= euid_npi_cluster_pqi_725_PQI.pivot(index='comm_npi',columns='clusters_id',values='new_euid')\n",
    "clust_comm_euid['Total_patients_with_claims']=clust_comm_euid.sum(axis=1) \n",
    "clust_comm_euid.loc['Total_patients_with_claims']=clust_comm_euid.sum()\n",
    "clust_comm_euid.to_csv(\"euid_pqi8.csv\") "
   ]
  },
  {
   "cell_type": "code",
   "execution_count": null,
   "metadata": {
    "collapsed": true
   },
   "outputs": [],
   "source": []
  }
 ],
 "metadata": {
  "kernelspec": {
   "display_name": "Python 2",
   "language": "python",
   "name": "python2"
  },
  "language_info": {
   "codemirror_mode": {
    "name": "ipython",
    "version": 2
   },
   "file_extension": ".py",
   "mimetype": "text/x-python",
   "name": "python",
   "nbconvert_exporter": "python",
   "pygments_lexer": "ipython2",
   "version": "2.7.11"
  }
 },
 "nbformat": 4,
 "nbformat_minor": 0
}
