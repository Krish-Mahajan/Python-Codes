{
 "cells": [
  {
   "cell_type": "code",
   "execution_count": 2,
   "metadata": {
    "collapsed": true
   },
   "outputs": [],
   "source": [
    "import pandas as pd \n",
    "import numpy  as np  \n",
    "import matplotlib.pyplot as plt\n",
    "from scipy.spatial.distance import pdist, squareform\n",
    "from scipy.cluster.hierarchy import linkage, dendrogram    \n",
    "import sys \n",
    "sys.setrecursionlimit(10000)  #increasing maximum recursion from 999 to 10K\n",
    "\n",
    "from scipy.cluster.hierarchy import dendrogram, fcluster, leaves_list\n",
    "from scipy.spatial import distance\n",
    "from fastcluster import linkage\n",
    "from sklearn.metrics.pairwise import pairwise_distances  \n",
    "from matplotlib import pyplot as plt\n",
    "from scipy.cluster.hierarchy import dendrogram, linkage , fcluster\n",
    "\n",
    "np.set_printoptions(precision=5, suppress=True)  # suppress scientific float notation \n",
    "\n",
    "import scipy.stats\n",
    "import math"
   ]
  },
  {
   "cell_type": "code",
   "execution_count": 147,
   "metadata": {
    "collapsed": false
   },
   "outputs": [
    {
     "data": {
      "text/html": [
       "<div>\n",
       "<table border=\"1\" class=\"dataframe\">\n",
       "  <thead>\n",
       "    <tr style=\"text-align: right;\">\n",
       "      <th></th>\n",
       "      <th>new_euid</th>\n",
       "      <th>CLAIM_ID</th>\n",
       "      <th>cli_dx1</th>\n",
       "      <th>cli_dx2</th>\n",
       "      <th>cli_dx3</th>\n",
       "      <th>cli_dx4</th>\n",
       "      <th>cli_dx1_ccs</th>\n",
       "      <th>cli_dx2_ccs</th>\n",
       "      <th>cli_dx3_ccs</th>\n",
       "      <th>cli_dx4_ccs</th>\n",
       "    </tr>\n",
       "  </thead>\n",
       "  <tbody>\n",
       "    <tr>\n",
       "      <th>0</th>\n",
       "      <td>0568848</td>\n",
       "      <td>140830BQR000</td>\n",
       "      <td>53081</td>\n",
       "      <td>NaN</td>\n",
       "      <td>NaN</td>\n",
       "      <td>NaN</td>\n",
       "      <td>138.0</td>\n",
       "      <td>NaN</td>\n",
       "      <td>NaN</td>\n",
       "      <td>NaN</td>\n",
       "    </tr>\n",
       "    <tr>\n",
       "      <th>1</th>\n",
       "      <td>0568848</td>\n",
       "      <td>141050B0JS00</td>\n",
       "      <td>60784</td>\n",
       "      <td>V252</td>\n",
       "      <td>NaN</td>\n",
       "      <td>NaN</td>\n",
       "      <td>166.0</td>\n",
       "      <td>176.0</td>\n",
       "      <td>NaN</td>\n",
       "      <td>NaN</td>\n",
       "    </tr>\n",
       "    <tr>\n",
       "      <th>2</th>\n",
       "      <td>0568848</td>\n",
       "      <td>1430000SKB00</td>\n",
       "      <td>V700</td>\n",
       "      <td>60784</td>\n",
       "      <td>79981</td>\n",
       "      <td>2724</td>\n",
       "      <td>256.0</td>\n",
       "      <td>166.0</td>\n",
       "      <td>259.0</td>\n",
       "      <td>53.0</td>\n",
       "    </tr>\n",
       "    <tr>\n",
       "      <th>3</th>\n",
       "      <td>0568848</td>\n",
       "      <td>1430000SKB00</td>\n",
       "      <td>V700</td>\n",
       "      <td>60784</td>\n",
       "      <td>79981</td>\n",
       "      <td>2724</td>\n",
       "      <td>256.0</td>\n",
       "      <td>166.0</td>\n",
       "      <td>259.0</td>\n",
       "      <td>53.0</td>\n",
       "    </tr>\n",
       "    <tr>\n",
       "      <th>4</th>\n",
       "      <td>0568848</td>\n",
       "      <td>143080BZCJ00</td>\n",
       "      <td>2572</td>\n",
       "      <td>60784</td>\n",
       "      <td>NaN</td>\n",
       "      <td>NaN</td>\n",
       "      <td>51.0</td>\n",
       "      <td>166.0</td>\n",
       "      <td>NaN</td>\n",
       "      <td>NaN</td>\n",
       "    </tr>\n",
       "  </tbody>\n",
       "</table>\n",
       "</div>"
      ],
      "text/plain": [
       "  new_euid      CLAIM_ID cli_dx1 cli_dx2 cli_dx3 cli_dx4  cli_dx1_ccs  \\\n",
       "0  0568848  140830BQR000   53081     NaN     NaN     NaN        138.0   \n",
       "1  0568848  141050B0JS00   60784    V252     NaN     NaN        166.0   \n",
       "2  0568848  1430000SKB00    V700   60784   79981    2724        256.0   \n",
       "3  0568848  1430000SKB00    V700   60784   79981    2724        256.0   \n",
       "4  0568848  143080BZCJ00    2572   60784     NaN     NaN         51.0   \n",
       "\n",
       "   cli_dx2_ccs  cli_dx3_ccs  cli_dx4_ccs  \n",
       "0          NaN          NaN          NaN  \n",
       "1        176.0          NaN          NaN  \n",
       "2        166.0        259.0         53.0  \n",
       "3        166.0        259.0         53.0  \n",
       "4        166.0          NaN          NaN  "
      ]
     },
     "execution_count": 147,
     "metadata": {},
     "output_type": "execute_result"
    }
   ],
   "source": [
    "fields=['new_euid','CLAIM_ID','cli_dx1','cli_dx2','cli_dx3','cli_dx4','cli_dx1_ccs','cli_dx2_ccs','cli_dx3_ccs','cli_dx4_ccs']\n",
    "type = {'new_euid':str,'CLAIM_ID':str,'cli_dx1':str,'cli_dx2':str,'cli_dx3':str,'cli_dx4':str,'cli_dx1_ccs':float,'cli_dx2_ccs':float,'cli_dx3_ccs':float,'cli_dx4_ccs':float,}\n",
    "multi_ccs=pd.read_csv(\"../Data/all_new.csv\",sep=\",\",usecols=fields,dtype=type) #i\n",
    "multi_ccs.head()"
   ]
  },
  {
   "cell_type": "code",
   "execution_count": 148,
   "metadata": {
    "collapsed": true
   },
   "outputs": [],
   "source": [
    "multi_ccs.head().to_csv(\"data_sample.csv\")"
   ]
  },
  {
   "cell_type": "code",
   "execution_count": 3,
   "metadata": {
    "collapsed": false
   },
   "outputs": [
    {
     "data": {
      "text/html": [
       "<div>\n",
       "<table border=\"1\" class=\"dataframe\">\n",
       "  <thead>\n",
       "    <tr style=\"text-align: right;\">\n",
       "      <th></th>\n",
       "      <th>new_euid</th>\n",
       "      <th>cli_dx1</th>\n",
       "      <th>cli_dx2</th>\n",
       "      <th>cli_dx3</th>\n",
       "      <th>cli_dx4</th>\n",
       "      <th>cli_dx1_ccs</th>\n",
       "      <th>cli_dx2_ccs</th>\n",
       "      <th>cli_dx3_ccs</th>\n",
       "      <th>cli_dx4_ccs</th>\n",
       "    </tr>\n",
       "  </thead>\n",
       "  <tbody>\n",
       "    <tr>\n",
       "      <th>0</th>\n",
       "      <td>0568848</td>\n",
       "      <td>53081</td>\n",
       "      <td>NaN</td>\n",
       "      <td>NaN</td>\n",
       "      <td>NaN</td>\n",
       "      <td>138.0</td>\n",
       "      <td>NaN</td>\n",
       "      <td>NaN</td>\n",
       "      <td>NaN</td>\n",
       "    </tr>\n",
       "    <tr>\n",
       "      <th>1</th>\n",
       "      <td>0568848</td>\n",
       "      <td>60784</td>\n",
       "      <td>V252</td>\n",
       "      <td>NaN</td>\n",
       "      <td>NaN</td>\n",
       "      <td>166.0</td>\n",
       "      <td>176.0</td>\n",
       "      <td>NaN</td>\n",
       "      <td>NaN</td>\n",
       "    </tr>\n",
       "    <tr>\n",
       "      <th>2</th>\n",
       "      <td>0568848</td>\n",
       "      <td>V700</td>\n",
       "      <td>60784</td>\n",
       "      <td>79981</td>\n",
       "      <td>2724</td>\n",
       "      <td>256.0</td>\n",
       "      <td>166.0</td>\n",
       "      <td>259.0</td>\n",
       "      <td>53.0</td>\n",
       "    </tr>\n",
       "    <tr>\n",
       "      <th>3</th>\n",
       "      <td>0568848</td>\n",
       "      <td>V700</td>\n",
       "      <td>60784</td>\n",
       "      <td>79981</td>\n",
       "      <td>2724</td>\n",
       "      <td>256.0</td>\n",
       "      <td>166.0</td>\n",
       "      <td>259.0</td>\n",
       "      <td>53.0</td>\n",
       "    </tr>\n",
       "    <tr>\n",
       "      <th>4</th>\n",
       "      <td>0568848</td>\n",
       "      <td>2572</td>\n",
       "      <td>60784</td>\n",
       "      <td>NaN</td>\n",
       "      <td>NaN</td>\n",
       "      <td>51.0</td>\n",
       "      <td>166.0</td>\n",
       "      <td>NaN</td>\n",
       "      <td>NaN</td>\n",
       "    </tr>\n",
       "  </tbody>\n",
       "</table>\n",
       "</div>"
      ],
      "text/plain": [
       "  new_euid cli_dx1 cli_dx2 cli_dx3 cli_dx4  cli_dx1_ccs  cli_dx2_ccs  \\\n",
       "0  0568848   53081     NaN     NaN     NaN        138.0          NaN   \n",
       "1  0568848   60784    V252     NaN     NaN        166.0        176.0   \n",
       "2  0568848    V700   60784   79981    2724        256.0        166.0   \n",
       "3  0568848    V700   60784   79981    2724        256.0        166.0   \n",
       "4  0568848    2572   60784     NaN     NaN         51.0        166.0   \n",
       "\n",
       "   cli_dx3_ccs  cli_dx4_ccs  \n",
       "0          NaN          NaN  \n",
       "1          NaN          NaN  \n",
       "2        259.0         53.0  \n",
       "3        259.0         53.0  \n",
       "4          NaN          NaN  "
      ]
     },
     "execution_count": 3,
     "metadata": {},
     "output_type": "execute_result"
    }
   ],
   "source": [
    "fields=['new_euid','cli_dx1','cli_dx2','cli_dx3','cli_dx4','cli_dx1_ccs','cli_dx2_ccs','cli_dx3_ccs','cli_dx4_ccs']\n",
    "type = {'new_euid':str,'cli_dx1':str,'cli_dx2':str,'cli_dx3':str,'cli_dx4':str,'cli_dx1_ccs':float,'cli_dx2_ccs':float,'cli_dx3_ccs':float,'cli_dx4_ccs':float,}\n",
    "multi_ccs=pd.read_csv(\"../Data/all_new.csv\",sep=\",\",usecols=fields,dtype=type) #i\n",
    "multi_ccs.head()  "
   ]
  },
  {
   "cell_type": "code",
   "execution_count": 142,
   "metadata": {
    "collapsed": false
   },
   "outputs": [
    {
     "data": {
      "text/plain": [
       "134054"
      ]
     },
     "execution_count": 142,
     "metadata": {},
     "output_type": "execute_result"
    }
   ],
   "source": [
    "len(multi_ccs['new_euid'].unique())"
   ]
  },
  {
   "cell_type": "code",
   "execution_count": 4,
   "metadata": {
    "collapsed": true
   },
   "outputs": [],
   "source": [
    "#CCS=49.0 Diabetic without complication.  \n",
    "#CCS=50.0 Diabetic with complication.\n",
    "multi_ccs_diabetic=multi_ccs[multi_ccs.cli_dx1_ccs.isin([50.0,49.0])| \n",
    "                     multi_ccs.cli_dx2_ccs.isin([50.0,49.0])|\n",
    "                     multi_ccs.cli_dx3_ccs.isin([50.0,49.0])|\n",
    "                     multi_ccs.cli_dx4_ccs.isin([50.0,49.0])\n",
    "                    ]   \n",
    "\n",
    "\n"
   ]
  },
  {
   "cell_type": "code",
   "execution_count": 10,
   "metadata": {
    "collapsed": true
   },
   "outputs": [],
   "source": [
    "multi_ccs_diabetic=multi_ccs_diabetic.ix[:,'new_euid':'cli_dx4']"
   ]
  },
  {
   "cell_type": "code",
   "execution_count": 12,
   "metadata": {
    "collapsed": false
   },
   "outputs": [
    {
     "data": {
      "text/plain": [
       "14845"
      ]
     },
     "execution_count": 12,
     "metadata": {},
     "output_type": "execute_result"
    }
   ],
   "source": [
    "len(multi_ccs_diabetic['new_euid'].unique()) #14845 unique() diabetic patients"
   ]
  },
  {
   "cell_type": "code",
   "execution_count": 81,
   "metadata": {
    "collapsed": false
   },
   "outputs": [
    {
     "name": "stdout",
     "output_type": "stream",
     "text": [
      "(15072, 3)\n"
     ]
    },
    {
     "data": {
      "text/html": [
       "<div>\n",
       "<table border=\"1\" class=\"dataframe\">\n",
       "  <thead>\n",
       "    <tr style=\"text-align: right;\">\n",
       "      <th></th>\n",
       "      <th>ICD-9-CM-CODE</th>\n",
       "      <th>CCS-LVL-1</th>\n",
       "      <th>Desc</th>\n",
       "    </tr>\n",
       "  </thead>\n",
       "  <tbody>\n",
       "    <tr>\n",
       "      <th>0</th>\n",
       "      <td>01000</td>\n",
       "      <td>1</td>\n",
       "      <td>Infectious and parasitic diseases</td>\n",
       "    </tr>\n",
       "    <tr>\n",
       "      <th>1</th>\n",
       "      <td>01001</td>\n",
       "      <td>1</td>\n",
       "      <td>Infectious and parasitic diseases</td>\n",
       "    </tr>\n",
       "    <tr>\n",
       "      <th>2</th>\n",
       "      <td>01002</td>\n",
       "      <td>1</td>\n",
       "      <td>Infectious and parasitic diseases</td>\n",
       "    </tr>\n",
       "    <tr>\n",
       "      <th>3</th>\n",
       "      <td>01003</td>\n",
       "      <td>1</td>\n",
       "      <td>Infectious and parasitic diseases</td>\n",
       "    </tr>\n",
       "    <tr>\n",
       "      <th>4</th>\n",
       "      <td>01004</td>\n",
       "      <td>1</td>\n",
       "      <td>Infectious and parasitic diseases</td>\n",
       "    </tr>\n",
       "  </tbody>\n",
       "</table>\n",
       "</div>"
      ],
      "text/plain": [
       "  ICD-9-CM-CODE  CCS-LVL-1                               Desc\n",
       "0         01000          1  Infectious and parasitic diseases\n",
       "1         01001          1  Infectious and parasitic diseases\n",
       "2         01002          1  Infectious and parasitic diseases\n",
       "3         01003          1  Infectious and parasitic diseases\n",
       "4         01004          1  Infectious and parasitic diseases"
      ]
     },
     "execution_count": 81,
     "metadata": {},
     "output_type": "execute_result"
    }
   ],
   "source": [
    "##reading Multi Level CCS file\n",
    "ccs_level_1=pd.read_csv(\"../Data/multi_level_ccs_diag.csv\",dtype={'ICD-9-CM-CODE':str})\n",
    "print(ccs_level_1.shape)\n",
    "ccs_level_1.head() "
   ]
  },
  {
   "cell_type": "code",
   "execution_count": 82,
   "metadata": {
    "collapsed": false
   },
   "outputs": [],
   "source": [
    "ccs_level_1['ccs_code']=\"CCS\"+ccs_level_1['CCS-LVL-1'].map(str) #Adding CCS codes"
   ]
  },
  {
   "cell_type": "code",
   "execution_count": 7,
   "metadata": {
    "collapsed": true
   },
   "outputs": [],
   "source": [
    "## stripping white spaces in ccs_level_mapping\n",
    "ccs_level_1['ICD-9-CM-CODE']=ccs_level_1['ICD-9-CM-CODE'].map(lambda x:x.strip())"
   ]
  },
  {
   "cell_type": "code",
   "execution_count": 27,
   "metadata": {
    "collapsed": true
   },
   "outputs": [],
   "source": [
    "## Merging ccs_level_mapping with diabetic patients\n",
    "x=pd.merge(ccs_level_1,multi_ccs_diabetic,left_on='ICD-9-CM-CODE',right_on='cli_dx1',how='right')\n",
    "del x['ICD-9-CM-CODE']\n",
    "x=x.rename(columns={'CCS-LVL-1':'ccs_dx1'})\n",
    "\n",
    "## Merging ccs_level_mapping with diabetic patients\n",
    "x=pd.merge(ccs_level_1,x,left_on='ICD-9-CM-CODE',right_on='cli_dx2',how='right')\n",
    "del x['ICD-9-CM-CODE']\n",
    "x=x.rename(columns={'CCS-LVL-1':'ccs_dx2'})  \n",
    "\n",
    "\n",
    "\n",
    "## Merging ccs_level_mapping with diabetic patients\n",
    "x=pd.merge(ccs_level_1,x,left_on='ICD-9-CM-CODE',right_on='cli_dx3',how='right')\n",
    "del x['ICD-9-CM-CODE']\n",
    "x=x.rename(columns={'CCS-LVL-1':'ccs_dx3'})  \n",
    "\n",
    "## Merging ccs_level_mapping with diabetic patients\n",
    "x=pd.merge(ccs_level_1,x,left_on='ICD-9-CM-CODE',right_on='cli_dx4',how='right')\n",
    "del x['ICD-9-CM-CODE']\n",
    "x=x.rename(columns={'CCS-LVL-1':'ccs_dx4'})"
   ]
  },
  {
   "cell_type": "code",
   "execution_count": 58,
   "metadata": {
    "collapsed": false
   },
   "outputs": [
    {
     "data": {
      "text/html": [
       "<div>\n",
       "<table border=\"1\" class=\"dataframe\">\n",
       "  <thead>\n",
       "    <tr style=\"text-align: right;\">\n",
       "      <th></th>\n",
       "      <th>ccs_dx4</th>\n",
       "      <th>ccs_dx3</th>\n",
       "      <th>ccs_dx2</th>\n",
       "      <th>ccs_dx1</th>\n",
       "      <th>new_euid</th>\n",
       "      <th>cli_dx1</th>\n",
       "      <th>cli_dx2</th>\n",
       "      <th>cli_dx3</th>\n",
       "      <th>cli_dx4</th>\n",
       "    </tr>\n",
       "  </thead>\n",
       "  <tbody>\n",
       "    <tr>\n",
       "      <th>0</th>\n",
       "      <td>1.0</td>\n",
       "      <td>8.0</td>\n",
       "      <td>3.0</td>\n",
       "      <td>8</td>\n",
       "      <td>0002922</td>\n",
       "      <td>486</td>\n",
       "      <td>25000</td>\n",
       "      <td>49121</td>\n",
       "      <td>0389</td>\n",
       "    </tr>\n",
       "    <tr>\n",
       "      <th>1</th>\n",
       "      <td>1.0</td>\n",
       "      <td>13.0</td>\n",
       "      <td>12.0</td>\n",
       "      <td>3</td>\n",
       "      <td>0378589</td>\n",
       "      <td>25080</td>\n",
       "      <td>6868</td>\n",
       "      <td>73027</td>\n",
       "      <td>0389</td>\n",
       "    </tr>\n",
       "    <tr>\n",
       "      <th>2</th>\n",
       "      <td>1.0</td>\n",
       "      <td>17.0</td>\n",
       "      <td>3.0</td>\n",
       "      <td>3</td>\n",
       "      <td>0202285</td>\n",
       "      <td>25060</td>\n",
       "      <td>261</td>\n",
       "      <td>78559</td>\n",
       "      <td>0389</td>\n",
       "    </tr>\n",
       "    <tr>\n",
       "      <th>3</th>\n",
       "      <td>1.0</td>\n",
       "      <td>17.0</td>\n",
       "      <td>3.0</td>\n",
       "      <td>3</td>\n",
       "      <td>0202285</td>\n",
       "      <td>25060</td>\n",
       "      <td>261</td>\n",
       "      <td>78559</td>\n",
       "      <td>0389</td>\n",
       "    </tr>\n",
       "    <tr>\n",
       "      <th>4</th>\n",
       "      <td>1.0</td>\n",
       "      <td>1.0</td>\n",
       "      <td>7.0</td>\n",
       "      <td>3</td>\n",
       "      <td>0363900</td>\n",
       "      <td>25002</td>\n",
       "      <td>4149</td>\n",
       "      <td>04112</td>\n",
       "      <td>7907</td>\n",
       "    </tr>\n",
       "  </tbody>\n",
       "</table>\n",
       "</div>"
      ],
      "text/plain": [
       "   ccs_dx4  ccs_dx3  ccs_dx2  ccs_dx1 new_euid cli_dx1 cli_dx2 cli_dx3 cli_dx4\n",
       "0      1.0      8.0      3.0        8  0002922     486   25000   49121    0389\n",
       "1      1.0     13.0     12.0        3  0378589   25080    6868   73027    0389\n",
       "2      1.0     17.0      3.0        3  0202285   25060     261   78559    0389\n",
       "3      1.0     17.0      3.0        3  0202285   25060     261   78559    0389\n",
       "4      1.0      1.0      7.0        3  0363900   25002    4149   04112    7907"
      ]
     },
     "execution_count": 58,
     "metadata": {},
     "output_type": "execute_result"
    }
   ],
   "source": [
    "x.head()"
   ]
  },
  {
   "cell_type": "code",
   "execution_count": 59,
   "metadata": {
    "collapsed": false
   },
   "outputs": [
    {
     "data": {
      "text/plain": [
       "ccs_dx4     67257\n",
       "ccs_dx3     52032\n",
       "ccs_dx2     37588\n",
       "ccs_dx1         0\n",
       "new_euid        0\n",
       "cli_dx1         0\n",
       "cli_dx2     37583\n",
       "cli_dx3     52018\n",
       "cli_dx4     67256\n",
       "dtype: int64"
      ]
     },
     "execution_count": 59,
     "metadata": {},
     "output_type": "execute_result"
    }
   ],
   "source": [
    "x.isnull().sum() ##Right Mapping"
   ]
  },
  {
   "cell_type": "code",
   "execution_count": 61,
   "metadata": {
    "collapsed": false
   },
   "outputs": [
    {
     "name": "stdout",
     "output_type": "stream",
     "text": [
      "(96238, 9)\n",
      "(96238, 5)\n"
     ]
    }
   ],
   "source": [
    "print(x.shape)\n",
    "print(multi_ccs_diabetic.shape)"
   ]
  },
  {
   "cell_type": "markdown",
   "metadata": {},
   "source": [
    "# Making Binary Matrix"
   ]
  },
  {
   "cell_type": "code",
   "execution_count": 64,
   "metadata": {
    "collapsed": true
   },
   "outputs": [],
   "source": [
    "all_diabetic=x \n",
    "all_diabetic=all_diabetic.fillna(0)  \n",
    "all_diabetic=all_diabetic.ix[:,'ccs_dx4':'new_euid']"
   ]
  },
  {
   "cell_type": "code",
   "execution_count": 65,
   "metadata": {
    "collapsed": false
   },
   "outputs": [
    {
     "data": {
      "text/html": [
       "<div>\n",
       "<table border=\"1\" class=\"dataframe\">\n",
       "  <thead>\n",
       "    <tr style=\"text-align: right;\">\n",
       "      <th></th>\n",
       "      <th>ccs_dx4</th>\n",
       "      <th>ccs_dx3</th>\n",
       "      <th>ccs_dx2</th>\n",
       "      <th>ccs_dx1</th>\n",
       "      <th>new_euid</th>\n",
       "    </tr>\n",
       "  </thead>\n",
       "  <tbody>\n",
       "    <tr>\n",
       "      <th>0</th>\n",
       "      <td>1</td>\n",
       "      <td>8</td>\n",
       "      <td>3</td>\n",
       "      <td>8</td>\n",
       "      <td>0002922</td>\n",
       "    </tr>\n",
       "    <tr>\n",
       "      <th>1</th>\n",
       "      <td>1</td>\n",
       "      <td>13</td>\n",
       "      <td>12</td>\n",
       "      <td>3</td>\n",
       "      <td>0378589</td>\n",
       "    </tr>\n",
       "    <tr>\n",
       "      <th>2</th>\n",
       "      <td>1</td>\n",
       "      <td>17</td>\n",
       "      <td>3</td>\n",
       "      <td>3</td>\n",
       "      <td>0202285</td>\n",
       "    </tr>\n",
       "    <tr>\n",
       "      <th>3</th>\n",
       "      <td>1</td>\n",
       "      <td>17</td>\n",
       "      <td>3</td>\n",
       "      <td>3</td>\n",
       "      <td>0202285</td>\n",
       "    </tr>\n",
       "    <tr>\n",
       "      <th>4</th>\n",
       "      <td>1</td>\n",
       "      <td>1</td>\n",
       "      <td>7</td>\n",
       "      <td>3</td>\n",
       "      <td>0363900</td>\n",
       "    </tr>\n",
       "  </tbody>\n",
       "</table>\n",
       "</div>"
      ],
      "text/plain": [
       "   ccs_dx4  ccs_dx3  ccs_dx2  ccs_dx1 new_euid\n",
       "0        1        8        3        8  0002922\n",
       "1        1       13       12        3  0378589\n",
       "2        1       17        3        3  0202285\n",
       "3        1       17        3        3  0202285\n",
       "4        1        1        7        3  0363900"
      ]
     },
     "execution_count": 65,
     "metadata": {},
     "output_type": "execute_result"
    }
   ],
   "source": [
    "cols=['ccs_dx4','ccs_dx3','ccs_dx2','ccs_dx1']\n",
    "all_diabetic[cols] = all_diabetic[cols].astype(int)  \n",
    "all_diabetic.head()"
   ]
  },
  {
   "cell_type": "code",
   "execution_count": 66,
   "metadata": {
    "collapsed": true
   },
   "outputs": [],
   "source": [
    "cols=all_diabetic.columns.tolist()\n",
    "cols = cols[-1:] + cols[:-1] \n",
    "all_diabetic=all_diabetic[cols]"
   ]
  },
  {
   "cell_type": "code",
   "execution_count": 149,
   "metadata": {
    "collapsed": false
   },
   "outputs": [],
   "source": [
    "all_diabetic.head()\n",
    "all_diabetic[:7].to_csv(\"all_diabetic_sample.csv\")"
   ]
  },
  {
   "cell_type": "code",
   "execution_count": 68,
   "metadata": {
    "collapsed": false
   },
   "outputs": [
    {
     "name": "stdout",
     "output_type": "stream",
     "text": [
      "unique diabetic patient\n",
      "14845\n"
     ]
    }
   ],
   "source": [
    "print(\"unique diabetic patient\") \n",
    "print(len(all_diabetic['new_euid'].unique())) #unique diabetic patient "
   ]
  },
  {
   "cell_type": "code",
   "execution_count": 69,
   "metadata": {
    "collapsed": false
   },
   "outputs": [
    {
     "data": {
      "text/html": [
       "<div>\n",
       "<table border=\"1\" class=\"dataframe\">\n",
       "  <thead>\n",
       "    <tr style=\"text-align: right;\">\n",
       "      <th></th>\n",
       "      <th>ICD-9-CM-CODE</th>\n",
       "      <th>CCS-LVL-1</th>\n",
       "      <th>ccs_code</th>\n",
       "    </tr>\n",
       "  </thead>\n",
       "  <tbody>\n",
       "    <tr>\n",
       "      <th>0</th>\n",
       "      <td>01000</td>\n",
       "      <td>1</td>\n",
       "      <td>CCS1</td>\n",
       "    </tr>\n",
       "    <tr>\n",
       "      <th>1</th>\n",
       "      <td>01001</td>\n",
       "      <td>1</td>\n",
       "      <td>CCS1</td>\n",
       "    </tr>\n",
       "    <tr>\n",
       "      <th>2</th>\n",
       "      <td>01002</td>\n",
       "      <td>1</td>\n",
       "      <td>CCS1</td>\n",
       "    </tr>\n",
       "    <tr>\n",
       "      <th>3</th>\n",
       "      <td>01003</td>\n",
       "      <td>1</td>\n",
       "      <td>CCS1</td>\n",
       "    </tr>\n",
       "    <tr>\n",
       "      <th>4</th>\n",
       "      <td>01004</td>\n",
       "      <td>1</td>\n",
       "      <td>CCS1</td>\n",
       "    </tr>\n",
       "  </tbody>\n",
       "</table>\n",
       "</div>"
      ],
      "text/plain": [
       "  ICD-9-CM-CODE  CCS-LVL-1 ccs_code\n",
       "0         01000          1     CCS1\n",
       "1         01001          1     CCS1\n",
       "2         01002          1     CCS1\n",
       "3         01003          1     CCS1\n",
       "4         01004          1     CCS1"
      ]
     },
     "execution_count": 69,
     "metadata": {},
     "output_type": "execute_result"
    }
   ],
   "source": [
    "ccs_level_1.head()"
   ]
  },
  {
   "cell_type": "code",
   "execution_count": 55,
   "metadata": {
    "collapsed": false
   },
   "outputs": [
    {
     "data": {
      "text/html": [
       "<div>\n",
       "<table border=\"1\" class=\"dataframe\">\n",
       "  <thead>\n",
       "    <tr style=\"text-align: right;\">\n",
       "      <th></th>\n",
       "      <th>new_euid</th>\n",
       "      <th>CCS1</th>\n",
       "      <th>CCS2</th>\n",
       "      <th>CCS3</th>\n",
       "      <th>CCS4</th>\n",
       "      <th>CCS5</th>\n",
       "      <th>CCS6</th>\n",
       "      <th>CCS7</th>\n",
       "      <th>CCS8</th>\n",
       "      <th>CCS9</th>\n",
       "      <th>CCS10</th>\n",
       "      <th>CCS11</th>\n",
       "      <th>CCS12</th>\n",
       "      <th>CCS13</th>\n",
       "      <th>CCS14</th>\n",
       "      <th>CCS15</th>\n",
       "      <th>CCS16</th>\n",
       "      <th>CCS17</th>\n",
       "      <th>CCS18</th>\n",
       "    </tr>\n",
       "  </thead>\n",
       "  <tbody>\n",
       "    <tr>\n",
       "      <th>0</th>\n",
       "      <td>NaN</td>\n",
       "      <td>NaN</td>\n",
       "      <td>NaN</td>\n",
       "      <td>NaN</td>\n",
       "      <td>NaN</td>\n",
       "      <td>NaN</td>\n",
       "      <td>NaN</td>\n",
       "      <td>NaN</td>\n",
       "      <td>NaN</td>\n",
       "      <td>NaN</td>\n",
       "      <td>NaN</td>\n",
       "      <td>NaN</td>\n",
       "      <td>NaN</td>\n",
       "      <td>NaN</td>\n",
       "      <td>NaN</td>\n",
       "      <td>NaN</td>\n",
       "      <td>NaN</td>\n",
       "      <td>NaN</td>\n",
       "      <td>NaN</td>\n",
       "    </tr>\n",
       "    <tr>\n",
       "      <th>1</th>\n",
       "      <td>NaN</td>\n",
       "      <td>NaN</td>\n",
       "      <td>NaN</td>\n",
       "      <td>NaN</td>\n",
       "      <td>NaN</td>\n",
       "      <td>NaN</td>\n",
       "      <td>NaN</td>\n",
       "      <td>NaN</td>\n",
       "      <td>NaN</td>\n",
       "      <td>NaN</td>\n",
       "      <td>NaN</td>\n",
       "      <td>NaN</td>\n",
       "      <td>NaN</td>\n",
       "      <td>NaN</td>\n",
       "      <td>NaN</td>\n",
       "      <td>NaN</td>\n",
       "      <td>NaN</td>\n",
       "      <td>NaN</td>\n",
       "      <td>NaN</td>\n",
       "    </tr>\n",
       "    <tr>\n",
       "      <th>2</th>\n",
       "      <td>NaN</td>\n",
       "      <td>NaN</td>\n",
       "      <td>NaN</td>\n",
       "      <td>NaN</td>\n",
       "      <td>NaN</td>\n",
       "      <td>NaN</td>\n",
       "      <td>NaN</td>\n",
       "      <td>NaN</td>\n",
       "      <td>NaN</td>\n",
       "      <td>NaN</td>\n",
       "      <td>NaN</td>\n",
       "      <td>NaN</td>\n",
       "      <td>NaN</td>\n",
       "      <td>NaN</td>\n",
       "      <td>NaN</td>\n",
       "      <td>NaN</td>\n",
       "      <td>NaN</td>\n",
       "      <td>NaN</td>\n",
       "      <td>NaN</td>\n",
       "    </tr>\n",
       "    <tr>\n",
       "      <th>3</th>\n",
       "      <td>NaN</td>\n",
       "      <td>NaN</td>\n",
       "      <td>NaN</td>\n",
       "      <td>NaN</td>\n",
       "      <td>NaN</td>\n",
       "      <td>NaN</td>\n",
       "      <td>NaN</td>\n",
       "      <td>NaN</td>\n",
       "      <td>NaN</td>\n",
       "      <td>NaN</td>\n",
       "      <td>NaN</td>\n",
       "      <td>NaN</td>\n",
       "      <td>NaN</td>\n",
       "      <td>NaN</td>\n",
       "      <td>NaN</td>\n",
       "      <td>NaN</td>\n",
       "      <td>NaN</td>\n",
       "      <td>NaN</td>\n",
       "      <td>NaN</td>\n",
       "    </tr>\n",
       "    <tr>\n",
       "      <th>4</th>\n",
       "      <td>NaN</td>\n",
       "      <td>NaN</td>\n",
       "      <td>NaN</td>\n",
       "      <td>NaN</td>\n",
       "      <td>NaN</td>\n",
       "      <td>NaN</td>\n",
       "      <td>NaN</td>\n",
       "      <td>NaN</td>\n",
       "      <td>NaN</td>\n",
       "      <td>NaN</td>\n",
       "      <td>NaN</td>\n",
       "      <td>NaN</td>\n",
       "      <td>NaN</td>\n",
       "      <td>NaN</td>\n",
       "      <td>NaN</td>\n",
       "      <td>NaN</td>\n",
       "      <td>NaN</td>\n",
       "      <td>NaN</td>\n",
       "      <td>NaN</td>\n",
       "    </tr>\n",
       "  </tbody>\n",
       "</table>\n",
       "</div>"
      ],
      "text/plain": [
       "  new_euid CCS1 CCS2 CCS3 CCS4 CCS5 CCS6 CCS7 CCS8 CCS9 CCS10 CCS11 CCS12  \\\n",
       "0      NaN  NaN  NaN  NaN  NaN  NaN  NaN  NaN  NaN  NaN   NaN   NaN   NaN   \n",
       "1      NaN  NaN  NaN  NaN  NaN  NaN  NaN  NaN  NaN  NaN   NaN   NaN   NaN   \n",
       "2      NaN  NaN  NaN  NaN  NaN  NaN  NaN  NaN  NaN  NaN   NaN   NaN   NaN   \n",
       "3      NaN  NaN  NaN  NaN  NaN  NaN  NaN  NaN  NaN  NaN   NaN   NaN   NaN   \n",
       "4      NaN  NaN  NaN  NaN  NaN  NaN  NaN  NaN  NaN  NaN   NaN   NaN   NaN   \n",
       "\n",
       "  CCS13 CCS14 CCS15 CCS16 CCS17 CCS18  \n",
       "0   NaN   NaN   NaN   NaN   NaN   NaN  \n",
       "1   NaN   NaN   NaN   NaN   NaN   NaN  \n",
       "2   NaN   NaN   NaN   NaN   NaN   NaN  \n",
       "3   NaN   NaN   NaN   NaN   NaN   NaN  \n",
       "4   NaN   NaN   NaN   NaN   NaN   NaN  "
      ]
     },
     "execution_count": 55,
     "metadata": {},
     "output_type": "execute_result"
    }
   ],
   "source": [
    "# Making Empty Binary Matrix \n",
    "# Making Empty Binary Matrix\n",
    "cols=list(ccs_level_1['ccs_code'].unique())\n",
    "cols.insert(0,'new_euid') \n",
    "check=pd.DataFrame(columns=cols,index=all_diabetic.index)\n",
    "check.head()  "
   ]
  },
  {
   "cell_type": "code",
   "execution_count": 70,
   "metadata": {
    "collapsed": false
   },
   "outputs": [
    {
     "data": {
      "text/html": [
       "<div>\n",
       "<table border=\"1\" class=\"dataframe\">\n",
       "  <thead>\n",
       "    <tr style=\"text-align: right;\">\n",
       "      <th></th>\n",
       "      <th>new_euid</th>\n",
       "      <th>ccs_dx4</th>\n",
       "      <th>ccs_dx3</th>\n",
       "      <th>ccs_dx2</th>\n",
       "      <th>ccs_dx1</th>\n",
       "    </tr>\n",
       "  </thead>\n",
       "  <tbody>\n",
       "    <tr>\n",
       "      <th>0</th>\n",
       "      <td>0002922</td>\n",
       "      <td>1</td>\n",
       "      <td>8</td>\n",
       "      <td>3</td>\n",
       "      <td>8</td>\n",
       "    </tr>\n",
       "    <tr>\n",
       "      <th>1</th>\n",
       "      <td>0378589</td>\n",
       "      <td>1</td>\n",
       "      <td>13</td>\n",
       "      <td>12</td>\n",
       "      <td>3</td>\n",
       "    </tr>\n",
       "    <tr>\n",
       "      <th>2</th>\n",
       "      <td>0202285</td>\n",
       "      <td>1</td>\n",
       "      <td>17</td>\n",
       "      <td>3</td>\n",
       "      <td>3</td>\n",
       "    </tr>\n",
       "    <tr>\n",
       "      <th>3</th>\n",
       "      <td>0202285</td>\n",
       "      <td>1</td>\n",
       "      <td>17</td>\n",
       "      <td>3</td>\n",
       "      <td>3</td>\n",
       "    </tr>\n",
       "    <tr>\n",
       "      <th>4</th>\n",
       "      <td>0363900</td>\n",
       "      <td>1</td>\n",
       "      <td>1</td>\n",
       "      <td>7</td>\n",
       "      <td>3</td>\n",
       "    </tr>\n",
       "  </tbody>\n",
       "</table>\n",
       "</div>"
      ],
      "text/plain": [
       "  new_euid  ccs_dx4  ccs_dx3  ccs_dx2  ccs_dx1\n",
       "0  0002922        1        8        3        8\n",
       "1  0378589        1       13       12        3\n",
       "2  0202285        1       17        3        3\n",
       "3  0202285        1       17        3        3\n",
       "4  0363900        1        1        7        3"
      ]
     },
     "execution_count": 70,
     "metadata": {},
     "output_type": "execute_result"
    }
   ],
   "source": [
    "all_diabetic.head()"
   ]
  },
  {
   "cell_type": "code",
   "execution_count": 72,
   "metadata": {
    "collapsed": false
   },
   "outputs": [],
   "source": [
    "##Writing Code to fill up binary Matrix  \n",
    "for index,row in all_diabetic.iterrows(): \n",
    "    if(row['ccs_dx1'] !=0): \n",
    "        col=\"CCS\" +str(row['ccs_dx1'])\n",
    "        check.loc[index][col]=1 \n",
    "        check.loc[index]['new_euid']=row['new_euid']\n",
    "    if(row['ccs_dx2'] !=0): \n",
    "        col=\"CCS\" +str(row['ccs_dx2'])\n",
    "        check.loc[index][col]=1 \n",
    "        check.loc[index]['new_euid']=row['new_euid']\n",
    "    if(row['ccs_dx3'] !=0): \n",
    "        col=\"CCS\" +str(row['ccs_dx3']) \n",
    "        check.loc[index][col]=1 \n",
    "        check.loc[index]['new_euid']=row['new_euid'] \n",
    "    if(row['ccs_dx4'] !=0): \n",
    "        col=\"CCS\" +str(row['ccs_dx4'])\n",
    "        check.loc[index][col]=1 \n",
    "        check.loc[index]['new_euid']=row['new_euid']    "
   ]
  },
  {
   "cell_type": "code",
   "execution_count": 73,
   "metadata": {
    "collapsed": false
   },
   "outputs": [
    {
     "name": "stdout",
     "output_type": "stream",
     "text": [
      "(96238, 5)\n",
      "(96238, 19)\n"
     ]
    }
   ],
   "source": [
    "print(all_diabetic.shape)\n",
    "print(check.shape)"
   ]
  },
  {
   "cell_type": "code",
   "execution_count": 74,
   "metadata": {
    "collapsed": false
   },
   "outputs": [
    {
     "name": "stdout",
     "output_type": "stream",
     "text": [
      "(14845, 18)\n"
     ]
    }
   ],
   "source": [
    "check=check.fillna(0)\n",
    "check_new=check.groupby(check['new_euid']).sum()\n",
    "print(check_new.shape) "
   ]
  },
  {
   "cell_type": "code",
   "execution_count": 75,
   "metadata": {
    "collapsed": false
   },
   "outputs": [
    {
     "data": {
      "text/html": [
       "<div>\n",
       "<table border=\"1\" class=\"dataframe\">\n",
       "  <thead>\n",
       "    <tr style=\"text-align: right;\">\n",
       "      <th></th>\n",
       "      <th>CCS1</th>\n",
       "      <th>CCS2</th>\n",
       "      <th>CCS3</th>\n",
       "      <th>CCS4</th>\n",
       "      <th>CCS5</th>\n",
       "      <th>CCS6</th>\n",
       "      <th>CCS7</th>\n",
       "      <th>CCS8</th>\n",
       "      <th>CCS9</th>\n",
       "      <th>CCS10</th>\n",
       "      <th>CCS11</th>\n",
       "      <th>CCS12</th>\n",
       "      <th>CCS13</th>\n",
       "      <th>CCS14</th>\n",
       "      <th>CCS15</th>\n",
       "      <th>CCS16</th>\n",
       "      <th>CCS17</th>\n",
       "      <th>CCS18</th>\n",
       "    </tr>\n",
       "    <tr>\n",
       "      <th>new_euid</th>\n",
       "      <th></th>\n",
       "      <th></th>\n",
       "      <th></th>\n",
       "      <th></th>\n",
       "      <th></th>\n",
       "      <th></th>\n",
       "      <th></th>\n",
       "      <th></th>\n",
       "      <th></th>\n",
       "      <th></th>\n",
       "      <th></th>\n",
       "      <th></th>\n",
       "      <th></th>\n",
       "      <th></th>\n",
       "      <th></th>\n",
       "      <th></th>\n",
       "      <th></th>\n",
       "      <th></th>\n",
       "    </tr>\n",
       "  </thead>\n",
       "  <tbody>\n",
       "    <tr>\n",
       "      <th>0000016</th>\n",
       "      <td>0</td>\n",
       "      <td>0</td>\n",
       "      <td>2</td>\n",
       "      <td>1</td>\n",
       "      <td>0</td>\n",
       "      <td>0</td>\n",
       "      <td>1</td>\n",
       "      <td>0</td>\n",
       "      <td>0</td>\n",
       "      <td>0</td>\n",
       "      <td>0</td>\n",
       "      <td>0</td>\n",
       "      <td>0</td>\n",
       "      <td>0</td>\n",
       "      <td>0</td>\n",
       "      <td>0</td>\n",
       "      <td>1</td>\n",
       "      <td>0</td>\n",
       "    </tr>\n",
       "    <tr>\n",
       "      <th>0000033</th>\n",
       "      <td>0</td>\n",
       "      <td>1</td>\n",
       "      <td>8</td>\n",
       "      <td>0</td>\n",
       "      <td>0</td>\n",
       "      <td>2</td>\n",
       "      <td>6</td>\n",
       "      <td>0</td>\n",
       "      <td>0</td>\n",
       "      <td>1</td>\n",
       "      <td>0</td>\n",
       "      <td>0</td>\n",
       "      <td>0</td>\n",
       "      <td>0</td>\n",
       "      <td>0</td>\n",
       "      <td>0</td>\n",
       "      <td>1</td>\n",
       "      <td>0</td>\n",
       "    </tr>\n",
       "    <tr>\n",
       "      <th>0000069</th>\n",
       "      <td>0</td>\n",
       "      <td>0</td>\n",
       "      <td>5</td>\n",
       "      <td>0</td>\n",
       "      <td>0</td>\n",
       "      <td>0</td>\n",
       "      <td>1</td>\n",
       "      <td>0</td>\n",
       "      <td>0</td>\n",
       "      <td>0</td>\n",
       "      <td>0</td>\n",
       "      <td>0</td>\n",
       "      <td>0</td>\n",
       "      <td>0</td>\n",
       "      <td>0</td>\n",
       "      <td>0</td>\n",
       "      <td>0</td>\n",
       "      <td>0</td>\n",
       "    </tr>\n",
       "    <tr>\n",
       "      <th>0000080</th>\n",
       "      <td>0</td>\n",
       "      <td>0</td>\n",
       "      <td>9</td>\n",
       "      <td>0</td>\n",
       "      <td>1</td>\n",
       "      <td>1</td>\n",
       "      <td>3</td>\n",
       "      <td>0</td>\n",
       "      <td>0</td>\n",
       "      <td>4</td>\n",
       "      <td>0</td>\n",
       "      <td>0</td>\n",
       "      <td>0</td>\n",
       "      <td>0</td>\n",
       "      <td>0</td>\n",
       "      <td>0</td>\n",
       "      <td>0</td>\n",
       "      <td>0</td>\n",
       "    </tr>\n",
       "    <tr>\n",
       "      <th>0000104</th>\n",
       "      <td>0</td>\n",
       "      <td>0</td>\n",
       "      <td>2</td>\n",
       "      <td>0</td>\n",
       "      <td>0</td>\n",
       "      <td>0</td>\n",
       "      <td>2</td>\n",
       "      <td>0</td>\n",
       "      <td>0</td>\n",
       "      <td>0</td>\n",
       "      <td>0</td>\n",
       "      <td>0</td>\n",
       "      <td>0</td>\n",
       "      <td>0</td>\n",
       "      <td>0</td>\n",
       "      <td>0</td>\n",
       "      <td>0</td>\n",
       "      <td>0</td>\n",
       "    </tr>\n",
       "  </tbody>\n",
       "</table>\n",
       "</div>"
      ],
      "text/plain": [
       "          CCS1  CCS2  CCS3  CCS4  CCS5  CCS6  CCS7  CCS8  CCS9  CCS10  CCS11  \\\n",
       "new_euid                                                                       \n",
       "0000016      0     0     2     1     0     0     1     0     0      0      0   \n",
       "0000033      0     1     8     0     0     2     6     0     0      1      0   \n",
       "0000069      0     0     5     0     0     0     1     0     0      0      0   \n",
       "0000080      0     0     9     0     1     1     3     0     0      4      0   \n",
       "0000104      0     0     2     0     0     0     2     0     0      0      0   \n",
       "\n",
       "          CCS12  CCS13  CCS14  CCS15  CCS16  CCS17  CCS18  \n",
       "new_euid                                                   \n",
       "0000016       0      0      0      0      0      1      0  \n",
       "0000033       0      0      0      0      0      1      0  \n",
       "0000069       0      0      0      0      0      0      0  \n",
       "0000080       0      0      0      0      0      0      0  \n",
       "0000104       0      0      0      0      0      0      0  "
      ]
     },
     "execution_count": 75,
     "metadata": {},
     "output_type": "execute_result"
    }
   ],
   "source": [
    "check_new.head() "
   ]
  },
  {
   "cell_type": "code",
   "execution_count": 76,
   "metadata": {
    "collapsed": false
   },
   "outputs": [
    {
     "data": {
      "text/html": [
       "<div>\n",
       "<table border=\"1\" class=\"dataframe\">\n",
       "  <thead>\n",
       "    <tr style=\"text-align: right;\">\n",
       "      <th></th>\n",
       "      <th>CCS1</th>\n",
       "      <th>CCS2</th>\n",
       "      <th>CCS3</th>\n",
       "      <th>CCS4</th>\n",
       "      <th>CCS5</th>\n",
       "      <th>CCS6</th>\n",
       "      <th>CCS7</th>\n",
       "      <th>CCS8</th>\n",
       "      <th>CCS9</th>\n",
       "      <th>CCS10</th>\n",
       "      <th>CCS11</th>\n",
       "      <th>CCS12</th>\n",
       "      <th>CCS13</th>\n",
       "      <th>CCS14</th>\n",
       "      <th>CCS15</th>\n",
       "      <th>CCS16</th>\n",
       "      <th>CCS17</th>\n",
       "      <th>CCS18</th>\n",
       "    </tr>\n",
       "    <tr>\n",
       "      <th>new_euid</th>\n",
       "      <th></th>\n",
       "      <th></th>\n",
       "      <th></th>\n",
       "      <th></th>\n",
       "      <th></th>\n",
       "      <th></th>\n",
       "      <th></th>\n",
       "      <th></th>\n",
       "      <th></th>\n",
       "      <th></th>\n",
       "      <th></th>\n",
       "      <th></th>\n",
       "      <th></th>\n",
       "      <th></th>\n",
       "      <th></th>\n",
       "      <th></th>\n",
       "      <th></th>\n",
       "      <th></th>\n",
       "    </tr>\n",
       "  </thead>\n",
       "  <tbody>\n",
       "    <tr>\n",
       "      <th>0000016</th>\n",
       "      <td>0</td>\n",
       "      <td>0</td>\n",
       "      <td>1</td>\n",
       "      <td>1</td>\n",
       "      <td>0</td>\n",
       "      <td>0</td>\n",
       "      <td>1</td>\n",
       "      <td>0</td>\n",
       "      <td>0</td>\n",
       "      <td>0</td>\n",
       "      <td>0</td>\n",
       "      <td>0</td>\n",
       "      <td>0</td>\n",
       "      <td>0</td>\n",
       "      <td>0</td>\n",
       "      <td>0</td>\n",
       "      <td>1</td>\n",
       "      <td>0</td>\n",
       "    </tr>\n",
       "    <tr>\n",
       "      <th>0000033</th>\n",
       "      <td>0</td>\n",
       "      <td>1</td>\n",
       "      <td>1</td>\n",
       "      <td>0</td>\n",
       "      <td>0</td>\n",
       "      <td>1</td>\n",
       "      <td>1</td>\n",
       "      <td>0</td>\n",
       "      <td>0</td>\n",
       "      <td>1</td>\n",
       "      <td>0</td>\n",
       "      <td>0</td>\n",
       "      <td>0</td>\n",
       "      <td>0</td>\n",
       "      <td>0</td>\n",
       "      <td>0</td>\n",
       "      <td>1</td>\n",
       "      <td>0</td>\n",
       "    </tr>\n",
       "    <tr>\n",
       "      <th>0000069</th>\n",
       "      <td>0</td>\n",
       "      <td>0</td>\n",
       "      <td>1</td>\n",
       "      <td>0</td>\n",
       "      <td>0</td>\n",
       "      <td>0</td>\n",
       "      <td>1</td>\n",
       "      <td>0</td>\n",
       "      <td>0</td>\n",
       "      <td>0</td>\n",
       "      <td>0</td>\n",
       "      <td>0</td>\n",
       "      <td>0</td>\n",
       "      <td>0</td>\n",
       "      <td>0</td>\n",
       "      <td>0</td>\n",
       "      <td>0</td>\n",
       "      <td>0</td>\n",
       "    </tr>\n",
       "    <tr>\n",
       "      <th>0000080</th>\n",
       "      <td>0</td>\n",
       "      <td>0</td>\n",
       "      <td>1</td>\n",
       "      <td>0</td>\n",
       "      <td>1</td>\n",
       "      <td>1</td>\n",
       "      <td>1</td>\n",
       "      <td>0</td>\n",
       "      <td>0</td>\n",
       "      <td>1</td>\n",
       "      <td>0</td>\n",
       "      <td>0</td>\n",
       "      <td>0</td>\n",
       "      <td>0</td>\n",
       "      <td>0</td>\n",
       "      <td>0</td>\n",
       "      <td>0</td>\n",
       "      <td>0</td>\n",
       "    </tr>\n",
       "    <tr>\n",
       "      <th>0000104</th>\n",
       "      <td>0</td>\n",
       "      <td>0</td>\n",
       "      <td>1</td>\n",
       "      <td>0</td>\n",
       "      <td>0</td>\n",
       "      <td>0</td>\n",
       "      <td>1</td>\n",
       "      <td>0</td>\n",
       "      <td>0</td>\n",
       "      <td>0</td>\n",
       "      <td>0</td>\n",
       "      <td>0</td>\n",
       "      <td>0</td>\n",
       "      <td>0</td>\n",
       "      <td>0</td>\n",
       "      <td>0</td>\n",
       "      <td>0</td>\n",
       "      <td>0</td>\n",
       "    </tr>\n",
       "  </tbody>\n",
       "</table>\n",
       "</div>"
      ],
      "text/plain": [
       "          CCS1  CCS2  CCS3  CCS4  CCS5  CCS6  CCS7  CCS8  CCS9  CCS10  CCS11  \\\n",
       "new_euid                                                                       \n",
       "0000016      0     0     1     1     0     0     1     0     0      0      0   \n",
       "0000033      0     1     1     0     0     1     1     0     0      1      0   \n",
       "0000069      0     0     1     0     0     0     1     0     0      0      0   \n",
       "0000080      0     0     1     0     1     1     1     0     0      1      0   \n",
       "0000104      0     0     1     0     0     0     1     0     0      0      0   \n",
       "\n",
       "          CCS12  CCS13  CCS14  CCS15  CCS16  CCS17  CCS18  \n",
       "new_euid                                                   \n",
       "0000016       0      0      0      0      0      1      0  \n",
       "0000033       0      0      0      0      0      1      0  \n",
       "0000069       0      0      0      0      0      0      0  \n",
       "0000080       0      0      0      0      0      0      0  \n",
       "0000104       0      0      0      0      0      0      0  "
      ]
     },
     "execution_count": 76,
     "metadata": {},
     "output_type": "execute_result"
    }
   ],
   "source": [
    "## changing all values greater >1 =1\n",
    "def f1(x):\n",
    "    if x>=1:\n",
    "        return 1\n",
    "    else:\n",
    "        return 0\n",
    "\n",
    "check_new=check_new.applymap(f1)\n",
    "check_new.head() "
   ]
  },
  {
   "cell_type": "code",
   "execution_count": 150,
   "metadata": {
    "collapsed": false
   },
   "outputs": [
    {
     "name": "stdout",
     "output_type": "stream",
     "text": [
      "(14845, 18)\n"
     ]
    }
   ],
   "source": [
    "print(check_new.shape)  \n",
    "check_new[:15].to_csv(\"binary_matrix_sample.csv\")"
   ]
  },
  {
   "cell_type": "markdown",
   "metadata": {},
   "source": [
    "# Making CCS_codes_Summary "
   ]
  },
  {
   "cell_type": "code",
   "execution_count": 90,
   "metadata": {
    "collapsed": true
   },
   "outputs": [],
   "source": [
    "### Making CCS Codes with description and population statistics\n",
    "df=check_new\n",
    "codes_stats=pd.DataFrame(df.sum())\n",
    "codes_stats.reset_index(inplace=True) \n",
    "codes_stats=codes_stats.rename(columns={0:'Total_Patients'})"
   ]
  },
  {
   "cell_type": "code",
   "execution_count": 91,
   "metadata": {
    "collapsed": false
   },
   "outputs": [
    {
     "data": {
      "text/html": [
       "<div>\n",
       "<table border=\"1\" class=\"dataframe\">\n",
       "  <thead>\n",
       "    <tr style=\"text-align: right;\">\n",
       "      <th></th>\n",
       "      <th>index</th>\n",
       "      <th>Total_Patients</th>\n",
       "    </tr>\n",
       "  </thead>\n",
       "  <tbody>\n",
       "    <tr>\n",
       "      <th>0</th>\n",
       "      <td>CCS1</td>\n",
       "      <td>1342</td>\n",
       "    </tr>\n",
       "    <tr>\n",
       "      <th>1</th>\n",
       "      <td>CCS2</td>\n",
       "      <td>675</td>\n",
       "    </tr>\n",
       "    <tr>\n",
       "      <th>2</th>\n",
       "      <td>CCS3</td>\n",
       "      <td>14845</td>\n",
       "    </tr>\n",
       "    <tr>\n",
       "      <th>3</th>\n",
       "      <td>CCS4</td>\n",
       "      <td>619</td>\n",
       "    </tr>\n",
       "    <tr>\n",
       "      <th>4</th>\n",
       "      <td>CCS5</td>\n",
       "      <td>1820</td>\n",
       "    </tr>\n",
       "  </tbody>\n",
       "</table>\n",
       "</div>"
      ],
      "text/plain": [
       "  index  Total_Patients\n",
       "0  CCS1            1342\n",
       "1  CCS2             675\n",
       "2  CCS3           14845\n",
       "3  CCS4             619\n",
       "4  CCS5            1820"
      ]
     },
     "execution_count": 91,
     "metadata": {},
     "output_type": "execute_result"
    }
   ],
   "source": [
    "codes_stats.head()   "
   ]
  },
  {
   "cell_type": "code",
   "execution_count": 85,
   "metadata": {
    "collapsed": false
   },
   "outputs": [],
   "source": [
    "ccs_codes=ccs_level_1[['CCS-LVL-1','Desc','ccs_code']].drop_duplicates()"
   ]
  },
  {
   "cell_type": "code",
   "execution_count": 88,
   "metadata": {
    "collapsed": false
   },
   "outputs": [
    {
     "data": {
      "text/html": [
       "<div>\n",
       "<table border=\"1\" class=\"dataframe\">\n",
       "  <thead>\n",
       "    <tr style=\"text-align: right;\">\n",
       "      <th></th>\n",
       "      <th>CCS-LVL-1</th>\n",
       "      <th>Desc</th>\n",
       "      <th>ccs_code</th>\n",
       "    </tr>\n",
       "  </thead>\n",
       "  <tbody>\n",
       "    <tr>\n",
       "      <th>0</th>\n",
       "      <td>1</td>\n",
       "      <td>Infectious and parasitic diseases</td>\n",
       "      <td>CCS1</td>\n",
       "    </tr>\n",
       "    <tr>\n",
       "      <th>1226</th>\n",
       "      <td>2</td>\n",
       "      <td>Neoplasms</td>\n",
       "      <td>CCS2</td>\n",
       "    </tr>\n",
       "    <tr>\n",
       "      <th>2340</th>\n",
       "      <td>3</td>\n",
       "      <td>Endocrine; nutritional; and metabolic diseases...</td>\n",
       "      <td>CCS3</td>\n",
       "    </tr>\n",
       "    <tr>\n",
       "      <th>2785</th>\n",
       "      <td>4</td>\n",
       "      <td>Diseases of the blood and blood-forming organs</td>\n",
       "      <td>CCS4</td>\n",
       "    </tr>\n",
       "    <tr>\n",
       "      <th>2919</th>\n",
       "      <td>5</td>\n",
       "      <td>Mental Illness</td>\n",
       "      <td>CCS5</td>\n",
       "    </tr>\n",
       "  </tbody>\n",
       "</table>\n",
       "</div>"
      ],
      "text/plain": [
       "      CCS-LVL-1                                               Desc ccs_code\n",
       "0             1                  Infectious and parasitic diseases     CCS1\n",
       "1226          2                                          Neoplasms     CCS2\n",
       "2340          3  Endocrine; nutritional; and metabolic diseases...     CCS3\n",
       "2785          4     Diseases of the blood and blood-forming organs     CCS4\n",
       "2919          5                                     Mental Illness     CCS5"
      ]
     },
     "execution_count": 88,
     "metadata": {},
     "output_type": "execute_result"
    }
   ],
   "source": [
    "ccs_codes.head()"
   ]
  },
  {
   "cell_type": "code",
   "execution_count": 92,
   "metadata": {
    "collapsed": false
   },
   "outputs": [
    {
     "name": "stderr",
     "output_type": "stream",
     "text": [
      "C:\\Users\\IBM_ADMIN\\Anaconda2\\lib\\site-packages\\ipykernel\\__main__.py:4: FutureWarning: sort(columns=....) is deprecated, use sort_values(by=.....)\n"
     ]
    },
    {
     "data": {
      "text/html": [
       "<div>\n",
       "<table border=\"1\" class=\"dataframe\">\n",
       "  <thead>\n",
       "    <tr style=\"text-align: right;\">\n",
       "      <th></th>\n",
       "      <th>ccs_code</th>\n",
       "      <th>Desc</th>\n",
       "      <th>Total_Patients</th>\n",
       "      <th>population_percentage</th>\n",
       "    </tr>\n",
       "  </thead>\n",
       "  <tbody>\n",
       "    <tr>\n",
       "      <th>2</th>\n",
       "      <td>CCS3</td>\n",
       "      <td>Endocrine; nutritional; and metabolic diseases...</td>\n",
       "      <td>14845</td>\n",
       "      <td>100.000000</td>\n",
       "    </tr>\n",
       "    <tr>\n",
       "      <th>7</th>\n",
       "      <td>CCS7</td>\n",
       "      <td>Diseases of the circulatory system</td>\n",
       "      <td>8208</td>\n",
       "      <td>55.291344</td>\n",
       "    </tr>\n",
       "    <tr>\n",
       "      <th>17</th>\n",
       "      <td>CCS17</td>\n",
       "      <td>Symptoms; signs; and ill-defined conditions an...</td>\n",
       "      <td>6139</td>\n",
       "      <td>41.353991</td>\n",
       "    </tr>\n",
       "    <tr>\n",
       "      <th>6</th>\n",
       "      <td>CCS6</td>\n",
       "      <td>Diseases of the nervous system and sense organs</td>\n",
       "      <td>3698</td>\n",
       "      <td>24.910744</td>\n",
       "    </tr>\n",
       "    <tr>\n",
       "      <th>13</th>\n",
       "      <td>CCS13</td>\n",
       "      <td>Diseases of the musculoskeletal system and con...</td>\n",
       "      <td>2530</td>\n",
       "      <td>17.042775</td>\n",
       "    </tr>\n",
       "  </tbody>\n",
       "</table>\n",
       "</div>"
      ],
      "text/plain": [
       "   ccs_code                                               Desc  \\\n",
       "2      CCS3  Endocrine; nutritional; and metabolic diseases...   \n",
       "7      CCS7                 Diseases of the circulatory system   \n",
       "17    CCS17  Symptoms; signs; and ill-defined conditions an...   \n",
       "6      CCS6    Diseases of the nervous system and sense organs   \n",
       "13    CCS13  Diseases of the musculoskeletal system and con...   \n",
       "\n",
       "    Total_Patients  population_percentage  \n",
       "2            14845             100.000000  \n",
       "7             8208              55.291344  \n",
       "17            6139              41.353991  \n",
       "6             3698              24.910744  \n",
       "13            2530              17.042775  "
      ]
     },
     "execution_count": 92,
     "metadata": {},
     "output_type": "execute_result"
    }
   ],
   "source": [
    "tmp1=ccs_codes[['ccs_code','Desc']]\n",
    "codes_stats=pd.merge(tmp1,codes_stats,left_on='ccs_code',right_on='index')\n",
    "del codes_stats['index'] \n",
    "codes_stats=codes_stats.sort(['Total_Patients'],ascending=False)\n",
    "codes_stats['population_percentage']=(codes_stats['Total_Patients']*1.0/14845)*100.0\n",
    "codes_stats.head()  "
   ]
  },
  {
   "cell_type": "code",
   "execution_count": 145,
   "metadata": {
    "collapsed": false
   },
   "outputs": [],
   "source": [
    "codes_stats.to_csv(\"ccs_code_level_1_summary.csv\")"
   ]
  },
  {
   "cell_type": "markdown",
   "metadata": {},
   "source": [
    "# Deduplicating Binary Matrix (unique vectors)"
   ]
  },
  {
   "cell_type": "code",
   "execution_count": 93,
   "metadata": {
    "collapsed": false
   },
   "outputs": [
    {
     "name": "stdout",
     "output_type": "stream",
     "text": [
      "(1620, 1)\n"
     ]
    }
   ],
   "source": [
    "df_new=pd.DataFrame(df.groupby(df.columns.tolist(),as_index=False).size())  \n",
    "print(df_new.shape)\n",
    "df_new.reset_index(inplace=True)  \n",
    "df_new=df_new.rename(columns={0:'Total_Patients'})"
   ]
  },
  {
   "cell_type": "code",
   "execution_count": 94,
   "metadata": {
    "collapsed": false
   },
   "outputs": [
    {
     "name": "stderr",
     "output_type": "stream",
     "text": [
      "C:\\Users\\IBM_ADMIN\\Anaconda2\\lib\\site-packages\\ipykernel\\__main__.py:1: FutureWarning: sort(columns=....) is deprecated, use sort_values(by=.....)\n",
      "  if __name__ == '__main__':\n"
     ]
    },
    {
     "data": {
      "text/html": [
       "<div>\n",
       "<table border=\"1\" class=\"dataframe\">\n",
       "  <thead>\n",
       "    <tr style=\"text-align: right;\">\n",
       "      <th></th>\n",
       "      <th>CCS1</th>\n",
       "      <th>CCS2</th>\n",
       "      <th>CCS3</th>\n",
       "      <th>CCS4</th>\n",
       "      <th>CCS5</th>\n",
       "      <th>CCS6</th>\n",
       "      <th>CCS7</th>\n",
       "      <th>CCS8</th>\n",
       "      <th>CCS9</th>\n",
       "      <th>CCS10</th>\n",
       "      <th>CCS11</th>\n",
       "      <th>CCS12</th>\n",
       "      <th>CCS13</th>\n",
       "      <th>CCS14</th>\n",
       "      <th>CCS15</th>\n",
       "      <th>CCS16</th>\n",
       "      <th>CCS17</th>\n",
       "      <th>CCS18</th>\n",
       "      <th>Total_Patients</th>\n",
       "    </tr>\n",
       "  </thead>\n",
       "  <tbody>\n",
       "    <tr>\n",
       "      <th>0</th>\n",
       "      <td>0</td>\n",
       "      <td>0</td>\n",
       "      <td>1</td>\n",
       "      <td>0</td>\n",
       "      <td>0</td>\n",
       "      <td>0</td>\n",
       "      <td>0</td>\n",
       "      <td>0</td>\n",
       "      <td>0</td>\n",
       "      <td>0</td>\n",
       "      <td>0</td>\n",
       "      <td>0</td>\n",
       "      <td>0</td>\n",
       "      <td>0</td>\n",
       "      <td>0</td>\n",
       "      <td>0</td>\n",
       "      <td>0</td>\n",
       "      <td>0</td>\n",
       "      <td>1915</td>\n",
       "    </tr>\n",
       "    <tr>\n",
       "      <th>110</th>\n",
       "      <td>0</td>\n",
       "      <td>0</td>\n",
       "      <td>1</td>\n",
       "      <td>0</td>\n",
       "      <td>0</td>\n",
       "      <td>0</td>\n",
       "      <td>1</td>\n",
       "      <td>0</td>\n",
       "      <td>0</td>\n",
       "      <td>0</td>\n",
       "      <td>0</td>\n",
       "      <td>0</td>\n",
       "      <td>0</td>\n",
       "      <td>0</td>\n",
       "      <td>0</td>\n",
       "      <td>0</td>\n",
       "      <td>0</td>\n",
       "      <td>0</td>\n",
       "      <td>1347</td>\n",
       "    </tr>\n",
       "    <tr>\n",
       "      <th>112</th>\n",
       "      <td>0</td>\n",
       "      <td>0</td>\n",
       "      <td>1</td>\n",
       "      <td>0</td>\n",
       "      <td>0</td>\n",
       "      <td>0</td>\n",
       "      <td>1</td>\n",
       "      <td>0</td>\n",
       "      <td>0</td>\n",
       "      <td>0</td>\n",
       "      <td>0</td>\n",
       "      <td>0</td>\n",
       "      <td>0</td>\n",
       "      <td>0</td>\n",
       "      <td>0</td>\n",
       "      <td>0</td>\n",
       "      <td>1</td>\n",
       "      <td>0</td>\n",
       "      <td>969</td>\n",
       "    </tr>\n",
       "    <tr>\n",
       "      <th>2</th>\n",
       "      <td>0</td>\n",
       "      <td>0</td>\n",
       "      <td>1</td>\n",
       "      <td>0</td>\n",
       "      <td>0</td>\n",
       "      <td>0</td>\n",
       "      <td>0</td>\n",
       "      <td>0</td>\n",
       "      <td>0</td>\n",
       "      <td>0</td>\n",
       "      <td>0</td>\n",
       "      <td>0</td>\n",
       "      <td>0</td>\n",
       "      <td>0</td>\n",
       "      <td>0</td>\n",
       "      <td>0</td>\n",
       "      <td>1</td>\n",
       "      <td>0</td>\n",
       "      <td>896</td>\n",
       "    </tr>\n",
       "    <tr>\n",
       "      <th>248</th>\n",
       "      <td>0</td>\n",
       "      <td>0</td>\n",
       "      <td>1</td>\n",
       "      <td>0</td>\n",
       "      <td>0</td>\n",
       "      <td>1</td>\n",
       "      <td>0</td>\n",
       "      <td>0</td>\n",
       "      <td>0</td>\n",
       "      <td>0</td>\n",
       "      <td>0</td>\n",
       "      <td>0</td>\n",
       "      <td>0</td>\n",
       "      <td>0</td>\n",
       "      <td>0</td>\n",
       "      <td>0</td>\n",
       "      <td>0</td>\n",
       "      <td>0</td>\n",
       "      <td>433</td>\n",
       "    </tr>\n",
       "  </tbody>\n",
       "</table>\n",
       "</div>"
      ],
      "text/plain": [
       "     CCS1  CCS2  CCS3  CCS4  CCS5  CCS6  CCS7  CCS8  CCS9  CCS10  CCS11  \\\n",
       "0       0     0     1     0     0     0     0     0     0      0      0   \n",
       "110     0     0     1     0     0     0     1     0     0      0      0   \n",
       "112     0     0     1     0     0     0     1     0     0      0      0   \n",
       "2       0     0     1     0     0     0     0     0     0      0      0   \n",
       "248     0     0     1     0     0     1     0     0     0      0      0   \n",
       "\n",
       "     CCS12  CCS13  CCS14  CCS15  CCS16  CCS17  CCS18  Total_Patients  \n",
       "0        0      0      0      0      0      0      0            1915  \n",
       "110      0      0      0      0      0      0      0            1347  \n",
       "112      0      0      0      0      0      1      0             969  \n",
       "2        0      0      0      0      0      1      0             896  \n",
       "248      0      0      0      0      0      0      0             433  "
      ]
     },
     "execution_count": 94,
     "metadata": {},
     "output_type": "execute_result"
    }
   ],
   "source": [
    "df_new.sort(['Total_Patients'],ascending=False,inplace=True)\n",
    "df_new.head()"
   ]
  },
  {
   "cell_type": "markdown",
   "metadata": {},
   "source": [
    "# Performing clustering on all diabetic patients"
   ]
  },
  {
   "cell_type": "code",
   "execution_count": 95,
   "metadata": {
    "collapsed": true
   },
   "outputs": [],
   "source": [
    "checkx=df_new\n",
    "data_dist =pdist(checkx.ix[:,0:len(checkx.columns)-2],'jaccard') \n",
    "data_dist.shape\n",
    "Z=linkage(data_dist) "
   ]
  },
  {
   "cell_type": "code",
   "execution_count": 96,
   "metadata": {
    "collapsed": true
   },
   "outputs": [],
   "source": [
    "## Plotting the clusters(Not working if large patients)\n",
    "\n",
    "plt.title('Hierarchical Clustering Dendrogram (truncated)')\n",
    "plt.xlabel('Patient Group')\n",
    "plt.ylabel(' Jaccard distance')\n",
    "dendrogram(\n",
    "    Z,\n",
    "    truncate_mode='lastp',  # show only the last p merged clusters\n",
    "    p=200,  # show only the last p merged clusters\n",
    "    show_leaf_counts=True,  # otherwise numbers in brackets are counts\n",
    "    leaf_rotation=90.,\n",
    "    leaf_font_size=12.,\n",
    "    labels=list(check.index),\n",
    "    show_contracted=True,  # to get a distribution impression in truncated branches\n",
    ")\n",
    "plt.show() "
   ]
  },
  {
   "cell_type": "markdown",
   "metadata": {},
   "source": [
    "# Retrieving the clusters"
   ]
  },
  {
   "cell_type": "code",
   "execution_count": 116,
   "metadata": {
    "collapsed": true
   },
   "outputs": [],
   "source": [
    "max_d=0.1\n",
    "clusters=fcluster(Z,max_d,criterion='distance')\n",
    "clusters\n",
    "\n",
    "clusters=pd.DataFrame(clusters)\n",
    "clusters=clusters.rename(columns = {0:'clusters_id'})  \n",
    "\n",
    "checkx_new=pd.concat([checkx.reset_index(),clusters], axis=1)  \n",
    "cols = checkx_new.columns.tolist()  \n",
    "cols = cols[-3:] + cols[:-3] \n",
    "checkx_new=checkx_new[cols]\n",
    "checkx_new.set_index('index',inplace=True)  \n",
    "\n",
    "\n",
    "community=checkx_new.groupby(['clusters_id']).Total_Patients.sum().sort_values(ascending=False)"
   ]
  },
  {
   "cell_type": "code",
   "execution_count": 104,
   "metadata": {
    "collapsed": false
   },
   "outputs": [
    {
     "data": {
      "text/plain": [
       "14845L"
      ]
     },
     "execution_count": 104,
     "metadata": {},
     "output_type": "execute_result"
    }
   ],
   "source": [
    "community.sum()"
   ]
  },
  {
   "cell_type": "markdown",
   "metadata": {},
   "source": [
    "# cluster_statistics & Z_score function"
   ]
  },
  {
   "cell_type": "code",
   "execution_count": 100,
   "metadata": {
    "collapsed": true
   },
   "outputs": [],
   "source": [
    "def z_score(ccs_code):\n",
    "    \n",
    "    p_1=cluster_stats[cluster_stats['ccs_code']==ccs_code]['Total_Patients']*1.0/community[cluster_stats['cluster_id'][0]]\n",
    "    p_1=p_1.iloc[0]\n",
    "    p_2=codes_stats[codes_stats['ccs_code']==ccs_code]['Total_Patients']*1.0/14845.0\n",
    "    p_2=p_2.iloc[0]\n",
    "    \n",
    "    n_1 = community[cluster_stats['cluster_id'][0]]*1.0 #cluster Population\n",
    "    n_2 = 14845.0  #Total Population \n",
    "  \n",
    "    p =(n_1*p_1 + n_2*p_2)*1.0/(n_1 + n_2)\n",
    "   \n",
    "    num = (p_1-p_2)*1.0\n",
    "    deno= math.sqrt(p*(1-p)*( (1.0/n_1) + (1.0/n_2) ))\n",
    "    z=round((num*1.0/deno),2)  \n",
    "    \n",
    "    p_values = round((scipy.stats.norm.sf(abs(z))*2),4) #twosided P Tailed test\n",
    "    \n",
    "    return(z,p_values)\n",
    "\n",
    "def clusterstatistic(cluster_id):\n",
    "    #print(cluster_id)\n",
    "    cluster=checkx_new[checkx_new['clusters_id']==cluster_id]\n",
    "   \n",
    "    cluster=cluster.loc[:,(cluster!=0).any(axis=0)]\n",
    "    #cluster.head()\n",
    "\n",
    "    ccs_codes=cluster.columns.tolist()\n",
    "    ccs_codes=ccs_codes[2:]\n",
    "    cluster_stats=pd.DataFrame(columns=['cluster_id','CCS_Code','Total_Patients'])\n",
    "    for code in ccs_codes:\n",
    "        patients=cluster[cluster[code]==1].Total_Patients.sum() \n",
    "        #print(\"code is\",code,\"patients is\",patients)\n",
    "        tmp=pd.DataFrame(index=range(1,2),columns=['cluster_id','CCS_Code','Total_Patients']) \n",
    "        tmp.ix[:,0]=cluster_id\n",
    "        tmp.ix[:,1]=code\n",
    "        tmp.ix[:,2]=patients \n",
    "        cluster_stats=cluster_stats.append(tmp) \n",
    "\n",
    "    #cluster_stats.head()\n",
    "\n",
    "    #cluster_stats=cluster_stats[1:]\n",
    "    cluster_stats.sort_values(by='Total_Patients',ascending=False,inplace=True)\n",
    "    #cluster_stats.head()\n",
    "\n",
    "    cluster_stats['%community']=(cluster_stats['Total_Patients']*1.0/cluster['Total_Patients'].sum())*100.0\n",
    "    #cluster_stats['%diabetic_population']=(cluster_stats['Total_Patients']*1.0/14845.0)*100.0\n",
    "    #cluster_stats.head()\n",
    "\n",
    "    #tmp1.head()\n",
    "\n",
    "    cluster_stats=pd.merge(tmp1,cluster_stats,left_on='ccs_code',right_on='CCS_Code')\n",
    "    #cluster_stats.head()\n",
    "\n",
    "    del cluster_stats['CCS_Code']\n",
    "    cluster_stats.sort_values(by='Total_Patients',ascending=False,inplace=True)\n",
    "    return cluster_stats\n"
   ]
  },
  {
   "cell_type": "code",
   "execution_count": 152,
   "metadata": {
    "collapsed": false
   },
   "outputs": [
    {
     "data": {
      "text/plain": [
       "clusters_id\n",
       "1      1984\n",
       "12     1430\n",
       "20     1020\n",
       "14      958\n",
       "7       442\n",
       "28      382\n",
       "156     315\n",
       "55      231\n",
       "53      207\n",
       "50      195\n",
       "51      176\n",
       "60      158\n",
       "11      153\n",
       "52      145\n",
       "120     138\n",
       "148     138\n",
       "2       134\n",
       "36      121\n",
       "49      121\n",
       "135     116\n",
       "Name: Total_Patients, dtype: int64"
      ]
     },
     "execution_count": 152,
     "metadata": {},
     "output_type": "execute_result"
    }
   ],
   "source": [
    "community[:20]"
   ]
  },
  {
   "cell_type": "markdown",
   "metadata": {},
   "source": [
    "# Analyzing Each cluster"
   ]
  },
  {
   "cell_type": "code",
   "execution_count": 178,
   "metadata": {
    "collapsed": false
   },
   "outputs": [],
   "source": [
    "cluster_stats=clusterstatistic(120)\n",
    "cluster_stats['%diabetic_population']=np.nan\n",
    "cluster_stats['z_score']=np.nan\n",
    "cluster_stats['p_value']=np.nan\n",
    "for index,row in cluster_stats.iterrows():\n",
    "    z,p=z_score(row['ccs_code'])\n",
    "    cluster_stats.loc[index,'%diabetic_population']=codes_stats[codes_stats['ccs_code']==row['ccs_code']] .population_percentage.iloc[0] \n",
    "    cluster_stats.loc[index,'z_score']=z\n",
    "    cluster_stats.loc[index,'p_value']=p "
   ]
  },
  {
   "cell_type": "code",
   "execution_count": 179,
   "metadata": {
    "collapsed": false
   },
   "outputs": [
    {
     "data": {
      "text/html": [
       "<div>\n",
       "<table border=\"1\" class=\"dataframe\">\n",
       "  <thead>\n",
       "    <tr style=\"text-align: right;\">\n",
       "      <th></th>\n",
       "      <th>ccs_code</th>\n",
       "      <th>Desc</th>\n",
       "      <th>cluster_id</th>\n",
       "      <th>Total_Patients</th>\n",
       "      <th>%community</th>\n",
       "      <th>%diabetic_population</th>\n",
       "      <th>z_score</th>\n",
       "      <th>p_value</th>\n",
       "    </tr>\n",
       "  </thead>\n",
       "  <tbody>\n",
       "    <tr>\n",
       "      <th>0</th>\n",
       "      <td>CCS3</td>\n",
       "      <td>Endocrine; nutritional; and metabolic diseases...</td>\n",
       "      <td>120.0</td>\n",
       "      <td>138</td>\n",
       "      <td>100</td>\n",
       "      <td>100.000000</td>\n",
       "      <td>NaN</td>\n",
       "      <td>NaN</td>\n",
       "    </tr>\n",
       "    <tr>\n",
       "      <th>1</th>\n",
       "      <td>CCS7</td>\n",
       "      <td>Diseases of the circulatory system</td>\n",
       "      <td>120.0</td>\n",
       "      <td>138</td>\n",
       "      <td>100</td>\n",
       "      <td>55.291344</td>\n",
       "      <td>10.52</td>\n",
       "      <td>0.0</td>\n",
       "    </tr>\n",
       "    <tr>\n",
       "      <th>2</th>\n",
       "      <td>CCS9</td>\n",
       "      <td>Diseases of the digestive system</td>\n",
       "      <td>120.0</td>\n",
       "      <td>138</td>\n",
       "      <td>100</td>\n",
       "      <td>12.132031</td>\n",
       "      <td>30.61</td>\n",
       "      <td>0.0</td>\n",
       "    </tr>\n",
       "    <tr>\n",
       "      <th>3</th>\n",
       "      <td>CCS17</td>\n",
       "      <td>Symptoms; signs; and ill-defined conditions an...</td>\n",
       "      <td>120.0</td>\n",
       "      <td>138</td>\n",
       "      <td>100</td>\n",
       "      <td>41.353991</td>\n",
       "      <td>13.90</td>\n",
       "      <td>0.0</td>\n",
       "    </tr>\n",
       "  </tbody>\n",
       "</table>\n",
       "</div>"
      ],
      "text/plain": [
       "  ccs_code                                               Desc  cluster_id  \\\n",
       "0     CCS3  Endocrine; nutritional; and metabolic diseases...       120.0   \n",
       "1     CCS7                 Diseases of the circulatory system       120.0   \n",
       "2     CCS9                   Diseases of the digestive system       120.0   \n",
       "3    CCS17  Symptoms; signs; and ill-defined conditions an...       120.0   \n",
       "\n",
       "  Total_Patients %community  %diabetic_population  z_score  p_value  \n",
       "0            138        100            100.000000      NaN      NaN  \n",
       "1            138        100             55.291344    10.52      0.0  \n",
       "2            138        100             12.132031    30.61      0.0  \n",
       "3            138        100             41.353991    13.90      0.0  "
      ]
     },
     "execution_count": 179,
     "metadata": {},
     "output_type": "execute_result"
    }
   ],
   "source": [
    "cluster_stats[:20] "
   ]
  },
  {
   "cell_type": "code",
   "execution_count": 180,
   "metadata": {
    "collapsed": true
   },
   "outputs": [],
   "source": [
    "cluster_stats[:20].to_csv(\"cluster120.csv\")"
   ]
  },
  {
   "cell_type": "code",
   "execution_count": null,
   "metadata": {
    "collapsed": true
   },
   "outputs": [],
   "source": []
  }
 ],
 "metadata": {
  "kernelspec": {
   "display_name": "Python 2",
   "language": "python",
   "name": "python2"
  },
  "language_info": {
   "codemirror_mode": {
    "name": "ipython",
    "version": 2
   },
   "file_extension": ".py",
   "mimetype": "text/x-python",
   "name": "python",
   "nbconvert_exporter": "python",
   "pygments_lexer": "ipython2",
   "version": "2.7.11"
  }
 },
 "nbformat": 4,
 "nbformat_minor": 0
}
